{
 "cells": [
  {
   "cell_type": "code",
   "execution_count": 1,
   "id": "e4b40349",
   "metadata": {
    "executionInfo": {
     "elapsed": 5,
     "status": "ok",
     "timestamp": 1749481285841,
     "user": {
      "displayName": "Gerard Seward",
      "userId": "08585387988591404566"
     },
     "user_tz": 180
    },
    "id": "e4b40349"
   },
   "outputs": [
    {
     "data": {
      "text/plain": [
       "polars.config.Config"
      ]
     },
     "execution_count": 1,
     "metadata": {},
     "output_type": "execute_result"
    }
   ],
   "source": [
    "import polars as pl\n",
    "import numpy as np\n",
    "import plotly.express as px\n",
    "\n",
    "from sklearn.compose import ColumnTransformer\n",
    "from sklearn.pipeline import Pipeline\n",
    "from sklearn.preprocessing import OneHotEncoder, StandardScaler, OrdinalEncoder\n",
    "from sklearn.impute import SimpleImputer\n",
    "from sklearn.model_selection import train_test_split, KFold\n",
    "from sklearn.metrics import root_mean_squared_error, r2_score\n",
    "from sklearn.dummy import DummyRegressor\n",
    "from sklearn.linear_model import LinearRegression, Lasso, Ridge\n",
    "from sklearn.ensemble import RandomForestRegressor\n",
    "from lightgbm import LGBMRegressor\n",
    "from sklearn.linear_model import LassoCV\n",
    "from sklearn.feature_selection import SelectFromModel\n",
    "\n",
    "import warnings\n",
    "warnings.filterwarnings('ignore')\n",
    "pl.Config.set_tbl_rows(30)\n"
   ]
  },
  {
   "cell_type": "code",
   "execution_count": 2,
   "id": "2df16a1d",
   "metadata": {
    "executionInfo": {
     "elapsed": 41,
     "status": "ok",
     "timestamp": 1749481285889,
     "user": {
      "displayName": "Gerard Seward",
      "userId": "08585387988591404566"
     },
     "user_tz": 180
    },
    "id": "2df16a1d"
   },
   "outputs": [],
   "source": [
    "SEED = 100622\n",
    "TARGET = 'Salary'\n",
    "ID = 'id'\n",
    "N_FOLDS = 5"
   ]
  },
  {
   "cell_type": "markdown",
   "id": "effdc26c",
   "metadata": {
    "id": "effdc26c"
   },
   "source": [
    "## Data read"
   ]
  },
  {
   "cell_type": "code",
   "execution_count": 3,
   "id": "5eda3c19",
   "metadata": {},
   "outputs": [],
   "source": [
    "def load_data(data_path=\"../data/\"):\n",
    "    \"\"\"Load all required datasets.\"\"\"\n",
    "    df_salary = pl.read_csv(f\"{data_path}salary.csv\")\n",
    "    df_people = pl.read_csv(f\"{data_path}people.csv\")\n",
    "    df_descriptions = pl.read_csv(f\"{data_path}descriptions.csv\")\n",
    "    return df_salary, df_people, df_descriptions"
   ]
  },
  {
   "cell_type": "code",
   "execution_count": 4,
   "id": "SFN5SLktTIBm",
   "metadata": {
    "colab": {
     "base_uri": "https://localhost:8080/"
    },
    "executionInfo": {
     "elapsed": 2517,
     "status": "ok",
     "timestamp": 1749481288371,
     "user": {
      "displayName": "Gerard Seward",
      "userId": "08585387988591404566"
     },
     "user_tz": 180
    },
    "id": "SFN5SLktTIBm",
    "outputId": "67f97344-eb93-4eeb-9f6e-3bbcf876ca71"
   },
   "outputs": [],
   "source": [
    "# prompt: fix the error below by adding drive to the environment\n",
    "\n",
    "if 'google.colab' in str(get_ipython()):\n",
    "    # Mount Google Drive if running in Google Colab\n",
    "    from google.colab import drive\n",
    "    drive.mount('/content/drive')\n",
    "    df_salary_raw, df_people_raw, df_descriptions_raw = load_data(data_path=\"/content/drive/MyDrive/Postgrado ciencia de datos/pwc-challenge/data/\")\n",
    "else:\n",
    "    # Load data from local directory\n",
    "    df_salary_raw, df_people_raw, df_descriptions_raw = load_data(data_path=\"../data/\")"
   ]
  },
  {
   "cell_type": "code",
   "execution_count": 5,
   "id": "20b3d478",
   "metadata": {},
   "outputs": [
    {
     "data": {
      "text/html": [
       "<div><style>\n",
       ".dataframe > thead > tr,\n",
       ".dataframe > tbody > tr {\n",
       "  text-align: right;\n",
       "  white-space: pre-wrap;\n",
       "}\n",
       "</style>\n",
       "<small>shape: (375, 7)</small><table border=\"1\" class=\"dataframe\"><thead><tr><th>id</th><th>Salary</th><th>Age</th><th>Gender</th><th>Education Level</th><th>Job Title</th><th>Years of Experience</th></tr><tr><td>i64</td><td>f64</td><td>f64</td><td>str</td><td>str</td><td>str</td><td>f64</td></tr></thead><tbody><tr><td>0</td><td>90000.0</td><td>32.0</td><td>&quot;Male&quot;</td><td>&quot;Bachelor&#x27;s&quot;</td><td>&quot;Software Engineer&quot;</td><td>5.0</td></tr><tr><td>1</td><td>65000.0</td><td>28.0</td><td>&quot;Female&quot;</td><td>&quot;Master&#x27;s&quot;</td><td>&quot;Data Analyst&quot;</td><td>3.0</td></tr><tr><td>2</td><td>150000.0</td><td>45.0</td><td>&quot;Male&quot;</td><td>&quot;PhD&quot;</td><td>&quot;Senior Manager&quot;</td><td>15.0</td></tr><tr><td>3</td><td>60000.0</td><td>36.0</td><td>&quot;Female&quot;</td><td>&quot;Bachelor&#x27;s&quot;</td><td>&quot;Sales Associate&quot;</td><td>7.0</td></tr><tr><td>4</td><td>200000.0</td><td>52.0</td><td>&quot;Male&quot;</td><td>&quot;Master&#x27;s&quot;</td><td>&quot;Director&quot;</td><td>20.0</td></tr><tr><td>5</td><td>55000.0</td><td>29.0</td><td>&quot;Male&quot;</td><td>&quot;Bachelor&#x27;s&quot;</td><td>&quot;Marketing Analyst&quot;</td><td>2.0</td></tr><tr><td>6</td><td>120000.0</td><td>42.0</td><td>&quot;Female&quot;</td><td>&quot;Master&#x27;s&quot;</td><td>&quot;Product Manager&quot;</td><td>12.0</td></tr><tr><td>7</td><td>80000.0</td><td>31.0</td><td>&quot;Male&quot;</td><td>&quot;Bachelor&#x27;s&quot;</td><td>&quot;Sales Manager&quot;</td><td>4.0</td></tr><tr><td>8</td><td>45000.0</td><td>26.0</td><td>&quot;Female&quot;</td><td>&quot;Bachelor&#x27;s&quot;</td><td>&quot;Marketing Coordinator&quot;</td><td>1.0</td></tr><tr><td>9</td><td>110000.0</td><td>38.0</td><td>&quot;Male&quot;</td><td>&quot;PhD&quot;</td><td>&quot;Senior Scientist&quot;</td><td>10.0</td></tr><tr><td>10</td><td>75000.0</td><td>29.0</td><td>&quot;Male&quot;</td><td>&quot;Master&#x27;s&quot;</td><td>&quot;Software Developer&quot;</td><td>3.0</td></tr><tr><td>11</td><td>140000.0</td><td>48.0</td><td>&quot;Female&quot;</td><td>&quot;Bachelor&#x27;s&quot;</td><td>&quot;HR Manager&quot;</td><td>18.0</td></tr><tr><td>12</td><td>65000.0</td><td>35.0</td><td>&quot;Male&quot;</td><td>&quot;Bachelor&#x27;s&quot;</td><td>&quot;Financial Analyst&quot;</td><td>6.0</td></tr><tr><td>13</td><td>130000.0</td><td>40.0</td><td>&quot;Female&quot;</td><td>&quot;Master&#x27;s&quot;</td><td>&quot;Project Manager&quot;</td><td>14.0</td></tr><tr><td>14</td><td>40000.0</td><td>27.0</td><td>&quot;Male&quot;</td><td>&quot;Bachelor&#x27;s&quot;</td><td>&quot;Customer Service Rep&quot;</td><td>2.0</td></tr><tr><td>&hellip;</td><td>&hellip;</td><td>&hellip;</td><td>&hellip;</td><td>&hellip;</td><td>&hellip;</td><td>&hellip;</td></tr><tr><td>360</td><td>40000.0</td><td>29.0</td><td>&quot;Female&quot;</td><td>&quot;Bachelor&#x27;s&quot;</td><td>&quot;Junior Project Manager&quot;</td><td>2.0</td></tr><tr><td>361</td><td>90000.0</td><td>34.0</td><td>&quot;Male&quot;</td><td>&quot;Bachelor&#x27;s&quot;</td><td>&quot;Senior Operations Coordinator&quot;</td><td>7.0</td></tr><tr><td>362</td><td>150000.0</td><td>44.0</td><td>&quot;Female&quot;</td><td>&quot;PhD&quot;</td><td>&quot;Senior Business Analyst&quot;</td><td>15.0</td></tr><tr><td>363</td><td>70000.0</td><td>33.0</td><td>&quot;Male&quot;</td><td>&quot;Bachelor&#x27;s&quot;</td><td>&quot;Junior Marketing Specialist&quot;</td><td>5.0</td></tr><tr><td>364</td><td>90000.0</td><td>35.0</td><td>&quot;Female&quot;</td><td>&quot;Bachelor&#x27;s&quot;</td><td>&quot;Senior Financial Manager&quot;</td><td>8.0</td></tr><tr><td>365</td><td>170000.0</td><td>43.0</td><td>&quot;Male&quot;</td><td>&quot;Master&#x27;s&quot;</td><td>&quot;Director of Marketing&quot;</td><td>18.0</td></tr><tr><td>366</td><td>50000.0</td><td>31.0</td><td>&quot;Female&quot;</td><td>null</td><td>&quot;Junior Financial Analyst&quot;</td><td>3.0</td></tr><tr><td>367</td><td>150000.0</td><td>41.0</td><td>&quot;Male&quot;</td><td>&quot;Bachelor&#x27;s&quot;</td><td>&quot;Senior Product Manager&quot;</td><td>14.0</td></tr><tr><td>368</td><td>160000.0</td><td>44.0</td><td>&quot;Female&quot;</td><td>&quot;PhD&quot;</td><td>&quot;Senior Data Engineer&quot;</td><td>16.0</td></tr><tr><td>369</td><td>60000.0</td><td>33.0</td><td>&quot;Male&quot;</td><td>&quot;Bachelor&#x27;s&quot;</td><td>&quot;Junior Business Analyst&quot;</td><td>4.0</td></tr><tr><td>370</td><td>85000.0</td><td>35.0</td><td>&quot;Female&quot;</td><td>&quot;Bachelor&#x27;s&quot;</td><td>&quot;Senior Marketing Analyst&quot;</td><td>8.0</td></tr><tr><td>371</td><td>170000.0</td><td>43.0</td><td>&quot;Male&quot;</td><td>&quot;Master&#x27;s&quot;</td><td>&quot;Director of Operations&quot;</td><td>19.0</td></tr><tr><td>372</td><td>40000.0</td><td>29.0</td><td>&quot;Female&quot;</td><td>&quot;Bachelor&#x27;s&quot;</td><td>&quot;Junior Project Manager&quot;</td><td>2.0</td></tr><tr><td>373</td><td>90000.0</td><td>34.0</td><td>&quot;Male&quot;</td><td>&quot;Bachelor&#x27;s&quot;</td><td>&quot;Senior Operations Coordinator&quot;</td><td>7.0</td></tr><tr><td>374</td><td>150000.0</td><td>44.0</td><td>&quot;Female&quot;</td><td>&quot;PhD&quot;</td><td>&quot;Senior Business Analyst&quot;</td><td>15.0</td></tr></tbody></table></div>"
      ],
      "text/plain": [
       "shape: (375, 7)\n",
       "┌─────┬──────────┬──────┬────────┬─────────────────┬─────────────────────────┬─────────────────────┐\n",
       "│ id  ┆ Salary   ┆ Age  ┆ Gender ┆ Education Level ┆ Job Title               ┆ Years of Experience │\n",
       "│ --- ┆ ---      ┆ ---  ┆ ---    ┆ ---             ┆ ---                     ┆ ---                 │\n",
       "│ i64 ┆ f64      ┆ f64  ┆ str    ┆ str             ┆ str                     ┆ f64                 │\n",
       "╞═════╪══════════╪══════╪════════╪═════════════════╪═════════════════════════╪═════════════════════╡\n",
       "│ 0   ┆ 90000.0  ┆ 32.0 ┆ Male   ┆ Bachelor's      ┆ Software Engineer       ┆ 5.0                 │\n",
       "│ 1   ┆ 65000.0  ┆ 28.0 ┆ Female ┆ Master's        ┆ Data Analyst            ┆ 3.0                 │\n",
       "│ 2   ┆ 150000.0 ┆ 45.0 ┆ Male   ┆ PhD             ┆ Senior Manager          ┆ 15.0                │\n",
       "│ 3   ┆ 60000.0  ┆ 36.0 ┆ Female ┆ Bachelor's      ┆ Sales Associate         ┆ 7.0                 │\n",
       "│ 4   ┆ 200000.0 ┆ 52.0 ┆ Male   ┆ Master's        ┆ Director                ┆ 20.0                │\n",
       "│ 5   ┆ 55000.0  ┆ 29.0 ┆ Male   ┆ Bachelor's      ┆ Marketing Analyst       ┆ 2.0                 │\n",
       "│ 6   ┆ 120000.0 ┆ 42.0 ┆ Female ┆ Master's        ┆ Product Manager         ┆ 12.0                │\n",
       "│ 7   ┆ 80000.0  ┆ 31.0 ┆ Male   ┆ Bachelor's      ┆ Sales Manager           ┆ 4.0                 │\n",
       "│ 8   ┆ 45000.0  ┆ 26.0 ┆ Female ┆ Bachelor's      ┆ Marketing Coordinator   ┆ 1.0                 │\n",
       "│ 9   ┆ 110000.0 ┆ 38.0 ┆ Male   ┆ PhD             ┆ Senior Scientist        ┆ 10.0                │\n",
       "│ 10  ┆ 75000.0  ┆ 29.0 ┆ Male   ┆ Master's        ┆ Software Developer      ┆ 3.0                 │\n",
       "│ 11  ┆ 140000.0 ┆ 48.0 ┆ Female ┆ Bachelor's      ┆ HR Manager              ┆ 18.0                │\n",
       "│ 12  ┆ 65000.0  ┆ 35.0 ┆ Male   ┆ Bachelor's      ┆ Financial Analyst       ┆ 6.0                 │\n",
       "│ 13  ┆ 130000.0 ┆ 40.0 ┆ Female ┆ Master's        ┆ Project Manager         ┆ 14.0                │\n",
       "│ 14  ┆ 40000.0  ┆ 27.0 ┆ Male   ┆ Bachelor's      ┆ Customer Service Rep    ┆ 2.0                 │\n",
       "│ …   ┆ …        ┆ …    ┆ …      ┆ …               ┆ …                       ┆ …                   │\n",
       "│ 360 ┆ 40000.0  ┆ 29.0 ┆ Female ┆ Bachelor's      ┆ Junior Project Manager  ┆ 2.0                 │\n",
       "│ 361 ┆ 90000.0  ┆ 34.0 ┆ Male   ┆ Bachelor's      ┆ Senior Operations       ┆ 7.0                 │\n",
       "│     ┆          ┆      ┆        ┆                 ┆ Coordinator             ┆                     │\n",
       "│ 362 ┆ 150000.0 ┆ 44.0 ┆ Female ┆ PhD             ┆ Senior Business Analyst ┆ 15.0                │\n",
       "│ 363 ┆ 70000.0  ┆ 33.0 ┆ Male   ┆ Bachelor's      ┆ Junior Marketing        ┆ 5.0                 │\n",
       "│     ┆          ┆      ┆        ┆                 ┆ Specialist              ┆                     │\n",
       "│ 364 ┆ 90000.0  ┆ 35.0 ┆ Female ┆ Bachelor's      ┆ Senior Financial        ┆ 8.0                 │\n",
       "│     ┆          ┆      ┆        ┆                 ┆ Manager                 ┆                     │\n",
       "│ 365 ┆ 170000.0 ┆ 43.0 ┆ Male   ┆ Master's        ┆ Director of Marketing   ┆ 18.0                │\n",
       "│ 366 ┆ 50000.0  ┆ 31.0 ┆ Female ┆ null            ┆ Junior Financial        ┆ 3.0                 │\n",
       "│     ┆          ┆      ┆        ┆                 ┆ Analyst                 ┆                     │\n",
       "│ 367 ┆ 150000.0 ┆ 41.0 ┆ Male   ┆ Bachelor's      ┆ Senior Product Manager  ┆ 14.0                │\n",
       "│ 368 ┆ 160000.0 ┆ 44.0 ┆ Female ┆ PhD             ┆ Senior Data Engineer    ┆ 16.0                │\n",
       "│ 369 ┆ 60000.0  ┆ 33.0 ┆ Male   ┆ Bachelor's      ┆ Junior Business Analyst ┆ 4.0                 │\n",
       "│ 370 ┆ 85000.0  ┆ 35.0 ┆ Female ┆ Bachelor's      ┆ Senior Marketing        ┆ 8.0                 │\n",
       "│     ┆          ┆      ┆        ┆                 ┆ Analyst                 ┆                     │\n",
       "│ 371 ┆ 170000.0 ┆ 43.0 ┆ Male   ┆ Master's        ┆ Director of Operations  ┆ 19.0                │\n",
       "│ 372 ┆ 40000.0  ┆ 29.0 ┆ Female ┆ Bachelor's      ┆ Junior Project Manager  ┆ 2.0                 │\n",
       "│ 373 ┆ 90000.0  ┆ 34.0 ┆ Male   ┆ Bachelor's      ┆ Senior Operations       ┆ 7.0                 │\n",
       "│     ┆          ┆      ┆        ┆                 ┆ Coordinator             ┆                     │\n",
       "│ 374 ┆ 150000.0 ┆ 44.0 ┆ Female ┆ PhD             ┆ Senior Business Analyst ┆ 15.0                │\n",
       "└─────┴──────────┴──────┴────────┴─────────────────┴─────────────────────────┴─────────────────────┘"
      ]
     },
     "execution_count": 5,
     "metadata": {},
     "output_type": "execute_result"
    }
   ],
   "source": [
    "df_salary_people_raw = df_salary_raw.join(df_people_raw,\n",
    "                                      on=\"id\", how=\"inner\")\n",
    "df_salary_people_raw"
   ]
  },
  {
   "cell_type": "markdown",
   "id": "92021ee9",
   "metadata": {
    "id": "92021ee9"
   },
   "source": [
    "## Feature engineer"
   ]
  },
  {
   "cell_type": "code",
   "execution_count": 6,
   "id": "6a0a1c93",
   "metadata": {},
   "outputs": [],
   "source": [
    "num_cols = ['Age']\n",
    "cat_cols = ['Gender', 'Education Level', 'Job Title', 'Years of Experience']"
   ]
  },
  {
   "cell_type": "markdown",
   "id": "473f46d1",
   "metadata": {},
   "source": [
    "### Target variable treatment"
   ]
  },
  {
   "cell_type": "code",
   "execution_count": 7,
   "id": "245fcff8",
   "metadata": {},
   "outputs": [],
   "source": [
    "def clean_target_variable(df, target_col=TARGET):\n",
    "    \"\"\"Remove rows with null values in target variable.\"\"\"\n",
    "    initial_count = df.shape[0]\n",
    "    df_cleaned = df.filter(pl.col(target_col).is_not_null())\n",
    "    removed_count = initial_count - df_cleaned.shape[0]\n",
    "    \n",
    "    if removed_count > 0:\n",
    "        print(f\"Removed {removed_count} rows with null {target_col} values\")\n",
    "\n",
    "    # Only one value for a salary of 350 for a junior analys\n",
    "    # I assume this is an error and remove it\n",
    "    df_cleaned = df_cleaned.filter(pl.col(target_col) > 400)\n",
    "    \n",
    "    return df_cleaned"
   ]
  },
  {
   "cell_type": "markdown",
   "id": "716031ad",
   "metadata": {},
   "source": [
    "### Age treatment"
   ]
  },
  {
   "cell_type": "code",
   "execution_count": 8,
   "id": "df79bc54",
   "metadata": {},
   "outputs": [],
   "source": [
    "def engineer_age_features(df):\n",
    "    \"\"\"Engineer age-related features.\"\"\"\n",
    "    \n",
    "    # Create age bins\n",
    "    df = df.with_columns(\n",
    "        pl.when(pl.col('Age').is_not_null()).then(\n",
    "            pl.when(pl.col('Age') < 30).then(pl.lit('young'))\n",
    "            .when(pl.col('Age') < 45).then(pl.lit('mid'))\n",
    "            .otherwise(pl.lit('old')))\n",
    "            .otherwise(None).alias('Age_bin')\n",
    "    )\n",
    "\n",
    "    cat_cols.append('Age_bin')\n",
    "    \n",
    "    return df"
   ]
  },
  {
   "cell_type": "markdown",
   "id": "721e9a7b",
   "metadata": {},
   "source": [
    "### Gender treatment"
   ]
  },
  {
   "cell_type": "code",
   "execution_count": 9,
   "id": "117c4847",
   "metadata": {},
   "outputs": [],
   "source": [
    "def engineer_gender_features(df):\n",
    "    \"\"\"Engineer gender-related features.\"\"\"\n",
    "    \n",
    "    pass\n",
    "    \n",
    "    return df"
   ]
  },
  {
   "cell_type": "markdown",
   "id": "97372adc",
   "metadata": {},
   "source": [
    "### Education treatment"
   ]
  },
  {
   "cell_type": "code",
   "execution_count": 10,
   "id": "196f7916",
   "metadata": {},
   "outputs": [],
   "source": [
    "def engineer_ed_features(df):\n",
    "    \"\"\"engineer education-related features.\"\"\"\n",
    "\n",
    "    pass\n",
    "    \n",
    "    return df"
   ]
  },
  {
   "cell_type": "markdown",
   "id": "8b3720b1",
   "metadata": {},
   "source": [
    "### Job title treatment"
   ]
  },
  {
   "cell_type": "code",
   "execution_count": 11,
   "id": "80f5c5f7",
   "metadata": {},
   "outputs": [],
   "source": [
    "def engineer_jt_features(df):\n",
    "    \"\"\"engineer job title-related features.\"\"\"\n",
    "\n",
    "    # Create a new column for job title categories\n",
    "    df = df.with_columns(\n",
    "        pl.when(pl.col('Job Title').str.contains('Director')).then(pl.lit('Director'))\n",
    "        .when(pl.col('Job Title').str.contains('Manager')).then(pl.lit('Manager'))\n",
    "        .when(pl.col('Job Title').str.contains('Coordinator')).then(pl.lit('Coordinator'))\n",
    "        .when(pl.col('Job Title').str.contains('Analyst')).then(pl.lit('Analyst'))\n",
    "        .when(pl.col('Job Title').str.contains('CEO')).then(pl.lit('Executive'))\n",
    "        .when(pl.col('Job Title').str.contains('Chief')).then(pl.lit('Executive'))\n",
    "        .when(pl.col('Job Title').str.contains('VP')).then(pl.lit('Executive'))\n",
    "        .otherwise(pl.lit('Other')).alias('Job_Title_Category')\n",
    "    )\n",
    "\n",
    "    df = df.with_columns(\n",
    "        pl.when(pl.col('Job Title').str.contains('Senior')).then(pl.lit('Senior'))\n",
    "        .when(pl.col('Job Title').str.contains('Junior')).then(pl.lit('Junior'))\n",
    "        .otherwise(pl.lit('Other')).alias('Job_Level')\n",
    "    )\n",
    "\n",
    "    df = df.drop('Job Title')\n",
    "    cat_cols.remove('Job Title')\n",
    "\n",
    "    cat_cols.append('Job_Title_Category')\n",
    "    cat_cols.append('Job_Level')\n",
    "    \n",
    "    return df"
   ]
  },
  {
   "cell_type": "markdown",
   "id": "33a5ee55",
   "metadata": {},
   "source": [
    "### Years of experience treatment"
   ]
  },
  {
   "cell_type": "code",
   "execution_count": 12,
   "id": "260a1592",
   "metadata": {},
   "outputs": [],
   "source": [
    "def engineer_yoe_features(df):\n",
    "    \"\"\"engineer years of experience-related features.\"\"\"\n",
    "\n",
    "    # create years of experience bins\n",
    "    df = df.with_columns(\n",
    "        pl.when(pl.col('Years of Experience') < 1).then(pl.lit('junior'))\n",
    "        .when(pl.col('Years of Experience') < 3).then(pl.lit('mid'))\n",
    "        .otherwise(pl.lit('senior')).alias('Experience_bin')\n",
    "    )\n",
    "    cat_cols.append('Experience_bin')\n",
    "    \n",
    "    return df"
   ]
  },
  {
   "cell_type": "markdown",
   "id": "fe4f76d9",
   "metadata": {},
   "source": [
    "### Add interaction features"
   ]
  },
  {
   "cell_type": "code",
   "execution_count": 13,
   "id": "a0867b83",
   "metadata": {},
   "outputs": [],
   "source": [
    "def create_interaction_features(df):\n",
    "    \"\"\"Create interaction features\"\"\"\n",
    "    ed_age = df.group_by('Education Level').agg(\n",
    "        pl.col('Age').mean().alias('Education_Age_mean'),\n",
    "        pl.col('Age').std().alias('Education_Age_std')\n",
    "    )\n",
    "    \n",
    "    df = df.join(ed_age, on='Education Level', how='left')\n",
    "\n",
    "    num_cols.extend(['Education_Age_mean', 'Education_Age_std'])\n",
    "\n",
    "    df = df.with_columns(\n",
    "        (pl.col('Years of Experience') / pl.col('Age')).alias('YoE_Age_ratio'),\n",
    "    )\n",
    "    num_cols.append('YoE_Age_ratio')\n",
    "    \n",
    "    df = df.with_columns(\n",
    "        (pl.col('Years of Experience') + pl.col('Years of Experience')).alias('YoE_squared'),\n",
    "        (pl.col('Years of Experience') * pl.col('Age')).alias('YoE_Age_interaction')\n",
    "    )\n",
    "\n",
    "    num_cols.extend(['YoE_squared', 'YoE_Age_interaction'])\n",
    "\n",
    "    return df"
   ]
  },
  {
   "cell_type": "code",
   "execution_count": 14,
   "id": "7f588c74",
   "metadata": {},
   "outputs": [
    {
     "name": "stdout",
     "output_type": "stream",
     "text": [
      "Removed 2 rows with null Salary values\n"
     ]
    }
   ],
   "source": [
    "def perform_feature_engineering(df):\n",
    "    \"\"\"Perform all feature engineering steps.\"\"\"\n",
    "    # Remove ID column\n",
    "       \n",
    "    # Clean target variable\n",
    "    df = clean_target_variable(df)\n",
    "    \n",
    "    # Engineer features\n",
    "    df = engineer_age_features(df)\n",
    "    df = engineer_gender_features(df)\n",
    "    df = engineer_ed_features(df)\n",
    "    df = engineer_jt_features(df)\n",
    "    df = engineer_yoe_features(df)\n",
    "    df = create_interaction_features(df)\n",
    "\n",
    "    ids = df[ID]\n",
    "    df = df.drop(ID)\n",
    "    return df, ids\n",
    "\n",
    "df_salary_people, ids = perform_feature_engineering(df_salary_people_raw)"
   ]
  },
  {
   "cell_type": "markdown",
   "id": "44ab22f5",
   "metadata": {
    "id": "44ab22f5"
   },
   "source": [
    "## Data preprocessing"
   ]
  },
  {
   "cell_type": "code",
   "execution_count": 15,
   "id": "e426d58c",
   "metadata": {
    "executionInfo": {
     "elapsed": 15,
     "status": "ok",
     "timestamp": 1749481288636,
     "user": {
      "displayName": "Gerard Seward",
      "userId": "08585387988591404566"
     },
     "user_tz": 180
    },
    "id": "e426d58c"
   },
   "outputs": [],
   "source": [
    "# Salary has outliers, need to decide how to handle them\n",
    "\n",
    "# age has 3 null values, need to decide how to fill them\n",
    "\n",
    "# gender has 3 null values, need to decide how to fill them\n",
    "\n",
    "# Education Level has 3 null values, need to decide how to fill them\n",
    "\n",
    "# Job Title has 3 null values, need to decide how to fill them\n",
    "# Job title has high cardinality, experiment extracting keywords"
   ]
  },
  {
   "cell_type": "code",
   "execution_count": 16,
   "id": "08d157aa",
   "metadata": {
    "executionInfo": {
     "elapsed": 12,
     "status": "ok",
     "timestamp": 1749481288638,
     "user": {
      "displayName": "Gerard Seward",
      "userId": "08585387988591404566"
     },
     "user_tz": 180
    },
    "id": "08d157aa"
   },
   "outputs": [],
   "source": [
    "def create_preprocessing_pipeline():\n",
    "    \"\"\"Create sklearn preprocessing pipeline.\"\"\"\n",
    "    # numerical imputer\n",
    "    num_imputer = SimpleImputer(strategy='median')\n",
    "    # numerical scaler\n",
    "    scaler = StandardScaler()\n",
    "    # categorical imputer\n",
    "    cat_imputer = SimpleImputer(strategy='most_frequent')\n",
    "    # categorical encoder\n",
    "    ohe_encoder = OneHotEncoder(handle_unknown='ignore', sparse_output=False)\n",
    "\n",
    "    # numerical pipeline\n",
    "    num_pipeline = Pipeline([\n",
    "        ('num_imputer', num_imputer),\n",
    "        ('scaler', scaler)\n",
    "    ])\n",
    "    # categorical pipeline\n",
    "    cat_pipeline = Pipeline([\n",
    "        ('cat_imputer', cat_imputer),\n",
    "        ('ohe_encoder', ohe_encoder)\n",
    "    ])\n",
    "\n",
    "    # column transformer\n",
    "\n",
    "    pipeline = ColumnTransformer([\n",
    "        ('num', num_pipeline, num_cols),\n",
    "        ('cat_ohe', cat_pipeline, cat_cols),\n",
    "        ])\n",
    "    return pipeline\n"
   ]
  },
  {
   "cell_type": "code",
   "execution_count": 17,
   "id": "0b9aa331",
   "metadata": {},
   "outputs": [],
   "source": [
    "X = df_salary_people.drop(TARGET)\n",
    "y = df_salary_people[TARGET]"
   ]
  },
  {
   "cell_type": "code",
   "execution_count": 18,
   "id": "93ea3536",
   "metadata": {},
   "outputs": [
    {
     "data": {
      "application/vnd.plotly.v1+json": {
       "config": {
        "plotlyServerURL": "https://plot.ly"
       },
       "data": [
        {
         "coloraxis": "coloraxis",
         "hovertemplate": "x: %{x}<br>y: %{y}<br>color: %{z}<extra></extra>",
         "name": "0",
         "texttemplate": "%{z}",
         "type": "heatmap",
         "x": [
          "Age",
          "Education_Age_mean",
          "Education_Age_std",
          "YoE_Age_ratio",
          "YoE_squared",
          "YoE_Age_interaction"
         ],
         "xaxis": "x",
         "y": [
          "Age",
          "Education_Age_mean",
          "Education_Age_std",
          "YoE_Age_ratio",
          "YoE_squared",
          "YoE_Age_interaction"
         ],
         "yaxis": "y",
         "z": {
          "bdata": "AAAAAAAA8D+XCdy9CCbiP7ROJyqN+sS/vvndEarJ7j84HEuWgVbvPwjhSs+lK+8/lwncvQgm4j8AAAAAAADwPyRzQWbtcdK/dthh3bfV4j+XxUJwQA3jPxk9Szg53+I/tE4nKo36xL8kc0Fm7XHSvwAAAAAAAPA/O7KX3Mezw7+TL8MoAn/Ev+N88uxPNMS/vvndEarJ7j922GHdt9XiPzuyl9zHs8O/AAAAAAAA8D9bHauDL5XvP104yPYWuO4/OBxLloFW7z+XxUJwQA3jP5MvwygCf8S/Wx2rgy+V7z8AAAAAAADwPyKTuMXFwe8/COFKz6Ur7z8ZPUs4Od/iP+N88uxPNMS/XTjI9ha47j8ik7jFxcHvPwAAAAAAAPA/",
          "dtype": "f8",
          "shape": "6, 6"
         }
        }
       ],
       "layout": {
        "coloraxis": {
         "colorscale": [
          [
           0,
           "rgb(5,48,97)"
          ],
          [
           0.1,
           "rgb(33,102,172)"
          ],
          [
           0.2,
           "rgb(67,147,195)"
          ],
          [
           0.3,
           "rgb(146,197,222)"
          ],
          [
           0.4,
           "rgb(209,229,240)"
          ],
          [
           0.5,
           "rgb(247,247,247)"
          ],
          [
           0.6,
           "rgb(253,219,199)"
          ],
          [
           0.7,
           "rgb(244,165,130)"
          ],
          [
           0.8,
           "rgb(214,96,77)"
          ],
          [
           0.9,
           "rgb(178,24,43)"
          ],
          [
           1,
           "rgb(103,0,31)"
          ]
         ]
        },
        "margin": {
         "t": 60
        },
        "template": {
         "data": {
          "bar": [
           {
            "error_x": {
             "color": "#2a3f5f"
            },
            "error_y": {
             "color": "#2a3f5f"
            },
            "marker": {
             "line": {
              "color": "#E5ECF6",
              "width": 0.5
             },
             "pattern": {
              "fillmode": "overlay",
              "size": 10,
              "solidity": 0.2
             }
            },
            "type": "bar"
           }
          ],
          "barpolar": [
           {
            "marker": {
             "line": {
              "color": "#E5ECF6",
              "width": 0.5
             },
             "pattern": {
              "fillmode": "overlay",
              "size": 10,
              "solidity": 0.2
             }
            },
            "type": "barpolar"
           }
          ],
          "carpet": [
           {
            "aaxis": {
             "endlinecolor": "#2a3f5f",
             "gridcolor": "white",
             "linecolor": "white",
             "minorgridcolor": "white",
             "startlinecolor": "#2a3f5f"
            },
            "baxis": {
             "endlinecolor": "#2a3f5f",
             "gridcolor": "white",
             "linecolor": "white",
             "minorgridcolor": "white",
             "startlinecolor": "#2a3f5f"
            },
            "type": "carpet"
           }
          ],
          "choropleth": [
           {
            "colorbar": {
             "outlinewidth": 0,
             "ticks": ""
            },
            "type": "choropleth"
           }
          ],
          "contour": [
           {
            "colorbar": {
             "outlinewidth": 0,
             "ticks": ""
            },
            "colorscale": [
             [
              0,
              "#0d0887"
             ],
             [
              0.1111111111111111,
              "#46039f"
             ],
             [
              0.2222222222222222,
              "#7201a8"
             ],
             [
              0.3333333333333333,
              "#9c179e"
             ],
             [
              0.4444444444444444,
              "#bd3786"
             ],
             [
              0.5555555555555556,
              "#d8576b"
             ],
             [
              0.6666666666666666,
              "#ed7953"
             ],
             [
              0.7777777777777778,
              "#fb9f3a"
             ],
             [
              0.8888888888888888,
              "#fdca26"
             ],
             [
              1,
              "#f0f921"
             ]
            ],
            "type": "contour"
           }
          ],
          "contourcarpet": [
           {
            "colorbar": {
             "outlinewidth": 0,
             "ticks": ""
            },
            "type": "contourcarpet"
           }
          ],
          "heatmap": [
           {
            "colorbar": {
             "outlinewidth": 0,
             "ticks": ""
            },
            "colorscale": [
             [
              0,
              "#0d0887"
             ],
             [
              0.1111111111111111,
              "#46039f"
             ],
             [
              0.2222222222222222,
              "#7201a8"
             ],
             [
              0.3333333333333333,
              "#9c179e"
             ],
             [
              0.4444444444444444,
              "#bd3786"
             ],
             [
              0.5555555555555556,
              "#d8576b"
             ],
             [
              0.6666666666666666,
              "#ed7953"
             ],
             [
              0.7777777777777778,
              "#fb9f3a"
             ],
             [
              0.8888888888888888,
              "#fdca26"
             ],
             [
              1,
              "#f0f921"
             ]
            ],
            "type": "heatmap"
           }
          ],
          "histogram": [
           {
            "marker": {
             "pattern": {
              "fillmode": "overlay",
              "size": 10,
              "solidity": 0.2
             }
            },
            "type": "histogram"
           }
          ],
          "histogram2d": [
           {
            "colorbar": {
             "outlinewidth": 0,
             "ticks": ""
            },
            "colorscale": [
             [
              0,
              "#0d0887"
             ],
             [
              0.1111111111111111,
              "#46039f"
             ],
             [
              0.2222222222222222,
              "#7201a8"
             ],
             [
              0.3333333333333333,
              "#9c179e"
             ],
             [
              0.4444444444444444,
              "#bd3786"
             ],
             [
              0.5555555555555556,
              "#d8576b"
             ],
             [
              0.6666666666666666,
              "#ed7953"
             ],
             [
              0.7777777777777778,
              "#fb9f3a"
             ],
             [
              0.8888888888888888,
              "#fdca26"
             ],
             [
              1,
              "#f0f921"
             ]
            ],
            "type": "histogram2d"
           }
          ],
          "histogram2dcontour": [
           {
            "colorbar": {
             "outlinewidth": 0,
             "ticks": ""
            },
            "colorscale": [
             [
              0,
              "#0d0887"
             ],
             [
              0.1111111111111111,
              "#46039f"
             ],
             [
              0.2222222222222222,
              "#7201a8"
             ],
             [
              0.3333333333333333,
              "#9c179e"
             ],
             [
              0.4444444444444444,
              "#bd3786"
             ],
             [
              0.5555555555555556,
              "#d8576b"
             ],
             [
              0.6666666666666666,
              "#ed7953"
             ],
             [
              0.7777777777777778,
              "#fb9f3a"
             ],
             [
              0.8888888888888888,
              "#fdca26"
             ],
             [
              1,
              "#f0f921"
             ]
            ],
            "type": "histogram2dcontour"
           }
          ],
          "mesh3d": [
           {
            "colorbar": {
             "outlinewidth": 0,
             "ticks": ""
            },
            "type": "mesh3d"
           }
          ],
          "parcoords": [
           {
            "line": {
             "colorbar": {
              "outlinewidth": 0,
              "ticks": ""
             }
            },
            "type": "parcoords"
           }
          ],
          "pie": [
           {
            "automargin": true,
            "type": "pie"
           }
          ],
          "scatter": [
           {
            "fillpattern": {
             "fillmode": "overlay",
             "size": 10,
             "solidity": 0.2
            },
            "type": "scatter"
           }
          ],
          "scatter3d": [
           {
            "line": {
             "colorbar": {
              "outlinewidth": 0,
              "ticks": ""
             }
            },
            "marker": {
             "colorbar": {
              "outlinewidth": 0,
              "ticks": ""
             }
            },
            "type": "scatter3d"
           }
          ],
          "scattercarpet": [
           {
            "marker": {
             "colorbar": {
              "outlinewidth": 0,
              "ticks": ""
             }
            },
            "type": "scattercarpet"
           }
          ],
          "scattergeo": [
           {
            "marker": {
             "colorbar": {
              "outlinewidth": 0,
              "ticks": ""
             }
            },
            "type": "scattergeo"
           }
          ],
          "scattergl": [
           {
            "marker": {
             "colorbar": {
              "outlinewidth": 0,
              "ticks": ""
             }
            },
            "type": "scattergl"
           }
          ],
          "scattermap": [
           {
            "marker": {
             "colorbar": {
              "outlinewidth": 0,
              "ticks": ""
             }
            },
            "type": "scattermap"
           }
          ],
          "scattermapbox": [
           {
            "marker": {
             "colorbar": {
              "outlinewidth": 0,
              "ticks": ""
             }
            },
            "type": "scattermapbox"
           }
          ],
          "scatterpolar": [
           {
            "marker": {
             "colorbar": {
              "outlinewidth": 0,
              "ticks": ""
             }
            },
            "type": "scatterpolar"
           }
          ],
          "scatterpolargl": [
           {
            "marker": {
             "colorbar": {
              "outlinewidth": 0,
              "ticks": ""
             }
            },
            "type": "scatterpolargl"
           }
          ],
          "scatterternary": [
           {
            "marker": {
             "colorbar": {
              "outlinewidth": 0,
              "ticks": ""
             }
            },
            "type": "scatterternary"
           }
          ],
          "surface": [
           {
            "colorbar": {
             "outlinewidth": 0,
             "ticks": ""
            },
            "colorscale": [
             [
              0,
              "#0d0887"
             ],
             [
              0.1111111111111111,
              "#46039f"
             ],
             [
              0.2222222222222222,
              "#7201a8"
             ],
             [
              0.3333333333333333,
              "#9c179e"
             ],
             [
              0.4444444444444444,
              "#bd3786"
             ],
             [
              0.5555555555555556,
              "#d8576b"
             ],
             [
              0.6666666666666666,
              "#ed7953"
             ],
             [
              0.7777777777777778,
              "#fb9f3a"
             ],
             [
              0.8888888888888888,
              "#fdca26"
             ],
             [
              1,
              "#f0f921"
             ]
            ],
            "type": "surface"
           }
          ],
          "table": [
           {
            "cells": {
             "fill": {
              "color": "#EBF0F8"
             },
             "line": {
              "color": "white"
             }
            },
            "header": {
             "fill": {
              "color": "#C8D4E3"
             },
             "line": {
              "color": "white"
             }
            },
            "type": "table"
           }
          ]
         },
         "layout": {
          "annotationdefaults": {
           "arrowcolor": "#2a3f5f",
           "arrowhead": 0,
           "arrowwidth": 1
          },
          "autotypenumbers": "strict",
          "coloraxis": {
           "colorbar": {
            "outlinewidth": 0,
            "ticks": ""
           }
          },
          "colorscale": {
           "diverging": [
            [
             0,
             "#8e0152"
            ],
            [
             0.1,
             "#c51b7d"
            ],
            [
             0.2,
             "#de77ae"
            ],
            [
             0.3,
             "#f1b6da"
            ],
            [
             0.4,
             "#fde0ef"
            ],
            [
             0.5,
             "#f7f7f7"
            ],
            [
             0.6,
             "#e6f5d0"
            ],
            [
             0.7,
             "#b8e186"
            ],
            [
             0.8,
             "#7fbc41"
            ],
            [
             0.9,
             "#4d9221"
            ],
            [
             1,
             "#276419"
            ]
           ],
           "sequential": [
            [
             0,
             "#0d0887"
            ],
            [
             0.1111111111111111,
             "#46039f"
            ],
            [
             0.2222222222222222,
             "#7201a8"
            ],
            [
             0.3333333333333333,
             "#9c179e"
            ],
            [
             0.4444444444444444,
             "#bd3786"
            ],
            [
             0.5555555555555556,
             "#d8576b"
            ],
            [
             0.6666666666666666,
             "#ed7953"
            ],
            [
             0.7777777777777778,
             "#fb9f3a"
            ],
            [
             0.8888888888888888,
             "#fdca26"
            ],
            [
             1,
             "#f0f921"
            ]
           ],
           "sequentialminus": [
            [
             0,
             "#0d0887"
            ],
            [
             0.1111111111111111,
             "#46039f"
            ],
            [
             0.2222222222222222,
             "#7201a8"
            ],
            [
             0.3333333333333333,
             "#9c179e"
            ],
            [
             0.4444444444444444,
             "#bd3786"
            ],
            [
             0.5555555555555556,
             "#d8576b"
            ],
            [
             0.6666666666666666,
             "#ed7953"
            ],
            [
             0.7777777777777778,
             "#fb9f3a"
            ],
            [
             0.8888888888888888,
             "#fdca26"
            ],
            [
             1,
             "#f0f921"
            ]
           ]
          },
          "colorway": [
           "#636efa",
           "#EF553B",
           "#00cc96",
           "#ab63fa",
           "#FFA15A",
           "#19d3f3",
           "#FF6692",
           "#B6E880",
           "#FF97FF",
           "#FECB52"
          ],
          "font": {
           "color": "#2a3f5f"
          },
          "geo": {
           "bgcolor": "white",
           "lakecolor": "white",
           "landcolor": "#E5ECF6",
           "showlakes": true,
           "showland": true,
           "subunitcolor": "white"
          },
          "hoverlabel": {
           "align": "left"
          },
          "hovermode": "closest",
          "mapbox": {
           "style": "light"
          },
          "paper_bgcolor": "white",
          "plot_bgcolor": "#E5ECF6",
          "polar": {
           "angularaxis": {
            "gridcolor": "white",
            "linecolor": "white",
            "ticks": ""
           },
           "bgcolor": "#E5ECF6",
           "radialaxis": {
            "gridcolor": "white",
            "linecolor": "white",
            "ticks": ""
           }
          },
          "scene": {
           "xaxis": {
            "backgroundcolor": "#E5ECF6",
            "gridcolor": "white",
            "gridwidth": 2,
            "linecolor": "white",
            "showbackground": true,
            "ticks": "",
            "zerolinecolor": "white"
           },
           "yaxis": {
            "backgroundcolor": "#E5ECF6",
            "gridcolor": "white",
            "gridwidth": 2,
            "linecolor": "white",
            "showbackground": true,
            "ticks": "",
            "zerolinecolor": "white"
           },
           "zaxis": {
            "backgroundcolor": "#E5ECF6",
            "gridcolor": "white",
            "gridwidth": 2,
            "linecolor": "white",
            "showbackground": true,
            "ticks": "",
            "zerolinecolor": "white"
           }
          },
          "shapedefaults": {
           "line": {
            "color": "#2a3f5f"
           }
          },
          "ternary": {
           "aaxis": {
            "gridcolor": "white",
            "linecolor": "white",
            "ticks": ""
           },
           "baxis": {
            "gridcolor": "white",
            "linecolor": "white",
            "ticks": ""
           },
           "bgcolor": "#E5ECF6",
           "caxis": {
            "gridcolor": "white",
            "linecolor": "white",
            "ticks": ""
           }
          },
          "title": {
           "x": 0.05
          },
          "xaxis": {
           "automargin": true,
           "gridcolor": "white",
           "linecolor": "white",
           "ticks": "",
           "title": {
            "standoff": 15
           },
           "zerolinecolor": "white",
           "zerolinewidth": 2
          },
          "yaxis": {
           "automargin": true,
           "gridcolor": "white",
           "linecolor": "white",
           "ticks": "",
           "title": {
            "standoff": 15
           },
           "zerolinecolor": "white",
           "zerolinewidth": 2
          }
         }
        },
        "title": {
         "text": "Correlation Matrix of Numerical Features"
        },
        "xaxis": {
         "anchor": "y",
         "domain": [
          0,
          1
         ]
        },
        "yaxis": {
         "anchor": "x",
         "autorange": "reversed",
         "domain": [
          0,
          1
         ]
        }
       }
      }
     },
     "metadata": {},
     "output_type": "display_data"
    }
   ],
   "source": [
    "# Analyze correlated features\n",
    "corr_matrix = X.select(num_cols).to_pandas().corr()\n",
    "fig = px.imshow(corr_matrix, text_auto=True, aspect=\"auto\", color_continuous_scale='RdBu_r')\n",
    "fig.update_layout(title='Correlation Matrix of Numerical Features')\n",
    "fig.show()"
   ]
  },
  {
   "cell_type": "markdown",
   "id": "0186dfbb",
   "metadata": {
    "id": "0186dfbb"
   },
   "source": [
    "## Metric definition"
   ]
  },
  {
   "cell_type": "code",
   "execution_count": 19,
   "id": "ad9c21ef",
   "metadata": {
    "executionInfo": {
     "elapsed": 2,
     "status": "ok",
     "timestamp": 1749481288664,
     "user": {
      "displayName": "Gerard Seward",
      "userId": "08585387988591404566"
     },
     "user_tz": 180
    },
    "id": "ad9c21ef"
   },
   "outputs": [],
   "source": [
    "def metrics(y_true, y_pred):\n",
    "    rmse = root_mean_squared_error(y_true, y_pred)\n",
    "    r2 = r2_score(y_true, y_pred)\n",
    "    return {'rmse': rmse, 'r2': r2}"
   ]
  },
  {
   "cell_type": "markdown",
   "id": "6d052385",
   "metadata": {
    "id": "6d052385"
   },
   "source": [
    "## Cross validation training"
   ]
  },
  {
   "cell_type": "code",
   "execution_count": 20,
   "id": "dd4ae5ea",
   "metadata": {},
   "outputs": [],
   "source": [
    "def feature_importance(pipeline, model):\n",
    "    \"\"\"Get feature importance from the model.\"\"\"\n",
    "    importances = []\n",
    "    if hasattr(model, 'feature_importances_'):\n",
    "        importances = model.feature_importances_\n",
    "    elif hasattr(model, 'coef_'):\n",
    "        importances = np.abs(model.coef_)\n",
    "    else:\n",
    "        importances = np.zeros(len(pipeline.get_feature_names_out()))\n",
    "    \n",
    "    fe_impo = pl.DataFrame({\n",
    "        'feature': pipeline.get_feature_names_out(),\n",
    "        'importance': importances\n",
    "    }).sort('importance', descending=True)\n",
    "    \n",
    "    return fe_impo"
   ]
  },
  {
   "cell_type": "code",
   "execution_count": 21,
   "id": "d157da02",
   "metadata": {
    "executionInfo": {
     "elapsed": 29,
     "status": "ok",
     "timestamp": 1749481288699,
     "user": {
      "displayName": "Gerard Seward",
      "userId": "08585387988591404566"
     },
     "user_tz": 180
    },
    "id": "d157da02"
   },
   "outputs": [],
   "source": [
    "def cross_validation(model, X, y, seed = SEED, verbose=True):\n",
    "\n",
    "    kf = KFold(n_splits=N_FOLDS, shuffle=True, random_state=seed)\n",
    "    results = []\n",
    "    importances_table = None\n",
    "    oof_preds = np.zeros(len(y))\n",
    "\n",
    "    for fold, (train_index, val_index) in enumerate(kf.split(X)):\n",
    "\n",
    "        # print(f\"Fold {fold + 1}/{N_FOLDS}\")\n",
    "\n",
    "        X_train, X_val = X[train_index].clone(), X[val_index].clone()\n",
    "        y_train, y_val = y[train_index].clone(), y[val_index].clone()\n",
    "\n",
    "        # Create preprocessing pipeline\n",
    "        preprocessing_pipeline = create_preprocessing_pipeline()\n",
    "\n",
    "        X_train = preprocessing_pipeline.fit_transform(X_train)\n",
    "        X_val = preprocessing_pipeline.transform(X_val)\n",
    "\n",
    "        model.fit(X_train, y_train)\n",
    "        y_pred = model.predict(X_val)\n",
    "        oof_preds[val_index] = y_pred\n",
    "\n",
    "        result = metrics(y_val, y_pred)\n",
    "        results.append(result)\n",
    "\n",
    "        # Get feature importance for this fold\n",
    "        fe_impo = feature_importance(preprocessing_pipeline, model)\n",
    "\n",
    "        \n",
    "        \n",
    "        # Rename the importance column to include fold number\n",
    "        fe_impo = fe_impo.with_columns(\n",
    "            pl.col('importance').alias(f'fold_{fold + 1}')\n",
    "        ).drop('importance')\n",
    "        \n",
    "        # Initialize or join the importances table\n",
    "        if importances_table is None:\n",
    "            # First fold - create the base table\n",
    "            importances_table = fe_impo\n",
    "        else:\n",
    "            # Subsequent folds - join on feature names\n",
    "            importances_table = importances_table.join(\n",
    "                fe_impo, \n",
    "                on='feature', \n",
    "                how='inner'\n",
    "            )\n",
    "\n",
    "        if verbose:\n",
    "            # Print metrics for the current fold\n",
    "            print(f\"Fold {fold + 1} - RMSE: {result['rmse']:.2f}, R2: {result['r2']:.2f}\")\n",
    "\n",
    "    \n",
    "    # Add summary statistics across folds\n",
    "    fold_columns = [f'fold_{i+1}' for i in range(N_FOLDS)]\n",
    "    \n",
    "    # Calculate mean and std across only the fold columns (numeric)\n",
    "    importances_table = importances_table.with_columns([\n",
    "        pl.mean_horizontal([pl.col(col).round(2) for col in fold_columns]).alias('mean_importance'),\n",
    "        pl.concat_list([pl.col(col).round(2) for col in fold_columns]).list.std().alias('std_importance')\n",
    "    ]).drop(fold_columns)\n",
    "\n",
    "    importances_table = importances_table.with_columns(\n",
    "        (pl.col(\"mean_importance\") / pl.col(\"mean_importance\").sum() * 100).alias(\"mean_importance_pct\").round(1),\n",
    "    )\n",
    "    # Round numeric columns to 2 decimals\n",
    "    numeric_cols = ['mean_importance', 'std_importance']\n",
    "    importances_table = importances_table.with_columns([\n",
    "        pl.col(col).round(2) for col in numeric_cols\n",
    "    ])\n",
    "\n",
    "    # Sort by mean importance\n",
    "    importances_table = importances_table.sort('mean_importance', descending=True)\n",
    "\n",
    "    if verbose:\n",
    "    # print mean metrics across folds\n",
    "        avg_rmse = np.mean([result['rmse'] for result in results])\n",
    "        avg_r2 = np.mean([result['r2'] for result in results])\n",
    "        print(f\"\\nAverage RMSE across folds: {avg_rmse:.2f}\")\n",
    "        print(f\"Average R2 across folds: {avg_r2:.2f}\")\n",
    "        \n",
    "    return results, importances_table, oof_preds\n",
    "# evaluate model with cv using multple seeds to assess stability\n",
    "seeds = np.random.RandomState(SEED).choice(range(10000), size=5, replace=False).tolist()\n",
    "\n",
    "def evaluate_model_seeds(model, X, y, seeds=seeds):\n",
    "\n",
    "    results = []\n",
    "    for s in seeds:\n",
    "\n",
    "        seed_results, _, _ = cross_validation(model, X, y, s, verbose=False)\n",
    "\n",
    "        avg_rmse = np.mean([result['rmse'] for result in seed_results]).round(2)\n",
    "        avg_r2 = np.mean([result['r2'] for result in seed_results]).round(2)\n",
    "        std_rmse = np.std([result['rmse'] for result in seed_results]).round(2)\n",
    "        std_r2 = np.std([result['r2'] for result in seed_results]).round(2)\n",
    "\n",
    "\n",
    "        results.append({\n",
    "            'seed': s,\n",
    "            'rmse': avg_rmse,\n",
    "            'r2': avg_r2,\n",
    "            'std_rmse': std_rmse,\n",
    "            'std_r2': std_r2\n",
    "        })\n",
    "\n",
    "    eval_results = pl.DataFrame(results)\n",
    "\n",
    "    return eval_results"
   ]
  },
  {
   "cell_type": "markdown",
   "id": "bd62509b",
   "metadata": {
    "id": "bd62509b"
   },
   "source": [
    "## Model evaluation"
   ]
  },
  {
   "cell_type": "code",
   "execution_count": 22,
   "id": "81f646a0",
   "metadata": {},
   "outputs": [],
   "source": [
    "def plot_error_vs_predicted(oof_preds_rf, y, ids):\n",
    "    errors = pl.DataFrame({\n",
    "        'id': ids,\n",
    "        'actual': y,\n",
    "        'predicted': oof_preds_rf\n",
    "    })\n",
    "    # calculate the mean and std of the errors\n",
    "    errors = errors.with_columns(\n",
    "        (pl.col('predicted') - pl.col('actual')).alias('error'),\n",
    "        (pl.col('predicted') - pl.col('actual')).abs().alias('abs_error')\n",
    "    )\n",
    "\n",
    "    mean_error = errors['error'].mean()\n",
    "    std_error = errors['error'].std()\n",
    "\n",
    "    fig = px.scatter(\n",
    "        errors.to_pandas(),\n",
    "        x='predicted',\n",
    "        y='actual',\n",
    "        hover_data=['id'],\n",
    "        labels={'predicted': 'Predicted Values', 'actual': 'Real Values'},\n",
    "        title=f'Real vs Predicted Values\\nMean Error: {mean_error:.2f}, Std Error: {std_error:.2f}'\n",
    "    )\n",
    "    fig.add_shape(\n",
    "        type='line',\n",
    "        x0=errors['predicted'].min(),\n",
    "        y0=errors['predicted'].min(),\n",
    "        x1=errors['predicted'].max(),\n",
    "        y1=errors['actual'].max(),\n",
    "        line=dict(color='red', dash='dash')\n",
    "    )\n",
    "    fig.update_layout(\n",
    "        width=800,\n",
    "        height=800,\n",
    "        legend_title_text='',\n",
    "        showlegend=False\n",
    "    )\n",
    "    fig.show()"
   ]
  },
  {
   "cell_type": "code",
   "execution_count": 23,
   "id": "AX_-uxJ9NZl3",
   "metadata": {
    "colab": {
     "base_uri": "https://localhost:8080/"
    },
    "executionInfo": {
     "elapsed": 30,
     "status": "ok",
     "timestamp": 1749481332407,
     "user": {
      "displayName": "Gerard Seward",
      "userId": "08585387988591404566"
     },
     "user_tz": 180
    },
    "id": "AX_-uxJ9NZl3",
    "outputId": "5654b203-c0bd-403c-dd5f-65a98b49beef"
   },
   "outputs": [
    {
     "name": "stdout",
     "output_type": "stream",
     "text": [
      "Fold 1 - RMSE: 56941.49, R2: -0.08\n",
      "Fold 2 - RMSE: 44369.66, R2: -0.03\n",
      "Fold 3 - RMSE: 45707.65, R2: -0.05\n",
      "Fold 4 - RMSE: 48455.89, R2: -0.01\n",
      "Fold 5 - RMSE: 45943.56, R2: -0.07\n",
      "\n",
      "Average RMSE across folds: 48283.65\n",
      "Average R2 across folds: -0.05\n"
     ]
    }
   ],
   "source": [
    "model_dummy = DummyRegressor(strategy='median')\n",
    "results_dummy, _, _ = cross_validation(model_dummy, X, y)"
   ]
  },
  {
   "cell_type": "code",
   "execution_count": 24,
   "id": "0e330a98",
   "metadata": {},
   "outputs": [
    {
     "name": "stdout",
     "output_type": "stream",
     "text": [
      "Optimal alpha found: 136.2934\n"
     ]
    }
   ],
   "source": [
    "# Find optimal alpha using cross-validation\n",
    "def find_optimal_alpha_quick(X, y):\n",
    "    preprocessing_pipeline = create_preprocessing_pipeline()\n",
    "    X_processed = preprocessing_pipeline.fit_transform(X)\n",
    "    \n",
    "    lasso_cv = LassoCV(cv=N_FOLDS, random_state=SEED, n_alphas=100, max_iter=2000)\n",
    "    lasso_cv.fit(X_processed, y)\n",
    "    \n",
    "    return lasso_cv.alpha_, lasso_cv\n",
    "\n",
    "optimal_alpha, lasso_cv_model = find_optimal_alpha_quick(X, y)\n",
    "print(f\"Optimal alpha found: {optimal_alpha:.4f}\")"
   ]
  },
  {
   "cell_type": "code",
   "execution_count": 28,
   "id": "b54a4f1d",
   "metadata": {},
   "outputs": [
    {
     "name": "stdout",
     "output_type": "stream",
     "text": [
      "Fold 1 - RMSE: 13686.07, R2: 0.94\n",
      "Fold 2 - RMSE: 10688.25, R2: 0.94\n",
      "Fold 3 - RMSE: 10512.93, R2: 0.94\n",
      "Fold 4 - RMSE: 12149.25, R2: 0.94\n",
      "Fold 5 - RMSE: 10646.86, R2: 0.94\n",
      "\n",
      "Average RMSE across folds: 11536.67\n",
      "Average R2 across folds: 0.94\n"
     ]
    },
    {
     "data": {
      "text/html": [
       "<div><style>\n",
       ".dataframe > thead > tr,\n",
       ".dataframe > tbody > tr {\n",
       "  text-align: right;\n",
       "  white-space: pre-wrap;\n",
       "}\n",
       "</style>\n",
       "<small>shape: (29, 4)</small><table border=\"1\" class=\"dataframe\"><thead><tr><th>feature</th><th>mean_importance</th><th>std_importance</th><th>mean_importance_pct</th></tr><tr><td>str</td><td>f64</td><td>f64</td><td>f64</td></tr></thead><tbody><tr><td>&quot;cat_ohe__Job_Title_Category_Ex…</td><td>56572.08</td><td>10720.48</td><td>32.1</td></tr><tr><td>&quot;cat_ohe__Job_Title_Category_Di…</td><td>26789.96</td><td>2672.26</td><td>15.2</td></tr><tr><td>&quot;num__Age&quot;</td><td>15280.72</td><td>1827.15</td><td>8.7</td></tr><tr><td>&quot;cat_ohe__Job_Level_Senior&quot;</td><td>14548.56</td><td>1361.71</td><td>8.3</td></tr><tr><td>&quot;num__YoE_squared&quot;</td><td>12052.44</td><td>4411.13</td><td>6.8</td></tr><tr><td>&quot;num__Education_Age_mean&quot;</td><td>8691.25</td><td>1126.58</td><td>4.9</td></tr><tr><td>&quot;cat_ohe__Years of Experience_1…</td><td>7192.94</td><td>1398.94</td><td>4.1</td></tr><tr><td>&quot;cat_ohe__Gender_Male&quot;</td><td>6322.97</td><td>619.26</td><td>3.6</td></tr><tr><td>&quot;cat_ohe__Job_Title_Category_Co…</td><td>5522.31</td><td>1511.14</td><td>3.1</td></tr><tr><td>&quot;cat_ohe__Job_Level_Junior&quot;</td><td>4889.01</td><td>640.85</td><td>2.8</td></tr><tr><td>&quot;cat_ohe__Job_Title_Category_Ot…</td><td>4855.43</td><td>424.6</td><td>2.8</td></tr><tr><td>&quot;cat_ohe__Job_Title_Category_An…</td><td>3249.83</td><td>1152.34</td><td>1.8</td></tr><tr><td>&quot;num__YoE_Age_interaction&quot;</td><td>1955.2</td><td>3118.46</td><td>1.1</td></tr><tr><td>&quot;cat_ohe__Experience_bin_mid&quot;</td><td>1507.11</td><td>542.64</td><td>0.9</td></tr><tr><td>&quot;cat_ohe__Job_Title_Category_Ma…</td><td>1264.23</td><td>738.08</td><td>0.7</td></tr><tr><td>&quot;cat_ohe__Years of Experience_1…</td><td>1105.97</td><td>1042.61</td><td>0.6</td></tr><tr><td>&quot;cat_ohe__Years of Experience_9…</td><td>968.45</td><td>810.81</td><td>0.5</td></tr><tr><td>&quot;cat_ohe__Years of Experience_5…</td><td>749.86</td><td>713.85</td><td>0.4</td></tr><tr><td>&quot;cat_ohe__Years of Experience_1…</td><td>623.32</td><td>879.76</td><td>0.4</td></tr><tr><td>&quot;cat_ohe__Years of Experience_1…</td><td>507.96</td><td>764.46</td><td>0.3</td></tr><tr><td>&quot;cat_ohe__Age_bin_old&quot;</td><td>473.11</td><td>716.34</td><td>0.3</td></tr><tr><td>&quot;cat_ohe__Education Level_Bache…</td><td>256.89</td><td>548.41</td><td>0.1</td></tr><tr><td>&quot;cat_ohe__Years of Experience_1…</td><td>242.57</td><td>542.39</td><td>0.1</td></tr><tr><td>&quot;num__Education_Age_std&quot;</td><td>182.76</td><td>293.43</td><td>0.1</td></tr><tr><td>&quot;cat_ohe__Years of Experience_1…</td><td>153.04</td><td>342.2</td><td>0.1</td></tr><tr><td>&quot;cat_ohe__Years of Experience_8…</td><td>148.1</td><td>322.19</td><td>0.1</td></tr><tr><td>&quot;cat_ohe__Experience_bin_senior&quot;</td><td>54.83</td><td>80.86</td><td>0.0</td></tr><tr><td>&quot;cat_ohe__Years of Experience_2…</td><td>50.27</td><td>112.41</td><td>0.0</td></tr><tr><td>&quot;cat_ohe__Years of Experience_2…</td><td>13.24</td><td>29.6</td><td>0.0</td></tr></tbody></table></div>"
      ],
      "text/plain": [
       "shape: (29, 4)\n",
       "┌─────────────────────────────────┬─────────────────┬────────────────┬─────────────────────┐\n",
       "│ feature                         ┆ mean_importance ┆ std_importance ┆ mean_importance_pct │\n",
       "│ ---                             ┆ ---             ┆ ---            ┆ ---                 │\n",
       "│ str                             ┆ f64             ┆ f64            ┆ f64                 │\n",
       "╞═════════════════════════════════╪═════════════════╪════════════════╪═════════════════════╡\n",
       "│ cat_ohe__Job_Title_Category_Ex… ┆ 56572.08        ┆ 10720.48       ┆ 32.1                │\n",
       "│ cat_ohe__Job_Title_Category_Di… ┆ 26789.96        ┆ 2672.26        ┆ 15.2                │\n",
       "│ num__Age                        ┆ 15280.72        ┆ 1827.15        ┆ 8.7                 │\n",
       "│ cat_ohe__Job_Level_Senior       ┆ 14548.56        ┆ 1361.71        ┆ 8.3                 │\n",
       "│ num__YoE_squared                ┆ 12052.44        ┆ 4411.13        ┆ 6.8                 │\n",
       "│ num__Education_Age_mean         ┆ 8691.25         ┆ 1126.58        ┆ 4.9                 │\n",
       "│ cat_ohe__Years of Experience_1… ┆ 7192.94         ┆ 1398.94        ┆ 4.1                 │\n",
       "│ cat_ohe__Gender_Male            ┆ 6322.97         ┆ 619.26         ┆ 3.6                 │\n",
       "│ cat_ohe__Job_Title_Category_Co… ┆ 5522.31         ┆ 1511.14        ┆ 3.1                 │\n",
       "│ cat_ohe__Job_Level_Junior       ┆ 4889.01         ┆ 640.85         ┆ 2.8                 │\n",
       "│ cat_ohe__Job_Title_Category_Ot… ┆ 4855.43         ┆ 424.6          ┆ 2.8                 │\n",
       "│ cat_ohe__Job_Title_Category_An… ┆ 3249.83         ┆ 1152.34        ┆ 1.8                 │\n",
       "│ num__YoE_Age_interaction        ┆ 1955.2          ┆ 3118.46        ┆ 1.1                 │\n",
       "│ cat_ohe__Experience_bin_mid     ┆ 1507.11         ┆ 542.64         ┆ 0.9                 │\n",
       "│ cat_ohe__Job_Title_Category_Ma… ┆ 1264.23         ┆ 738.08         ┆ 0.7                 │\n",
       "│ cat_ohe__Years of Experience_1… ┆ 1105.97         ┆ 1042.61        ┆ 0.6                 │\n",
       "│ cat_ohe__Years of Experience_9… ┆ 968.45          ┆ 810.81         ┆ 0.5                 │\n",
       "│ cat_ohe__Years of Experience_5… ┆ 749.86          ┆ 713.85         ┆ 0.4                 │\n",
       "│ cat_ohe__Years of Experience_1… ┆ 623.32          ┆ 879.76         ┆ 0.4                 │\n",
       "│ cat_ohe__Years of Experience_1… ┆ 507.96          ┆ 764.46         ┆ 0.3                 │\n",
       "│ cat_ohe__Age_bin_old            ┆ 473.11          ┆ 716.34         ┆ 0.3                 │\n",
       "│ cat_ohe__Education Level_Bache… ┆ 256.89          ┆ 548.41         ┆ 0.1                 │\n",
       "│ cat_ohe__Years of Experience_1… ┆ 242.57          ┆ 542.39         ┆ 0.1                 │\n",
       "│ num__Education_Age_std          ┆ 182.76          ┆ 293.43         ┆ 0.1                 │\n",
       "│ cat_ohe__Years of Experience_1… ┆ 153.04          ┆ 342.2          ┆ 0.1                 │\n",
       "│ cat_ohe__Years of Experience_8… ┆ 148.1           ┆ 322.19         ┆ 0.1                 │\n",
       "│ cat_ohe__Experience_bin_senior  ┆ 54.83           ┆ 80.86          ┆ 0.0                 │\n",
       "│ cat_ohe__Years of Experience_2… ┆ 50.27           ┆ 112.41         ┆ 0.0                 │\n",
       "│ cat_ohe__Years of Experience_2… ┆ 13.24           ┆ 29.6           ┆ 0.0                 │\n",
       "└─────────────────────────────────┴─────────────────┴────────────────┴─────────────────────┘"
      ]
     },
     "execution_count": 28,
     "metadata": {},
     "output_type": "execute_result"
    }
   ],
   "source": [
    "# lasso regression model\n",
    "model_lasso = Lasso(alpha=optimal_alpha, random_state=SEED)\n",
    "results_lasso, importances_lasso, oof_preds_lasso = cross_validation(model_lasso, X, y)\n",
    "importances_lasso.filter(pl.col('mean_importance') > 0)"
   ]
  },
  {
   "cell_type": "code",
   "execution_count": 26,
   "id": "908d0c7f",
   "metadata": {},
   "outputs": [
    {
     "data": {
      "application/vnd.plotly.v1+json": {
       "config": {
        "plotlyServerURL": "https://plot.ly"
       },
       "data": [
        {
         "customdata": {
          "bdata": "AAABAAIAAwAEAAUABgAHAAgACQAKAAsADAANAA4ADwAQABEAEgATABQAFQAWABcAGAAZABoAGwAcAB0AHgAfACAAIQAiACMAJAAlACYAJwAoACkAKgArACwALQAuAC8AMAAxADIAMwA0ADUANgA3ADgAOQA6ADsAPAA9AD4APwBAAEEAQgBDAEQARQBGAEcASABJAEoASwBMAE0ATgBPAFAAUQBSAFMAVABVAFYAVwBYAFkAWgBbAFwAXQBeAF8AYABhAGIAYwBkAGUAZgBnAGgAaQBqAGsAbABtAG4AbwBwAHEAcgBzAHQAdQB2AHcAeAB5AHoAewB8AH0AfgB/AIAAgQCCAIMAhACFAIYAhwCIAIkAigCLAIwAjQCOAI8AkACRAJIAkwCUAJUAlgCXAJgAmQCaAJsAnACdAJ4AnwCgAKEAogCjAKQApQCmAKcAqACpAKoAqwCtAK4ArwCwALEAsgCzALQAtQC2ALcAuAC5ALoAuwC8AL0AvgC/AMAAwQDCAMMAxADFAMYAxwDIAMkAygDLAMwAzQDOAM8A0ADRANIA0wDUANUA1gDXANgA2QDaANsA3ADdAN4A3wDgAOEA4gDjAOQA5QDmAOcA6ADpAOoA6wDsAO0A7gDvAPAA8QDyAPMA9AD1APYA9wD4APkA+gD7APwA/QD+AP8AAAEBAQIBBQEGAQcBCAEJAQoBCwEMAQ0BDgEPARABEQESARMBFAEVARYBFwEYARkBGgEbARwBHQEeAR8BIAEhASIBIwEkASUBJgEnASgBKQEqASsBLAEtAS4BLwEwATEBMgEzATQBNQE2ATcBOAE5AToBOwE8AT0BPgE/AUABQQFCAUMBRAFFAUYBRwFIAUkBSgFLAUwBTQFOAU8BUAFRAVIBUwFUAVUBVgFXAVgBWQFaAVsBXAFdAV4BXwFgAWEBYgFjAWQBZQFmAWcBaAFpAWoBawFsAW0BbgFvAXABcQFyAXMBdAF1AXYB",
          "dtype": "i2",
          "shape": "372, 1"
         },
         "hovertemplate": "Predicted Values=%{x}<br>Real Values=%{y}<br>id=%{customdata[0]}<extra></extra>",
         "legendgroup": "",
         "marker": {
          "color": "#636efa",
          "symbol": "circle"
         },
         "mode": "markers",
         "name": "",
         "orientation": "v",
         "showlegend": false,
         "type": "scatter",
         "x": {
          "bdata": "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",
          "dtype": "f8"
         },
         "xaxis": "x",
         "y": {
          "bdata": "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",
          "dtype": "f8"
         },
         "yaxis": "y"
        }
       ],
       "layout": {
        "height": 800,
        "legend": {
         "title": {
          "text": ""
         },
         "tracegroupgap": 0
        },
        "shapes": [
         {
          "line": {
           "color": "red",
           "dash": "dash"
          },
          "type": "line",
          "x0": 22149.260143425476,
          "x1": 233083.67733507685,
          "y0": 22149.260143425476,
          "y1": 250000
         }
        ],
        "showlegend": false,
        "template": {
         "data": {
          "bar": [
           {
            "error_x": {
             "color": "#2a3f5f"
            },
            "error_y": {
             "color": "#2a3f5f"
            },
            "marker": {
             "line": {
              "color": "#E5ECF6",
              "width": 0.5
             },
             "pattern": {
              "fillmode": "overlay",
              "size": 10,
              "solidity": 0.2
             }
            },
            "type": "bar"
           }
          ],
          "barpolar": [
           {
            "marker": {
             "line": {
              "color": "#E5ECF6",
              "width": 0.5
             },
             "pattern": {
              "fillmode": "overlay",
              "size": 10,
              "solidity": 0.2
             }
            },
            "type": "barpolar"
           }
          ],
          "carpet": [
           {
            "aaxis": {
             "endlinecolor": "#2a3f5f",
             "gridcolor": "white",
             "linecolor": "white",
             "minorgridcolor": "white",
             "startlinecolor": "#2a3f5f"
            },
            "baxis": {
             "endlinecolor": "#2a3f5f",
             "gridcolor": "white",
             "linecolor": "white",
             "minorgridcolor": "white",
             "startlinecolor": "#2a3f5f"
            },
            "type": "carpet"
           }
          ],
          "choropleth": [
           {
            "colorbar": {
             "outlinewidth": 0,
             "ticks": ""
            },
            "type": "choropleth"
           }
          ],
          "contour": [
           {
            "colorbar": {
             "outlinewidth": 0,
             "ticks": ""
            },
            "colorscale": [
             [
              0,
              "#0d0887"
             ],
             [
              0.1111111111111111,
              "#46039f"
             ],
             [
              0.2222222222222222,
              "#7201a8"
             ],
             [
              0.3333333333333333,
              "#9c179e"
             ],
             [
              0.4444444444444444,
              "#bd3786"
             ],
             [
              0.5555555555555556,
              "#d8576b"
             ],
             [
              0.6666666666666666,
              "#ed7953"
             ],
             [
              0.7777777777777778,
              "#fb9f3a"
             ],
             [
              0.8888888888888888,
              "#fdca26"
             ],
             [
              1,
              "#f0f921"
             ]
            ],
            "type": "contour"
           }
          ],
          "contourcarpet": [
           {
            "colorbar": {
             "outlinewidth": 0,
             "ticks": ""
            },
            "type": "contourcarpet"
           }
          ],
          "heatmap": [
           {
            "colorbar": {
             "outlinewidth": 0,
             "ticks": ""
            },
            "colorscale": [
             [
              0,
              "#0d0887"
             ],
             [
              0.1111111111111111,
              "#46039f"
             ],
             [
              0.2222222222222222,
              "#7201a8"
             ],
             [
              0.3333333333333333,
              "#9c179e"
             ],
             [
              0.4444444444444444,
              "#bd3786"
             ],
             [
              0.5555555555555556,
              "#d8576b"
             ],
             [
              0.6666666666666666,
              "#ed7953"
             ],
             [
              0.7777777777777778,
              "#fb9f3a"
             ],
             [
              0.8888888888888888,
              "#fdca26"
             ],
             [
              1,
              "#f0f921"
             ]
            ],
            "type": "heatmap"
           }
          ],
          "histogram": [
           {
            "marker": {
             "pattern": {
              "fillmode": "overlay",
              "size": 10,
              "solidity": 0.2
             }
            },
            "type": "histogram"
           }
          ],
          "histogram2d": [
           {
            "colorbar": {
             "outlinewidth": 0,
             "ticks": ""
            },
            "colorscale": [
             [
              0,
              "#0d0887"
             ],
             [
              0.1111111111111111,
              "#46039f"
             ],
             [
              0.2222222222222222,
              "#7201a8"
             ],
             [
              0.3333333333333333,
              "#9c179e"
             ],
             [
              0.4444444444444444,
              "#bd3786"
             ],
             [
              0.5555555555555556,
              "#d8576b"
             ],
             [
              0.6666666666666666,
              "#ed7953"
             ],
             [
              0.7777777777777778,
              "#fb9f3a"
             ],
             [
              0.8888888888888888,
              "#fdca26"
             ],
             [
              1,
              "#f0f921"
             ]
            ],
            "type": "histogram2d"
           }
          ],
          "histogram2dcontour": [
           {
            "colorbar": {
             "outlinewidth": 0,
             "ticks": ""
            },
            "colorscale": [
             [
              0,
              "#0d0887"
             ],
             [
              0.1111111111111111,
              "#46039f"
             ],
             [
              0.2222222222222222,
              "#7201a8"
             ],
             [
              0.3333333333333333,
              "#9c179e"
             ],
             [
              0.4444444444444444,
              "#bd3786"
             ],
             [
              0.5555555555555556,
              "#d8576b"
             ],
             [
              0.6666666666666666,
              "#ed7953"
             ],
             [
              0.7777777777777778,
              "#fb9f3a"
             ],
             [
              0.8888888888888888,
              "#fdca26"
             ],
             [
              1,
              "#f0f921"
             ]
            ],
            "type": "histogram2dcontour"
           }
          ],
          "mesh3d": [
           {
            "colorbar": {
             "outlinewidth": 0,
             "ticks": ""
            },
            "type": "mesh3d"
           }
          ],
          "parcoords": [
           {
            "line": {
             "colorbar": {
              "outlinewidth": 0,
              "ticks": ""
             }
            },
            "type": "parcoords"
           }
          ],
          "pie": [
           {
            "automargin": true,
            "type": "pie"
           }
          ],
          "scatter": [
           {
            "fillpattern": {
             "fillmode": "overlay",
             "size": 10,
             "solidity": 0.2
            },
            "type": "scatter"
           }
          ],
          "scatter3d": [
           {
            "line": {
             "colorbar": {
              "outlinewidth": 0,
              "ticks": ""
             }
            },
            "marker": {
             "colorbar": {
              "outlinewidth": 0,
              "ticks": ""
             }
            },
            "type": "scatter3d"
           }
          ],
          "scattercarpet": [
           {
            "marker": {
             "colorbar": {
              "outlinewidth": 0,
              "ticks": ""
             }
            },
            "type": "scattercarpet"
           }
          ],
          "scattergeo": [
           {
            "marker": {
             "colorbar": {
              "outlinewidth": 0,
              "ticks": ""
             }
            },
            "type": "scattergeo"
           }
          ],
          "scattergl": [
           {
            "marker": {
             "colorbar": {
              "outlinewidth": 0,
              "ticks": ""
             }
            },
            "type": "scattergl"
           }
          ],
          "scattermap": [
           {
            "marker": {
             "colorbar": {
              "outlinewidth": 0,
              "ticks": ""
             }
            },
            "type": "scattermap"
           }
          ],
          "scattermapbox": [
           {
            "marker": {
             "colorbar": {
              "outlinewidth": 0,
              "ticks": ""
             }
            },
            "type": "scattermapbox"
           }
          ],
          "scatterpolar": [
           {
            "marker": {
             "colorbar": {
              "outlinewidth": 0,
              "ticks": ""
             }
            },
            "type": "scatterpolar"
           }
          ],
          "scatterpolargl": [
           {
            "marker": {
             "colorbar": {
              "outlinewidth": 0,
              "ticks": ""
             }
            },
            "type": "scatterpolargl"
           }
          ],
          "scatterternary": [
           {
            "marker": {
             "colorbar": {
              "outlinewidth": 0,
              "ticks": ""
             }
            },
            "type": "scatterternary"
           }
          ],
          "surface": [
           {
            "colorbar": {
             "outlinewidth": 0,
             "ticks": ""
            },
            "colorscale": [
             [
              0,
              "#0d0887"
             ],
             [
              0.1111111111111111,
              "#46039f"
             ],
             [
              0.2222222222222222,
              "#7201a8"
             ],
             [
              0.3333333333333333,
              "#9c179e"
             ],
             [
              0.4444444444444444,
              "#bd3786"
             ],
             [
              0.5555555555555556,
              "#d8576b"
             ],
             [
              0.6666666666666666,
              "#ed7953"
             ],
             [
              0.7777777777777778,
              "#fb9f3a"
             ],
             [
              0.8888888888888888,
              "#fdca26"
             ],
             [
              1,
              "#f0f921"
             ]
            ],
            "type": "surface"
           }
          ],
          "table": [
           {
            "cells": {
             "fill": {
              "color": "#EBF0F8"
             },
             "line": {
              "color": "white"
             }
            },
            "header": {
             "fill": {
              "color": "#C8D4E3"
             },
             "line": {
              "color": "white"
             }
            },
            "type": "table"
           }
          ]
         },
         "layout": {
          "annotationdefaults": {
           "arrowcolor": "#2a3f5f",
           "arrowhead": 0,
           "arrowwidth": 1
          },
          "autotypenumbers": "strict",
          "coloraxis": {
           "colorbar": {
            "outlinewidth": 0,
            "ticks": ""
           }
          },
          "colorscale": {
           "diverging": [
            [
             0,
             "#8e0152"
            ],
            [
             0.1,
             "#c51b7d"
            ],
            [
             0.2,
             "#de77ae"
            ],
            [
             0.3,
             "#f1b6da"
            ],
            [
             0.4,
             "#fde0ef"
            ],
            [
             0.5,
             "#f7f7f7"
            ],
            [
             0.6,
             "#e6f5d0"
            ],
            [
             0.7,
             "#b8e186"
            ],
            [
             0.8,
             "#7fbc41"
            ],
            [
             0.9,
             "#4d9221"
            ],
            [
             1,
             "#276419"
            ]
           ],
           "sequential": [
            [
             0,
             "#0d0887"
            ],
            [
             0.1111111111111111,
             "#46039f"
            ],
            [
             0.2222222222222222,
             "#7201a8"
            ],
            [
             0.3333333333333333,
             "#9c179e"
            ],
            [
             0.4444444444444444,
             "#bd3786"
            ],
            [
             0.5555555555555556,
             "#d8576b"
            ],
            [
             0.6666666666666666,
             "#ed7953"
            ],
            [
             0.7777777777777778,
             "#fb9f3a"
            ],
            [
             0.8888888888888888,
             "#fdca26"
            ],
            [
             1,
             "#f0f921"
            ]
           ],
           "sequentialminus": [
            [
             0,
             "#0d0887"
            ],
            [
             0.1111111111111111,
             "#46039f"
            ],
            [
             0.2222222222222222,
             "#7201a8"
            ],
            [
             0.3333333333333333,
             "#9c179e"
            ],
            [
             0.4444444444444444,
             "#bd3786"
            ],
            [
             0.5555555555555556,
             "#d8576b"
            ],
            [
             0.6666666666666666,
             "#ed7953"
            ],
            [
             0.7777777777777778,
             "#fb9f3a"
            ],
            [
             0.8888888888888888,
             "#fdca26"
            ],
            [
             1,
             "#f0f921"
            ]
           ]
          },
          "colorway": [
           "#636efa",
           "#EF553B",
           "#00cc96",
           "#ab63fa",
           "#FFA15A",
           "#19d3f3",
           "#FF6692",
           "#B6E880",
           "#FF97FF",
           "#FECB52"
          ],
          "font": {
           "color": "#2a3f5f"
          },
          "geo": {
           "bgcolor": "white",
           "lakecolor": "white",
           "landcolor": "#E5ECF6",
           "showlakes": true,
           "showland": true,
           "subunitcolor": "white"
          },
          "hoverlabel": {
           "align": "left"
          },
          "hovermode": "closest",
          "mapbox": {
           "style": "light"
          },
          "paper_bgcolor": "white",
          "plot_bgcolor": "#E5ECF6",
          "polar": {
           "angularaxis": {
            "gridcolor": "white",
            "linecolor": "white",
            "ticks": ""
           },
           "bgcolor": "#E5ECF6",
           "radialaxis": {
            "gridcolor": "white",
            "linecolor": "white",
            "ticks": ""
           }
          },
          "scene": {
           "xaxis": {
            "backgroundcolor": "#E5ECF6",
            "gridcolor": "white",
            "gridwidth": 2,
            "linecolor": "white",
            "showbackground": true,
            "ticks": "",
            "zerolinecolor": "white"
           },
           "yaxis": {
            "backgroundcolor": "#E5ECF6",
            "gridcolor": "white",
            "gridwidth": 2,
            "linecolor": "white",
            "showbackground": true,
            "ticks": "",
            "zerolinecolor": "white"
           },
           "zaxis": {
            "backgroundcolor": "#E5ECF6",
            "gridcolor": "white",
            "gridwidth": 2,
            "linecolor": "white",
            "showbackground": true,
            "ticks": "",
            "zerolinecolor": "white"
           }
          },
          "shapedefaults": {
           "line": {
            "color": "#2a3f5f"
           }
          },
          "ternary": {
           "aaxis": {
            "gridcolor": "white",
            "linecolor": "white",
            "ticks": ""
           },
           "baxis": {
            "gridcolor": "white",
            "linecolor": "white",
            "ticks": ""
           },
           "bgcolor": "#E5ECF6",
           "caxis": {
            "gridcolor": "white",
            "linecolor": "white",
            "ticks": ""
           }
          },
          "title": {
           "x": 0.05
          },
          "xaxis": {
           "automargin": true,
           "gridcolor": "white",
           "linecolor": "white",
           "ticks": "",
           "title": {
            "standoff": 15
           },
           "zerolinecolor": "white",
           "zerolinewidth": 2
          },
          "yaxis": {
           "automargin": true,
           "gridcolor": "white",
           "linecolor": "white",
           "ticks": "",
           "title": {
            "standoff": 15
           },
           "zerolinecolor": "white",
           "zerolinewidth": 2
          }
         }
        },
        "title": {
         "text": "Real vs Predicted Values\nMean Error: -79.04, Std Error: 11621.08"
        },
        "width": 800,
        "xaxis": {
         "anchor": "y",
         "domain": [
          0,
          1
         ],
         "title": {
          "text": "Predicted Values"
         }
        },
        "yaxis": {
         "anchor": "x",
         "domain": [
          0,
          1
         ],
         "title": {
          "text": "Real Values"
         }
        }
       }
      }
     },
     "metadata": {},
     "output_type": "display_data"
    }
   ],
   "source": [
    "plot_error_vs_predicted(oof_preds_lasso, y, ids)"
   ]
  },
  {
   "cell_type": "code",
   "execution_count": 27,
   "id": "636c8865",
   "metadata": {},
   "outputs": [
    {
     "data": {
      "text/html": [
       "<div><style>\n",
       ".dataframe > thead > tr,\n",
       ".dataframe > tbody > tr {\n",
       "  text-align: right;\n",
       "  white-space: pre-wrap;\n",
       "}\n",
       "</style>\n",
       "<small>shape: (5, 5)</small><table border=\"1\" class=\"dataframe\"><thead><tr><th>seed</th><th>rmse</th><th>r2</th><th>std_rmse</th><th>std_r2</th></tr><tr><td>i64</td><td>f64</td><td>f64</td><td>f64</td><td>f64</td></tr></thead><tbody><tr><td>8431</td><td>11180.39</td><td>0.94</td><td>626.76</td><td>0.01</td></tr><tr><td>176</td><td>11443.88</td><td>0.94</td><td>1420.37</td><td>0.01</td></tr><tr><td>3954</td><td>11191.06</td><td>0.94</td><td>1400.63</td><td>0.02</td></tr><tr><td>1946</td><td>11434.4</td><td>0.94</td><td>1410.69</td><td>0.01</td></tr><tr><td>1626</td><td>11234.89</td><td>0.94</td><td>1545.87</td><td>0.02</td></tr></tbody></table></div>"
      ],
      "text/plain": [
       "shape: (5, 5)\n",
       "┌──────┬──────────┬──────┬──────────┬────────┐\n",
       "│ seed ┆ rmse     ┆ r2   ┆ std_rmse ┆ std_r2 │\n",
       "│ ---  ┆ ---      ┆ ---  ┆ ---      ┆ ---    │\n",
       "│ i64  ┆ f64      ┆ f64  ┆ f64      ┆ f64    │\n",
       "╞══════╪══════════╪══════╪══════════╪════════╡\n",
       "│ 8431 ┆ 11180.39 ┆ 0.94 ┆ 626.76   ┆ 0.01   │\n",
       "│ 176  ┆ 11443.88 ┆ 0.94 ┆ 1420.37  ┆ 0.01   │\n",
       "│ 3954 ┆ 11191.06 ┆ 0.94 ┆ 1400.63  ┆ 0.02   │\n",
       "│ 1946 ┆ 11434.4  ┆ 0.94 ┆ 1410.69  ┆ 0.01   │\n",
       "│ 1626 ┆ 11234.89 ┆ 0.94 ┆ 1545.87  ┆ 0.02   │\n",
       "└──────┴──────────┴──────┴──────────┴────────┘"
      ]
     },
     "execution_count": 27,
     "metadata": {},
     "output_type": "execute_result"
    }
   ],
   "source": [
    "lasso_seed_results = evaluate_model_seeds(model_lasso, X, y)\n",
    "lasso_seed_results"
   ]
  },
  {
   "cell_type": "markdown",
   "id": "e8bcd618",
   "metadata": {},
   "source": [
    "Stuff to do\n",
    "\n",
    "1. Evaluate correlated features\n",
    "1. Feature selection\n",
    "1. Hyperparameter optimization\n",
    "1. Modelblending\n",
    "1. Model professionaldescription"
   ]
  }
 ],
 "metadata": {
  "colab": {
   "provenance": []
  },
  "kernelspec": {
   "display_name": ".venv",
   "language": "python",
   "name": "python3"
  },
  "language_info": {
   "codemirror_mode": {
    "name": "ipython",
    "version": 3
   },
   "file_extension": ".py",
   "mimetype": "text/x-python",
   "name": "python",
   "nbconvert_exporter": "python",
   "pygments_lexer": "ipython3",
   "version": "3.13.3"
  }
 },
 "nbformat": 4,
 "nbformat_minor": 5
}
