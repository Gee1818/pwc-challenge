{
 "cells": [
  {
   "cell_type": "code",
   "execution_count": 642,
   "id": "e4b40349",
   "metadata": {
    "executionInfo": {
     "elapsed": 5,
     "status": "ok",
     "timestamp": 1749481285841,
     "user": {
      "displayName": "Gerard Seward",
      "userId": "08585387988591404566"
     },
     "user_tz": 180
    },
    "id": "e4b40349"
   },
   "outputs": [
    {
     "data": {
      "text/plain": [
       "polars.config.Config"
      ]
     },
     "execution_count": 642,
     "metadata": {},
     "output_type": "execute_result"
    }
   ],
   "source": [
    "import polars as pl\n",
    "import numpy as np\n",
    "import plotly.express as px\n",
    "\n",
    "from sklearn.compose import ColumnTransformer\n",
    "from sklearn.pipeline import Pipeline\n",
    "from sklearn.preprocessing import OneHotEncoder, StandardScaler, OrdinalEncoder\n",
    "from sklearn.impute import SimpleImputer\n",
    "from sklearn.model_selection import train_test_split, KFold\n",
    "from sklearn.metrics import root_mean_squared_error, r2_score\n",
    "from sklearn.dummy import DummyRegressor\n",
    "from sklearn.linear_model import LinearRegression, Lasso\n",
    "from sklearn.ensemble import RandomForestRegressor\n",
    "from lightgbm import LGBMRegressor\n",
    "\n",
    "import warnings\n",
    "warnings.filterwarnings('ignore')\n",
    "pl.Config.set_tbl_rows(1000)\n"
   ]
  },
  {
   "cell_type": "code",
   "execution_count": 643,
   "id": "2df16a1d",
   "metadata": {
    "executionInfo": {
     "elapsed": 41,
     "status": "ok",
     "timestamp": 1749481285889,
     "user": {
      "displayName": "Gerard Seward",
      "userId": "08585387988591404566"
     },
     "user_tz": 180
    },
    "id": "2df16a1d"
   },
   "outputs": [],
   "source": [
    "SEED = 100622\n",
    "TARGET = 'Salary'\n",
    "ID = 'id'\n",
    "N_FOLDS = 5"
   ]
  },
  {
   "cell_type": "markdown",
   "id": "effdc26c",
   "metadata": {
    "id": "effdc26c"
   },
   "source": [
    "## Data read"
   ]
  },
  {
   "cell_type": "code",
   "execution_count": 644,
   "id": "5eda3c19",
   "metadata": {},
   "outputs": [],
   "source": [
    "def load_data(data_path=\"../data/\"):\n",
    "    \"\"\"Load all required datasets.\"\"\"\n",
    "    df_salary = pl.read_csv(f\"{data_path}salary.csv\")\n",
    "    df_people = pl.read_csv(f\"{data_path}people.csv\")\n",
    "    df_descriptions = pl.read_csv(f\"{data_path}descriptions.csv\")\n",
    "    return df_salary, df_people, df_descriptions"
   ]
  },
  {
   "cell_type": "code",
   "execution_count": 645,
   "id": "SFN5SLktTIBm",
   "metadata": {
    "colab": {
     "base_uri": "https://localhost:8080/"
    },
    "executionInfo": {
     "elapsed": 2517,
     "status": "ok",
     "timestamp": 1749481288371,
     "user": {
      "displayName": "Gerard Seward",
      "userId": "08585387988591404566"
     },
     "user_tz": 180
    },
    "id": "SFN5SLktTIBm",
    "outputId": "67f97344-eb93-4eeb-9f6e-3bbcf876ca71"
   },
   "outputs": [],
   "source": [
    "# prompt: fix the error below by adding drive to the environment\n",
    "\n",
    "if 'google.colab' in str(get_ipython()):\n",
    "    # Mount Google Drive if running in Google Colab\n",
    "    from google.colab import drive\n",
    "    drive.mount('/content/drive')\n",
    "    df_salary_raw, df_people_raw, df_descriptions_raw = load_data(data_path=\"/content/drive/MyDrive/Postgrado ciencia de datos/pwc-challenge/data/\")\n",
    "else:\n",
    "    # Load data from local directory\n",
    "    df_salary_raw, df_people_raw, df_descriptions_raw = load_data(data_path=\"../data/\")"
   ]
  },
  {
   "cell_type": "code",
   "execution_count": 646,
   "id": "20b3d478",
   "metadata": {},
   "outputs": [
    {
     "data": {
      "text/html": [
       "<div><style>\n",
       ".dataframe > thead > tr,\n",
       ".dataframe > tbody > tr {\n",
       "  text-align: right;\n",
       "  white-space: pre-wrap;\n",
       "}\n",
       "</style>\n",
       "<small>shape: (375, 7)</small><table border=\"1\" class=\"dataframe\"><thead><tr><th>id</th><th>Salary</th><th>Age</th><th>Gender</th><th>Education Level</th><th>Job Title</th><th>Years of Experience</th></tr><tr><td>i64</td><td>f64</td><td>f64</td><td>str</td><td>str</td><td>str</td><td>f64</td></tr></thead><tbody><tr><td>0</td><td>90000.0</td><td>32.0</td><td>&quot;Male&quot;</td><td>&quot;Bachelor&#x27;s&quot;</td><td>&quot;Software Engineer&quot;</td><td>5.0</td></tr><tr><td>1</td><td>65000.0</td><td>28.0</td><td>&quot;Female&quot;</td><td>&quot;Master&#x27;s&quot;</td><td>&quot;Data Analyst&quot;</td><td>3.0</td></tr><tr><td>2</td><td>150000.0</td><td>45.0</td><td>&quot;Male&quot;</td><td>&quot;PhD&quot;</td><td>&quot;Senior Manager&quot;</td><td>15.0</td></tr><tr><td>3</td><td>60000.0</td><td>36.0</td><td>&quot;Female&quot;</td><td>&quot;Bachelor&#x27;s&quot;</td><td>&quot;Sales Associate&quot;</td><td>7.0</td></tr><tr><td>4</td><td>200000.0</td><td>52.0</td><td>&quot;Male&quot;</td><td>&quot;Master&#x27;s&quot;</td><td>&quot;Director&quot;</td><td>20.0</td></tr><tr><td>5</td><td>55000.0</td><td>29.0</td><td>&quot;Male&quot;</td><td>&quot;Bachelor&#x27;s&quot;</td><td>&quot;Marketing Analyst&quot;</td><td>2.0</td></tr><tr><td>6</td><td>120000.0</td><td>42.0</td><td>&quot;Female&quot;</td><td>&quot;Master&#x27;s&quot;</td><td>&quot;Product Manager&quot;</td><td>12.0</td></tr><tr><td>7</td><td>80000.0</td><td>31.0</td><td>&quot;Male&quot;</td><td>&quot;Bachelor&#x27;s&quot;</td><td>&quot;Sales Manager&quot;</td><td>4.0</td></tr><tr><td>8</td><td>45000.0</td><td>26.0</td><td>&quot;Female&quot;</td><td>&quot;Bachelor&#x27;s&quot;</td><td>&quot;Marketing Coordinator&quot;</td><td>1.0</td></tr><tr><td>9</td><td>110000.0</td><td>38.0</td><td>&quot;Male&quot;</td><td>&quot;PhD&quot;</td><td>&quot;Senior Scientist&quot;</td><td>10.0</td></tr><tr><td>10</td><td>75000.0</td><td>29.0</td><td>&quot;Male&quot;</td><td>&quot;Master&#x27;s&quot;</td><td>&quot;Software Developer&quot;</td><td>3.0</td></tr><tr><td>11</td><td>140000.0</td><td>48.0</td><td>&quot;Female&quot;</td><td>&quot;Bachelor&#x27;s&quot;</td><td>&quot;HR Manager&quot;</td><td>18.0</td></tr><tr><td>12</td><td>65000.0</td><td>35.0</td><td>&quot;Male&quot;</td><td>&quot;Bachelor&#x27;s&quot;</td><td>&quot;Financial Analyst&quot;</td><td>6.0</td></tr><tr><td>13</td><td>130000.0</td><td>40.0</td><td>&quot;Female&quot;</td><td>&quot;Master&#x27;s&quot;</td><td>&quot;Project Manager&quot;</td><td>14.0</td></tr><tr><td>14</td><td>40000.0</td><td>27.0</td><td>&quot;Male&quot;</td><td>&quot;Bachelor&#x27;s&quot;</td><td>&quot;Customer Service Rep&quot;</td><td>2.0</td></tr><tr><td>15</td><td>125000.0</td><td>44.0</td><td>&quot;Male&quot;</td><td>&quot;Bachelor&#x27;s&quot;</td><td>&quot;Operations Manager&quot;</td><td>16.0</td></tr><tr><td>16</td><td>90000.0</td><td>33.0</td><td>&quot;Female&quot;</td><td>&quot;Master&#x27;s&quot;</td><td>&quot;Marketing Manager&quot;</td><td>7.0</td></tr><tr><td>17</td><td>115000.0</td><td>39.0</td><td>&quot;Male&quot;</td><td>&quot;PhD&quot;</td><td>&quot;Senior Engineer&quot;</td><td>12.0</td></tr><tr><td>18</td><td>35000.0</td><td>25.0</td><td>&quot;Female&quot;</td><td>&quot;Bachelor&#x27;s&quot;</td><td>&quot;Data Entry Clerk&quot;</td><td>0.0</td></tr><tr><td>19</td><td>180000.0</td><td>51.0</td><td>&quot;Male&quot;</td><td>&quot;Bachelor&#x27;s&quot;</td><td>&quot;Sales Director&quot;</td><td>22.0</td></tr><tr><td>20</td><td>80000.0</td><td>34.0</td><td>&quot;Female&quot;</td><td>&quot;Master&#x27;s&quot;</td><td>&quot;Business Analyst&quot;</td><td>5.0</td></tr><tr><td>21</td><td>190000.0</td><td>47.0</td><td>&quot;Male&quot;</td><td>&quot;Master&#x27;s&quot;</td><td>&quot;VP of Operations&quot;</td><td>19.0</td></tr><tr><td>22</td><td>50000.0</td><td>30.0</td><td>&quot;Male&quot;</td><td>&quot;Bachelor&#x27;s&quot;</td><td>&quot;IT Support&quot;</td><td>2.0</td></tr><tr><td>23</td><td>60000.0</td><td>36.0</td><td>&quot;Female&quot;</td><td>&quot;Bachelor&#x27;s&quot;</td><td>&quot;Recruiter&quot;</td><td>9.0</td></tr><tr><td>24</td><td>140000.0</td><td>41.0</td><td>&quot;Male&quot;</td><td>&quot;Master&#x27;s&quot;</td><td>&quot;Financial Manager&quot;</td><td>13.0</td></tr><tr><td>25</td><td>45000.0</td><td>28.0</td><td>&quot;Female&quot;</td><td>&quot;Bachelor&#x27;s&quot;</td><td>&quot;Social Media Specialist&quot;</td><td>3.0</td></tr><tr><td>26</td><td>110000.0</td><td>37.0</td><td>&quot;Female&quot;</td><td>&quot;Master&#x27;s&quot;</td><td>&quot;Software Manager&quot;</td><td>11.0</td></tr><tr><td>27</td><td>40000.0</td><td>24.0</td><td>&quot;Male&quot;</td><td>&quot;Bachelor&#x27;s&quot;</td><td>&quot;Junior Developer&quot;</td><td>1.0</td></tr><tr><td>28</td><td>140000.0</td><td>43.0</td><td>&quot;Female&quot;</td><td>&quot;PhD&quot;</td><td>&quot;Senior Consultant&quot;</td><td>15.0</td></tr><tr><td>29</td><td>90000.0</td><td>33.0</td><td>&quot;Male&quot;</td><td>&quot;Master&#x27;s&quot;</td><td>&quot;Product Designer&quot;</td><td>6.0</td></tr><tr><td>30</td><td>250000.0</td><td>50.0</td><td>&quot;Male&quot;</td><td>&quot;Bachelor&#x27;s&quot;</td><td>&quot;CEO&quot;</td><td>25.0</td></tr><tr><td>31</td><td>55000.0</td><td>31.0</td><td>&quot;Female&quot;</td><td>&quot;Bachelor&#x27;s&quot;</td><td>&quot;Accountant&quot;</td><td>4.0</td></tr><tr><td>32</td><td>75000.0</td><td>29.0</td><td>&quot;Male&quot;</td><td>&quot;Master&#x27;s&quot;</td><td>&quot;Data Scientist&quot;</td><td>3.0</td></tr><tr><td>33</td><td>65000.0</td><td>39.0</td><td>&quot;Female&quot;</td><td>&quot;Bachelor&#x27;s&quot;</td><td>&quot;Marketing Specialist&quot;</td><td>10.0</td></tr><tr><td>34</td><td>170000.0</td><td>46.0</td><td>&quot;Male&quot;</td><td>&quot;PhD&quot;</td><td>&quot;Senior Manager&quot;</td><td>20.0</td></tr><tr><td>35</td><td>45000.0</td><td>27.0</td><td>&quot;Male&quot;</td><td>&quot;Bachelor&#x27;s&quot;</td><td>&quot;Technical Writer&quot;</td><td>2.0</td></tr><tr><td>36</td><td>60000.0</td><td>35.0</td><td>&quot;Female&quot;</td><td>&quot;Bachelor&#x27;s&quot;</td><td>&quot;HR Generalist&quot;</td><td>7.0</td></tr><tr><td>37</td><td>115000.0</td><td>42.0</td><td>&quot;Male&quot;</td><td>&quot;Master&#x27;s&quot;</td><td>&quot;Project Engineer&quot;</td><td>14.0</td></tr><tr><td>38</td><td>40000.0</td><td>26.0</td><td>&quot;Female&quot;</td><td>&quot;Bachelor&#x27;s&quot;</td><td>&quot;Customer Success Rep&quot;</td><td>1.0</td></tr><tr><td>39</td><td>160000.0</td><td>49.0</td><td>&quot;Male&quot;</td><td>&quot;Bachelor&#x27;s&quot;</td><td>&quot;Sales Executive&quot;</td><td>21.0</td></tr><tr><td>40</td><td>80000.0</td><td>34.0</td><td>&quot;Female&quot;</td><td>&quot;Master&#x27;s&quot;</td><td>&quot;UX Designer&quot;</td><td>5.0</td></tr><tr><td>41</td><td>190000.0</td><td>48.0</td><td>&quot;Male&quot;</td><td>&quot;Master&#x27;s&quot;</td><td>&quot;Operations Director&quot;</td><td>18.0</td></tr><tr><td>42</td><td>60000.0</td><td>30.0</td><td>&quot;Male&quot;</td><td>&quot;Bachelor&#x27;s&quot;</td><td>&quot;Network Engineer&quot;</td><td>3.0</td></tr><tr><td>43</td><td>45000.0</td><td>36.0</td><td>&quot;Female&quot;</td><td>&quot;Bachelor&#x27;s&quot;</td><td>&quot;Administrative Assistant&quot;</td><td>8.0</td></tr><tr><td>44</td><td>130000.0</td><td>41.0</td><td>&quot;Male&quot;</td><td>&quot;Master&#x27;s&quot;</td><td>&quot;Strategy Consultant&quot;</td><td>13.0</td></tr><tr><td>45</td><td>40000.0</td><td>28.0</td><td>&quot;Female&quot;</td><td>&quot;Bachelor&#x27;s&quot;</td><td>&quot;Copywriter&quot;</td><td>2.0</td></tr><tr><td>46</td><td>75000.0</td><td>32.0</td><td>&quot;Male&quot;</td><td>&quot;Bachelor&#x27;s&quot;</td><td>&quot;Account Manager&quot;</td><td>5.0</td></tr><tr><td>47</td><td>180000.0</td><td>45.0</td><td>&quot;Female&quot;</td><td>&quot;Master&#x27;s&quot;</td><td>&quot;Director of Marketing&quot;</td><td>16.0</td></tr><tr><td>48</td><td>120000.0</td><td>38.0</td><td>&quot;Male&quot;</td><td>&quot;PhD&quot;</td><td>&quot;Senior Scientist&quot;</td><td>11.0</td></tr><tr><td>49</td><td>35000.0</td><td>25.0</td><td>&quot;Male&quot;</td><td>&quot;Bachelor&#x27;s&quot;</td><td>&quot;Help Desk Analyst&quot;</td><td>0.0</td></tr><tr><td>50</td><td>130000.0</td><td>51.0</td><td>&quot;Female&quot;</td><td>&quot;Bachelor&#x27;s&quot;</td><td>&quot;Customer Service Manager&quot;</td><td>22.0</td></tr><tr><td>51</td><td>85000.0</td><td>33.0</td><td>&quot;Male&quot;</td><td>&quot;Master&#x27;s&quot;</td><td>null</td><td>7.0</td></tr><tr><td>52</td><td>60000.0</td><td>40.0</td><td>&quot;Female&quot;</td><td>&quot;Bachelor&#x27;s&quot;</td><td>&quot;Event Coordinator&quot;</td><td>12.0</td></tr><tr><td>53</td><td>200000.0</td><td>47.0</td><td>&quot;Male&quot;</td><td>&quot;Master&#x27;s&quot;</td><td>&quot;VP of Finance&quot;</td><td>19.0</td></tr><tr><td>54</td><td>50000.0</td><td>29.0</td><td>&quot;Female&quot;</td><td>&quot;Bachelor&#x27;s&quot;</td><td>&quot;Graphic Designer&quot;</td><td>3.0</td></tr><tr><td>55</td><td>95000.0</td><td>36.0</td><td>&quot;Male&quot;</td><td>&quot;Bachelor&#x27;s&quot;</td><td>&quot;Sales Manager&quot;</td><td>9.0</td></tr><tr><td>56</td><td>65000.0</td><td>27.0</td><td>&quot;Female&quot;</td><td>&quot;Master&#x27;s&quot;</td><td>&quot;UX Researcher&quot;</td><td>2.0</td></tr><tr><td>57</td><td>140000.0</td><td>43.0</td><td>&quot;Male&quot;</td><td>&quot;PhD&quot;</td><td>&quot;Senior Engineer&quot;</td><td>17.0</td></tr><tr><td>58</td><td>55000.0</td><td>30.0</td><td>&quot;Female&quot;</td><td>&quot;Bachelor&#x27;s&quot;</td><td>&quot;Social Media Manager&quot;</td><td>4.0</td></tr><tr><td>59</td><td>105000.0</td><td>35.0</td><td>&quot;Male&quot;</td><td>&quot;Master&#x27;s&quot;</td><td>&quot;Product Manager&quot;</td><td>7.0</td></tr><tr><td>60</td><td>170000.0</td><td>51.0</td><td>&quot;Female&quot;</td><td>&quot;Master&#x27;s&quot;</td><td>null</td><td>23.0</td></tr><tr><td>61</td><td>50000.0</td><td>29.0</td><td>&quot;Male&quot;</td><td>&quot;Bachelor&#x27;s&quot;</td><td>&quot;Marketing Analyst&quot;</td><td>3.0</td></tr><tr><td>62</td><td>80000.0</td><td>40.0</td><td>&quot;Female&quot;</td><td>&quot;Bachelor&#x27;s&quot;</td><td>&quot;HR Manager&quot;</td><td>12.0</td></tr><tr><td>63</td><td>180000.0</td><td>47.0</td><td>&quot;Male&quot;</td><td>&quot;PhD&quot;</td><td>&quot;Senior Data Scientist&quot;</td><td>21.0</td></tr><tr><td>64</td><td>35000.0</td><td>26.0</td><td>&quot;Male&quot;</td><td>&quot;Bachelor&#x27;s&quot;</td><td>&quot;Junior Accountant&quot;</td><td>1.0</td></tr><tr><td>65</td><td>90000.0</td><td>38.0</td><td>&quot;Female&quot;</td><td>&quot;Master&#x27;s&quot;</td><td>&quot;Digital Marketing Manager&quot;</td><td>10.0</td></tr><tr><td>66</td><td>120000.0</td><td>46.0</td><td>&quot;Male&quot;</td><td>&quot;Bachelor&#x27;s&quot;</td><td>&quot;IT Manager&quot;</td><td>19.0</td></tr><tr><td>67</td><td>45000.0</td><td>31.0</td><td>&quot;Female&quot;</td><td>&quot;Bachelor&#x27;s&quot;</td><td>&quot;Customer Service Representativ…</td><td>5.0</td></tr><tr><td>68</td><td>90000.0</td><td>34.0</td><td>&quot;Male&quot;</td><td>&quot;Master&#x27;s&quot;</td><td>&quot;Business Development Manager&quot;</td><td>8.0</td></tr><tr><td>69</td><td>150000.0</td><td>49.0</td><td>&quot;Female&quot;</td><td>&quot;Master&#x27;s&quot;</td><td>&quot;Senior Financial Analyst&quot;</td><td>18.0</td></tr><tr><td>70</td><td>65000.0</td><td>33.0</td><td>&quot;Male&quot;</td><td>&quot;Bachelor&#x27;s&quot;</td><td>&quot;Web Developer&quot;</td><td>6.0</td></tr><tr><td>71</td><td>70000.0</td><td>39.0</td><td>&quot;Female&quot;</td><td>&quot;Bachelor&#x27;s&quot;</td><td>&quot;Recruiter&quot;</td><td>11.0</td></tr><tr><td>72</td><td>190000.0</td><td>45.0</td><td>&quot;Male&quot;</td><td>&quot;PhD&quot;</td><td>&quot;Research Director&quot;</td><td>16.0</td></tr><tr><td>73</td><td>40000.0</td><td>28.0</td><td>&quot;Male&quot;</td><td>&quot;Bachelor&#x27;s&quot;</td><td>&quot;Technical Support Specialist&quot;</td><td>2.0</td></tr><tr><td>74</td><td>120000.0</td><td>42.0</td><td>&quot;Female&quot;</td><td>&quot;Master&#x27;s&quot;</td><td>&quot;Creative Director&quot;</td><td>14.0</td></tr><tr><td>75</td><td>95000.0</td><td>37.0</td><td>&quot;Male&quot;</td><td>&quot;Bachelor&#x27;s&quot;</td><td>&quot;Project Manager&quot;</td><td>10.0</td></tr><tr><td>76</td><td>160000.0</td><td>50.0</td><td>&quot;Female&quot;</td><td>&quot;Bachelor&#x27;s&quot;</td><td>&quot;Operations Manager&quot;</td><td>22.0</td></tr><tr><td>77</td><td>100000.0</td><td>32.0</td><td>&quot;Male&quot;</td><td>&quot;Master&#x27;s&quot;</td><td>&quot;Senior Software Engineer&quot;</td><td>6.0</td></tr><tr><td>78</td><td>180000.0</td><td>48.0</td><td>&quot;Female&quot;</td><td>&quot;Master&#x27;s&quot;</td><td>&quot;Human Resources Director&quot;</td><td>20.0</td></tr><tr><td>79</td><td>55000.0</td><td>30.0</td><td>&quot;Female&quot;</td><td>&quot;Bachelor&#x27;s&quot;</td><td>&quot;Content Marketing Manager&quot;</td><td>3.0</td></tr><tr><td>80</td><td>70000.0</td><td>36.0</td><td>&quot;Male&quot;</td><td>&quot;Bachelor&#x27;s&quot;</td><td>&quot;Technical Recruiter&quot;</td><td>8.0</td></tr><tr><td>81</td><td>80000.0</td><td>41.0</td><td>&quot;Female&quot;</td><td>&quot;Master&#x27;s&quot;</td><td>&quot;Data Analyst&quot;</td><td>13.0</td></tr><tr><td>82</td><td>30000.0</td><td>25.0</td><td>&quot;Male&quot;</td><td>&quot;Bachelor&#x27;s&quot;</td><td>&quot;Sales Representative&quot;</td><td>0.0</td></tr><tr><td>83</td><td>250000.0</td><td>52.0</td><td>&quot;Male&quot;</td><td>&quot;PhD&quot;</td><td>&quot;Chief Technology Officer&quot;</td><td>24.0</td></tr><tr><td>84</td><td>40000.0</td><td>29.0</td><td>&quot;Female&quot;</td><td>&quot;Bachelor&#x27;s&quot;</td><td>&quot;Junior Designer&quot;</td><td>2.0</td></tr><tr><td>85</td><td>95000.0</td><td>34.0</td><td>&quot;Female&quot;</td><td>&quot;Master&#x27;s&quot;</td><td>&quot;Financial Advisor&quot;</td><td>10.0</td></tr><tr><td>86</td><td>45000.0</td><td>27.0</td><td>&quot;Male&quot;</td><td>&quot;Bachelor&#x27;s&quot;</td><td>&quot;Junior Account Manager&quot;</td><td>2.0</td></tr><tr><td>87</td><td>80000.0</td><td>40.0</td><td>&quot;Female&quot;</td><td>&quot;Bachelor&#x27;s&quot;</td><td>&quot;HR Generalist&quot;</td><td>15.0</td></tr><tr><td>88</td><td>135000.0</td><td>46.0</td><td>&quot;Male&quot;</td><td>&quot;Master&#x27;s&quot;</td><td>&quot;Senior Project Manager&quot;</td><td>21.0</td></tr><tr><td>89</td><td>55000.0</td><td>31.0</td><td>&quot;Female&quot;</td><td>&quot;Bachelor&#x27;s&quot;</td><td>&quot;Marketing Coordinator&quot;</td><td>6.0</td></tr><tr><td>90</td><td>120000.0</td><td>36.0</td><td>&quot;Male&quot;</td><td>&quot;PhD&quot;</td><td>&quot;Principal Scientist&quot;</td><td>11.0</td></tr><tr><td>91</td><td>40000.0</td><td>29.0</td><td>&quot;Female&quot;</td><td>&quot;Bachelor&#x27;s&quot;</td><td>&quot;Sales Associate&quot;</td><td>3.0</td></tr><tr><td>92</td><td>105000.0</td><td>43.0</td><td>&quot;Male&quot;</td><td>&quot;Bachelor&#x27;s&quot;</td><td>&quot;Supply Chain Manager&quot;</td><td>18.0</td></tr><tr><td>93</td><td>170000.0</td><td>52.0</td><td>&quot;Female&quot;</td><td>&quot;Master&#x27;s&quot;</td><td>&quot;Senior Marketing Manager&quot;</td><td>25.0</td></tr><tr><td>94</td><td>75000.0</td><td>33.0</td><td>&quot;Male&quot;</td><td>&quot;Bachelor&#x27;s&quot;</td><td>&quot;Business Analyst&quot;</td><td>7.0</td></tr><tr><td>95</td><td>65000.0</td><td>39.0</td><td>&quot;Female&quot;</td><td>&quot;Bachelor&#x27;s&quot;</td><td>&quot;Training Specialist&quot;</td><td>12.0</td></tr><tr><td>96</td><td>160000.0</td><td>47.0</td><td>&quot;Male&quot;</td><td>&quot;PhD&quot;</td><td>&quot;Research Scientist&quot;</td><td>22.0</td></tr><tr><td>97</td><td>35000.0</td><td>26.0</td><td>&quot;Male&quot;</td><td>&quot;Bachelor&#x27;s&quot;</td><td>&quot;Junior Software Developer&quot;</td><td>1.0</td></tr><tr><td>98</td><td>90000.0</td><td>38.0</td><td>&quot;Female&quot;</td><td>&quot;Master&#x27;s&quot;</td><td>&quot;Public Relations Manager&quot;</td><td>10.0</td></tr><tr><td>99</td><td>110000.0</td><td>45.0</td><td>&quot;Male&quot;</td><td>&quot;Bachelor&#x27;s&quot;</td><td>&quot;Operations Analyst&quot;</td><td>20.0</td></tr><tr><td>100</td><td>45000.0</td><td>31.0</td><td>&quot;Female&quot;</td><td>&quot;Bachelor&#x27;s&quot;</td><td>&quot;Event Coordinator&quot;</td><td>5.0</td></tr><tr><td>101</td><td>95000.0</td><td>35.0</td><td>&quot;Male&quot;</td><td>&quot;Master&#x27;s&quot;</td><td>&quot;Product Marketing Manager&quot;</td><td>8.0</td></tr><tr><td>102</td><td>150000.0</td><td>49.0</td><td>&quot;Female&quot;</td><td>&quot;Master&#x27;s&quot;</td><td>&quot;Senior HR Manager&quot;</td><td>19.0</td></tr><tr><td>103</td><td>50000.0</td><td>33.0</td><td>&quot;Male&quot;</td><td>&quot;Bachelor&#x27;s&quot;</td><td>&quot;Junior Web Developer&quot;</td><td>5.0</td></tr><tr><td>104</td><td>80000.0</td><td>39.0</td><td>&quot;Female&quot;</td><td>&quot;Master&#x27;s&quot;</td><td>&quot;Senior Project Coordinator&quot;</td><td>13.0</td></tr><tr><td>105</td><td>220000.0</td><td>44.0</td><td>&quot;Male&quot;</td><td>&quot;PhD&quot;</td><td>&quot;Chief Data Officer&quot;</td><td>16.0</td></tr><tr><td>106</td><td>50000.0</td><td>30.0</td><td>&quot;Female&quot;</td><td>&quot;Bachelor&#x27;s&quot;</td><td>&quot;Digital Content Producer&quot;</td><td>3.0</td></tr><tr><td>107</td><td>60000.0</td><td>36.0</td><td>&quot;Male&quot;</td><td>&quot;Bachelor&#x27;s&quot;</td><td>&quot;IT Support Specialist&quot;</td><td>7.0</td></tr><tr><td>108</td><td>100000.0</td><td>41.0</td><td>&quot;Female&quot;</td><td>&quot;Master&#x27;s&quot;</td><td>&quot;Senior Marketing Analyst&quot;</td><td>14.0</td></tr><tr><td>109</td><td>40000.0</td><td>28.0</td><td>&quot;Male&quot;</td><td>&quot;Bachelor&#x27;s&quot;</td><td>&quot;Customer Success Manager&quot;</td><td>2.0</td></tr><tr><td>110</td><td>110000.0</td><td>42.0</td><td>&quot;Female&quot;</td><td>&quot;Master&#x27;s&quot;</td><td>&quot;Senior Graphic Designer&quot;</td><td>15.0</td></tr><tr><td>111</td><td>95000.0</td><td>37.0</td><td>&quot;Male&quot;</td><td>&quot;Bachelor&#x27;s&quot;</td><td>&quot;Software Project Manager&quot;</td><td>9.0</td></tr><tr><td>112</td><td>130000.0</td><td>50.0</td><td>&quot;Female&quot;</td><td>&quot;Bachelor&#x27;s&quot;</td><td>&quot;Supply Chain Analyst&quot;</td><td>22.0</td></tr><tr><td>113</td><td>90000.0</td><td>32.0</td><td>&quot;Male&quot;</td><td>&quot;Master&#x27;s&quot;</td><td>&quot;Senior Business Analyst&quot;</td><td>6.0</td></tr><tr><td>114</td><td>35000.0</td><td>23.0</td><td>&quot;Female&quot;</td><td>&quot;Bachelor&#x27;s&quot;</td><td>&quot;Junior Marketing Analyst&quot;</td><td>0.5</td></tr><tr><td>115</td><td>95000.0</td><td>31.0</td><td>&quot;Male&quot;</td><td>&quot;Master&#x27;s&quot;</td><td>&quot;Senior Financial Analyst&quot;</td><td>6.0</td></tr><tr><td>116</td><td>65000.0</td><td>40.0</td><td>&quot;Female&quot;</td><td>&quot;Bachelor&#x27;s&quot;</td><td>&quot;Office Manager&quot;</td><td>15.0</td></tr><tr><td>117</td><td>170000.0</td><td>48.0</td><td>&quot;Male&quot;</td><td>&quot;PhD&quot;</td><td>&quot;Principal Engineer&quot;</td><td>20.0</td></tr><tr><td>118</td><td>45000.0</td><td>29.0</td><td>&quot;Female&quot;</td><td>&quot;Bachelor&#x27;s&quot;</td><td>&quot;Junior HR Generalist&quot;</td><td>3.0</td></tr><tr><td>119</td><td>120000.0</td><td>35.0</td><td>&quot;Male&quot;</td><td>&quot;Master&#x27;s&quot;</td><td>&quot;Senior Product Manager&quot;</td><td>10.0</td></tr><tr><td>120</td><td>100000.0</td><td>42.0</td><td>&quot;Female&quot;</td><td>&quot;Bachelor&#x27;s&quot;</td><td>&quot;Sales Manager&quot;</td><td>17.0</td></tr><tr><td>121</td><td>180000.0</td><td>53.0</td><td>&quot;Male&quot;</td><td>&quot;Master&#x27;s&quot;</td><td>&quot;Director of Marketing&quot;</td><td>25.0</td></tr><tr><td>122</td><td>50000.0</td><td>33.0</td><td>&quot;Female&quot;</td><td>&quot;Bachelor&#x27;s&quot;</td><td>&quot;Junior Operations Analyst&quot;</td><td>5.0</td></tr><tr><td>123</td><td>80000.0</td><td>38.0</td><td>&quot;Male&quot;</td><td>&quot;Bachelor&#x27;s&quot;</td><td>&quot;Customer Service Manager&quot;</td><td>11.0</td></tr><tr><td>124</td><td>140000.0</td><td>44.0</td><td>&quot;Female&quot;</td><td>&quot;PhD&quot;</td><td>&quot;Senior Scientist&quot;</td><td>16.0</td></tr><tr><td>125</td><td>40000.0</td><td>26.0</td><td>&quot;Male&quot;</td><td>&quot;Bachelor&#x27;s&quot;</td><td>&quot;Junior Accountant&quot;</td><td>2.0</td></tr><tr><td>126</td><td>95000.0</td><td>37.0</td><td>&quot;Female&quot;</td><td>&quot;Master&#x27;s&quot;</td><td>&quot;Senior HR Generalist&quot;</td><td>9.0</td></tr><tr><td>127</td><td>110000.0</td><td>45.0</td><td>&quot;Male&quot;</td><td>&quot;Bachelor&#x27;s&quot;</td><td>&quot;Sales Operations Manager&quot;</td><td>18.0</td></tr><tr><td>128</td><td>50000.0</td><td>32.0</td><td>&quot;Female&quot;</td><td>&quot;Bachelor&#x27;s&quot;</td><td>&quot;Marketing Coordinator&quot;</td><td>4.0</td></tr><tr><td>129</td><td>105000.0</td><td>34.0</td><td>&quot;Male&quot;</td><td>&quot;Master&#x27;s&quot;</td><td>&quot;Senior Software Developer&quot;</td><td>8.0</td></tr><tr><td>130</td><td>160000.0</td><td>50.0</td><td>&quot;Female&quot;</td><td>&quot;Master&#x27;s&quot;</td><td>&quot;Director of Operations&quot;</td><td>21.0</td></tr><tr><td>131</td><td>45000.0</td><td>29.0</td><td>&quot;Male&quot;</td><td>&quot;Bachelor&#x27;s&quot;</td><td>&quot;Junior Web Designer&quot;</td><td>3.0</td></tr><tr><td>132</td><td>100000.0</td><td>40.0</td><td>&quot;Female&quot;</td><td>&quot;Master&#x27;s&quot;</td><td>&quot;Senior Training Specialist&quot;</td><td>12.0</td></tr><tr><td>133</td><td>160000.0</td><td>47.0</td><td>&quot;Male&quot;</td><td>&quot;PhD&quot;</td><td>&quot;Senior Research Scientist&quot;</td><td>22.0</td></tr><tr><td>134</td><td>35000.0</td><td>27.0</td><td>&quot;Male&quot;</td><td>&quot;Bachelor&#x27;s&quot;</td><td>&quot;Junior Sales Representative&quot;</td><td>1.0</td></tr><tr><td>135</td><td>55000.0</td><td>39.0</td><td>&quot;Female&quot;</td><td>&quot;Bachelor&#x27;s&quot;</td><td>&quot;Administrative Assistant&quot;</td><td>10.0</td></tr><tr><td>136</td><td>140000.0</td><td>46.0</td><td>&quot;Male&quot;</td><td>&quot;Master&#x27;s&quot;</td><td>&quot;Senior Project Manager&quot;</td><td>19.0</td></tr><tr><td>137</td><td>50000.0</td><td>30.0</td><td>&quot;Female&quot;</td><td>&quot;Bachelor&#x27;s&quot;</td><td>&quot;Junior Marketing Manager&quot;</td><td>4.0</td></tr><tr><td>138</td><td>60000.0</td><td>36.0</td><td>&quot;Male&quot;</td><td>&quot;Bachelor&#x27;s&quot;</td><td>&quot;Junior Data Analyst&quot;</td><td>7.0</td></tr><tr><td>139</td><td>120000.0</td><td>43.0</td><td>&quot;Female&quot;</td><td>null</td><td>&quot;Senior Product Marketing Manag…</td><td>14.0</td></tr><tr><td>140</td><td>40000.0</td><td>28.0</td><td>&quot;Male&quot;</td><td>&quot;Bachelor&#x27;s&quot;</td><td>&quot;Junior Business Analyst&quot;</td><td>2.0</td></tr><tr><td>141</td><td>110000.0</td><td>41.0</td><td>&quot;Female&quot;</td><td>&quot;Master&#x27;s&quot;</td><td>&quot;Senior Marketing Manager&quot;</td><td>13.0</td></tr><tr><td>142</td><td>50000.0</td><td>33.0</td><td>&quot;Male&quot;</td><td>&quot;Bachelor&#x27;s&quot;</td><td>&quot;Junior Software Developer&quot;</td><td>5.0</td></tr><tr><td>143</td><td>135000.0</td><td>47.0</td><td>&quot;Male&quot;</td><td>&quot;Bachelor&#x27;s&quot;</td><td>&quot;Senior Sales Manager&quot;</td><td>20.0</td></tr><tr><td>144</td><td>40000.0</td><td>25.0</td><td>&quot;Female&quot;</td><td>&quot;Master&#x27;s&quot;</td><td>&quot;Junior Marketing Specialist&quot;</td><td>1.5</td></tr><tr><td>145</td><td>90000.0</td><td>34.0</td><td>&quot;Male&quot;</td><td>&quot;Bachelor&#x27;s&quot;</td><td>&quot;Senior Business Analyst&quot;</td><td>8.0</td></tr><tr><td>146</td><td>150000.0</td><td>42.0</td><td>&quot;Female&quot;</td><td>&quot;PhD&quot;</td><td>&quot;Senior Data Scientist&quot;</td><td>16.0</td></tr><tr><td>147</td><td>60000.0</td><td>31.0</td><td>&quot;Male&quot;</td><td>&quot;Bachelor&#x27;s&quot;</td><td>&quot;Junior Project Manager&quot;</td><td>4.0</td></tr><tr><td>148</td><td>80000.0</td><td>38.0</td><td>&quot;Female&quot;</td><td>&quot;Bachelor&#x27;s&quot;</td><td>&quot;Senior Accountant&quot;</td><td>10.0</td></tr><tr><td>149</td><td>175000.0</td><td>45.0</td><td>&quot;Male&quot;</td><td>&quot;Master&#x27;s&quot;</td><td>&quot;Director of Sales&quot;</td><td>19.0</td></tr><tr><td>150</td><td>45000.0</td><td>29.0</td><td>&quot;Female&quot;</td><td>&quot;Bachelor&#x27;s&quot;</td><td>&quot;Junior Recruiter&quot;</td><td>3.0</td></tr><tr><td>151</td><td>120000.0</td><td>36.0</td><td>&quot;Male&quot;</td><td>&quot;Master&#x27;s&quot;</td><td>&quot;Senior Business Development Ma…</td><td>11.0</td></tr><tr><td>152</td><td>140000.0</td><td>43.0</td><td>&quot;Female&quot;</td><td>&quot;PhD&quot;</td><td>&quot;Senior Product Designer&quot;</td><td>18.0</td></tr><tr><td>153</td><td>35000.0</td><td>26.0</td><td>&quot;Male&quot;</td><td>&quot;Bachelor&#x27;s&quot;</td><td>&quot;Junior Customer Support Specia…</td><td>2.0</td></tr><tr><td>154</td><td>95000.0</td><td>37.0</td><td>&quot;Female&quot;</td><td>&quot;Master&#x27;s&quot;</td><td>&quot;Senior Marketing Analyst&quot;</td><td>9.0</td></tr><tr><td>155</td><td>110000.0</td><td>44.0</td><td>&quot;Male&quot;</td><td>&quot;Bachelor&#x27;s&quot;</td><td>&quot;Senior IT Support Specialist&quot;</td><td>14.0</td></tr><tr><td>156</td><td>50000.0</td><td>32.0</td><td>&quot;Female&quot;</td><td>&quot;Bachelor&#x27;s&quot;</td><td>&quot;Junior Financial Analyst&quot;</td><td>5.0</td></tr><tr><td>157</td><td>115000.0</td><td>33.0</td><td>&quot;Male&quot;</td><td>&quot;Master&#x27;s&quot;</td><td>&quot;Senior Operations Manager&quot;</td><td>7.0</td></tr><tr><td>158</td><td>185000.0</td><td>51.0</td><td>&quot;Female&quot;</td><td>&quot;PhD&quot;</td><td>&quot;Director of Human Resources&quot;</td><td>23.0</td></tr><tr><td>159</td><td>40000.0</td><td>28.0</td><td>&quot;Male&quot;</td><td>&quot;Bachelor&#x27;s&quot;</td><td>&quot;Junior Software Engineer&quot;</td><td>2.0</td></tr><tr><td>160</td><td>90000.0</td><td>39.0</td><td>&quot;Female&quot;</td><td>&quot;Bachelor&#x27;s&quot;</td><td>&quot;Senior Sales Representative&quot;</td><td>12.0</td></tr><tr><td>161</td><td>175000.0</td><td>48.0</td><td>&quot;Male&quot;</td><td>&quot;Master&#x27;s&quot;</td><td>&quot;Director of Product Management&quot;</td><td>21.0</td></tr><tr><td>162</td><td>45000.0</td><td>30.0</td><td>&quot;Female&quot;</td><td>&quot;Bachelor&#x27;s&quot;</td><td>&quot;Junior Copywriter&quot;</td><td>3.0</td></tr><tr><td>163</td><td>80000.0</td><td>35.0</td><td>&quot;Male&quot;</td><td>&quot;Bachelor&#x27;s&quot;</td><td>&quot;Senior Marketing Coordinator&quot;</td><td>7.0</td></tr><tr><td>164</td><td>120000.0</td><td>41.0</td><td>&quot;Female&quot;</td><td>&quot;Master&#x27;s&quot;</td><td>&quot;Senior Human Resources Manager&quot;</td><td>13.0</td></tr><tr><td>165</td><td>35000.0</td><td>27.0</td><td>&quot;Male&quot;</td><td>&quot;Bachelor&#x27;s&quot;</td><td>&quot;Junior Business Development As…</td><td>1.5</td></tr><tr><td>166</td><td>110000.0</td><td>40.0</td><td>&quot;Female&quot;</td><td>&quot;Bachelor&#x27;s&quot;</td><td>&quot;Senior Account Manager&quot;</td><td>14.0</td></tr><tr><td>167</td><td>150000.0</td><td>46.0</td><td>&quot;Male&quot;</td><td>&quot;PhD&quot;</td><td>&quot;Senior Researcher&quot;</td><td>18.0</td></tr><tr><td>168</td><td>50000.0</td><td>31.0</td><td>&quot;Female&quot;</td><td>&quot;Bachelor&#x27;s&quot;</td><td>&quot;Junior HR Coordinator&quot;</td><td>4.0</td></tr><tr><td>169</td><td>105000.0</td><td>34.0</td><td>&quot;Male&quot;</td><td>&quot;Master&#x27;s&quot;</td><td>&quot;Senior Software Engineer&quot;</td><td>9.0</td></tr><tr><td>170</td><td>180000.0</td><td>50.0</td><td>&quot;Female&quot;</td><td>&quot;Master&#x27;s&quot;</td><td>&quot;Director of Finance&quot;</td><td>20.0</td></tr><tr><td>171</td><td>40000.0</td><td>29.0</td><td>&quot;Male&quot;</td><td>&quot;Bachelor&#x27;s&quot;</td><td>&quot;Junior Marketing Coordinator&quot;</td><td>2.0</td></tr><tr><td>172</td><td>null</td><td>null</td><td>null</td><td>null</td><td>null</td><td>null</td></tr><tr><td>173</td><td>140000.0</td><td>43.0</td><td>&quot;Male&quot;</td><td>&quot;Bachelor&#x27;s&quot;</td><td>&quot;Senior Project Manager&quot;</td><td>16.0</td></tr><tr><td>174</td><td>45000.0</td><td>26.0</td><td>&quot;Female&quot;</td><td>&quot;Master&#x27;s&quot;</td><td>&quot;Junior Data Scientist&quot;</td><td>1.5</td></tr><tr><td>175</td><td>85000.0</td><td>35.0</td><td>&quot;Male&quot;</td><td>&quot;Bachelor&#x27;s&quot;</td><td>&quot;Senior Operations Analyst&quot;</td><td>7.0</td></tr><tr><td>176</td><td>140000.0</td><td>42.0</td><td>&quot;Female&quot;</td><td>&quot;PhD&quot;</td><td>&quot;Senior Marketing Manager&quot;</td><td>18.0</td></tr><tr><td>177</td><td>50000.0</td><td>31.0</td><td>&quot;Male&quot;</td><td>&quot;Bachelor&#x27;s&quot;</td><td>&quot;Junior Accountant&quot;</td><td>4.0</td></tr><tr><td>178</td><td>80000.0</td><td>38.0</td><td>&quot;Female&quot;</td><td>&quot;Bachelor&#x27;s&quot;</td><td>&quot;Senior Human Resources Coordin…</td><td>10.0</td></tr><tr><td>179</td><td>170000.0</td><td>46.0</td><td>&quot;Male&quot;</td><td>&quot;Master&#x27;s&quot;</td><td>&quot;Director of Operations&quot;</td><td>20.0</td></tr><tr><td>180</td><td>40000.0</td><td>29.0</td><td>&quot;Female&quot;</td><td>&quot;Bachelor&#x27;s&quot;</td><td>&quot;Junior Sales Representative&quot;</td><td>2.0</td></tr><tr><td>181</td><td>105000.0</td><td>37.0</td><td>&quot;Male&quot;</td><td>&quot;Master&#x27;s&quot;</td><td>&quot;Senior Business Analyst&quot;</td><td>9.0</td></tr><tr><td>182</td><td>145000.0</td><td>44.0</td><td>&quot;Female&quot;</td><td>&quot;PhD&quot;</td><td>&quot;Senior UX Designer&quot;</td><td>15.0</td></tr><tr><td>183</td><td>40000.0</td><td>27.0</td><td>&quot;Male&quot;</td><td>&quot;Bachelor&#x27;s&quot;</td><td>&quot;Junior Product Manager&quot;</td><td>2.0</td></tr><tr><td>184</td><td>85000.0</td><td>36.0</td><td>&quot;Female&quot;</td><td>&quot;Bachelor&#x27;s&quot;</td><td>&quot;Senior Marketing Specialist&quot;</td><td>8.0</td></tr><tr><td>185</td><td>130000.0</td><td>43.0</td><td>&quot;Male&quot;</td><td>&quot;Bachelor&#x27;s&quot;</td><td>&quot;Senior IT Project Manager&quot;</td><td>14.0</td></tr><tr><td>186</td><td>95000.0</td><td>33.0</td><td>&quot;Female&quot;</td><td>&quot;Master&#x27;s&quot;</td><td>&quot;Senior Financial Analyst&quot;</td><td>6.0</td></tr><tr><td>187</td><td>100000.0</td><td>34.0</td><td>&quot;Male&quot;</td><td>&quot;Bachelor&#x27;s&quot;</td><td>&quot;Senior Quality Assurance Analy…</td><td>9.0</td></tr><tr><td>188</td><td>180000.0</td><td>50.0</td><td>&quot;Female&quot;</td><td>&quot;PhD&quot;</td><td>&quot;Director of Sales and Marketin…</td><td>22.0</td></tr><tr><td>189</td><td>35000.0</td><td>28.0</td><td>&quot;Male&quot;</td><td>&quot;Bachelor&#x27;s&quot;</td><td>&quot;Junior Operations Analyst&quot;</td><td>1.5</td></tr><tr><td>190</td><td>95000.0</td><td>39.0</td><td>&quot;Female&quot;</td><td>&quot;Bachelor&#x27;s&quot;</td><td>&quot;Senior Account Executive&quot;</td><td>12.0</td></tr><tr><td>191</td><td>170000.0</td><td>47.0</td><td>&quot;Male&quot;</td><td>&quot;Master&#x27;s&quot;</td><td>&quot;Director of Business Developme…</td><td>19.0</td></tr><tr><td>192</td><td>45000.0</td><td>30.0</td><td>&quot;Female&quot;</td><td>&quot;Bachelor&#x27;s&quot;</td><td>&quot;Junior Social Media Manager&quot;</td><td>3.0</td></tr><tr><td>193</td><td>95000.0</td><td>34.0</td><td>&quot;Male&quot;</td><td>&quot;Bachelor&#x27;s&quot;</td><td>&quot;Senior Product Manager&quot;</td><td>7.0</td></tr><tr><td>194</td><td>120000.0</td><td>40.0</td><td>&quot;Female&quot;</td><td>&quot;Master&#x27;s&quot;</td><td>&quot;Senior Human Resources Special…</td><td>13.0</td></tr><tr><td>195</td><td>40000.0</td><td>28.0</td><td>&quot;Male&quot;</td><td>&quot;Bachelor&#x27;s&quot;</td><td>&quot;Junior Business Analyst&quot;</td><td>2.0</td></tr><tr><td>196</td><td>90000.0</td><td>41.0</td><td>&quot;Female&quot;</td><td>&quot;Bachelor&#x27;s&quot;</td><td>&quot;Senior Marketing Coordinator&quot;</td><td>11.0</td></tr><tr><td>197</td><td>155000.0</td><td>45.0</td><td>&quot;Male&quot;</td><td>&quot;PhD&quot;</td><td>&quot;Senior Data Analyst&quot;</td><td>17.0</td></tr><tr><td>198</td><td>55000.0</td><td>32.0</td><td>&quot;Female&quot;</td><td>&quot;Bachelor&#x27;s&quot;</td><td>&quot;Junior Account Manager&quot;</td><td>5.0</td></tr><tr><td>199</td><td>110000.0</td><td>35.0</td><td>&quot;Male&quot;</td><td>&quot;Master&#x27;s&quot;</td><td>&quot;Senior Software Developer&quot;</td><td>9.0</td></tr><tr><td>200</td><td>180000.0</td><td>49.0</td><td>&quot;Female&quot;</td><td>&quot;Master&#x27;s&quot;</td><td>&quot;Director of Human Capital&quot;</td><td>21.0</td></tr><tr><td>201</td><td>45000.0</td><td>30.0</td><td>&quot;Male&quot;</td><td>&quot;Bachelor&#x27;s&quot;</td><td>&quot;Junior Advertising Coordinator&quot;</td><td>3.0</td></tr><tr><td>202</td><td>130000.0</td><td>44.0</td><td>&quot;Male&quot;</td><td>&quot;Bachelor&#x27;s&quot;</td><td>&quot;Senior Sales Manager&quot;</td><td>16.0</td></tr><tr><td>203</td><td>45000.0</td><td>27.0</td><td>&quot;Female&quot;</td><td>&quot;Master&#x27;s&quot;</td><td>&quot;Junior UX Designer&quot;</td><td>1.5</td></tr><tr><td>204</td><td>90000.0</td><td>36.0</td><td>&quot;Male&quot;</td><td>&quot;Bachelor&#x27;s&quot;</td><td>&quot;Senior Accountant&quot;</td><td>7.0</td></tr><tr><td>205</td><td>160000.0</td><td>41.0</td><td>&quot;Female&quot;</td><td>&quot;PhD&quot;</td><td>&quot;Senior Marketing Director&quot;</td><td>17.0</td></tr><tr><td>206</td><td>50000.0</td><td>31.0</td><td>&quot;Male&quot;</td><td>&quot;Bachelor&#x27;s&quot;</td><td>&quot;Junior HR Generalist&quot;</td><td>4.0</td></tr><tr><td>207</td><td>120000.0</td><td>39.0</td><td>&quot;Female&quot;</td><td>&quot;Bachelor&#x27;s&quot;</td><td>&quot;Senior Operations Manager&quot;</td><td>10.0</td></tr><tr><td>208</td><td>170000.0</td><td>47.0</td><td>&quot;Male&quot;</td><td>&quot;Master&#x27;s&quot;</td><td>&quot;Director of Finance&quot;</td><td>20.0</td></tr><tr><td>209</td><td>40000.0</td><td>30.0</td><td>&quot;Female&quot;</td><td>&quot;Bachelor&#x27;s&quot;</td><td>&quot;Junior Marketing Coordinator&quot;</td><td>2.0</td></tr><tr><td>210</td><td>110000.0</td><td>38.0</td><td>&quot;Male&quot;</td><td>&quot;Master&#x27;s&quot;</td><td>&quot;Senior IT Consultant&quot;</td><td>9.0</td></tr><tr><td>211</td><td>150000.0</td><td>45.0</td><td>&quot;Female&quot;</td><td>&quot;PhD&quot;</td><td>&quot;Senior Product Designer&quot;</td><td>15.0</td></tr><tr><td>212</td><td>40000.0</td><td>28.0</td><td>&quot;Male&quot;</td><td>&quot;Bachelor&#x27;s&quot;</td><td>&quot;Junior Business Development As…</td><td>2.0</td></tr><tr><td>213</td><td>85000.0</td><td>35.0</td><td>&quot;Female&quot;</td><td>&quot;Bachelor&#x27;s&quot;</td><td>&quot;Senior Marketing Analyst&quot;</td><td>8.0</td></tr><tr><td>214</td><td>130000.0</td><td>44.0</td><td>&quot;Male&quot;</td><td>&quot;Bachelor&#x27;s&quot;</td><td>&quot;Senior Software Engineer&quot;</td><td>14.0</td></tr><tr><td>215</td><td>100000.0</td><td>34.0</td><td>&quot;Female&quot;</td><td>&quot;Master&#x27;s&quot;</td><td>&quot;Senior Financial Advisor&quot;</td><td>6.0</td></tr><tr><td>216</td><td>95000.0</td><td>35.0</td><td>&quot;Male&quot;</td><td>&quot;Bachelor&#x27;s&quot;</td><td>&quot;Senior Project Coordinator&quot;</td><td>9.0</td></tr><tr><td>217</td><td>180000.0</td><td>50.0</td><td>&quot;Female&quot;</td><td>&quot;PhD&quot;</td><td>&quot;Director of Operations&quot;</td><td>22.0</td></tr><tr><td>218</td><td>35000.0</td><td>29.0</td><td>&quot;Male&quot;</td><td>&quot;Bachelor&#x27;s&quot;</td><td>&quot;Junior Business Operations Ana…</td><td>1.5</td></tr><tr><td>219</td><td>100000.0</td><td>40.0</td><td>null</td><td>&quot;Bachelor&#x27;s&quot;</td><td>&quot;Senior Sales Representative&quot;</td><td>12.0</td></tr><tr><td>220</td><td>170000.0</td><td>48.0</td><td>&quot;Male&quot;</td><td>&quot;Master&#x27;s&quot;</td><td>&quot;Director of Marketing&quot;</td><td>19.0</td></tr><tr><td>221</td><td>45000.0</td><td>null</td><td>&quot;Female&quot;</td><td>&quot;Bachelor&#x27;s&quot;</td><td>&quot;Junior Social Media Specialist&quot;</td><td>3.0</td></tr><tr><td>222</td><td>100000.0</td><td>33.0</td><td>&quot;Male&quot;</td><td>&quot;Bachelor&#x27;s&quot;</td><td>&quot;Senior Product Development Man…</td><td>7.0</td></tr><tr><td>223</td><td>140000.0</td><td>42.0</td><td>&quot;Female&quot;</td><td>&quot;Master&#x27;s&quot;</td><td>&quot;Senior Human Resources Manager&quot;</td><td>13.0</td></tr><tr><td>224</td><td>40000.0</td><td>28.0</td><td>&quot;Male&quot;</td><td>&quot;Bachelor&#x27;s&quot;</td><td>&quot;Junior Financial Analyst&quot;</td><td>2.0</td></tr><tr><td>225</td><td>105000.0</td><td>40.0</td><td>null</td><td>&quot;Bachelor&#x27;s&quot;</td><td>&quot;Senior Marketing Manager&quot;</td><td>11.0</td></tr><tr><td>226</td><td>160000.0</td><td>46.0</td><td>&quot;Male&quot;</td><td>&quot;PhD&quot;</td><td>&quot;Senior Data Scientist&quot;</td><td>18.0</td></tr><tr><td>227</td><td>70000.0</td><td>33.0</td><td>&quot;Female&quot;</td><td>&quot;Bachelor&#x27;s&quot;</td><td>&quot;Junior Operations Manager&quot;</td><td>5.0</td></tr><tr><td>228</td><td>120000.0</td><td>37.0</td><td>&quot;Male&quot;</td><td>&quot;Master&#x27;s&quot;</td><td>&quot;Senior Software Architect&quot;</td><td>9.0</td></tr><tr><td>229</td><td>190000.0</td><td>51.0</td><td>&quot;Female&quot;</td><td>&quot;Master&#x27;s&quot;</td><td>&quot;Director of Human Resources&quot;</td><td>21.0</td></tr><tr><td>230</td><td>45000.0</td><td>30.0</td><td>&quot;Male&quot;</td><td>&quot;Bachelor&#x27;s&quot;</td><td>&quot;Junior Marketing Specialist&quot;</td><td>3.0</td></tr><tr><td>231</td><td>120000.0</td><td>43.0</td><td>&quot;Male&quot;</td><td>&quot;Bachelor&#x27;s&quot;</td><td>&quot;Senior Project Manager&quot;</td><td>15.0</td></tr><tr><td>232</td><td>50000.0</td><td>27.0</td><td>&quot;Female&quot;</td><td>&quot;Master&#x27;s&quot;</td><td>&quot;Junior Research Scientist&quot;</td><td>1.5</td></tr><tr><td>233</td><td>85000.0</td><td>35.0</td><td>&quot;Male&quot;</td><td>&quot;Bachelor&#x27;s&quot;</td><td>&quot;Senior Operations Analyst&quot;</td><td>8.0</td></tr><tr><td>234</td><td>140000.0</td><td>42.0</td><td>&quot;Female&quot;</td><td>&quot;PhD&quot;</td><td>&quot;Senior Marketing Manager&quot;</td><td>13.0</td></tr><tr><td>235</td><td>45000.0</td><td>32.0</td><td>null</td><td>&quot;Bachelor&#x27;s&quot;</td><td>&quot;Junior Sales Representative&quot;</td><td>3.0</td></tr><tr><td>236</td><td>100000.0</td><td>37.0</td><td>&quot;Female&quot;</td><td>&quot;Bachelor&#x27;s&quot;</td><td>&quot;Senior Financial Analyst&quot;</td><td>9.0</td></tr><tr><td>237</td><td>140000.0</td><td>45.0</td><td>&quot;Male&quot;</td><td>&quot;Master&#x27;s&quot;</td><td>&quot;Senior Software Developer&quot;</td><td>16.0</td></tr><tr><td>238</td><td>70000.0</td><td>33.0</td><td>&quot;Female&quot;</td><td>&quot;Bachelor&#x27;s&quot;</td><td>&quot;Junior Operations Analyst&quot;</td><td>5.0</td></tr><tr><td>239</td><td>120000.0</td><td>39.0</td><td>&quot;Male&quot;</td><td>&quot;Bachelor&#x27;s&quot;</td><td>&quot;Senior Marketing Specialist&quot;</td><td>10.0</td></tr><tr><td>240</td><td>160000.0</td><td>44.0</td><td>&quot;Female&quot;</td><td>&quot;PhD&quot;</td><td>&quot;Senior HR Manager&quot;</td><td>18.0</td></tr><tr><td>241</td><td>40000.0</td><td>29.0</td><td>&quot;Male&quot;</td><td>&quot;Bachelor&#x27;s&quot;</td><td>&quot;Junior Business Analyst&quot;</td><td>1.5</td></tr><tr><td>242</td><td>120000.0</td><td>38.0</td><td>&quot;Female&quot;</td><td>&quot;Bachelor&#x27;s&quot;</td><td>&quot;Senior Product Manager&quot;</td><td>10.0</td></tr><tr><td>243</td><td>150000.0</td><td>46.0</td><td>&quot;Male&quot;</td><td>&quot;PhD&quot;</td><td>&quot;Senior Data Analyst&quot;</td><td>19.0</td></tr><tr><td>244</td><td>70000.0</td><td>34.0</td><td>&quot;Female&quot;</td><td>&quot;Bachelor&#x27;s&quot;</td><td>&quot;Junior Marketing Analyst&quot;</td><td>6.0</td></tr><tr><td>245</td><td>95000.0</td><td>36.0</td><td>&quot;Male&quot;</td><td>&quot;Bachelor&#x27;s&quot;</td><td>&quot;Senior Operations Manager&quot;</td><td>8.0</td></tr><tr><td>246</td><td>180000.0</td><td>49.0</td><td>&quot;Female&quot;</td><td>&quot;Master&#x27;s&quot;</td><td>&quot;Director of Marketing&quot;</td><td>21.0</td></tr><tr><td>247</td><td>50000.0</td><td>31.0</td><td>&quot;Male&quot;</td><td>&quot;Bachelor&#x27;s&quot;</td><td>&quot;Junior Financial Analyst&quot;</td><td>3.0</td></tr><tr><td>248</td><td>95000.0</td><td>41.0</td><td>&quot;Female&quot;</td><td>&quot;Bachelor&#x27;s&quot;</td><td>&quot;Senior Project Coordinator&quot;</td><td>11.0</td></tr><tr><td>249</td><td>170000.0</td><td>47.0</td><td>&quot;Male&quot;</td><td>&quot;Master&#x27;s&quot;</td><td>&quot;Director of Operations&quot;</td><td>20.0</td></tr><tr><td>250</td><td>40000.0</td><td>30.0</td><td>&quot;Female&quot;</td><td>&quot;Bachelor&#x27;s&quot;</td><td>&quot;Junior Marketing Coordinator&quot;</td><td>2.0</td></tr><tr><td>251</td><td>110000.0</td><td>38.0</td><td>&quot;Male&quot;</td><td>&quot;Master&#x27;s&quot;</td><td>&quot;Senior IT Consultant&quot;</td><td>9.0</td></tr><tr><td>252</td><td>150000.0</td><td>45.0</td><td>&quot;Female&quot;</td><td>&quot;PhD&quot;</td><td>&quot;Senior Product Designer&quot;</td><td>15.0</td></tr><tr><td>253</td><td>40000.0</td><td>28.0</td><td>&quot;Male&quot;</td><td>&quot;Bachelor&#x27;s&quot;</td><td>&quot;Junior Business Development As…</td><td>2.0</td></tr><tr><td>254</td><td>85000.0</td><td>35.0</td><td>&quot;Female&quot;</td><td>&quot;Bachelor&#x27;s&quot;</td><td>&quot;Senior Marketing Analyst&quot;</td><td>8.0</td></tr><tr><td>255</td><td>130000.0</td><td>44.0</td><td>&quot;Male&quot;</td><td>&quot;Bachelor&#x27;s&quot;</td><td>&quot;Senior Software Engineer&quot;</td><td>14.0</td></tr><tr><td>256</td><td>100000.0</td><td>34.0</td><td>&quot;Female&quot;</td><td>&quot;Master&#x27;s&quot;</td><td>&quot;Senior Financial Advisor&quot;</td><td>6.0</td></tr><tr><td>257</td><td>95000.0</td><td>35.0</td><td>&quot;Male&quot;</td><td>&quot;Bachelor&#x27;s&quot;</td><td>&quot;Senior Project Coordinator&quot;</td><td>9.0</td></tr><tr><td>258</td><td>180000.0</td><td>50.0</td><td>&quot;Female&quot;</td><td>&quot;PhD&quot;</td><td>&quot;Director of Operations&quot;</td><td>22.0</td></tr><tr><td>259</td><td>350.0</td><td>29.0</td><td>&quot;Male&quot;</td><td>&quot;Bachelor&#x27;s&quot;</td><td>&quot;Junior Business Operations Ana…</td><td>1.5</td></tr><tr><td>260</td><td>null</td><td>null</td><td>null</td><td>null</td><td>null</td><td>null</td></tr><tr><td>261</td><td>120000.0</td><td>37.0</td><td>&quot;Female&quot;</td><td>null</td><td>&quot;Senior Financial Manager&quot;</td><td>10.0</td></tr><tr><td>262</td><td>160000.0</td><td>46.0</td><td>&quot;Male&quot;</td><td>&quot;PhD&quot;</td><td>&quot;Senior Data Scientist&quot;</td><td>18.0</td></tr><tr><td>263</td><td>50000.0</td><td>31.0</td><td>&quot;Female&quot;</td><td>&quot;Bachelor&#x27;s&quot;</td><td>&quot;Junior Marketing Coordinator&quot;</td><td>3.0</td></tr><tr><td>264</td><td>110000.0</td><td>42.0</td><td>&quot;Male&quot;</td><td>&quot;Bachelor&#x27;s&quot;</td><td>&quot;Senior Operations Manager&quot;</td><td>12.0</td></tr><tr><td>265</td><td>40000.0</td><td>29.0</td><td>&quot;Female&quot;</td><td>&quot;Bachelor&#x27;s&quot;</td><td>&quot;Junior Sales Representative&quot;</td><td>1.5</td></tr><tr><td>266</td><td>95000.0</td><td>36.0</td><td>&quot;Male&quot;</td><td>&quot;Bachelor&#x27;s&quot;</td><td>&quot;Senior Marketing Specialist&quot;</td><td>8.0</td></tr><tr><td>267</td><td>140000.0</td><td>44.0</td><td>&quot;Female&quot;</td><td>&quot;Master&#x27;s&quot;</td><td>&quot;Senior HR Specialist&quot;</td><td>15.0</td></tr><tr><td>268</td><td>60000.0</td><td>33.0</td><td>&quot;Male&quot;</td><td>&quot;Bachelor&#x27;s&quot;</td><td>&quot;Junior Operations Manager&quot;</td><td>4.0</td></tr><tr><td>269</td><td>110000.0</td><td>39.0</td><td>&quot;Female&quot;</td><td>&quot;Bachelor&#x27;s&quot;</td><td>&quot;Senior Marketing Coordinator&quot;</td><td>9.0</td></tr><tr><td>270</td><td>150000.0</td><td>45.0</td><td>&quot;Male&quot;</td><td>&quot;PhD&quot;</td><td>&quot;Senior Data Engineer&quot;</td><td>16.0</td></tr><tr><td>271</td><td>60000.0</td><td>32.0</td><td>&quot;Female&quot;</td><td>&quot;Bachelor&#x27;s&quot;</td><td>&quot;Junior Marketing Manager&quot;</td><td>4.0</td></tr><tr><td>272</td><td>90000.0</td><td>37.0</td><td>&quot;Male&quot;</td><td>&quot;Bachelor&#x27;s&quot;</td><td>&quot;Senior Financial Analyst&quot;</td><td>8.0</td></tr><tr><td>273</td><td>180000.0</td><td>47.0</td><td>&quot;Female&quot;</td><td>&quot;Master&#x27;s&quot;</td><td>&quot;Director of Marketing&quot;</td><td>20.0</td></tr><tr><td>274</td><td>40000.0</td><td>30.0</td><td>&quot;Male&quot;</td><td>&quot;Bachelor&#x27;s&quot;</td><td>&quot;Junior Business Analyst&quot;</td><td>2.0</td></tr><tr><td>275</td><td>120000.0</td><td>38.0</td><td>&quot;Female&quot;</td><td>&quot;Bachelor&#x27;s&quot;</td><td>&quot;Senior Project Manager&quot;</td><td>9.0</td></tr><tr><td>276</td><td>160000.0</td><td>46.0</td><td>&quot;Male&quot;</td><td>&quot;PhD&quot;</td><td>&quot;Senior Data Analyst&quot;</td><td>17.0</td></tr><tr><td>277</td><td>70000.0</td><td>34.0</td><td>&quot;Female&quot;</td><td>&quot;Bachelor&#x27;s&quot;</td><td>&quot;Junior Financial Analyst&quot;</td><td>5.0</td></tr><tr><td>278</td><td>95000.0</td><td>36.0</td><td>&quot;Male&quot;</td><td>&quot;Bachelor&#x27;s&quot;</td><td>&quot;Senior Product Manager&quot;</td><td>8.0</td></tr><tr><td>279</td><td>180000.0</td><td>49.0</td><td>&quot;Female&quot;</td><td>&quot;Master&#x27;s&quot;</td><td>&quot;Director of Operations&quot;</td><td>21.0</td></tr><tr><td>280</td><td>50000.0</td><td>31.0</td><td>&quot;Male&quot;</td><td>&quot;Bachelor&#x27;s&quot;</td><td>&quot;Junior Operations Analyst&quot;</td><td>3.0</td></tr><tr><td>281</td><td>95000.0</td><td>41.0</td><td>&quot;Female&quot;</td><td>&quot;Bachelor&#x27;s&quot;</td><td>&quot;Senior Project Coordinator&quot;</td><td>11.0</td></tr><tr><td>282</td><td>170000.0</td><td>47.0</td><td>&quot;Male&quot;</td><td>&quot;Master&#x27;s&quot;</td><td>&quot;Director of Marketing&quot;</td><td>19.0</td></tr><tr><td>283</td><td>35000.0</td><td>29.0</td><td>&quot;Female&quot;</td><td>&quot;Bachelor&#x27;s&quot;</td><td>&quot;Junior Business Development As…</td><td>1.5</td></tr><tr><td>284</td><td>100000.0</td><td>35.0</td><td>&quot;Male&quot;</td><td>&quot;Bachelor&#x27;s&quot;</td><td>&quot;Senior Financial Manager&quot;</td><td>9.0</td></tr><tr><td>285</td><td>150000.0</td><td>44.0</td><td>&quot;Female&quot;</td><td>&quot;PhD&quot;</td><td>&quot;Senior Product Designer&quot;</td><td>15.0</td></tr><tr><td>286</td><td>60000.0</td><td>33.0</td><td>&quot;Male&quot;</td><td>&quot;Bachelor&#x27;s&quot;</td><td>&quot;Junior Business Analyst&quot;</td><td>4.0</td></tr><tr><td>287</td><td>85000.0</td><td>null</td><td>&quot;Female&quot;</td><td>&quot;Bachelor&#x27;s&quot;</td><td>&quot;Senior Marketing Analyst&quot;</td><td>8.0</td></tr><tr><td>288</td><td>130000.0</td><td>44.0</td><td>&quot;Male&quot;</td><td>&quot;Bachelor&#x27;s&quot;</td><td>&quot;Senior Software Engineer&quot;</td><td>13.0</td></tr><tr><td>289</td><td>65000.0</td><td>32.0</td><td>&quot;Male&quot;</td><td>&quot;Bachelor&#x27;s&quot;</td><td>&quot;Junior Product Manager&quot;</td><td>4.0</td></tr><tr><td>290</td><td>110000.0</td><td>38.0</td><td>&quot;Female&quot;</td><td>&quot;Bachelor&#x27;s&quot;</td><td>&quot;Senior Business Analyst&quot;</td><td>10.0</td></tr><tr><td>291</td><td>180000.0</td><td>49.0</td><td>&quot;Male&quot;</td><td>&quot;PhD&quot;</td><td>&quot;Director of Operations&quot;</td><td>21.0</td></tr><tr><td>292</td><td>40000.0</td><td>29.0</td><td>&quot;Female&quot;</td><td>&quot;Bachelor&#x27;s&quot;</td><td>&quot;Junior Marketing Specialist&quot;</td><td>2.0</td></tr><tr><td>293</td><td>90000.0</td><td>35.0</td><td>&quot;Male&quot;</td><td>&quot;Bachelor&#x27;s&quot;</td><td>&quot;Senior Business Development Ma…</td><td>7.0</td></tr><tr><td>294</td><td>140000.0</td><td>45.0</td><td>&quot;Female&quot;</td><td>&quot;Master&#x27;s&quot;</td><td>&quot;Senior HR Manager&quot;</td><td>14.0</td></tr><tr><td>295</td><td>60000.0</td><td>33.0</td><td>&quot;Male&quot;</td><td>&quot;Bachelor&#x27;s&quot;</td><td>&quot;Junior Financial Analyst&quot;</td><td>4.0</td></tr><tr><td>296</td><td>130000.0</td><td>40.0</td><td>&quot;Female&quot;</td><td>&quot;Bachelor&#x27;s&quot;</td><td>&quot;Senior Marketing Manager&quot;</td><td>12.0</td></tr><tr><td>297</td><td>160000.0</td><td>44.0</td><td>&quot;Male&quot;</td><td>&quot;PhD&quot;</td><td>&quot;Senior Data Scientist&quot;</td><td>16.0</td></tr><tr><td>298</td><td>40000.0</td><td>30.0</td><td>&quot;Female&quot;</td><td>&quot;Bachelor&#x27;s&quot;</td><td>&quot;Junior Operations Coordinator&quot;</td><td>2.0</td></tr><tr><td>299</td><td>100000.0</td><td>37.0</td><td>&quot;Male&quot;</td><td>&quot;Bachelor&#x27;s&quot;</td><td>&quot;Senior Marketing Analyst&quot;</td><td>9.0</td></tr><tr><td>300</td><td>180000.0</td><td>48.0</td><td>&quot;Female&quot;</td><td>&quot;Master&#x27;s&quot;</td><td>&quot;Director of HR&quot;</td><td>20.0</td></tr><tr><td>301</td><td>55000.0</td><td>31.0</td><td>&quot;Male&quot;</td><td>&quot;Bachelor&#x27;s&quot;</td><td>&quot;Junior Project Manager&quot;</td><td>3.0</td></tr><tr><td>302</td><td>120000.0</td><td>38.0</td><td>&quot;Female&quot;</td><td>&quot;Bachelor&#x27;s&quot;</td><td>&quot;Senior Operations Coordinator&quot;</td><td>9.0</td></tr><tr><td>303</td><td>150000.0</td><td>45.0</td><td>&quot;Male&quot;</td><td>&quot;PhD&quot;</td><td>&quot;Senior Data Engineer&quot;</td><td>16.0</td></tr><tr><td>304</td><td>70000.0</td><td>33.0</td><td>&quot;Female&quot;</td><td>&quot;Bachelor&#x27;s&quot;</td><td>&quot;Junior Marketing Manager&quot;</td><td>5.0</td></tr><tr><td>305</td><td>95000.0</td><td>36.0</td><td>&quot;Male&quot;</td><td>&quot;Bachelor&#x27;s&quot;</td><td>&quot;Senior Business Analyst&quot;</td><td>8.0</td></tr><tr><td>306</td><td>180000.0</td><td>49.0</td><td>&quot;Female&quot;</td><td>&quot;Master&#x27;s&quot;</td><td>&quot;Director of Marketing&quot;</td><td>21.0</td></tr><tr><td>307</td><td>50000.0</td><td>31.0</td><td>&quot;Male&quot;</td><td>&quot;Bachelor&#x27;s&quot;</td><td>&quot;Junior Operations Analyst&quot;</td><td>3.0</td></tr><tr><td>308</td><td>120000.0</td><td>42.0</td><td>&quot;Female&quot;</td><td>&quot;Bachelor&#x27;s&quot;</td><td>&quot;Senior Project Manager&quot;</td><td>12.0</td></tr><tr><td>309</td><td>170000.0</td><td>47.0</td><td>&quot;Male&quot;</td><td>&quot;Master&#x27;s&quot;</td><td>&quot;Director of Marketing&quot;</td><td>19.0</td></tr><tr><td>310</td><td>35000.0</td><td>29.0</td><td>&quot;Female&quot;</td><td>&quot;Bachelor&#x27;s&quot;</td><td>&quot;Junior Business Development As…</td><td>1.5</td></tr><tr><td>311</td><td>100000.0</td><td>35.0</td><td>&quot;Male&quot;</td><td>&quot;Bachelor&#x27;s&quot;</td><td>&quot;Senior Financial Manager&quot;</td><td>9.0</td></tr><tr><td>312</td><td>150000.0</td><td>44.0</td><td>&quot;Female&quot;</td><td>&quot;PhD&quot;</td><td>&quot;Senior Product Designer&quot;</td><td>15.0</td></tr><tr><td>313</td><td>60000.0</td><td>33.0</td><td>&quot;Male&quot;</td><td>&quot;Bachelor&#x27;s&quot;</td><td>&quot;Junior Business Analyst&quot;</td><td>4.0</td></tr><tr><td>314</td><td>85000.0</td><td>35.0</td><td>&quot;Female&quot;</td><td>&quot;Bachelor&#x27;s&quot;</td><td>&quot;Senior Marketing Analyst&quot;</td><td>8.0</td></tr><tr><td>315</td><td>130000.0</td><td>null</td><td>&quot;Male&quot;</td><td>&quot;Bachelor&#x27;s&quot;</td><td>&quot;Senior Software Engineer&quot;</td><td>13.0</td></tr><tr><td>316</td><td>80000.0</td><td>34.0</td><td>&quot;Female&quot;</td><td>&quot;Master&#x27;s&quot;</td><td>&quot;Senior Financial Advisor&quot;</td><td>6.0</td></tr><tr><td>317</td><td>95000.0</td><td>36.0</td><td>&quot;Male&quot;</td><td>&quot;Bachelor&#x27;s&quot;</td><td>&quot;Senior Marketing Specialist&quot;</td><td>8.0</td></tr><tr><td>318</td><td>40000.0</td><td>30.0</td><td>&quot;Female&quot;</td><td>&quot;Bachelor&#x27;s&quot;</td><td>&quot;Junior HR Coordinator&quot;</td><td>2.0</td></tr><tr><td>319</td><td>120000.0</td><td>37.0</td><td>&quot;Male&quot;</td><td>&quot;Bachelor&#x27;s&quot;</td><td>&quot;Senior Business Development Ma…</td><td>10.0</td></tr><tr><td>320</td><td>160000.0</td><td>45.0</td><td>&quot;Female&quot;</td><td>&quot;Master&#x27;s&quot;</td><td>&quot;Senior Marketing Manager&quot;</td><td>16.0</td></tr><tr><td>321</td><td>65000.0</td><td>32.0</td><td>&quot;Male&quot;</td><td>&quot;Bachelor&#x27;s&quot;</td><td>&quot;Junior Financial Advisor&quot;</td><td>4.0</td></tr><tr><td>322</td><td>130000.0</td><td>39.0</td><td>&quot;Female&quot;</td><td>&quot;Bachelor&#x27;s&quot;</td><td>&quot;Senior Project Manager&quot;</td><td>12.0</td></tr><tr><td>323</td><td>180000.0</td><td>47.0</td><td>&quot;Male&quot;</td><td>&quot;PhD&quot;</td><td>&quot;Director of Engineering&quot;</td><td>20.0</td></tr><tr><td>324</td><td>40000.0</td><td>29.0</td><td>&quot;Female&quot;</td><td>&quot;Bachelor&#x27;s&quot;</td><td>&quot;Junior Marketing Analyst&quot;</td><td>2.0</td></tr><tr><td>325</td><td>100000.0</td><td>36.0</td><td>&quot;Male&quot;</td><td>&quot;Bachelor&#x27;s&quot;</td><td>&quot;Senior Operations Manager&quot;</td><td>9.0</td></tr><tr><td>326</td><td>150000.0</td><td>43.0</td><td>&quot;Female&quot;</td><td>&quot;PhD&quot;</td><td>&quot;Senior Data Scientist&quot;</td><td>15.0</td></tr><tr><td>327</td><td>55000.0</td><td>32.0</td><td>&quot;Male&quot;</td><td>&quot;Bachelor&#x27;s&quot;</td><td>&quot;Junior Marketing Coordinator&quot;</td><td>3.0</td></tr><tr><td>328</td><td>110000.0</td><td>38.0</td><td>&quot;Female&quot;</td><td>&quot;Bachelor&#x27;s&quot;</td><td>&quot;Senior Business Analyst&quot;</td><td>10.0</td></tr><tr><td>329</td><td>180000.0</td><td>48.0</td><td>&quot;Male&quot;</td><td>&quot;Master&#x27;s&quot;</td><td>&quot;Director of Marketing&quot;</td><td>21.0</td></tr><tr><td>330</td><td>50000.0</td><td>31.0</td><td>&quot;Female&quot;</td><td>&quot;Bachelor&#x27;s&quot;</td><td>&quot;Junior Business Development As…</td><td>3.0</td></tr><tr><td>331</td><td>130000.0</td><td>40.0</td><td>&quot;Male&quot;</td><td>&quot;Bachelor&#x27;s&quot;</td><td>&quot;Senior Financial Analyst&quot;</td><td>12.0</td></tr><tr><td>332</td><td>160000.0</td><td>45.0</td><td>&quot;Female&quot;</td><td>&quot;PhD&quot;</td><td>null</td><td>16.0</td></tr><tr><td>333</td><td>60000.0</td><td>33.0</td><td>&quot;Male&quot;</td><td>&quot;Bachelor&#x27;s&quot;</td><td>&quot;Junior Product Manager&quot;</td><td>4.0</td></tr><tr><td>334</td><td>95000.0</td><td>36.0</td><td>&quot;Female&quot;</td><td>&quot;Bachelor&#x27;s&quot;</td><td>&quot;Senior Marketing Manager&quot;</td><td>8.0</td></tr><tr><td>335</td><td>170000.0</td><td>47.0</td><td>&quot;Male&quot;</td><td>&quot;Master&#x27;s&quot;</td><td>&quot;Director of Operations&quot;</td><td>19.0</td></tr><tr><td>336</td><td>40000.0</td><td>29.0</td><td>&quot;Female&quot;</td><td>&quot;Bachelor&#x27;s&quot;</td><td>&quot;Junior Project Manager&quot;</td><td>2.0</td></tr><tr><td>337</td><td>90000.0</td><td>34.0</td><td>&quot;Male&quot;</td><td>&quot;Bachelor&#x27;s&quot;</td><td>&quot;Senior Operations Coordinator&quot;</td><td>7.0</td></tr><tr><td>338</td><td>150000.0</td><td>44.0</td><td>&quot;Female&quot;</td><td>&quot;PhD&quot;</td><td>&quot;Senior Business Analyst&quot;</td><td>15.0</td></tr><tr><td>339</td><td>70000.0</td><td>33.0</td><td>&quot;Male&quot;</td><td>&quot;Bachelor&#x27;s&quot;</td><td>&quot;Junior Marketing Specialist&quot;</td><td>5.0</td></tr><tr><td>340</td><td>90000.0</td><td>35.0</td><td>&quot;Female&quot;</td><td>&quot;Bachelor&#x27;s&quot;</td><td>&quot;Senior Financial Manager&quot;</td><td>8.0</td></tr><tr><td>341</td><td>170000.0</td><td>43.0</td><td>&quot;Male&quot;</td><td>&quot;Master&#x27;s&quot;</td><td>&quot;Director of Marketing&quot;</td><td>18.0</td></tr><tr><td>342</td><td>50000.0</td><td>31.0</td><td>&quot;Female&quot;</td><td>&quot;Bachelor&#x27;s&quot;</td><td>&quot;Junior Financial Analyst&quot;</td><td>3.0</td></tr><tr><td>343</td><td>150000.0</td><td>41.0</td><td>&quot;Male&quot;</td><td>&quot;Bachelor&#x27;s&quot;</td><td>&quot;Senior Product Manager&quot;</td><td>14.0</td></tr><tr><td>344</td><td>160000.0</td><td>44.0</td><td>&quot;Female&quot;</td><td>&quot;PhD&quot;</td><td>&quot;Senior Data Engineer&quot;</td><td>16.0</td></tr><tr><td>345</td><td>60000.0</td><td>33.0</td><td>&quot;Male&quot;</td><td>&quot;Bachelor&#x27;s&quot;</td><td>&quot;Junior Business Analyst&quot;</td><td>4.0</td></tr><tr><td>346</td><td>85000.0</td><td>35.0</td><td>&quot;Female&quot;</td><td>&quot;Bachelor&#x27;s&quot;</td><td>&quot;Senior Marketing Analyst&quot;</td><td>8.0</td></tr><tr><td>347</td><td>180000.0</td><td>45.0</td><td>&quot;Male&quot;</td><td>&quot;Master&#x27;s&quot;</td><td>&quot;Director of Engineering&quot;</td><td>19.0</td></tr><tr><td>348</td><td>35000.0</td><td>28.0</td><td>&quot;Female&quot;</td><td>&quot;Bachelor&#x27;s&quot;</td><td>&quot;Junior Operations Manager&quot;</td><td>1.0</td></tr><tr><td>349</td><td>110000.0</td><td>36.0</td><td>&quot;Male&quot;</td><td>&quot;Bachelor&#x27;s&quot;</td><td>&quot;Senior Business Development Ma…</td><td>8.0</td></tr><tr><td>350</td><td>160000.0</td><td>44.0</td><td>&quot;Female&quot;</td><td>&quot;PhD&quot;</td><td>&quot;Senior Data Scientist&quot;</td><td>16.0</td></tr><tr><td>351</td><td>55000.0</td><td>31.0</td><td>&quot;Male&quot;</td><td>&quot;Bachelor&#x27;s&quot;</td><td>&quot;Junior Marketing Coordinator&quot;</td><td>3.0</td></tr><tr><td>352</td><td>110000.0</td><td>38.0</td><td>&quot;Female&quot;</td><td>&quot;Bachelor&#x27;s&quot;</td><td>&quot;Senior Business Analyst&quot;</td><td>10.0</td></tr><tr><td>353</td><td>180000.0</td><td>48.0</td><td>&quot;Male&quot;</td><td>&quot;Master&#x27;s&quot;</td><td>&quot;Director of Marketing&quot;</td><td>21.0</td></tr><tr><td>354</td><td>50000.0</td><td>31.0</td><td>&quot;Female&quot;</td><td>&quot;Bachelor&#x27;s&quot;</td><td>&quot;Junior Business Development As…</td><td>3.0</td></tr><tr><td>355</td><td>130000.0</td><td>40.0</td><td>&quot;Male&quot;</td><td>&quot;Bachelor&#x27;s&quot;</td><td>&quot;Senior Financial Analyst&quot;</td><td>12.0</td></tr><tr><td>356</td><td>160000.0</td><td>45.0</td><td>&quot;Female&quot;</td><td>&quot;PhD&quot;</td><td>&quot;Senior UX Designer&quot;</td><td>16.0</td></tr><tr><td>357</td><td>60000.0</td><td>33.0</td><td>&quot;Male&quot;</td><td>&quot;Bachelor&#x27;s&quot;</td><td>&quot;Junior Product Manager&quot;</td><td>4.0</td></tr><tr><td>358</td><td>95000.0</td><td>36.0</td><td>&quot;Female&quot;</td><td>&quot;Bachelor&#x27;s&quot;</td><td>&quot;Senior Marketing Manager&quot;</td><td>8.0</td></tr><tr><td>359</td><td>170000.0</td><td>47.0</td><td>&quot;Male&quot;</td><td>&quot;Master&#x27;s&quot;</td><td>&quot;Director of Operations&quot;</td><td>19.0</td></tr><tr><td>360</td><td>40000.0</td><td>29.0</td><td>&quot;Female&quot;</td><td>&quot;Bachelor&#x27;s&quot;</td><td>&quot;Junior Project Manager&quot;</td><td>2.0</td></tr><tr><td>361</td><td>90000.0</td><td>34.0</td><td>&quot;Male&quot;</td><td>&quot;Bachelor&#x27;s&quot;</td><td>&quot;Senior Operations Coordinator&quot;</td><td>7.0</td></tr><tr><td>362</td><td>150000.0</td><td>44.0</td><td>&quot;Female&quot;</td><td>&quot;PhD&quot;</td><td>&quot;Senior Business Analyst&quot;</td><td>15.0</td></tr><tr><td>363</td><td>70000.0</td><td>33.0</td><td>&quot;Male&quot;</td><td>&quot;Bachelor&#x27;s&quot;</td><td>&quot;Junior Marketing Specialist&quot;</td><td>5.0</td></tr><tr><td>364</td><td>90000.0</td><td>35.0</td><td>&quot;Female&quot;</td><td>&quot;Bachelor&#x27;s&quot;</td><td>&quot;Senior Financial Manager&quot;</td><td>8.0</td></tr><tr><td>365</td><td>170000.0</td><td>43.0</td><td>&quot;Male&quot;</td><td>&quot;Master&#x27;s&quot;</td><td>&quot;Director of Marketing&quot;</td><td>18.0</td></tr><tr><td>366</td><td>50000.0</td><td>31.0</td><td>&quot;Female&quot;</td><td>null</td><td>&quot;Junior Financial Analyst&quot;</td><td>3.0</td></tr><tr><td>367</td><td>150000.0</td><td>41.0</td><td>&quot;Male&quot;</td><td>&quot;Bachelor&#x27;s&quot;</td><td>&quot;Senior Product Manager&quot;</td><td>14.0</td></tr><tr><td>368</td><td>160000.0</td><td>44.0</td><td>&quot;Female&quot;</td><td>&quot;PhD&quot;</td><td>&quot;Senior Data Engineer&quot;</td><td>16.0</td></tr><tr><td>369</td><td>60000.0</td><td>33.0</td><td>&quot;Male&quot;</td><td>&quot;Bachelor&#x27;s&quot;</td><td>&quot;Junior Business Analyst&quot;</td><td>4.0</td></tr><tr><td>370</td><td>85000.0</td><td>35.0</td><td>&quot;Female&quot;</td><td>&quot;Bachelor&#x27;s&quot;</td><td>&quot;Senior Marketing Analyst&quot;</td><td>8.0</td></tr><tr><td>371</td><td>170000.0</td><td>43.0</td><td>&quot;Male&quot;</td><td>&quot;Master&#x27;s&quot;</td><td>&quot;Director of Operations&quot;</td><td>19.0</td></tr><tr><td>372</td><td>40000.0</td><td>29.0</td><td>&quot;Female&quot;</td><td>&quot;Bachelor&#x27;s&quot;</td><td>&quot;Junior Project Manager&quot;</td><td>2.0</td></tr><tr><td>373</td><td>90000.0</td><td>34.0</td><td>&quot;Male&quot;</td><td>&quot;Bachelor&#x27;s&quot;</td><td>&quot;Senior Operations Coordinator&quot;</td><td>7.0</td></tr><tr><td>374</td><td>150000.0</td><td>44.0</td><td>&quot;Female&quot;</td><td>&quot;PhD&quot;</td><td>&quot;Senior Business Analyst&quot;</td><td>15.0</td></tr></tbody></table></div>"
      ],
      "text/plain": [
       "shape: (375, 7)\n",
       "┌─────┬──────────┬──────┬────────┬─────────────────┬─────────────────────────┬─────────────────────┐\n",
       "│ id  ┆ Salary   ┆ Age  ┆ Gender ┆ Education Level ┆ Job Title               ┆ Years of Experience │\n",
       "│ --- ┆ ---      ┆ ---  ┆ ---    ┆ ---             ┆ ---                     ┆ ---                 │\n",
       "│ i64 ┆ f64      ┆ f64  ┆ str    ┆ str             ┆ str                     ┆ f64                 │\n",
       "╞═════╪══════════╪══════╪════════╪═════════════════╪═════════════════════════╪═════════════════════╡\n",
       "│ 0   ┆ 90000.0  ┆ 32.0 ┆ Male   ┆ Bachelor's      ┆ Software Engineer       ┆ 5.0                 │\n",
       "│ 1   ┆ 65000.0  ┆ 28.0 ┆ Female ┆ Master's        ┆ Data Analyst            ┆ 3.0                 │\n",
       "│ 2   ┆ 150000.0 ┆ 45.0 ┆ Male   ┆ PhD             ┆ Senior Manager          ┆ 15.0                │\n",
       "│ 3   ┆ 60000.0  ┆ 36.0 ┆ Female ┆ Bachelor's      ┆ Sales Associate         ┆ 7.0                 │\n",
       "│ 4   ┆ 200000.0 ┆ 52.0 ┆ Male   ┆ Master's        ┆ Director                ┆ 20.0                │\n",
       "│ 5   ┆ 55000.0  ┆ 29.0 ┆ Male   ┆ Bachelor's      ┆ Marketing Analyst       ┆ 2.0                 │\n",
       "│ 6   ┆ 120000.0 ┆ 42.0 ┆ Female ┆ Master's        ┆ Product Manager         ┆ 12.0                │\n",
       "│ 7   ┆ 80000.0  ┆ 31.0 ┆ Male   ┆ Bachelor's      ┆ Sales Manager           ┆ 4.0                 │\n",
       "│ 8   ┆ 45000.0  ┆ 26.0 ┆ Female ┆ Bachelor's      ┆ Marketing Coordinator   ┆ 1.0                 │\n",
       "│ 9   ┆ 110000.0 ┆ 38.0 ┆ Male   ┆ PhD             ┆ Senior Scientist        ┆ 10.0                │\n",
       "│ 10  ┆ 75000.0  ┆ 29.0 ┆ Male   ┆ Master's        ┆ Software Developer      ┆ 3.0                 │\n",
       "│ 11  ┆ 140000.0 ┆ 48.0 ┆ Female ┆ Bachelor's      ┆ HR Manager              ┆ 18.0                │\n",
       "│ 12  ┆ 65000.0  ┆ 35.0 ┆ Male   ┆ Bachelor's      ┆ Financial Analyst       ┆ 6.0                 │\n",
       "│ 13  ┆ 130000.0 ┆ 40.0 ┆ Female ┆ Master's        ┆ Project Manager         ┆ 14.0                │\n",
       "│ 14  ┆ 40000.0  ┆ 27.0 ┆ Male   ┆ Bachelor's      ┆ Customer Service Rep    ┆ 2.0                 │\n",
       "│ 15  ┆ 125000.0 ┆ 44.0 ┆ Male   ┆ Bachelor's      ┆ Operations Manager      ┆ 16.0                │\n",
       "│ 16  ┆ 90000.0  ┆ 33.0 ┆ Female ┆ Master's        ┆ Marketing Manager       ┆ 7.0                 │\n",
       "│ 17  ┆ 115000.0 ┆ 39.0 ┆ Male   ┆ PhD             ┆ Senior Engineer         ┆ 12.0                │\n",
       "│ 18  ┆ 35000.0  ┆ 25.0 ┆ Female ┆ Bachelor's      ┆ Data Entry Clerk        ┆ 0.0                 │\n",
       "│ 19  ┆ 180000.0 ┆ 51.0 ┆ Male   ┆ Bachelor's      ┆ Sales Director          ┆ 22.0                │\n",
       "│ 20  ┆ 80000.0  ┆ 34.0 ┆ Female ┆ Master's        ┆ Business Analyst        ┆ 5.0                 │\n",
       "│ 21  ┆ 190000.0 ┆ 47.0 ┆ Male   ┆ Master's        ┆ VP of Operations        ┆ 19.0                │\n",
       "│ 22  ┆ 50000.0  ┆ 30.0 ┆ Male   ┆ Bachelor's      ┆ IT Support              ┆ 2.0                 │\n",
       "│ 23  ┆ 60000.0  ┆ 36.0 ┆ Female ┆ Bachelor's      ┆ Recruiter               ┆ 9.0                 │\n",
       "│ 24  ┆ 140000.0 ┆ 41.0 ┆ Male   ┆ Master's        ┆ Financial Manager       ┆ 13.0                │\n",
       "│ 25  ┆ 45000.0  ┆ 28.0 ┆ Female ┆ Bachelor's      ┆ Social Media Specialist ┆ 3.0                 │\n",
       "│ 26  ┆ 110000.0 ┆ 37.0 ┆ Female ┆ Master's        ┆ Software Manager        ┆ 11.0                │\n",
       "│ 27  ┆ 40000.0  ┆ 24.0 ┆ Male   ┆ Bachelor's      ┆ Junior Developer        ┆ 1.0                 │\n",
       "│ 28  ┆ 140000.0 ┆ 43.0 ┆ Female ┆ PhD             ┆ Senior Consultant       ┆ 15.0                │\n",
       "│ 29  ┆ 90000.0  ┆ 33.0 ┆ Male   ┆ Master's        ┆ Product Designer        ┆ 6.0                 │\n",
       "│ 30  ┆ 250000.0 ┆ 50.0 ┆ Male   ┆ Bachelor's      ┆ CEO                     ┆ 25.0                │\n",
       "│ 31  ┆ 55000.0  ┆ 31.0 ┆ Female ┆ Bachelor's      ┆ Accountant              ┆ 4.0                 │\n",
       "│ 32  ┆ 75000.0  ┆ 29.0 ┆ Male   ┆ Master's        ┆ Data Scientist          ┆ 3.0                 │\n",
       "│ 33  ┆ 65000.0  ┆ 39.0 ┆ Female ┆ Bachelor's      ┆ Marketing Specialist    ┆ 10.0                │\n",
       "│ 34  ┆ 170000.0 ┆ 46.0 ┆ Male   ┆ PhD             ┆ Senior Manager          ┆ 20.0                │\n",
       "│ 35  ┆ 45000.0  ┆ 27.0 ┆ Male   ┆ Bachelor's      ┆ Technical Writer        ┆ 2.0                 │\n",
       "│ 36  ┆ 60000.0  ┆ 35.0 ┆ Female ┆ Bachelor's      ┆ HR Generalist           ┆ 7.0                 │\n",
       "│ 37  ┆ 115000.0 ┆ 42.0 ┆ Male   ┆ Master's        ┆ Project Engineer        ┆ 14.0                │\n",
       "│ 38  ┆ 40000.0  ┆ 26.0 ┆ Female ┆ Bachelor's      ┆ Customer Success Rep    ┆ 1.0                 │\n",
       "│ 39  ┆ 160000.0 ┆ 49.0 ┆ Male   ┆ Bachelor's      ┆ Sales Executive         ┆ 21.0                │\n",
       "│ 40  ┆ 80000.0  ┆ 34.0 ┆ Female ┆ Master's        ┆ UX Designer             ┆ 5.0                 │\n",
       "│ 41  ┆ 190000.0 ┆ 48.0 ┆ Male   ┆ Master's        ┆ Operations Director     ┆ 18.0                │\n",
       "│ 42  ┆ 60000.0  ┆ 30.0 ┆ Male   ┆ Bachelor's      ┆ Network Engineer        ┆ 3.0                 │\n",
       "│ 43  ┆ 45000.0  ┆ 36.0 ┆ Female ┆ Bachelor's      ┆ Administrative          ┆ 8.0                 │\n",
       "│     ┆          ┆      ┆        ┆                 ┆ Assistant               ┆                     │\n",
       "│ 44  ┆ 130000.0 ┆ 41.0 ┆ Male   ┆ Master's        ┆ Strategy Consultant     ┆ 13.0                │\n",
       "│ 45  ┆ 40000.0  ┆ 28.0 ┆ Female ┆ Bachelor's      ┆ Copywriter              ┆ 2.0                 │\n",
       "│ 46  ┆ 75000.0  ┆ 32.0 ┆ Male   ┆ Bachelor's      ┆ Account Manager         ┆ 5.0                 │\n",
       "│ 47  ┆ 180000.0 ┆ 45.0 ┆ Female ┆ Master's        ┆ Director of Marketing   ┆ 16.0                │\n",
       "│ 48  ┆ 120000.0 ┆ 38.0 ┆ Male   ┆ PhD             ┆ Senior Scientist        ┆ 11.0                │\n",
       "│ 49  ┆ 35000.0  ┆ 25.0 ┆ Male   ┆ Bachelor's      ┆ Help Desk Analyst       ┆ 0.0                 │\n",
       "│ 50  ┆ 130000.0 ┆ 51.0 ┆ Female ┆ Bachelor's      ┆ Customer Service        ┆ 22.0                │\n",
       "│     ┆          ┆      ┆        ┆                 ┆ Manager                 ┆                     │\n",
       "│ 51  ┆ 85000.0  ┆ 33.0 ┆ Male   ┆ Master's        ┆ null                    ┆ 7.0                 │\n",
       "│ 52  ┆ 60000.0  ┆ 40.0 ┆ Female ┆ Bachelor's      ┆ Event Coordinator       ┆ 12.0                │\n",
       "│ 53  ┆ 200000.0 ┆ 47.0 ┆ Male   ┆ Master's        ┆ VP of Finance           ┆ 19.0                │\n",
       "│ 54  ┆ 50000.0  ┆ 29.0 ┆ Female ┆ Bachelor's      ┆ Graphic Designer        ┆ 3.0                 │\n",
       "│ 55  ┆ 95000.0  ┆ 36.0 ┆ Male   ┆ Bachelor's      ┆ Sales Manager           ┆ 9.0                 │\n",
       "│ 56  ┆ 65000.0  ┆ 27.0 ┆ Female ┆ Master's        ┆ UX Researcher           ┆ 2.0                 │\n",
       "│ 57  ┆ 140000.0 ┆ 43.0 ┆ Male   ┆ PhD             ┆ Senior Engineer         ┆ 17.0                │\n",
       "│ 58  ┆ 55000.0  ┆ 30.0 ┆ Female ┆ Bachelor's      ┆ Social Media Manager    ┆ 4.0                 │\n",
       "│ 59  ┆ 105000.0 ┆ 35.0 ┆ Male   ┆ Master's        ┆ Product Manager         ┆ 7.0                 │\n",
       "│ 60  ┆ 170000.0 ┆ 51.0 ┆ Female ┆ Master's        ┆ null                    ┆ 23.0                │\n",
       "│ 61  ┆ 50000.0  ┆ 29.0 ┆ Male   ┆ Bachelor's      ┆ Marketing Analyst       ┆ 3.0                 │\n",
       "│ 62  ┆ 80000.0  ┆ 40.0 ┆ Female ┆ Bachelor's      ┆ HR Manager              ┆ 12.0                │\n",
       "│ 63  ┆ 180000.0 ┆ 47.0 ┆ Male   ┆ PhD             ┆ Senior Data Scientist   ┆ 21.0                │\n",
       "│ 64  ┆ 35000.0  ┆ 26.0 ┆ Male   ┆ Bachelor's      ┆ Junior Accountant       ┆ 1.0                 │\n",
       "│ 65  ┆ 90000.0  ┆ 38.0 ┆ Female ┆ Master's        ┆ Digital Marketing       ┆ 10.0                │\n",
       "│     ┆          ┆      ┆        ┆                 ┆ Manager                 ┆                     │\n",
       "│ 66  ┆ 120000.0 ┆ 46.0 ┆ Male   ┆ Bachelor's      ┆ IT Manager              ┆ 19.0                │\n",
       "│ 67  ┆ 45000.0  ┆ 31.0 ┆ Female ┆ Bachelor's      ┆ Customer Service        ┆ 5.0                 │\n",
       "│     ┆          ┆      ┆        ┆                 ┆ Representativ…          ┆                     │\n",
       "│ 68  ┆ 90000.0  ┆ 34.0 ┆ Male   ┆ Master's        ┆ Business Development    ┆ 8.0                 │\n",
       "│     ┆          ┆      ┆        ┆                 ┆ Manager                 ┆                     │\n",
       "│ 69  ┆ 150000.0 ┆ 49.0 ┆ Female ┆ Master's        ┆ Senior Financial        ┆ 18.0                │\n",
       "│     ┆          ┆      ┆        ┆                 ┆ Analyst                 ┆                     │\n",
       "│ 70  ┆ 65000.0  ┆ 33.0 ┆ Male   ┆ Bachelor's      ┆ Web Developer           ┆ 6.0                 │\n",
       "│ 71  ┆ 70000.0  ┆ 39.0 ┆ Female ┆ Bachelor's      ┆ Recruiter               ┆ 11.0                │\n",
       "│ 72  ┆ 190000.0 ┆ 45.0 ┆ Male   ┆ PhD             ┆ Research Director       ┆ 16.0                │\n",
       "│ 73  ┆ 40000.0  ┆ 28.0 ┆ Male   ┆ Bachelor's      ┆ Technical Support       ┆ 2.0                 │\n",
       "│     ┆          ┆      ┆        ┆                 ┆ Specialist              ┆                     │\n",
       "│ 74  ┆ 120000.0 ┆ 42.0 ┆ Female ┆ Master's        ┆ Creative Director       ┆ 14.0                │\n",
       "│ 75  ┆ 95000.0  ┆ 37.0 ┆ Male   ┆ Bachelor's      ┆ Project Manager         ┆ 10.0                │\n",
       "│ 76  ┆ 160000.0 ┆ 50.0 ┆ Female ┆ Bachelor's      ┆ Operations Manager      ┆ 22.0                │\n",
       "│ 77  ┆ 100000.0 ┆ 32.0 ┆ Male   ┆ Master's        ┆ Senior Software         ┆ 6.0                 │\n",
       "│     ┆          ┆      ┆        ┆                 ┆ Engineer                ┆                     │\n",
       "│ 78  ┆ 180000.0 ┆ 48.0 ┆ Female ┆ Master's        ┆ Human Resources         ┆ 20.0                │\n",
       "│     ┆          ┆      ┆        ┆                 ┆ Director                ┆                     │\n",
       "│ 79  ┆ 55000.0  ┆ 30.0 ┆ Female ┆ Bachelor's      ┆ Content Marketing       ┆ 3.0                 │\n",
       "│     ┆          ┆      ┆        ┆                 ┆ Manager                 ┆                     │\n",
       "│ 80  ┆ 70000.0  ┆ 36.0 ┆ Male   ┆ Bachelor's      ┆ Technical Recruiter     ┆ 8.0                 │\n",
       "│ 81  ┆ 80000.0  ┆ 41.0 ┆ Female ┆ Master's        ┆ Data Analyst            ┆ 13.0                │\n",
       "│ 82  ┆ 30000.0  ┆ 25.0 ┆ Male   ┆ Bachelor's      ┆ Sales Representative    ┆ 0.0                 │\n",
       "│ 83  ┆ 250000.0 ┆ 52.0 ┆ Male   ┆ PhD             ┆ Chief Technology        ┆ 24.0                │\n",
       "│     ┆          ┆      ┆        ┆                 ┆ Officer                 ┆                     │\n",
       "│ 84  ┆ 40000.0  ┆ 29.0 ┆ Female ┆ Bachelor's      ┆ Junior Designer         ┆ 2.0                 │\n",
       "│ 85  ┆ 95000.0  ┆ 34.0 ┆ Female ┆ Master's        ┆ Financial Advisor       ┆ 10.0                │\n",
       "│ 86  ┆ 45000.0  ┆ 27.0 ┆ Male   ┆ Bachelor's      ┆ Junior Account Manager  ┆ 2.0                 │\n",
       "│ 87  ┆ 80000.0  ┆ 40.0 ┆ Female ┆ Bachelor's      ┆ HR Generalist           ┆ 15.0                │\n",
       "│ 88  ┆ 135000.0 ┆ 46.0 ┆ Male   ┆ Master's        ┆ Senior Project Manager  ┆ 21.0                │\n",
       "│ 89  ┆ 55000.0  ┆ 31.0 ┆ Female ┆ Bachelor's      ┆ Marketing Coordinator   ┆ 6.0                 │\n",
       "│ 90  ┆ 120000.0 ┆ 36.0 ┆ Male   ┆ PhD             ┆ Principal Scientist     ┆ 11.0                │\n",
       "│ 91  ┆ 40000.0  ┆ 29.0 ┆ Female ┆ Bachelor's      ┆ Sales Associate         ┆ 3.0                 │\n",
       "│ 92  ┆ 105000.0 ┆ 43.0 ┆ Male   ┆ Bachelor's      ┆ Supply Chain Manager    ┆ 18.0                │\n",
       "│ 93  ┆ 170000.0 ┆ 52.0 ┆ Female ┆ Master's        ┆ Senior Marketing        ┆ 25.0                │\n",
       "│     ┆          ┆      ┆        ┆                 ┆ Manager                 ┆                     │\n",
       "│ 94  ┆ 75000.0  ┆ 33.0 ┆ Male   ┆ Bachelor's      ┆ Business Analyst        ┆ 7.0                 │\n",
       "│ 95  ┆ 65000.0  ┆ 39.0 ┆ Female ┆ Bachelor's      ┆ Training Specialist     ┆ 12.0                │\n",
       "│ 96  ┆ 160000.0 ┆ 47.0 ┆ Male   ┆ PhD             ┆ Research Scientist      ┆ 22.0                │\n",
       "│ 97  ┆ 35000.0  ┆ 26.0 ┆ Male   ┆ Bachelor's      ┆ Junior Software         ┆ 1.0                 │\n",
       "│     ┆          ┆      ┆        ┆                 ┆ Developer               ┆                     │\n",
       "│ 98  ┆ 90000.0  ┆ 38.0 ┆ Female ┆ Master's        ┆ Public Relations        ┆ 10.0                │\n",
       "│     ┆          ┆      ┆        ┆                 ┆ Manager                 ┆                     │\n",
       "│ 99  ┆ 110000.0 ┆ 45.0 ┆ Male   ┆ Bachelor's      ┆ Operations Analyst      ┆ 20.0                │\n",
       "│ 100 ┆ 45000.0  ┆ 31.0 ┆ Female ┆ Bachelor's      ┆ Event Coordinator       ┆ 5.0                 │\n",
       "│ 101 ┆ 95000.0  ┆ 35.0 ┆ Male   ┆ Master's        ┆ Product Marketing       ┆ 8.0                 │\n",
       "│     ┆          ┆      ┆        ┆                 ┆ Manager                 ┆                     │\n",
       "│ 102 ┆ 150000.0 ┆ 49.0 ┆ Female ┆ Master's        ┆ Senior HR Manager       ┆ 19.0                │\n",
       "│ 103 ┆ 50000.0  ┆ 33.0 ┆ Male   ┆ Bachelor's      ┆ Junior Web Developer    ┆ 5.0                 │\n",
       "│ 104 ┆ 80000.0  ┆ 39.0 ┆ Female ┆ Master's        ┆ Senior Project          ┆ 13.0                │\n",
       "│     ┆          ┆      ┆        ┆                 ┆ Coordinator             ┆                     │\n",
       "│ 105 ┆ 220000.0 ┆ 44.0 ┆ Male   ┆ PhD             ┆ Chief Data Officer      ┆ 16.0                │\n",
       "│ 106 ┆ 50000.0  ┆ 30.0 ┆ Female ┆ Bachelor's      ┆ Digital Content         ┆ 3.0                 │\n",
       "│     ┆          ┆      ┆        ┆                 ┆ Producer                ┆                     │\n",
       "│ 107 ┆ 60000.0  ┆ 36.0 ┆ Male   ┆ Bachelor's      ┆ IT Support Specialist   ┆ 7.0                 │\n",
       "│ 108 ┆ 100000.0 ┆ 41.0 ┆ Female ┆ Master's        ┆ Senior Marketing        ┆ 14.0                │\n",
       "│     ┆          ┆      ┆        ┆                 ┆ Analyst                 ┆                     │\n",
       "│ 109 ┆ 40000.0  ┆ 28.0 ┆ Male   ┆ Bachelor's      ┆ Customer Success        ┆ 2.0                 │\n",
       "│     ┆          ┆      ┆        ┆                 ┆ Manager                 ┆                     │\n",
       "│ 110 ┆ 110000.0 ┆ 42.0 ┆ Female ┆ Master's        ┆ Senior Graphic Designer ┆ 15.0                │\n",
       "│ 111 ┆ 95000.0  ┆ 37.0 ┆ Male   ┆ Bachelor's      ┆ Software Project        ┆ 9.0                 │\n",
       "│     ┆          ┆      ┆        ┆                 ┆ Manager                 ┆                     │\n",
       "│ 112 ┆ 130000.0 ┆ 50.0 ┆ Female ┆ Bachelor's      ┆ Supply Chain Analyst    ┆ 22.0                │\n",
       "│ 113 ┆ 90000.0  ┆ 32.0 ┆ Male   ┆ Master's        ┆ Senior Business Analyst ┆ 6.0                 │\n",
       "│ 114 ┆ 35000.0  ┆ 23.0 ┆ Female ┆ Bachelor's      ┆ Junior Marketing        ┆ 0.5                 │\n",
       "│     ┆          ┆      ┆        ┆                 ┆ Analyst                 ┆                     │\n",
       "│ 115 ┆ 95000.0  ┆ 31.0 ┆ Male   ┆ Master's        ┆ Senior Financial        ┆ 6.0                 │\n",
       "│     ┆          ┆      ┆        ┆                 ┆ Analyst                 ┆                     │\n",
       "│ 116 ┆ 65000.0  ┆ 40.0 ┆ Female ┆ Bachelor's      ┆ Office Manager          ┆ 15.0                │\n",
       "│ 117 ┆ 170000.0 ┆ 48.0 ┆ Male   ┆ PhD             ┆ Principal Engineer      ┆ 20.0                │\n",
       "│ 118 ┆ 45000.0  ┆ 29.0 ┆ Female ┆ Bachelor's      ┆ Junior HR Generalist    ┆ 3.0                 │\n",
       "│ 119 ┆ 120000.0 ┆ 35.0 ┆ Male   ┆ Master's        ┆ Senior Product Manager  ┆ 10.0                │\n",
       "│ 120 ┆ 100000.0 ┆ 42.0 ┆ Female ┆ Bachelor's      ┆ Sales Manager           ┆ 17.0                │\n",
       "│ 121 ┆ 180000.0 ┆ 53.0 ┆ Male   ┆ Master's        ┆ Director of Marketing   ┆ 25.0                │\n",
       "│ 122 ┆ 50000.0  ┆ 33.0 ┆ Female ┆ Bachelor's      ┆ Junior Operations       ┆ 5.0                 │\n",
       "│     ┆          ┆      ┆        ┆                 ┆ Analyst                 ┆                     │\n",
       "│ 123 ┆ 80000.0  ┆ 38.0 ┆ Male   ┆ Bachelor's      ┆ Customer Service        ┆ 11.0                │\n",
       "│     ┆          ┆      ┆        ┆                 ┆ Manager                 ┆                     │\n",
       "│ 124 ┆ 140000.0 ┆ 44.0 ┆ Female ┆ PhD             ┆ Senior Scientist        ┆ 16.0                │\n",
       "│ 125 ┆ 40000.0  ┆ 26.0 ┆ Male   ┆ Bachelor's      ┆ Junior Accountant       ┆ 2.0                 │\n",
       "│ 126 ┆ 95000.0  ┆ 37.0 ┆ Female ┆ Master's        ┆ Senior HR Generalist    ┆ 9.0                 │\n",
       "│ 127 ┆ 110000.0 ┆ 45.0 ┆ Male   ┆ Bachelor's      ┆ Sales Operations        ┆ 18.0                │\n",
       "│     ┆          ┆      ┆        ┆                 ┆ Manager                 ┆                     │\n",
       "│ 128 ┆ 50000.0  ┆ 32.0 ┆ Female ┆ Bachelor's      ┆ Marketing Coordinator   ┆ 4.0                 │\n",
       "│ 129 ┆ 105000.0 ┆ 34.0 ┆ Male   ┆ Master's        ┆ Senior Software         ┆ 8.0                 │\n",
       "│     ┆          ┆      ┆        ┆                 ┆ Developer               ┆                     │\n",
       "│ 130 ┆ 160000.0 ┆ 50.0 ┆ Female ┆ Master's        ┆ Director of Operations  ┆ 21.0                │\n",
       "│ 131 ┆ 45000.0  ┆ 29.0 ┆ Male   ┆ Bachelor's      ┆ Junior Web Designer     ┆ 3.0                 │\n",
       "│ 132 ┆ 100000.0 ┆ 40.0 ┆ Female ┆ Master's        ┆ Senior Training         ┆ 12.0                │\n",
       "│     ┆          ┆      ┆        ┆                 ┆ Specialist              ┆                     │\n",
       "│ 133 ┆ 160000.0 ┆ 47.0 ┆ Male   ┆ PhD             ┆ Senior Research         ┆ 22.0                │\n",
       "│     ┆          ┆      ┆        ┆                 ┆ Scientist               ┆                     │\n",
       "│ 134 ┆ 35000.0  ┆ 27.0 ┆ Male   ┆ Bachelor's      ┆ Junior Sales            ┆ 1.0                 │\n",
       "│     ┆          ┆      ┆        ┆                 ┆ Representative          ┆                     │\n",
       "│ 135 ┆ 55000.0  ┆ 39.0 ┆ Female ┆ Bachelor's      ┆ Administrative          ┆ 10.0                │\n",
       "│     ┆          ┆      ┆        ┆                 ┆ Assistant               ┆                     │\n",
       "│ 136 ┆ 140000.0 ┆ 46.0 ┆ Male   ┆ Master's        ┆ Senior Project Manager  ┆ 19.0                │\n",
       "│ 137 ┆ 50000.0  ┆ 30.0 ┆ Female ┆ Bachelor's      ┆ Junior Marketing        ┆ 4.0                 │\n",
       "│     ┆          ┆      ┆        ┆                 ┆ Manager                 ┆                     │\n",
       "│ 138 ┆ 60000.0  ┆ 36.0 ┆ Male   ┆ Bachelor's      ┆ Junior Data Analyst     ┆ 7.0                 │\n",
       "│ 139 ┆ 120000.0 ┆ 43.0 ┆ Female ┆ null            ┆ Senior Product          ┆ 14.0                │\n",
       "│     ┆          ┆      ┆        ┆                 ┆ Marketing Manag…        ┆                     │\n",
       "│ 140 ┆ 40000.0  ┆ 28.0 ┆ Male   ┆ Bachelor's      ┆ Junior Business Analyst ┆ 2.0                 │\n",
       "│ 141 ┆ 110000.0 ┆ 41.0 ┆ Female ┆ Master's        ┆ Senior Marketing        ┆ 13.0                │\n",
       "│     ┆          ┆      ┆        ┆                 ┆ Manager                 ┆                     │\n",
       "│ 142 ┆ 50000.0  ┆ 33.0 ┆ Male   ┆ Bachelor's      ┆ Junior Software         ┆ 5.0                 │\n",
       "│     ┆          ┆      ┆        ┆                 ┆ Developer               ┆                     │\n",
       "│ 143 ┆ 135000.0 ┆ 47.0 ┆ Male   ┆ Bachelor's      ┆ Senior Sales Manager    ┆ 20.0                │\n",
       "│ 144 ┆ 40000.0  ┆ 25.0 ┆ Female ┆ Master's        ┆ Junior Marketing        ┆ 1.5                 │\n",
       "│     ┆          ┆      ┆        ┆                 ┆ Specialist              ┆                     │\n",
       "│ 145 ┆ 90000.0  ┆ 34.0 ┆ Male   ┆ Bachelor's      ┆ Senior Business Analyst ┆ 8.0                 │\n",
       "│ 146 ┆ 150000.0 ┆ 42.0 ┆ Female ┆ PhD             ┆ Senior Data Scientist   ┆ 16.0                │\n",
       "│ 147 ┆ 60000.0  ┆ 31.0 ┆ Male   ┆ Bachelor's      ┆ Junior Project Manager  ┆ 4.0                 │\n",
       "│ 148 ┆ 80000.0  ┆ 38.0 ┆ Female ┆ Bachelor's      ┆ Senior Accountant       ┆ 10.0                │\n",
       "│ 149 ┆ 175000.0 ┆ 45.0 ┆ Male   ┆ Master's        ┆ Director of Sales       ┆ 19.0                │\n",
       "│ 150 ┆ 45000.0  ┆ 29.0 ┆ Female ┆ Bachelor's      ┆ Junior Recruiter        ┆ 3.0                 │\n",
       "│ 151 ┆ 120000.0 ┆ 36.0 ┆ Male   ┆ Master's        ┆ Senior Business         ┆ 11.0                │\n",
       "│     ┆          ┆      ┆        ┆                 ┆ Development Ma…         ┆                     │\n",
       "│ 152 ┆ 140000.0 ┆ 43.0 ┆ Female ┆ PhD             ┆ Senior Product Designer ┆ 18.0                │\n",
       "│ 153 ┆ 35000.0  ┆ 26.0 ┆ Male   ┆ Bachelor's      ┆ Junior Customer Support ┆ 2.0                 │\n",
       "│     ┆          ┆      ┆        ┆                 ┆ Specia…                 ┆                     │\n",
       "│ 154 ┆ 95000.0  ┆ 37.0 ┆ Female ┆ Master's        ┆ Senior Marketing        ┆ 9.0                 │\n",
       "│     ┆          ┆      ┆        ┆                 ┆ Analyst                 ┆                     │\n",
       "│ 155 ┆ 110000.0 ┆ 44.0 ┆ Male   ┆ Bachelor's      ┆ Senior IT Support       ┆ 14.0                │\n",
       "│     ┆          ┆      ┆        ┆                 ┆ Specialist              ┆                     │\n",
       "│ 156 ┆ 50000.0  ┆ 32.0 ┆ Female ┆ Bachelor's      ┆ Junior Financial        ┆ 5.0                 │\n",
       "│     ┆          ┆      ┆        ┆                 ┆ Analyst                 ┆                     │\n",
       "│ 157 ┆ 115000.0 ┆ 33.0 ┆ Male   ┆ Master's        ┆ Senior Operations       ┆ 7.0                 │\n",
       "│     ┆          ┆      ┆        ┆                 ┆ Manager                 ┆                     │\n",
       "│ 158 ┆ 185000.0 ┆ 51.0 ┆ Female ┆ PhD             ┆ Director of Human       ┆ 23.0                │\n",
       "│     ┆          ┆      ┆        ┆                 ┆ Resources               ┆                     │\n",
       "│ 159 ┆ 40000.0  ┆ 28.0 ┆ Male   ┆ Bachelor's      ┆ Junior Software         ┆ 2.0                 │\n",
       "│     ┆          ┆      ┆        ┆                 ┆ Engineer                ┆                     │\n",
       "│ 160 ┆ 90000.0  ┆ 39.0 ┆ Female ┆ Bachelor's      ┆ Senior Sales            ┆ 12.0                │\n",
       "│     ┆          ┆      ┆        ┆                 ┆ Representative          ┆                     │\n",
       "│ 161 ┆ 175000.0 ┆ 48.0 ┆ Male   ┆ Master's        ┆ Director of Product     ┆ 21.0                │\n",
       "│     ┆          ┆      ┆        ┆                 ┆ Management              ┆                     │\n",
       "│ 162 ┆ 45000.0  ┆ 30.0 ┆ Female ┆ Bachelor's      ┆ Junior Copywriter       ┆ 3.0                 │\n",
       "│ 163 ┆ 80000.0  ┆ 35.0 ┆ Male   ┆ Bachelor's      ┆ Senior Marketing        ┆ 7.0                 │\n",
       "│     ┆          ┆      ┆        ┆                 ┆ Coordinator             ┆                     │\n",
       "│ 164 ┆ 120000.0 ┆ 41.0 ┆ Female ┆ Master's        ┆ Senior Human Resources  ┆ 13.0                │\n",
       "│     ┆          ┆      ┆        ┆                 ┆ Manager                 ┆                     │\n",
       "│ 165 ┆ 35000.0  ┆ 27.0 ┆ Male   ┆ Bachelor's      ┆ Junior Business         ┆ 1.5                 │\n",
       "│     ┆          ┆      ┆        ┆                 ┆ Development As…         ┆                     │\n",
       "│ 166 ┆ 110000.0 ┆ 40.0 ┆ Female ┆ Bachelor's      ┆ Senior Account Manager  ┆ 14.0                │\n",
       "│ 167 ┆ 150000.0 ┆ 46.0 ┆ Male   ┆ PhD             ┆ Senior Researcher       ┆ 18.0                │\n",
       "│ 168 ┆ 50000.0  ┆ 31.0 ┆ Female ┆ Bachelor's      ┆ Junior HR Coordinator   ┆ 4.0                 │\n",
       "│ 169 ┆ 105000.0 ┆ 34.0 ┆ Male   ┆ Master's        ┆ Senior Software         ┆ 9.0                 │\n",
       "│     ┆          ┆      ┆        ┆                 ┆ Engineer                ┆                     │\n",
       "│ 170 ┆ 180000.0 ┆ 50.0 ┆ Female ┆ Master's        ┆ Director of Finance     ┆ 20.0                │\n",
       "│ 171 ┆ 40000.0  ┆ 29.0 ┆ Male   ┆ Bachelor's      ┆ Junior Marketing        ┆ 2.0                 │\n",
       "│     ┆          ┆      ┆        ┆                 ┆ Coordinator             ┆                     │\n",
       "│ 172 ┆ null     ┆ null ┆ null   ┆ null            ┆ null                    ┆ null                │\n",
       "│ 173 ┆ 140000.0 ┆ 43.0 ┆ Male   ┆ Bachelor's      ┆ Senior Project Manager  ┆ 16.0                │\n",
       "│ 174 ┆ 45000.0  ┆ 26.0 ┆ Female ┆ Master's        ┆ Junior Data Scientist   ┆ 1.5                 │\n",
       "│ 175 ┆ 85000.0  ┆ 35.0 ┆ Male   ┆ Bachelor's      ┆ Senior Operations       ┆ 7.0                 │\n",
       "│     ┆          ┆      ┆        ┆                 ┆ Analyst                 ┆                     │\n",
       "│ 176 ┆ 140000.0 ┆ 42.0 ┆ Female ┆ PhD             ┆ Senior Marketing        ┆ 18.0                │\n",
       "│     ┆          ┆      ┆        ┆                 ┆ Manager                 ┆                     │\n",
       "│ 177 ┆ 50000.0  ┆ 31.0 ┆ Male   ┆ Bachelor's      ┆ Junior Accountant       ┆ 4.0                 │\n",
       "│ 178 ┆ 80000.0  ┆ 38.0 ┆ Female ┆ Bachelor's      ┆ Senior Human Resources  ┆ 10.0                │\n",
       "│     ┆          ┆      ┆        ┆                 ┆ Coordin…                ┆                     │\n",
       "│ 179 ┆ 170000.0 ┆ 46.0 ┆ Male   ┆ Master's        ┆ Director of Operations  ┆ 20.0                │\n",
       "│ 180 ┆ 40000.0  ┆ 29.0 ┆ Female ┆ Bachelor's      ┆ Junior Sales            ┆ 2.0                 │\n",
       "│     ┆          ┆      ┆        ┆                 ┆ Representative          ┆                     │\n",
       "│ 181 ┆ 105000.0 ┆ 37.0 ┆ Male   ┆ Master's        ┆ Senior Business Analyst ┆ 9.0                 │\n",
       "│ 182 ┆ 145000.0 ┆ 44.0 ┆ Female ┆ PhD             ┆ Senior UX Designer      ┆ 15.0                │\n",
       "│ 183 ┆ 40000.0  ┆ 27.0 ┆ Male   ┆ Bachelor's      ┆ Junior Product Manager  ┆ 2.0                 │\n",
       "│ 184 ┆ 85000.0  ┆ 36.0 ┆ Female ┆ Bachelor's      ┆ Senior Marketing        ┆ 8.0                 │\n",
       "│     ┆          ┆      ┆        ┆                 ┆ Specialist              ┆                     │\n",
       "│ 185 ┆ 130000.0 ┆ 43.0 ┆ Male   ┆ Bachelor's      ┆ Senior IT Project       ┆ 14.0                │\n",
       "│     ┆          ┆      ┆        ┆                 ┆ Manager                 ┆                     │\n",
       "│ 186 ┆ 95000.0  ┆ 33.0 ┆ Female ┆ Master's        ┆ Senior Financial        ┆ 6.0                 │\n",
       "│     ┆          ┆      ┆        ┆                 ┆ Analyst                 ┆                     │\n",
       "│ 187 ┆ 100000.0 ┆ 34.0 ┆ Male   ┆ Bachelor's      ┆ Senior Quality          ┆ 9.0                 │\n",
       "│     ┆          ┆      ┆        ┆                 ┆ Assurance Analy…        ┆                     │\n",
       "│ 188 ┆ 180000.0 ┆ 50.0 ┆ Female ┆ PhD             ┆ Director of Sales and   ┆ 22.0                │\n",
       "│     ┆          ┆      ┆        ┆                 ┆ Marketin…               ┆                     │\n",
       "│ 189 ┆ 35000.0  ┆ 28.0 ┆ Male   ┆ Bachelor's      ┆ Junior Operations       ┆ 1.5                 │\n",
       "│     ┆          ┆      ┆        ┆                 ┆ Analyst                 ┆                     │\n",
       "│ 190 ┆ 95000.0  ┆ 39.0 ┆ Female ┆ Bachelor's      ┆ Senior Account          ┆ 12.0                │\n",
       "│     ┆          ┆      ┆        ┆                 ┆ Executive               ┆                     │\n",
       "│ 191 ┆ 170000.0 ┆ 47.0 ┆ Male   ┆ Master's        ┆ Director of Business    ┆ 19.0                │\n",
       "│     ┆          ┆      ┆        ┆                 ┆ Developme…              ┆                     │\n",
       "│ 192 ┆ 45000.0  ┆ 30.0 ┆ Female ┆ Bachelor's      ┆ Junior Social Media     ┆ 3.0                 │\n",
       "│     ┆          ┆      ┆        ┆                 ┆ Manager                 ┆                     │\n",
       "│ 193 ┆ 95000.0  ┆ 34.0 ┆ Male   ┆ Bachelor's      ┆ Senior Product Manager  ┆ 7.0                 │\n",
       "│ 194 ┆ 120000.0 ┆ 40.0 ┆ Female ┆ Master's        ┆ Senior Human Resources  ┆ 13.0                │\n",
       "│     ┆          ┆      ┆        ┆                 ┆ Special…                ┆                     │\n",
       "│ 195 ┆ 40000.0  ┆ 28.0 ┆ Male   ┆ Bachelor's      ┆ Junior Business Analyst ┆ 2.0                 │\n",
       "│ 196 ┆ 90000.0  ┆ 41.0 ┆ Female ┆ Bachelor's      ┆ Senior Marketing        ┆ 11.0                │\n",
       "│     ┆          ┆      ┆        ┆                 ┆ Coordinator             ┆                     │\n",
       "│ 197 ┆ 155000.0 ┆ 45.0 ┆ Male   ┆ PhD             ┆ Senior Data Analyst     ┆ 17.0                │\n",
       "│ 198 ┆ 55000.0  ┆ 32.0 ┆ Female ┆ Bachelor's      ┆ Junior Account Manager  ┆ 5.0                 │\n",
       "│ 199 ┆ 110000.0 ┆ 35.0 ┆ Male   ┆ Master's        ┆ Senior Software         ┆ 9.0                 │\n",
       "│     ┆          ┆      ┆        ┆                 ┆ Developer               ┆                     │\n",
       "│ 200 ┆ 180000.0 ┆ 49.0 ┆ Female ┆ Master's        ┆ Director of Human       ┆ 21.0                │\n",
       "│     ┆          ┆      ┆        ┆                 ┆ Capital                 ┆                     │\n",
       "│ 201 ┆ 45000.0  ┆ 30.0 ┆ Male   ┆ Bachelor's      ┆ Junior Advertising      ┆ 3.0                 │\n",
       "│     ┆          ┆      ┆        ┆                 ┆ Coordinator             ┆                     │\n",
       "│ 202 ┆ 130000.0 ┆ 44.0 ┆ Male   ┆ Bachelor's      ┆ Senior Sales Manager    ┆ 16.0                │\n",
       "│ 203 ┆ 45000.0  ┆ 27.0 ┆ Female ┆ Master's        ┆ Junior UX Designer      ┆ 1.5                 │\n",
       "│ 204 ┆ 90000.0  ┆ 36.0 ┆ Male   ┆ Bachelor's      ┆ Senior Accountant       ┆ 7.0                 │\n",
       "│ 205 ┆ 160000.0 ┆ 41.0 ┆ Female ┆ PhD             ┆ Senior Marketing        ┆ 17.0                │\n",
       "│     ┆          ┆      ┆        ┆                 ┆ Director                ┆                     │\n",
       "│ 206 ┆ 50000.0  ┆ 31.0 ┆ Male   ┆ Bachelor's      ┆ Junior HR Generalist    ┆ 4.0                 │\n",
       "│ 207 ┆ 120000.0 ┆ 39.0 ┆ Female ┆ Bachelor's      ┆ Senior Operations       ┆ 10.0                │\n",
       "│     ┆          ┆      ┆        ┆                 ┆ Manager                 ┆                     │\n",
       "│ 208 ┆ 170000.0 ┆ 47.0 ┆ Male   ┆ Master's        ┆ Director of Finance     ┆ 20.0                │\n",
       "│ 209 ┆ 40000.0  ┆ 30.0 ┆ Female ┆ Bachelor's      ┆ Junior Marketing        ┆ 2.0                 │\n",
       "│     ┆          ┆      ┆        ┆                 ┆ Coordinator             ┆                     │\n",
       "│ 210 ┆ 110000.0 ┆ 38.0 ┆ Male   ┆ Master's        ┆ Senior IT Consultant    ┆ 9.0                 │\n",
       "│ 211 ┆ 150000.0 ┆ 45.0 ┆ Female ┆ PhD             ┆ Senior Product Designer ┆ 15.0                │\n",
       "│ 212 ┆ 40000.0  ┆ 28.0 ┆ Male   ┆ Bachelor's      ┆ Junior Business         ┆ 2.0                 │\n",
       "│     ┆          ┆      ┆        ┆                 ┆ Development As…         ┆                     │\n",
       "│ 213 ┆ 85000.0  ┆ 35.0 ┆ Female ┆ Bachelor's      ┆ Senior Marketing        ┆ 8.0                 │\n",
       "│     ┆          ┆      ┆        ┆                 ┆ Analyst                 ┆                     │\n",
       "│ 214 ┆ 130000.0 ┆ 44.0 ┆ Male   ┆ Bachelor's      ┆ Senior Software         ┆ 14.0                │\n",
       "│     ┆          ┆      ┆        ┆                 ┆ Engineer                ┆                     │\n",
       "│ 215 ┆ 100000.0 ┆ 34.0 ┆ Female ┆ Master's        ┆ Senior Financial        ┆ 6.0                 │\n",
       "│     ┆          ┆      ┆        ┆                 ┆ Advisor                 ┆                     │\n",
       "│ 216 ┆ 95000.0  ┆ 35.0 ┆ Male   ┆ Bachelor's      ┆ Senior Project          ┆ 9.0                 │\n",
       "│     ┆          ┆      ┆        ┆                 ┆ Coordinator             ┆                     │\n",
       "│ 217 ┆ 180000.0 ┆ 50.0 ┆ Female ┆ PhD             ┆ Director of Operations  ┆ 22.0                │\n",
       "│ 218 ┆ 35000.0  ┆ 29.0 ┆ Male   ┆ Bachelor's      ┆ Junior Business         ┆ 1.5                 │\n",
       "│     ┆          ┆      ┆        ┆                 ┆ Operations Ana…         ┆                     │\n",
       "│ 219 ┆ 100000.0 ┆ 40.0 ┆ null   ┆ Bachelor's      ┆ Senior Sales            ┆ 12.0                │\n",
       "│     ┆          ┆      ┆        ┆                 ┆ Representative          ┆                     │\n",
       "│ 220 ┆ 170000.0 ┆ 48.0 ┆ Male   ┆ Master's        ┆ Director of Marketing   ┆ 19.0                │\n",
       "│ 221 ┆ 45000.0  ┆ null ┆ Female ┆ Bachelor's      ┆ Junior Social Media     ┆ 3.0                 │\n",
       "│     ┆          ┆      ┆        ┆                 ┆ Specialist              ┆                     │\n",
       "│ 222 ┆ 100000.0 ┆ 33.0 ┆ Male   ┆ Bachelor's      ┆ Senior Product          ┆ 7.0                 │\n",
       "│     ┆          ┆      ┆        ┆                 ┆ Development Man…        ┆                     │\n",
       "│ 223 ┆ 140000.0 ┆ 42.0 ┆ Female ┆ Master's        ┆ Senior Human Resources  ┆ 13.0                │\n",
       "│     ┆          ┆      ┆        ┆                 ┆ Manager                 ┆                     │\n",
       "│ 224 ┆ 40000.0  ┆ 28.0 ┆ Male   ┆ Bachelor's      ┆ Junior Financial        ┆ 2.0                 │\n",
       "│     ┆          ┆      ┆        ┆                 ┆ Analyst                 ┆                     │\n",
       "│ 225 ┆ 105000.0 ┆ 40.0 ┆ null   ┆ Bachelor's      ┆ Senior Marketing        ┆ 11.0                │\n",
       "│     ┆          ┆      ┆        ┆                 ┆ Manager                 ┆                     │\n",
       "│ 226 ┆ 160000.0 ┆ 46.0 ┆ Male   ┆ PhD             ┆ Senior Data Scientist   ┆ 18.0                │\n",
       "│ 227 ┆ 70000.0  ┆ 33.0 ┆ Female ┆ Bachelor's      ┆ Junior Operations       ┆ 5.0                 │\n",
       "│     ┆          ┆      ┆        ┆                 ┆ Manager                 ┆                     │\n",
       "│ 228 ┆ 120000.0 ┆ 37.0 ┆ Male   ┆ Master's        ┆ Senior Software         ┆ 9.0                 │\n",
       "│     ┆          ┆      ┆        ┆                 ┆ Architect               ┆                     │\n",
       "│ 229 ┆ 190000.0 ┆ 51.0 ┆ Female ┆ Master's        ┆ Director of Human       ┆ 21.0                │\n",
       "│     ┆          ┆      ┆        ┆                 ┆ Resources               ┆                     │\n",
       "│ 230 ┆ 45000.0  ┆ 30.0 ┆ Male   ┆ Bachelor's      ┆ Junior Marketing        ┆ 3.0                 │\n",
       "│     ┆          ┆      ┆        ┆                 ┆ Specialist              ┆                     │\n",
       "│ 231 ┆ 120000.0 ┆ 43.0 ┆ Male   ┆ Bachelor's      ┆ Senior Project Manager  ┆ 15.0                │\n",
       "│ 232 ┆ 50000.0  ┆ 27.0 ┆ Female ┆ Master's        ┆ Junior Research         ┆ 1.5                 │\n",
       "│     ┆          ┆      ┆        ┆                 ┆ Scientist               ┆                     │\n",
       "│ 233 ┆ 85000.0  ┆ 35.0 ┆ Male   ┆ Bachelor's      ┆ Senior Operations       ┆ 8.0                 │\n",
       "│     ┆          ┆      ┆        ┆                 ┆ Analyst                 ┆                     │\n",
       "│ 234 ┆ 140000.0 ┆ 42.0 ┆ Female ┆ PhD             ┆ Senior Marketing        ┆ 13.0                │\n",
       "│     ┆          ┆      ┆        ┆                 ┆ Manager                 ┆                     │\n",
       "│ 235 ┆ 45000.0  ┆ 32.0 ┆ null   ┆ Bachelor's      ┆ Junior Sales            ┆ 3.0                 │\n",
       "│     ┆          ┆      ┆        ┆                 ┆ Representative          ┆                     │\n",
       "│ 236 ┆ 100000.0 ┆ 37.0 ┆ Female ┆ Bachelor's      ┆ Senior Financial        ┆ 9.0                 │\n",
       "│     ┆          ┆      ┆        ┆                 ┆ Analyst                 ┆                     │\n",
       "│ 237 ┆ 140000.0 ┆ 45.0 ┆ Male   ┆ Master's        ┆ Senior Software         ┆ 16.0                │\n",
       "│     ┆          ┆      ┆        ┆                 ┆ Developer               ┆                     │\n",
       "│ 238 ┆ 70000.0  ┆ 33.0 ┆ Female ┆ Bachelor's      ┆ Junior Operations       ┆ 5.0                 │\n",
       "│     ┆          ┆      ┆        ┆                 ┆ Analyst                 ┆                     │\n",
       "│ 239 ┆ 120000.0 ┆ 39.0 ┆ Male   ┆ Bachelor's      ┆ Senior Marketing        ┆ 10.0                │\n",
       "│     ┆          ┆      ┆        ┆                 ┆ Specialist              ┆                     │\n",
       "│ 240 ┆ 160000.0 ┆ 44.0 ┆ Female ┆ PhD             ┆ Senior HR Manager       ┆ 18.0                │\n",
       "│ 241 ┆ 40000.0  ┆ 29.0 ┆ Male   ┆ Bachelor's      ┆ Junior Business Analyst ┆ 1.5                 │\n",
       "│ 242 ┆ 120000.0 ┆ 38.0 ┆ Female ┆ Bachelor's      ┆ Senior Product Manager  ┆ 10.0                │\n",
       "│ 243 ┆ 150000.0 ┆ 46.0 ┆ Male   ┆ PhD             ┆ Senior Data Analyst     ┆ 19.0                │\n",
       "│ 244 ┆ 70000.0  ┆ 34.0 ┆ Female ┆ Bachelor's      ┆ Junior Marketing        ┆ 6.0                 │\n",
       "│     ┆          ┆      ┆        ┆                 ┆ Analyst                 ┆                     │\n",
       "│ 245 ┆ 95000.0  ┆ 36.0 ┆ Male   ┆ Bachelor's      ┆ Senior Operations       ┆ 8.0                 │\n",
       "│     ┆          ┆      ┆        ┆                 ┆ Manager                 ┆                     │\n",
       "│ 246 ┆ 180000.0 ┆ 49.0 ┆ Female ┆ Master's        ┆ Director of Marketing   ┆ 21.0                │\n",
       "│ 247 ┆ 50000.0  ┆ 31.0 ┆ Male   ┆ Bachelor's      ┆ Junior Financial        ┆ 3.0                 │\n",
       "│     ┆          ┆      ┆        ┆                 ┆ Analyst                 ┆                     │\n",
       "│ 248 ┆ 95000.0  ┆ 41.0 ┆ Female ┆ Bachelor's      ┆ Senior Project          ┆ 11.0                │\n",
       "│     ┆          ┆      ┆        ┆                 ┆ Coordinator             ┆                     │\n",
       "│ 249 ┆ 170000.0 ┆ 47.0 ┆ Male   ┆ Master's        ┆ Director of Operations  ┆ 20.0                │\n",
       "│ 250 ┆ 40000.0  ┆ 30.0 ┆ Female ┆ Bachelor's      ┆ Junior Marketing        ┆ 2.0                 │\n",
       "│     ┆          ┆      ┆        ┆                 ┆ Coordinator             ┆                     │\n",
       "│ 251 ┆ 110000.0 ┆ 38.0 ┆ Male   ┆ Master's        ┆ Senior IT Consultant    ┆ 9.0                 │\n",
       "│ 252 ┆ 150000.0 ┆ 45.0 ┆ Female ┆ PhD             ┆ Senior Product Designer ┆ 15.0                │\n",
       "│ 253 ┆ 40000.0  ┆ 28.0 ┆ Male   ┆ Bachelor's      ┆ Junior Business         ┆ 2.0                 │\n",
       "│     ┆          ┆      ┆        ┆                 ┆ Development As…         ┆                     │\n",
       "│ 254 ┆ 85000.0  ┆ 35.0 ┆ Female ┆ Bachelor's      ┆ Senior Marketing        ┆ 8.0                 │\n",
       "│     ┆          ┆      ┆        ┆                 ┆ Analyst                 ┆                     │\n",
       "│ 255 ┆ 130000.0 ┆ 44.0 ┆ Male   ┆ Bachelor's      ┆ Senior Software         ┆ 14.0                │\n",
       "│     ┆          ┆      ┆        ┆                 ┆ Engineer                ┆                     │\n",
       "│ 256 ┆ 100000.0 ┆ 34.0 ┆ Female ┆ Master's        ┆ Senior Financial        ┆ 6.0                 │\n",
       "│     ┆          ┆      ┆        ┆                 ┆ Advisor                 ┆                     │\n",
       "│ 257 ┆ 95000.0  ┆ 35.0 ┆ Male   ┆ Bachelor's      ┆ Senior Project          ┆ 9.0                 │\n",
       "│     ┆          ┆      ┆        ┆                 ┆ Coordinator             ┆                     │\n",
       "│ 258 ┆ 180000.0 ┆ 50.0 ┆ Female ┆ PhD             ┆ Director of Operations  ┆ 22.0                │\n",
       "│ 259 ┆ 350.0    ┆ 29.0 ┆ Male   ┆ Bachelor's      ┆ Junior Business         ┆ 1.5                 │\n",
       "│     ┆          ┆      ┆        ┆                 ┆ Operations Ana…         ┆                     │\n",
       "│ 260 ┆ null     ┆ null ┆ null   ┆ null            ┆ null                    ┆ null                │\n",
       "│ 261 ┆ 120000.0 ┆ 37.0 ┆ Female ┆ null            ┆ Senior Financial        ┆ 10.0                │\n",
       "│     ┆          ┆      ┆        ┆                 ┆ Manager                 ┆                     │\n",
       "│ 262 ┆ 160000.0 ┆ 46.0 ┆ Male   ┆ PhD             ┆ Senior Data Scientist   ┆ 18.0                │\n",
       "│ 263 ┆ 50000.0  ┆ 31.0 ┆ Female ┆ Bachelor's      ┆ Junior Marketing        ┆ 3.0                 │\n",
       "│     ┆          ┆      ┆        ┆                 ┆ Coordinator             ┆                     │\n",
       "│ 264 ┆ 110000.0 ┆ 42.0 ┆ Male   ┆ Bachelor's      ┆ Senior Operations       ┆ 12.0                │\n",
       "│     ┆          ┆      ┆        ┆                 ┆ Manager                 ┆                     │\n",
       "│ 265 ┆ 40000.0  ┆ 29.0 ┆ Female ┆ Bachelor's      ┆ Junior Sales            ┆ 1.5                 │\n",
       "│     ┆          ┆      ┆        ┆                 ┆ Representative          ┆                     │\n",
       "│ 266 ┆ 95000.0  ┆ 36.0 ┆ Male   ┆ Bachelor's      ┆ Senior Marketing        ┆ 8.0                 │\n",
       "│     ┆          ┆      ┆        ┆                 ┆ Specialist              ┆                     │\n",
       "│ 267 ┆ 140000.0 ┆ 44.0 ┆ Female ┆ Master's        ┆ Senior HR Specialist    ┆ 15.0                │\n",
       "│ 268 ┆ 60000.0  ┆ 33.0 ┆ Male   ┆ Bachelor's      ┆ Junior Operations       ┆ 4.0                 │\n",
       "│     ┆          ┆      ┆        ┆                 ┆ Manager                 ┆                     │\n",
       "│ 269 ┆ 110000.0 ┆ 39.0 ┆ Female ┆ Bachelor's      ┆ Senior Marketing        ┆ 9.0                 │\n",
       "│     ┆          ┆      ┆        ┆                 ┆ Coordinator             ┆                     │\n",
       "│ 270 ┆ 150000.0 ┆ 45.0 ┆ Male   ┆ PhD             ┆ Senior Data Engineer    ┆ 16.0                │\n",
       "│ 271 ┆ 60000.0  ┆ 32.0 ┆ Female ┆ Bachelor's      ┆ Junior Marketing        ┆ 4.0                 │\n",
       "│     ┆          ┆      ┆        ┆                 ┆ Manager                 ┆                     │\n",
       "│ 272 ┆ 90000.0  ┆ 37.0 ┆ Male   ┆ Bachelor's      ┆ Senior Financial        ┆ 8.0                 │\n",
       "│     ┆          ┆      ┆        ┆                 ┆ Analyst                 ┆                     │\n",
       "│ 273 ┆ 180000.0 ┆ 47.0 ┆ Female ┆ Master's        ┆ Director of Marketing   ┆ 20.0                │\n",
       "│ 274 ┆ 40000.0  ┆ 30.0 ┆ Male   ┆ Bachelor's      ┆ Junior Business Analyst ┆ 2.0                 │\n",
       "│ 275 ┆ 120000.0 ┆ 38.0 ┆ Female ┆ Bachelor's      ┆ Senior Project Manager  ┆ 9.0                 │\n",
       "│ 276 ┆ 160000.0 ┆ 46.0 ┆ Male   ┆ PhD             ┆ Senior Data Analyst     ┆ 17.0                │\n",
       "│ 277 ┆ 70000.0  ┆ 34.0 ┆ Female ┆ Bachelor's      ┆ Junior Financial        ┆ 5.0                 │\n",
       "│     ┆          ┆      ┆        ┆                 ┆ Analyst                 ┆                     │\n",
       "│ 278 ┆ 95000.0  ┆ 36.0 ┆ Male   ┆ Bachelor's      ┆ Senior Product Manager  ┆ 8.0                 │\n",
       "│ 279 ┆ 180000.0 ┆ 49.0 ┆ Female ┆ Master's        ┆ Director of Operations  ┆ 21.0                │\n",
       "│ 280 ┆ 50000.0  ┆ 31.0 ┆ Male   ┆ Bachelor's      ┆ Junior Operations       ┆ 3.0                 │\n",
       "│     ┆          ┆      ┆        ┆                 ┆ Analyst                 ┆                     │\n",
       "│ 281 ┆ 95000.0  ┆ 41.0 ┆ Female ┆ Bachelor's      ┆ Senior Project          ┆ 11.0                │\n",
       "│     ┆          ┆      ┆        ┆                 ┆ Coordinator             ┆                     │\n",
       "│ 282 ┆ 170000.0 ┆ 47.0 ┆ Male   ┆ Master's        ┆ Director of Marketing   ┆ 19.0                │\n",
       "│ 283 ┆ 35000.0  ┆ 29.0 ┆ Female ┆ Bachelor's      ┆ Junior Business         ┆ 1.5                 │\n",
       "│     ┆          ┆      ┆        ┆                 ┆ Development As…         ┆                     │\n",
       "│ 284 ┆ 100000.0 ┆ 35.0 ┆ Male   ┆ Bachelor's      ┆ Senior Financial        ┆ 9.0                 │\n",
       "│     ┆          ┆      ┆        ┆                 ┆ Manager                 ┆                     │\n",
       "│ 285 ┆ 150000.0 ┆ 44.0 ┆ Female ┆ PhD             ┆ Senior Product Designer ┆ 15.0                │\n",
       "│ 286 ┆ 60000.0  ┆ 33.0 ┆ Male   ┆ Bachelor's      ┆ Junior Business Analyst ┆ 4.0                 │\n",
       "│ 287 ┆ 85000.0  ┆ null ┆ Female ┆ Bachelor's      ┆ Senior Marketing        ┆ 8.0                 │\n",
       "│     ┆          ┆      ┆        ┆                 ┆ Analyst                 ┆                     │\n",
       "│ 288 ┆ 130000.0 ┆ 44.0 ┆ Male   ┆ Bachelor's      ┆ Senior Software         ┆ 13.0                │\n",
       "│     ┆          ┆      ┆        ┆                 ┆ Engineer                ┆                     │\n",
       "│ 289 ┆ 65000.0  ┆ 32.0 ┆ Male   ┆ Bachelor's      ┆ Junior Product Manager  ┆ 4.0                 │\n",
       "│ 290 ┆ 110000.0 ┆ 38.0 ┆ Female ┆ Bachelor's      ┆ Senior Business Analyst ┆ 10.0                │\n",
       "│ 291 ┆ 180000.0 ┆ 49.0 ┆ Male   ┆ PhD             ┆ Director of Operations  ┆ 21.0                │\n",
       "│ 292 ┆ 40000.0  ┆ 29.0 ┆ Female ┆ Bachelor's      ┆ Junior Marketing        ┆ 2.0                 │\n",
       "│     ┆          ┆      ┆        ┆                 ┆ Specialist              ┆                     │\n",
       "│ 293 ┆ 90000.0  ┆ 35.0 ┆ Male   ┆ Bachelor's      ┆ Senior Business         ┆ 7.0                 │\n",
       "│     ┆          ┆      ┆        ┆                 ┆ Development Ma…         ┆                     │\n",
       "│ 294 ┆ 140000.0 ┆ 45.0 ┆ Female ┆ Master's        ┆ Senior HR Manager       ┆ 14.0                │\n",
       "│ 295 ┆ 60000.0  ┆ 33.0 ┆ Male   ┆ Bachelor's      ┆ Junior Financial        ┆ 4.0                 │\n",
       "│     ┆          ┆      ┆        ┆                 ┆ Analyst                 ┆                     │\n",
       "│ 296 ┆ 130000.0 ┆ 40.0 ┆ Female ┆ Bachelor's      ┆ Senior Marketing        ┆ 12.0                │\n",
       "│     ┆          ┆      ┆        ┆                 ┆ Manager                 ┆                     │\n",
       "│ 297 ┆ 160000.0 ┆ 44.0 ┆ Male   ┆ PhD             ┆ Senior Data Scientist   ┆ 16.0                │\n",
       "│ 298 ┆ 40000.0  ┆ 30.0 ┆ Female ┆ Bachelor's      ┆ Junior Operations       ┆ 2.0                 │\n",
       "│     ┆          ┆      ┆        ┆                 ┆ Coordinator             ┆                     │\n",
       "│ 299 ┆ 100000.0 ┆ 37.0 ┆ Male   ┆ Bachelor's      ┆ Senior Marketing        ┆ 9.0                 │\n",
       "│     ┆          ┆      ┆        ┆                 ┆ Analyst                 ┆                     │\n",
       "│ 300 ┆ 180000.0 ┆ 48.0 ┆ Female ┆ Master's        ┆ Director of HR          ┆ 20.0                │\n",
       "│ 301 ┆ 55000.0  ┆ 31.0 ┆ Male   ┆ Bachelor's      ┆ Junior Project Manager  ┆ 3.0                 │\n",
       "│ 302 ┆ 120000.0 ┆ 38.0 ┆ Female ┆ Bachelor's      ┆ Senior Operations       ┆ 9.0                 │\n",
       "│     ┆          ┆      ┆        ┆                 ┆ Coordinator             ┆                     │\n",
       "│ 303 ┆ 150000.0 ┆ 45.0 ┆ Male   ┆ PhD             ┆ Senior Data Engineer    ┆ 16.0                │\n",
       "│ 304 ┆ 70000.0  ┆ 33.0 ┆ Female ┆ Bachelor's      ┆ Junior Marketing        ┆ 5.0                 │\n",
       "│     ┆          ┆      ┆        ┆                 ┆ Manager                 ┆                     │\n",
       "│ 305 ┆ 95000.0  ┆ 36.0 ┆ Male   ┆ Bachelor's      ┆ Senior Business Analyst ┆ 8.0                 │\n",
       "│ 306 ┆ 180000.0 ┆ 49.0 ┆ Female ┆ Master's        ┆ Director of Marketing   ┆ 21.0                │\n",
       "│ 307 ┆ 50000.0  ┆ 31.0 ┆ Male   ┆ Bachelor's      ┆ Junior Operations       ┆ 3.0                 │\n",
       "│     ┆          ┆      ┆        ┆                 ┆ Analyst                 ┆                     │\n",
       "│ 308 ┆ 120000.0 ┆ 42.0 ┆ Female ┆ Bachelor's      ┆ Senior Project Manager  ┆ 12.0                │\n",
       "│ 309 ┆ 170000.0 ┆ 47.0 ┆ Male   ┆ Master's        ┆ Director of Marketing   ┆ 19.0                │\n",
       "│ 310 ┆ 35000.0  ┆ 29.0 ┆ Female ┆ Bachelor's      ┆ Junior Business         ┆ 1.5                 │\n",
       "│     ┆          ┆      ┆        ┆                 ┆ Development As…         ┆                     │\n",
       "│ 311 ┆ 100000.0 ┆ 35.0 ┆ Male   ┆ Bachelor's      ┆ Senior Financial        ┆ 9.0                 │\n",
       "│     ┆          ┆      ┆        ┆                 ┆ Manager                 ┆                     │\n",
       "│ 312 ┆ 150000.0 ┆ 44.0 ┆ Female ┆ PhD             ┆ Senior Product Designer ┆ 15.0                │\n",
       "│ 313 ┆ 60000.0  ┆ 33.0 ┆ Male   ┆ Bachelor's      ┆ Junior Business Analyst ┆ 4.0                 │\n",
       "│ 314 ┆ 85000.0  ┆ 35.0 ┆ Female ┆ Bachelor's      ┆ Senior Marketing        ┆ 8.0                 │\n",
       "│     ┆          ┆      ┆        ┆                 ┆ Analyst                 ┆                     │\n",
       "│ 315 ┆ 130000.0 ┆ null ┆ Male   ┆ Bachelor's      ┆ Senior Software         ┆ 13.0                │\n",
       "│     ┆          ┆      ┆        ┆                 ┆ Engineer                ┆                     │\n",
       "│ 316 ┆ 80000.0  ┆ 34.0 ┆ Female ┆ Master's        ┆ Senior Financial        ┆ 6.0                 │\n",
       "│     ┆          ┆      ┆        ┆                 ┆ Advisor                 ┆                     │\n",
       "│ 317 ┆ 95000.0  ┆ 36.0 ┆ Male   ┆ Bachelor's      ┆ Senior Marketing        ┆ 8.0                 │\n",
       "│     ┆          ┆      ┆        ┆                 ┆ Specialist              ┆                     │\n",
       "│ 318 ┆ 40000.0  ┆ 30.0 ┆ Female ┆ Bachelor's      ┆ Junior HR Coordinator   ┆ 2.0                 │\n",
       "│ 319 ┆ 120000.0 ┆ 37.0 ┆ Male   ┆ Bachelor's      ┆ Senior Business         ┆ 10.0                │\n",
       "│     ┆          ┆      ┆        ┆                 ┆ Development Ma…         ┆                     │\n",
       "│ 320 ┆ 160000.0 ┆ 45.0 ┆ Female ┆ Master's        ┆ Senior Marketing        ┆ 16.0                │\n",
       "│     ┆          ┆      ┆        ┆                 ┆ Manager                 ┆                     │\n",
       "│ 321 ┆ 65000.0  ┆ 32.0 ┆ Male   ┆ Bachelor's      ┆ Junior Financial        ┆ 4.0                 │\n",
       "│     ┆          ┆      ┆        ┆                 ┆ Advisor                 ┆                     │\n",
       "│ 322 ┆ 130000.0 ┆ 39.0 ┆ Female ┆ Bachelor's      ┆ Senior Project Manager  ┆ 12.0                │\n",
       "│ 323 ┆ 180000.0 ┆ 47.0 ┆ Male   ┆ PhD             ┆ Director of Engineering ┆ 20.0                │\n",
       "│ 324 ┆ 40000.0  ┆ 29.0 ┆ Female ┆ Bachelor's      ┆ Junior Marketing        ┆ 2.0                 │\n",
       "│     ┆          ┆      ┆        ┆                 ┆ Analyst                 ┆                     │\n",
       "│ 325 ┆ 100000.0 ┆ 36.0 ┆ Male   ┆ Bachelor's      ┆ Senior Operations       ┆ 9.0                 │\n",
       "│     ┆          ┆      ┆        ┆                 ┆ Manager                 ┆                     │\n",
       "│ 326 ┆ 150000.0 ┆ 43.0 ┆ Female ┆ PhD             ┆ Senior Data Scientist   ┆ 15.0                │\n",
       "│ 327 ┆ 55000.0  ┆ 32.0 ┆ Male   ┆ Bachelor's      ┆ Junior Marketing        ┆ 3.0                 │\n",
       "│     ┆          ┆      ┆        ┆                 ┆ Coordinator             ┆                     │\n",
       "│ 328 ┆ 110000.0 ┆ 38.0 ┆ Female ┆ Bachelor's      ┆ Senior Business Analyst ┆ 10.0                │\n",
       "│ 329 ┆ 180000.0 ┆ 48.0 ┆ Male   ┆ Master's        ┆ Director of Marketing   ┆ 21.0                │\n",
       "│ 330 ┆ 50000.0  ┆ 31.0 ┆ Female ┆ Bachelor's      ┆ Junior Business         ┆ 3.0                 │\n",
       "│     ┆          ┆      ┆        ┆                 ┆ Development As…         ┆                     │\n",
       "│ 331 ┆ 130000.0 ┆ 40.0 ┆ Male   ┆ Bachelor's      ┆ Senior Financial        ┆ 12.0                │\n",
       "│     ┆          ┆      ┆        ┆                 ┆ Analyst                 ┆                     │\n",
       "│ 332 ┆ 160000.0 ┆ 45.0 ┆ Female ┆ PhD             ┆ null                    ┆ 16.0                │\n",
       "│ 333 ┆ 60000.0  ┆ 33.0 ┆ Male   ┆ Bachelor's      ┆ Junior Product Manager  ┆ 4.0                 │\n",
       "│ 334 ┆ 95000.0  ┆ 36.0 ┆ Female ┆ Bachelor's      ┆ Senior Marketing        ┆ 8.0                 │\n",
       "│     ┆          ┆      ┆        ┆                 ┆ Manager                 ┆                     │\n",
       "│ 335 ┆ 170000.0 ┆ 47.0 ┆ Male   ┆ Master's        ┆ Director of Operations  ┆ 19.0                │\n",
       "│ 336 ┆ 40000.0  ┆ 29.0 ┆ Female ┆ Bachelor's      ┆ Junior Project Manager  ┆ 2.0                 │\n",
       "│ 337 ┆ 90000.0  ┆ 34.0 ┆ Male   ┆ Bachelor's      ┆ Senior Operations       ┆ 7.0                 │\n",
       "│     ┆          ┆      ┆        ┆                 ┆ Coordinator             ┆                     │\n",
       "│ 338 ┆ 150000.0 ┆ 44.0 ┆ Female ┆ PhD             ┆ Senior Business Analyst ┆ 15.0                │\n",
       "│ 339 ┆ 70000.0  ┆ 33.0 ┆ Male   ┆ Bachelor's      ┆ Junior Marketing        ┆ 5.0                 │\n",
       "│     ┆          ┆      ┆        ┆                 ┆ Specialist              ┆                     │\n",
       "│ 340 ┆ 90000.0  ┆ 35.0 ┆ Female ┆ Bachelor's      ┆ Senior Financial        ┆ 8.0                 │\n",
       "│     ┆          ┆      ┆        ┆                 ┆ Manager                 ┆                     │\n",
       "│ 341 ┆ 170000.0 ┆ 43.0 ┆ Male   ┆ Master's        ┆ Director of Marketing   ┆ 18.0                │\n",
       "│ 342 ┆ 50000.0  ┆ 31.0 ┆ Female ┆ Bachelor's      ┆ Junior Financial        ┆ 3.0                 │\n",
       "│     ┆          ┆      ┆        ┆                 ┆ Analyst                 ┆                     │\n",
       "│ 343 ┆ 150000.0 ┆ 41.0 ┆ Male   ┆ Bachelor's      ┆ Senior Product Manager  ┆ 14.0                │\n",
       "│ 344 ┆ 160000.0 ┆ 44.0 ┆ Female ┆ PhD             ┆ Senior Data Engineer    ┆ 16.0                │\n",
       "│ 345 ┆ 60000.0  ┆ 33.0 ┆ Male   ┆ Bachelor's      ┆ Junior Business Analyst ┆ 4.0                 │\n",
       "│ 346 ┆ 85000.0  ┆ 35.0 ┆ Female ┆ Bachelor's      ┆ Senior Marketing        ┆ 8.0                 │\n",
       "│     ┆          ┆      ┆        ┆                 ┆ Analyst                 ┆                     │\n",
       "│ 347 ┆ 180000.0 ┆ 45.0 ┆ Male   ┆ Master's        ┆ Director of Engineering ┆ 19.0                │\n",
       "│ 348 ┆ 35000.0  ┆ 28.0 ┆ Female ┆ Bachelor's      ┆ Junior Operations       ┆ 1.0                 │\n",
       "│     ┆          ┆      ┆        ┆                 ┆ Manager                 ┆                     │\n",
       "│ 349 ┆ 110000.0 ┆ 36.0 ┆ Male   ┆ Bachelor's      ┆ Senior Business         ┆ 8.0                 │\n",
       "│     ┆          ┆      ┆        ┆                 ┆ Development Ma…         ┆                     │\n",
       "│ 350 ┆ 160000.0 ┆ 44.0 ┆ Female ┆ PhD             ┆ Senior Data Scientist   ┆ 16.0                │\n",
       "│ 351 ┆ 55000.0  ┆ 31.0 ┆ Male   ┆ Bachelor's      ┆ Junior Marketing        ┆ 3.0                 │\n",
       "│     ┆          ┆      ┆        ┆                 ┆ Coordinator             ┆                     │\n",
       "│ 352 ┆ 110000.0 ┆ 38.0 ┆ Female ┆ Bachelor's      ┆ Senior Business Analyst ┆ 10.0                │\n",
       "│ 353 ┆ 180000.0 ┆ 48.0 ┆ Male   ┆ Master's        ┆ Director of Marketing   ┆ 21.0                │\n",
       "│ 354 ┆ 50000.0  ┆ 31.0 ┆ Female ┆ Bachelor's      ┆ Junior Business         ┆ 3.0                 │\n",
       "│     ┆          ┆      ┆        ┆                 ┆ Development As…         ┆                     │\n",
       "│ 355 ┆ 130000.0 ┆ 40.0 ┆ Male   ┆ Bachelor's      ┆ Senior Financial        ┆ 12.0                │\n",
       "│     ┆          ┆      ┆        ┆                 ┆ Analyst                 ┆                     │\n",
       "│ 356 ┆ 160000.0 ┆ 45.0 ┆ Female ┆ PhD             ┆ Senior UX Designer      ┆ 16.0                │\n",
       "│ 357 ┆ 60000.0  ┆ 33.0 ┆ Male   ┆ Bachelor's      ┆ Junior Product Manager  ┆ 4.0                 │\n",
       "│ 358 ┆ 95000.0  ┆ 36.0 ┆ Female ┆ Bachelor's      ┆ Senior Marketing        ┆ 8.0                 │\n",
       "│     ┆          ┆      ┆        ┆                 ┆ Manager                 ┆                     │\n",
       "│ 359 ┆ 170000.0 ┆ 47.0 ┆ Male   ┆ Master's        ┆ Director of Operations  ┆ 19.0                │\n",
       "│ 360 ┆ 40000.0  ┆ 29.0 ┆ Female ┆ Bachelor's      ┆ Junior Project Manager  ┆ 2.0                 │\n",
       "│ 361 ┆ 90000.0  ┆ 34.0 ┆ Male   ┆ Bachelor's      ┆ Senior Operations       ┆ 7.0                 │\n",
       "│     ┆          ┆      ┆        ┆                 ┆ Coordinator             ┆                     │\n",
       "│ 362 ┆ 150000.0 ┆ 44.0 ┆ Female ┆ PhD             ┆ Senior Business Analyst ┆ 15.0                │\n",
       "│ 363 ┆ 70000.0  ┆ 33.0 ┆ Male   ┆ Bachelor's      ┆ Junior Marketing        ┆ 5.0                 │\n",
       "│     ┆          ┆      ┆        ┆                 ┆ Specialist              ┆                     │\n",
       "│ 364 ┆ 90000.0  ┆ 35.0 ┆ Female ┆ Bachelor's      ┆ Senior Financial        ┆ 8.0                 │\n",
       "│     ┆          ┆      ┆        ┆                 ┆ Manager                 ┆                     │\n",
       "│ 365 ┆ 170000.0 ┆ 43.0 ┆ Male   ┆ Master's        ┆ Director of Marketing   ┆ 18.0                │\n",
       "│ 366 ┆ 50000.0  ┆ 31.0 ┆ Female ┆ null            ┆ Junior Financial        ┆ 3.0                 │\n",
       "│     ┆          ┆      ┆        ┆                 ┆ Analyst                 ┆                     │\n",
       "│ 367 ┆ 150000.0 ┆ 41.0 ┆ Male   ┆ Bachelor's      ┆ Senior Product Manager  ┆ 14.0                │\n",
       "│ 368 ┆ 160000.0 ┆ 44.0 ┆ Female ┆ PhD             ┆ Senior Data Engineer    ┆ 16.0                │\n",
       "│ 369 ┆ 60000.0  ┆ 33.0 ┆ Male   ┆ Bachelor's      ┆ Junior Business Analyst ┆ 4.0                 │\n",
       "│ 370 ┆ 85000.0  ┆ 35.0 ┆ Female ┆ Bachelor's      ┆ Senior Marketing        ┆ 8.0                 │\n",
       "│     ┆          ┆      ┆        ┆                 ┆ Analyst                 ┆                     │\n",
       "│ 371 ┆ 170000.0 ┆ 43.0 ┆ Male   ┆ Master's        ┆ Director of Operations  ┆ 19.0                │\n",
       "│ 372 ┆ 40000.0  ┆ 29.0 ┆ Female ┆ Bachelor's      ┆ Junior Project Manager  ┆ 2.0                 │\n",
       "│ 373 ┆ 90000.0  ┆ 34.0 ┆ Male   ┆ Bachelor's      ┆ Senior Operations       ┆ 7.0                 │\n",
       "│     ┆          ┆      ┆        ┆                 ┆ Coordinator             ┆                     │\n",
       "│ 374 ┆ 150000.0 ┆ 44.0 ┆ Female ┆ PhD             ┆ Senior Business Analyst ┆ 15.0                │\n",
       "└─────┴──────────┴──────┴────────┴─────────────────┴─────────────────────────┴─────────────────────┘"
      ]
     },
     "execution_count": 646,
     "metadata": {},
     "output_type": "execute_result"
    }
   ],
   "source": [
    "df_salary_people_raw = df_salary_raw.join(df_people_raw,\n",
    "                                      on=\"id\", how=\"inner\")\n",
    "df_salary_people_raw"
   ]
  },
  {
   "cell_type": "code",
   "execution_count": 647,
   "id": "d5f278e5",
   "metadata": {
    "colab": {
     "base_uri": "https://localhost:8080/",
     "height": 542
    },
    "executionInfo": {
     "elapsed": 39,
     "status": "ok",
     "timestamp": 1749481288407,
     "user": {
      "displayName": "Gerard Seward",
      "userId": "08585387988591404566"
     },
     "user_tz": 180
    },
    "id": "d5f278e5",
    "outputId": "f93eb13f-f764-45f3-97ed-697a2bc3c411"
   },
   "outputs": [
    {
     "data": {
      "application/vnd.plotly.v1+json": {
       "config": {
        "plotlyServerURL": "https://plot.ly"
       },
       "data": [
        {
         "bingroup": "x",
         "hovertemplate": "Salary=%{x}<br>count=%{y}<extra></extra>",
         "legendgroup": "",
         "marker": {
          "color": "#636efa",
          "pattern": {
           "shape": ""
          }
         },
         "name": "",
         "nbinsx": 30,
         "orientation": "v",
         "showlegend": false,
         "type": "histogram",
         "x": {
          "bdata": "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",
          "dtype": "f8"
         },
         "xaxis": "x",
         "yaxis": "y"
        }
       ],
       "layout": {
        "barmode": "relative",
        "legend": {
         "tracegroupgap": 0
        },
        "template": {
         "data": {
          "bar": [
           {
            "error_x": {
             "color": "#2a3f5f"
            },
            "error_y": {
             "color": "#2a3f5f"
            },
            "marker": {
             "line": {
              "color": "#E5ECF6",
              "width": 0.5
             },
             "pattern": {
              "fillmode": "overlay",
              "size": 10,
              "solidity": 0.2
             }
            },
            "type": "bar"
           }
          ],
          "barpolar": [
           {
            "marker": {
             "line": {
              "color": "#E5ECF6",
              "width": 0.5
             },
             "pattern": {
              "fillmode": "overlay",
              "size": 10,
              "solidity": 0.2
             }
            },
            "type": "barpolar"
           }
          ],
          "carpet": [
           {
            "aaxis": {
             "endlinecolor": "#2a3f5f",
             "gridcolor": "white",
             "linecolor": "white",
             "minorgridcolor": "white",
             "startlinecolor": "#2a3f5f"
            },
            "baxis": {
             "endlinecolor": "#2a3f5f",
             "gridcolor": "white",
             "linecolor": "white",
             "minorgridcolor": "white",
             "startlinecolor": "#2a3f5f"
            },
            "type": "carpet"
           }
          ],
          "choropleth": [
           {
            "colorbar": {
             "outlinewidth": 0,
             "ticks": ""
            },
            "type": "choropleth"
           }
          ],
          "contour": [
           {
            "colorbar": {
             "outlinewidth": 0,
             "ticks": ""
            },
            "colorscale": [
             [
              0,
              "#0d0887"
             ],
             [
              0.1111111111111111,
              "#46039f"
             ],
             [
              0.2222222222222222,
              "#7201a8"
             ],
             [
              0.3333333333333333,
              "#9c179e"
             ],
             [
              0.4444444444444444,
              "#bd3786"
             ],
             [
              0.5555555555555556,
              "#d8576b"
             ],
             [
              0.6666666666666666,
              "#ed7953"
             ],
             [
              0.7777777777777778,
              "#fb9f3a"
             ],
             [
              0.8888888888888888,
              "#fdca26"
             ],
             [
              1,
              "#f0f921"
             ]
            ],
            "type": "contour"
           }
          ],
          "contourcarpet": [
           {
            "colorbar": {
             "outlinewidth": 0,
             "ticks": ""
            },
            "type": "contourcarpet"
           }
          ],
          "heatmap": [
           {
            "colorbar": {
             "outlinewidth": 0,
             "ticks": ""
            },
            "colorscale": [
             [
              0,
              "#0d0887"
             ],
             [
              0.1111111111111111,
              "#46039f"
             ],
             [
              0.2222222222222222,
              "#7201a8"
             ],
             [
              0.3333333333333333,
              "#9c179e"
             ],
             [
              0.4444444444444444,
              "#bd3786"
             ],
             [
              0.5555555555555556,
              "#d8576b"
             ],
             [
              0.6666666666666666,
              "#ed7953"
             ],
             [
              0.7777777777777778,
              "#fb9f3a"
             ],
             [
              0.8888888888888888,
              "#fdca26"
             ],
             [
              1,
              "#f0f921"
             ]
            ],
            "type": "heatmap"
           }
          ],
          "histogram": [
           {
            "marker": {
             "pattern": {
              "fillmode": "overlay",
              "size": 10,
              "solidity": 0.2
             }
            },
            "type": "histogram"
           }
          ],
          "histogram2d": [
           {
            "colorbar": {
             "outlinewidth": 0,
             "ticks": ""
            },
            "colorscale": [
             [
              0,
              "#0d0887"
             ],
             [
              0.1111111111111111,
              "#46039f"
             ],
             [
              0.2222222222222222,
              "#7201a8"
             ],
             [
              0.3333333333333333,
              "#9c179e"
             ],
             [
              0.4444444444444444,
              "#bd3786"
             ],
             [
              0.5555555555555556,
              "#d8576b"
             ],
             [
              0.6666666666666666,
              "#ed7953"
             ],
             [
              0.7777777777777778,
              "#fb9f3a"
             ],
             [
              0.8888888888888888,
              "#fdca26"
             ],
             [
              1,
              "#f0f921"
             ]
            ],
            "type": "histogram2d"
           }
          ],
          "histogram2dcontour": [
           {
            "colorbar": {
             "outlinewidth": 0,
             "ticks": ""
            },
            "colorscale": [
             [
              0,
              "#0d0887"
             ],
             [
              0.1111111111111111,
              "#46039f"
             ],
             [
              0.2222222222222222,
              "#7201a8"
             ],
             [
              0.3333333333333333,
              "#9c179e"
             ],
             [
              0.4444444444444444,
              "#bd3786"
             ],
             [
              0.5555555555555556,
              "#d8576b"
             ],
             [
              0.6666666666666666,
              "#ed7953"
             ],
             [
              0.7777777777777778,
              "#fb9f3a"
             ],
             [
              0.8888888888888888,
              "#fdca26"
             ],
             [
              1,
              "#f0f921"
             ]
            ],
            "type": "histogram2dcontour"
           }
          ],
          "mesh3d": [
           {
            "colorbar": {
             "outlinewidth": 0,
             "ticks": ""
            },
            "type": "mesh3d"
           }
          ],
          "parcoords": [
           {
            "line": {
             "colorbar": {
              "outlinewidth": 0,
              "ticks": ""
             }
            },
            "type": "parcoords"
           }
          ],
          "pie": [
           {
            "automargin": true,
            "type": "pie"
           }
          ],
          "scatter": [
           {
            "fillpattern": {
             "fillmode": "overlay",
             "size": 10,
             "solidity": 0.2
            },
            "type": "scatter"
           }
          ],
          "scatter3d": [
           {
            "line": {
             "colorbar": {
              "outlinewidth": 0,
              "ticks": ""
             }
            },
            "marker": {
             "colorbar": {
              "outlinewidth": 0,
              "ticks": ""
             }
            },
            "type": "scatter3d"
           }
          ],
          "scattercarpet": [
           {
            "marker": {
             "colorbar": {
              "outlinewidth": 0,
              "ticks": ""
             }
            },
            "type": "scattercarpet"
           }
          ],
          "scattergeo": [
           {
            "marker": {
             "colorbar": {
              "outlinewidth": 0,
              "ticks": ""
             }
            },
            "type": "scattergeo"
           }
          ],
          "scattergl": [
           {
            "marker": {
             "colorbar": {
              "outlinewidth": 0,
              "ticks": ""
             }
            },
            "type": "scattergl"
           }
          ],
          "scattermap": [
           {
            "marker": {
             "colorbar": {
              "outlinewidth": 0,
              "ticks": ""
             }
            },
            "type": "scattermap"
           }
          ],
          "scattermapbox": [
           {
            "marker": {
             "colorbar": {
              "outlinewidth": 0,
              "ticks": ""
             }
            },
            "type": "scattermapbox"
           }
          ],
          "scatterpolar": [
           {
            "marker": {
             "colorbar": {
              "outlinewidth": 0,
              "ticks": ""
             }
            },
            "type": "scatterpolar"
           }
          ],
          "scatterpolargl": [
           {
            "marker": {
             "colorbar": {
              "outlinewidth": 0,
              "ticks": ""
             }
            },
            "type": "scatterpolargl"
           }
          ],
          "scatterternary": [
           {
            "marker": {
             "colorbar": {
              "outlinewidth": 0,
              "ticks": ""
             }
            },
            "type": "scatterternary"
           }
          ],
          "surface": [
           {
            "colorbar": {
             "outlinewidth": 0,
             "ticks": ""
            },
            "colorscale": [
             [
              0,
              "#0d0887"
             ],
             [
              0.1111111111111111,
              "#46039f"
             ],
             [
              0.2222222222222222,
              "#7201a8"
             ],
             [
              0.3333333333333333,
              "#9c179e"
             ],
             [
              0.4444444444444444,
              "#bd3786"
             ],
             [
              0.5555555555555556,
              "#d8576b"
             ],
             [
              0.6666666666666666,
              "#ed7953"
             ],
             [
              0.7777777777777778,
              "#fb9f3a"
             ],
             [
              0.8888888888888888,
              "#fdca26"
             ],
             [
              1,
              "#f0f921"
             ]
            ],
            "type": "surface"
           }
          ],
          "table": [
           {
            "cells": {
             "fill": {
              "color": "#EBF0F8"
             },
             "line": {
              "color": "white"
             }
            },
            "header": {
             "fill": {
              "color": "#C8D4E3"
             },
             "line": {
              "color": "white"
             }
            },
            "type": "table"
           }
          ]
         },
         "layout": {
          "annotationdefaults": {
           "arrowcolor": "#2a3f5f",
           "arrowhead": 0,
           "arrowwidth": 1
          },
          "autotypenumbers": "strict",
          "coloraxis": {
           "colorbar": {
            "outlinewidth": 0,
            "ticks": ""
           }
          },
          "colorscale": {
           "diverging": [
            [
             0,
             "#8e0152"
            ],
            [
             0.1,
             "#c51b7d"
            ],
            [
             0.2,
             "#de77ae"
            ],
            [
             0.3,
             "#f1b6da"
            ],
            [
             0.4,
             "#fde0ef"
            ],
            [
             0.5,
             "#f7f7f7"
            ],
            [
             0.6,
             "#e6f5d0"
            ],
            [
             0.7,
             "#b8e186"
            ],
            [
             0.8,
             "#7fbc41"
            ],
            [
             0.9,
             "#4d9221"
            ],
            [
             1,
             "#276419"
            ]
           ],
           "sequential": [
            [
             0,
             "#0d0887"
            ],
            [
             0.1111111111111111,
             "#46039f"
            ],
            [
             0.2222222222222222,
             "#7201a8"
            ],
            [
             0.3333333333333333,
             "#9c179e"
            ],
            [
             0.4444444444444444,
             "#bd3786"
            ],
            [
             0.5555555555555556,
             "#d8576b"
            ],
            [
             0.6666666666666666,
             "#ed7953"
            ],
            [
             0.7777777777777778,
             "#fb9f3a"
            ],
            [
             0.8888888888888888,
             "#fdca26"
            ],
            [
             1,
             "#f0f921"
            ]
           ],
           "sequentialminus": [
            [
             0,
             "#0d0887"
            ],
            [
             0.1111111111111111,
             "#46039f"
            ],
            [
             0.2222222222222222,
             "#7201a8"
            ],
            [
             0.3333333333333333,
             "#9c179e"
            ],
            [
             0.4444444444444444,
             "#bd3786"
            ],
            [
             0.5555555555555556,
             "#d8576b"
            ],
            [
             0.6666666666666666,
             "#ed7953"
            ],
            [
             0.7777777777777778,
             "#fb9f3a"
            ],
            [
             0.8888888888888888,
             "#fdca26"
            ],
            [
             1,
             "#f0f921"
            ]
           ]
          },
          "colorway": [
           "#636efa",
           "#EF553B",
           "#00cc96",
           "#ab63fa",
           "#FFA15A",
           "#19d3f3",
           "#FF6692",
           "#B6E880",
           "#FF97FF",
           "#FECB52"
          ],
          "font": {
           "color": "#2a3f5f"
          },
          "geo": {
           "bgcolor": "white",
           "lakecolor": "white",
           "landcolor": "#E5ECF6",
           "showlakes": true,
           "showland": true,
           "subunitcolor": "white"
          },
          "hoverlabel": {
           "align": "left"
          },
          "hovermode": "closest",
          "mapbox": {
           "style": "light"
          },
          "paper_bgcolor": "white",
          "plot_bgcolor": "#E5ECF6",
          "polar": {
           "angularaxis": {
            "gridcolor": "white",
            "linecolor": "white",
            "ticks": ""
           },
           "bgcolor": "#E5ECF6",
           "radialaxis": {
            "gridcolor": "white",
            "linecolor": "white",
            "ticks": ""
           }
          },
          "scene": {
           "xaxis": {
            "backgroundcolor": "#E5ECF6",
            "gridcolor": "white",
            "gridwidth": 2,
            "linecolor": "white",
            "showbackground": true,
            "ticks": "",
            "zerolinecolor": "white"
           },
           "yaxis": {
            "backgroundcolor": "#E5ECF6",
            "gridcolor": "white",
            "gridwidth": 2,
            "linecolor": "white",
            "showbackground": true,
            "ticks": "",
            "zerolinecolor": "white"
           },
           "zaxis": {
            "backgroundcolor": "#E5ECF6",
            "gridcolor": "white",
            "gridwidth": 2,
            "linecolor": "white",
            "showbackground": true,
            "ticks": "",
            "zerolinecolor": "white"
           }
          },
          "shapedefaults": {
           "line": {
            "color": "#2a3f5f"
           }
          },
          "ternary": {
           "aaxis": {
            "gridcolor": "white",
            "linecolor": "white",
            "ticks": ""
           },
           "baxis": {
            "gridcolor": "white",
            "linecolor": "white",
            "ticks": ""
           },
           "bgcolor": "#E5ECF6",
           "caxis": {
            "gridcolor": "white",
            "linecolor": "white",
            "ticks": ""
           }
          },
          "title": {
           "x": 0.05
          },
          "xaxis": {
           "automargin": true,
           "gridcolor": "white",
           "linecolor": "white",
           "ticks": "",
           "title": {
            "standoff": 15
           },
           "zerolinecolor": "white",
           "zerolinewidth": 2
          },
          "yaxis": {
           "automargin": true,
           "gridcolor": "white",
           "linecolor": "white",
           "ticks": "",
           "title": {
            "standoff": 15
           },
           "zerolinecolor": "white",
           "zerolinewidth": 2
          }
         }
        },
        "title": {
         "text": "Salary Distribution"
        },
        "xaxis": {
         "anchor": "y",
         "domain": [
          0,
          1
         ],
         "title": {
          "text": "Salary"
         }
        },
        "yaxis": {
         "anchor": "x",
         "domain": [
          0,
          1
         ],
         "title": {
          "text": "count"
         }
        }
       }
      }
     },
     "metadata": {},
     "output_type": "display_data"
    }
   ],
   "source": [
    "fig = px.histogram(df_salary_raw,\n",
    "                   x=\"Salary\",\n",
    "                   nbins=30,\n",
    "                   title=\"Salary Distribution\")\n",
    "fig.show()"
   ]
  },
  {
   "cell_type": "code",
   "execution_count": 648,
   "id": "DdbsIst9WkkX",
   "metadata": {
    "colab": {
     "base_uri": "https://localhost:8080/",
     "height": 542
    },
    "executionInfo": {
     "elapsed": 36,
     "status": "ok",
     "timestamp": 1749481288463,
     "user": {
      "displayName": "Gerard Seward",
      "userId": "08585387988591404566"
     },
     "user_tz": 180
    },
    "id": "DdbsIst9WkkX",
    "outputId": "ed7c9b42-f4e8-4ebe-e9df-bba6eea2db15"
   },
   "outputs": [
    {
     "data": {
      "application/vnd.plotly.v1+json": {
       "config": {
        "plotlyServerURL": "https://plot.ly"
       },
       "data": [
        {
         "bingroup": "x",
         "hovertemplate": "Age=%{x}<br>count=%{y}<extra></extra>",
         "legendgroup": "",
         "marker": {
          "color": "#636efa",
          "pattern": {
           "shape": ""
          }
         },
         "name": "",
         "nbinsx": 30,
         "orientation": "v",
         "showlegend": false,
         "type": "histogram",
         "x": {
          "bdata": "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",
          "dtype": "f8"
         },
         "xaxis": "x",
         "yaxis": "y"
        }
       ],
       "layout": {
        "barmode": "relative",
        "legend": {
         "tracegroupgap": 0
        },
        "template": {
         "data": {
          "bar": [
           {
            "error_x": {
             "color": "#2a3f5f"
            },
            "error_y": {
             "color": "#2a3f5f"
            },
            "marker": {
             "line": {
              "color": "#E5ECF6",
              "width": 0.5
             },
             "pattern": {
              "fillmode": "overlay",
              "size": 10,
              "solidity": 0.2
             }
            },
            "type": "bar"
           }
          ],
          "barpolar": [
           {
            "marker": {
             "line": {
              "color": "#E5ECF6",
              "width": 0.5
             },
             "pattern": {
              "fillmode": "overlay",
              "size": 10,
              "solidity": 0.2
             }
            },
            "type": "barpolar"
           }
          ],
          "carpet": [
           {
            "aaxis": {
             "endlinecolor": "#2a3f5f",
             "gridcolor": "white",
             "linecolor": "white",
             "minorgridcolor": "white",
             "startlinecolor": "#2a3f5f"
            },
            "baxis": {
             "endlinecolor": "#2a3f5f",
             "gridcolor": "white",
             "linecolor": "white",
             "minorgridcolor": "white",
             "startlinecolor": "#2a3f5f"
            },
            "type": "carpet"
           }
          ],
          "choropleth": [
           {
            "colorbar": {
             "outlinewidth": 0,
             "ticks": ""
            },
            "type": "choropleth"
           }
          ],
          "contour": [
           {
            "colorbar": {
             "outlinewidth": 0,
             "ticks": ""
            },
            "colorscale": [
             [
              0,
              "#0d0887"
             ],
             [
              0.1111111111111111,
              "#46039f"
             ],
             [
              0.2222222222222222,
              "#7201a8"
             ],
             [
              0.3333333333333333,
              "#9c179e"
             ],
             [
              0.4444444444444444,
              "#bd3786"
             ],
             [
              0.5555555555555556,
              "#d8576b"
             ],
             [
              0.6666666666666666,
              "#ed7953"
             ],
             [
              0.7777777777777778,
              "#fb9f3a"
             ],
             [
              0.8888888888888888,
              "#fdca26"
             ],
             [
              1,
              "#f0f921"
             ]
            ],
            "type": "contour"
           }
          ],
          "contourcarpet": [
           {
            "colorbar": {
             "outlinewidth": 0,
             "ticks": ""
            },
            "type": "contourcarpet"
           }
          ],
          "heatmap": [
           {
            "colorbar": {
             "outlinewidth": 0,
             "ticks": ""
            },
            "colorscale": [
             [
              0,
              "#0d0887"
             ],
             [
              0.1111111111111111,
              "#46039f"
             ],
             [
              0.2222222222222222,
              "#7201a8"
             ],
             [
              0.3333333333333333,
              "#9c179e"
             ],
             [
              0.4444444444444444,
              "#bd3786"
             ],
             [
              0.5555555555555556,
              "#d8576b"
             ],
             [
              0.6666666666666666,
              "#ed7953"
             ],
             [
              0.7777777777777778,
              "#fb9f3a"
             ],
             [
              0.8888888888888888,
              "#fdca26"
             ],
             [
              1,
              "#f0f921"
             ]
            ],
            "type": "heatmap"
           }
          ],
          "histogram": [
           {
            "marker": {
             "pattern": {
              "fillmode": "overlay",
              "size": 10,
              "solidity": 0.2
             }
            },
            "type": "histogram"
           }
          ],
          "histogram2d": [
           {
            "colorbar": {
             "outlinewidth": 0,
             "ticks": ""
            },
            "colorscale": [
             [
              0,
              "#0d0887"
             ],
             [
              0.1111111111111111,
              "#46039f"
             ],
             [
              0.2222222222222222,
              "#7201a8"
             ],
             [
              0.3333333333333333,
              "#9c179e"
             ],
             [
              0.4444444444444444,
              "#bd3786"
             ],
             [
              0.5555555555555556,
              "#d8576b"
             ],
             [
              0.6666666666666666,
              "#ed7953"
             ],
             [
              0.7777777777777778,
              "#fb9f3a"
             ],
             [
              0.8888888888888888,
              "#fdca26"
             ],
             [
              1,
              "#f0f921"
             ]
            ],
            "type": "histogram2d"
           }
          ],
          "histogram2dcontour": [
           {
            "colorbar": {
             "outlinewidth": 0,
             "ticks": ""
            },
            "colorscale": [
             [
              0,
              "#0d0887"
             ],
             [
              0.1111111111111111,
              "#46039f"
             ],
             [
              0.2222222222222222,
              "#7201a8"
             ],
             [
              0.3333333333333333,
              "#9c179e"
             ],
             [
              0.4444444444444444,
              "#bd3786"
             ],
             [
              0.5555555555555556,
              "#d8576b"
             ],
             [
              0.6666666666666666,
              "#ed7953"
             ],
             [
              0.7777777777777778,
              "#fb9f3a"
             ],
             [
              0.8888888888888888,
              "#fdca26"
             ],
             [
              1,
              "#f0f921"
             ]
            ],
            "type": "histogram2dcontour"
           }
          ],
          "mesh3d": [
           {
            "colorbar": {
             "outlinewidth": 0,
             "ticks": ""
            },
            "type": "mesh3d"
           }
          ],
          "parcoords": [
           {
            "line": {
             "colorbar": {
              "outlinewidth": 0,
              "ticks": ""
             }
            },
            "type": "parcoords"
           }
          ],
          "pie": [
           {
            "automargin": true,
            "type": "pie"
           }
          ],
          "scatter": [
           {
            "fillpattern": {
             "fillmode": "overlay",
             "size": 10,
             "solidity": 0.2
            },
            "type": "scatter"
           }
          ],
          "scatter3d": [
           {
            "line": {
             "colorbar": {
              "outlinewidth": 0,
              "ticks": ""
             }
            },
            "marker": {
             "colorbar": {
              "outlinewidth": 0,
              "ticks": ""
             }
            },
            "type": "scatter3d"
           }
          ],
          "scattercarpet": [
           {
            "marker": {
             "colorbar": {
              "outlinewidth": 0,
              "ticks": ""
             }
            },
            "type": "scattercarpet"
           }
          ],
          "scattergeo": [
           {
            "marker": {
             "colorbar": {
              "outlinewidth": 0,
              "ticks": ""
             }
            },
            "type": "scattergeo"
           }
          ],
          "scattergl": [
           {
            "marker": {
             "colorbar": {
              "outlinewidth": 0,
              "ticks": ""
             }
            },
            "type": "scattergl"
           }
          ],
          "scattermap": [
           {
            "marker": {
             "colorbar": {
              "outlinewidth": 0,
              "ticks": ""
             }
            },
            "type": "scattermap"
           }
          ],
          "scattermapbox": [
           {
            "marker": {
             "colorbar": {
              "outlinewidth": 0,
              "ticks": ""
             }
            },
            "type": "scattermapbox"
           }
          ],
          "scatterpolar": [
           {
            "marker": {
             "colorbar": {
              "outlinewidth": 0,
              "ticks": ""
             }
            },
            "type": "scatterpolar"
           }
          ],
          "scatterpolargl": [
           {
            "marker": {
             "colorbar": {
              "outlinewidth": 0,
              "ticks": ""
             }
            },
            "type": "scatterpolargl"
           }
          ],
          "scatterternary": [
           {
            "marker": {
             "colorbar": {
              "outlinewidth": 0,
              "ticks": ""
             }
            },
            "type": "scatterternary"
           }
          ],
          "surface": [
           {
            "colorbar": {
             "outlinewidth": 0,
             "ticks": ""
            },
            "colorscale": [
             [
              0,
              "#0d0887"
             ],
             [
              0.1111111111111111,
              "#46039f"
             ],
             [
              0.2222222222222222,
              "#7201a8"
             ],
             [
              0.3333333333333333,
              "#9c179e"
             ],
             [
              0.4444444444444444,
              "#bd3786"
             ],
             [
              0.5555555555555556,
              "#d8576b"
             ],
             [
              0.6666666666666666,
              "#ed7953"
             ],
             [
              0.7777777777777778,
              "#fb9f3a"
             ],
             [
              0.8888888888888888,
              "#fdca26"
             ],
             [
              1,
              "#f0f921"
             ]
            ],
            "type": "surface"
           }
          ],
          "table": [
           {
            "cells": {
             "fill": {
              "color": "#EBF0F8"
             },
             "line": {
              "color": "white"
             }
            },
            "header": {
             "fill": {
              "color": "#C8D4E3"
             },
             "line": {
              "color": "white"
             }
            },
            "type": "table"
           }
          ]
         },
         "layout": {
          "annotationdefaults": {
           "arrowcolor": "#2a3f5f",
           "arrowhead": 0,
           "arrowwidth": 1
          },
          "autotypenumbers": "strict",
          "coloraxis": {
           "colorbar": {
            "outlinewidth": 0,
            "ticks": ""
           }
          },
          "colorscale": {
           "diverging": [
            [
             0,
             "#8e0152"
            ],
            [
             0.1,
             "#c51b7d"
            ],
            [
             0.2,
             "#de77ae"
            ],
            [
             0.3,
             "#f1b6da"
            ],
            [
             0.4,
             "#fde0ef"
            ],
            [
             0.5,
             "#f7f7f7"
            ],
            [
             0.6,
             "#e6f5d0"
            ],
            [
             0.7,
             "#b8e186"
            ],
            [
             0.8,
             "#7fbc41"
            ],
            [
             0.9,
             "#4d9221"
            ],
            [
             1,
             "#276419"
            ]
           ],
           "sequential": [
            [
             0,
             "#0d0887"
            ],
            [
             0.1111111111111111,
             "#46039f"
            ],
            [
             0.2222222222222222,
             "#7201a8"
            ],
            [
             0.3333333333333333,
             "#9c179e"
            ],
            [
             0.4444444444444444,
             "#bd3786"
            ],
            [
             0.5555555555555556,
             "#d8576b"
            ],
            [
             0.6666666666666666,
             "#ed7953"
            ],
            [
             0.7777777777777778,
             "#fb9f3a"
            ],
            [
             0.8888888888888888,
             "#fdca26"
            ],
            [
             1,
             "#f0f921"
            ]
           ],
           "sequentialminus": [
            [
             0,
             "#0d0887"
            ],
            [
             0.1111111111111111,
             "#46039f"
            ],
            [
             0.2222222222222222,
             "#7201a8"
            ],
            [
             0.3333333333333333,
             "#9c179e"
            ],
            [
             0.4444444444444444,
             "#bd3786"
            ],
            [
             0.5555555555555556,
             "#d8576b"
            ],
            [
             0.6666666666666666,
             "#ed7953"
            ],
            [
             0.7777777777777778,
             "#fb9f3a"
            ],
            [
             0.8888888888888888,
             "#fdca26"
            ],
            [
             1,
             "#f0f921"
            ]
           ]
          },
          "colorway": [
           "#636efa",
           "#EF553B",
           "#00cc96",
           "#ab63fa",
           "#FFA15A",
           "#19d3f3",
           "#FF6692",
           "#B6E880",
           "#FF97FF",
           "#FECB52"
          ],
          "font": {
           "color": "#2a3f5f"
          },
          "geo": {
           "bgcolor": "white",
           "lakecolor": "white",
           "landcolor": "#E5ECF6",
           "showlakes": true,
           "showland": true,
           "subunitcolor": "white"
          },
          "hoverlabel": {
           "align": "left"
          },
          "hovermode": "closest",
          "mapbox": {
           "style": "light"
          },
          "paper_bgcolor": "white",
          "plot_bgcolor": "#E5ECF6",
          "polar": {
           "angularaxis": {
            "gridcolor": "white",
            "linecolor": "white",
            "ticks": ""
           },
           "bgcolor": "#E5ECF6",
           "radialaxis": {
            "gridcolor": "white",
            "linecolor": "white",
            "ticks": ""
           }
          },
          "scene": {
           "xaxis": {
            "backgroundcolor": "#E5ECF6",
            "gridcolor": "white",
            "gridwidth": 2,
            "linecolor": "white",
            "showbackground": true,
            "ticks": "",
            "zerolinecolor": "white"
           },
           "yaxis": {
            "backgroundcolor": "#E5ECF6",
            "gridcolor": "white",
            "gridwidth": 2,
            "linecolor": "white",
            "showbackground": true,
            "ticks": "",
            "zerolinecolor": "white"
           },
           "zaxis": {
            "backgroundcolor": "#E5ECF6",
            "gridcolor": "white",
            "gridwidth": 2,
            "linecolor": "white",
            "showbackground": true,
            "ticks": "",
            "zerolinecolor": "white"
           }
          },
          "shapedefaults": {
           "line": {
            "color": "#2a3f5f"
           }
          },
          "ternary": {
           "aaxis": {
            "gridcolor": "white",
            "linecolor": "white",
            "ticks": ""
           },
           "baxis": {
            "gridcolor": "white",
            "linecolor": "white",
            "ticks": ""
           },
           "bgcolor": "#E5ECF6",
           "caxis": {
            "gridcolor": "white",
            "linecolor": "white",
            "ticks": ""
           }
          },
          "title": {
           "x": 0.05
          },
          "xaxis": {
           "automargin": true,
           "gridcolor": "white",
           "linecolor": "white",
           "ticks": "",
           "title": {
            "standoff": 15
           },
           "zerolinecolor": "white",
           "zerolinewidth": 2
          },
          "yaxis": {
           "automargin": true,
           "gridcolor": "white",
           "linecolor": "white",
           "ticks": "",
           "title": {
            "standoff": 15
           },
           "zerolinecolor": "white",
           "zerolinewidth": 2
          }
         }
        },
        "title": {
         "text": "Salary Distribution"
        },
        "xaxis": {
         "anchor": "y",
         "domain": [
          0,
          1
         ],
         "title": {
          "text": "Age"
         }
        },
        "yaxis": {
         "anchor": "x",
         "domain": [
          0,
          1
         ],
         "title": {
          "text": "count"
         }
        }
       }
      }
     },
     "metadata": {},
     "output_type": "display_data"
    }
   ],
   "source": [
    "fig = px.histogram(df_salary_people_raw,\n",
    "                   x=\"Age\",\n",
    "                   nbins=30,\n",
    "                   title=\"Salary Distribution\")\n",
    "fig.show()"
   ]
  },
  {
   "cell_type": "markdown",
   "id": "92021ee9",
   "metadata": {
    "id": "92021ee9"
   },
   "source": [
    "## Feature engineer"
   ]
  },
  {
   "cell_type": "code",
   "execution_count": 649,
   "id": "6a0a1c93",
   "metadata": {},
   "outputs": [],
   "source": [
    "num_cols = ['Age']\n",
    "cat_cols = ['Gender', 'Education Level', 'Job Title', 'Years of Experience']"
   ]
  },
  {
   "cell_type": "markdown",
   "id": "473f46d1",
   "metadata": {},
   "source": [
    "### Target variable treatment"
   ]
  },
  {
   "cell_type": "code",
   "execution_count": 650,
   "id": "245fcff8",
   "metadata": {},
   "outputs": [],
   "source": [
    "def clean_target_variable(df, target_col=TARGET):\n",
    "    \"\"\"Remove rows with null values in target variable.\"\"\"\n",
    "    initial_count = df.shape[0]\n",
    "    df_cleaned = df.filter(pl.col(target_col).is_not_null())\n",
    "    removed_count = initial_count - df_cleaned.shape[0]\n",
    "    \n",
    "    if removed_count > 0:\n",
    "        print(f\"Removed {removed_count} rows with null {target_col} values\")\n",
    "    \n",
    "    return df_cleaned"
   ]
  },
  {
   "cell_type": "markdown",
   "id": "716031ad",
   "metadata": {},
   "source": [
    "### Age treatment"
   ]
  },
  {
   "cell_type": "code",
   "execution_count": 651,
   "id": "0b117814",
   "metadata": {},
   "outputs": [
    {
     "data": {
      "text/html": [
       "<div><style>\n",
       ".dataframe > thead > tr,\n",
       ".dataframe > tbody > tr {\n",
       "  text-align: right;\n",
       "  white-space: pre-wrap;\n",
       "}\n",
       "</style>\n",
       "<small>shape: (9, 2)</small><table border=\"1\" class=\"dataframe\"><thead><tr><th>statistic</th><th>value</th></tr><tr><td>str</td><td>f64</td></tr></thead><tbody><tr><td>&quot;count&quot;</td><td>370.0</td></tr><tr><td>&quot;null_count&quot;</td><td>5.0</td></tr><tr><td>&quot;mean&quot;</td><td>37.437838</td></tr><tr><td>&quot;std&quot;</td><td>7.080465</td></tr><tr><td>&quot;min&quot;</td><td>23.0</td></tr><tr><td>&quot;25%&quot;</td><td>31.0</td></tr><tr><td>&quot;50%&quot;</td><td>36.0</td></tr><tr><td>&quot;75%&quot;</td><td>44.0</td></tr><tr><td>&quot;max&quot;</td><td>53.0</td></tr></tbody></table></div>"
      ],
      "text/plain": [
       "shape: (9, 2)\n",
       "┌────────────┬───────────┐\n",
       "│ statistic  ┆ value     │\n",
       "│ ---        ┆ ---       │\n",
       "│ str        ┆ f64       │\n",
       "╞════════════╪═══════════╡\n",
       "│ count      ┆ 370.0     │\n",
       "│ null_count ┆ 5.0       │\n",
       "│ mean       ┆ 37.437838 │\n",
       "│ std        ┆ 7.080465  │\n",
       "│ min        ┆ 23.0      │\n",
       "│ 25%        ┆ 31.0      │\n",
       "│ 50%        ┆ 36.0      │\n",
       "│ 75%        ┆ 44.0      │\n",
       "│ max        ┆ 53.0      │\n",
       "└────────────┴───────────┘"
      ]
     },
     "execution_count": 651,
     "metadata": {},
     "output_type": "execute_result"
    }
   ],
   "source": [
    "df_salary_people_raw['Age'].describe()"
   ]
  },
  {
   "cell_type": "code",
   "execution_count": 652,
   "id": "df79bc54",
   "metadata": {},
   "outputs": [],
   "source": [
    "def engineer_age_features(df):\n",
    "    \"\"\"Engineer age-related features.\"\"\"\n",
    "    \n",
    "    # Create age bins\n",
    "    df = df.with_columns(\n",
    "        pl.when(pl.col('Age').is_not_null()).then(\n",
    "            pl.when(pl.col('Age') < 30).then(pl.lit('young'))\n",
    "            .when(pl.col('Age') < 45).then(pl.lit('mid'))\n",
    "            .otherwise(pl.lit('old')))\n",
    "            .otherwise(None).alias('Age_bin')\n",
    "    )\n",
    "\n",
    "    cat_cols.append('Age_bin')\n",
    "    \n",
    "    return df"
   ]
  },
  {
   "cell_type": "markdown",
   "id": "721e9a7b",
   "metadata": {},
   "source": [
    "### Gender treatment"
   ]
  },
  {
   "cell_type": "code",
   "execution_count": 653,
   "id": "117c4847",
   "metadata": {},
   "outputs": [],
   "source": [
    "def engineer_gender_features(df):\n",
    "    \"\"\"Engineer gender-related features.\"\"\"\n",
    "    \n",
    "    pass\n",
    "    \n",
    "    return df"
   ]
  },
  {
   "cell_type": "markdown",
   "id": "97372adc",
   "metadata": {},
   "source": [
    "### Education treatment"
   ]
  },
  {
   "cell_type": "code",
   "execution_count": 654,
   "id": "196f7916",
   "metadata": {},
   "outputs": [],
   "source": [
    "def engineer_ed_features(df):\n",
    "    \"\"\"engineer education-related features.\"\"\"\n",
    "\n",
    "    pass\n",
    "    \n",
    "    return df"
   ]
  },
  {
   "cell_type": "markdown",
   "id": "8b3720b1",
   "metadata": {},
   "source": [
    "### Job title treatment"
   ]
  },
  {
   "cell_type": "code",
   "execution_count": 655,
   "id": "774b4935",
   "metadata": {},
   "outputs": [],
   "source": [
    "# df_salary_people_raw['Job Title'].value_counts().sort('count', descending=True)"
   ]
  },
  {
   "cell_type": "code",
   "execution_count": 656,
   "id": "372887bb",
   "metadata": {},
   "outputs": [],
   "source": [
    "# df_salary_people_raw.filter(pl.col('Job Title').str.contains('Director'))"
   ]
  },
  {
   "cell_type": "code",
   "execution_count": 657,
   "id": "73ec9684",
   "metadata": {},
   "outputs": [],
   "source": [
    "# df_salary_people_raw.filter(pl.col('Job Title').str.contains('Manager')).group_by('Job Title').agg([\n",
    "#     pl.col('Job Title').count().alias('count'),\n",
    "#     pl.col('Salary').mean().alias('mean_salary')\n",
    "# ]).sort('mean_salary', descending=True)"
   ]
  },
  {
   "cell_type": "code",
   "execution_count": 658,
   "id": "ee79951d",
   "metadata": {},
   "outputs": [],
   "source": [
    "\n",
    "# df_salary_people_raw.filter(~pl.col('Job Title').str.contains('Coordinator') & ~pl.col('Job Title').str.contains('Analyst') & ~pl.col('Job Title').str.contains('Manager') & ~pl.col('Job Title').str.contains('Director')).group_by('Job Title').agg([\n",
    "#     pl.col('Job Title').count().alias('count'),\n",
    "#     pl.col('Salary').mean().alias('mean_salary')\n",
    "# ]).sort('mean_salary', descending=True)"
   ]
  },
  {
   "cell_type": "code",
   "execution_count": 659,
   "id": "80f5c5f7",
   "metadata": {},
   "outputs": [],
   "source": [
    "def engineer_jt_features(df):\n",
    "    \"\"\"engineer job title-related features.\"\"\"\n",
    "\n",
    "    # Create a new column for job title categories\n",
    "    df = df.with_columns(\n",
    "        pl.when(pl.col('Job Title').str.contains('Director')).then(pl.lit('Director'))\n",
    "        .when(pl.col('Job Title').str.contains('Manager')).then(pl.lit('Manager'))\n",
    "        .when(pl.col('Job Title').str.contains('Coordinator')).then(pl.lit('Coordinator'))\n",
    "        .when(pl.col('Job Title').str.contains('Analyst')).then(pl.lit('Analyst'))\n",
    "        .when(pl.col('Job Title').str.contains('CEO')).then(pl.lit('Executive'))\n",
    "        .when(pl.col('Job Title').str.contains('Chief')).then(pl.lit('Executive'))\n",
    "        .when(pl.col('Job Title').str.contains('VP')).then(pl.lit('Executive'))\n",
    "        .otherwise(pl.lit('Other')).alias('Job_Title_Category')\n",
    "    )\n",
    "\n",
    "    df = df.with_columns(\n",
    "        pl.when(pl.col('Job Title').str.contains('Senior')).then(pl.lit('Senior'))\n",
    "        .when(pl.col('Job Title').str.contains('Junior')).then(pl.lit('Junior'))\n",
    "        .otherwise(pl.lit('Other')).alias('Job_Level')\n",
    "    )\n",
    "\n",
    "    df = df.drop('Job Title')\n",
    "    cat_cols.remove('Job Title')\n",
    "\n",
    "    cat_cols.append('Job_Title_Category')\n",
    "    cat_cols.append('Job_Level')\n",
    "    \n",
    "    return df"
   ]
  },
  {
   "cell_type": "markdown",
   "id": "33a5ee55",
   "metadata": {},
   "source": [
    "### Years of experience treatment"
   ]
  },
  {
   "cell_type": "code",
   "execution_count": 674,
   "id": "11db0a90",
   "metadata": {},
   "outputs": [
    {
     "data": {
      "text/html": [
       "<div><style>\n",
       ".dataframe > thead > tr,\n",
       ".dataframe > tbody > tr {\n",
       "  text-align: right;\n",
       "  white-space: pre-wrap;\n",
       "}\n",
       "</style>\n",
       "<small>shape: (9, 2)</small><table border=\"1\" class=\"dataframe\"><thead><tr><th>statistic</th><th>value</th></tr><tr><td>str</td><td>f64</td></tr></thead><tbody><tr><td>&quot;count&quot;</td><td>373.0</td></tr><tr><td>&quot;null_count&quot;</td><td>2.0</td></tr><tr><td>&quot;mean&quot;</td><td>10.030831</td></tr><tr><td>&quot;std&quot;</td><td>6.557007</td></tr><tr><td>&quot;min&quot;</td><td>0.0</td></tr><tr><td>&quot;25%&quot;</td><td>4.0</td></tr><tr><td>&quot;50%&quot;</td><td>9.0</td></tr><tr><td>&quot;75%&quot;</td><td>15.0</td></tr><tr><td>&quot;max&quot;</td><td>25.0</td></tr></tbody></table></div>"
      ],
      "text/plain": [
       "shape: (9, 2)\n",
       "┌────────────┬───────────┐\n",
       "│ statistic  ┆ value     │\n",
       "│ ---        ┆ ---       │\n",
       "│ str        ┆ f64       │\n",
       "╞════════════╪═══════════╡\n",
       "│ count      ┆ 373.0     │\n",
       "│ null_count ┆ 2.0       │\n",
       "│ mean       ┆ 10.030831 │\n",
       "│ std        ┆ 6.557007  │\n",
       "│ min        ┆ 0.0       │\n",
       "│ 25%        ┆ 4.0       │\n",
       "│ 50%        ┆ 9.0       │\n",
       "│ 75%        ┆ 15.0      │\n",
       "│ max        ┆ 25.0      │\n",
       "└────────────┴───────────┘"
      ]
     },
     "execution_count": 674,
     "metadata": {},
     "output_type": "execute_result"
    }
   ],
   "source": [
    "df_salary_people_raw['Years of Experience'].describe()"
   ]
  },
  {
   "cell_type": "code",
   "execution_count": 660,
   "id": "260a1592",
   "metadata": {},
   "outputs": [],
   "source": [
    "def engineer_yoe_features(df):\n",
    "    \"\"\"engineer years of experience-related features.\"\"\"\n",
    "\n",
    "    # create years of experience bins\n",
    "    df = df.with_columns(\n",
    "        pl.when(pl.col('Years of Experience') < 1).then(pl.lit('junior'))\n",
    "        .when(pl.col('Years of Experience') < 3).then(pl.lit('mid'))\n",
    "        .otherwise(pl.lit('senior')).alias('Experience_bin')\n",
    "    )\n",
    "    cat_cols.append('Experience_bin')\n",
    "    \n",
    "    return df"
   ]
  },
  {
   "cell_type": "markdown",
   "id": "fe4f76d9",
   "metadata": {},
   "source": [
    "### Add interaction features"
   ]
  },
  {
   "cell_type": "code",
   "execution_count": 661,
   "id": "a0867b83",
   "metadata": {},
   "outputs": [],
   "source": [
    "def create_interaction_features(df):\n",
    "    \"\"\"Create interaction features\"\"\"\n",
    "    ed_age = df.group_by('Education Level').agg(\n",
    "        pl.col('Age').mean().alias('Education_Age_mean'),\n",
    "        pl.col('Age').std().alias('Education_Age_std')\n",
    "    )\n",
    "    \n",
    "    df = df.join(ed_age, on='Education Level', how='left')\n",
    "\n",
    "    num_cols.extend(['Education_Age_mean', 'Education_Age_std'])\n",
    "    \n",
    "    return df"
   ]
  },
  {
   "cell_type": "code",
   "execution_count": 662,
   "id": "7f588c74",
   "metadata": {},
   "outputs": [
    {
     "name": "stdout",
     "output_type": "stream",
     "text": [
      "Removed 2 rows with null Salary values\n"
     ]
    }
   ],
   "source": [
    "def perform_feature_engineering(df):\n",
    "    \"\"\"Perform all feature engineering steps.\"\"\"\n",
    "    # Remove ID column\n",
    "    df = df.drop(ID)\n",
    "    \n",
    "    # Clean target variable\n",
    "    df = clean_target_variable(df)\n",
    "    \n",
    "    # Engineer features\n",
    "    df = engineer_age_features(df)\n",
    "    df = engineer_gender_features(df)\n",
    "    df = engineer_ed_features(df)\n",
    "    df = engineer_jt_features(df)\n",
    "    df = engineer_yoe_features(df)\n",
    "    df = create_interaction_features(df)\n",
    "    \n",
    "    return df\n",
    "\n",
    "df_salary_people = perform_feature_engineering(df_salary_people_raw)"
   ]
  },
  {
   "cell_type": "markdown",
   "id": "44ab22f5",
   "metadata": {
    "id": "44ab22f5"
   },
   "source": [
    "## Data preprocessing"
   ]
  },
  {
   "cell_type": "code",
   "execution_count": 663,
   "id": "e426d58c",
   "metadata": {
    "executionInfo": {
     "elapsed": 15,
     "status": "ok",
     "timestamp": 1749481288636,
     "user": {
      "displayName": "Gerard Seward",
      "userId": "08585387988591404566"
     },
     "user_tz": 180
    },
    "id": "e426d58c"
   },
   "outputs": [],
   "source": [
    "# Salary has outliers, need to decide how to handle them\n",
    "\n",
    "# age has 3 null values, need to decide how to fill them\n",
    "\n",
    "# gender has 3 null values, need to decide how to fill them\n",
    "\n",
    "# Education Level has 3 null values, need to decide how to fill them\n",
    "\n",
    "# Job Title has 3 null values, need to decide how to fill them\n",
    "# Job title has high cardinality, experiment extracting keywords"
   ]
  },
  {
   "cell_type": "code",
   "execution_count": 664,
   "id": "08d157aa",
   "metadata": {
    "executionInfo": {
     "elapsed": 12,
     "status": "ok",
     "timestamp": 1749481288638,
     "user": {
      "displayName": "Gerard Seward",
      "userId": "08585387988591404566"
     },
     "user_tz": 180
    },
    "id": "08d157aa"
   },
   "outputs": [],
   "source": [
    "def create_preprocessing_pipeline():\n",
    "    \"\"\"Create sklearn preprocessing pipeline.\"\"\"\n",
    "    # numerical imputer\n",
    "    mean_imputer = SimpleImputer(strategy='mean')\n",
    "    median_imputer = SimpleImputer(strategy='median')\n",
    "    # numerical scaler\n",
    "    scaler = StandardScaler()\n",
    "    # categorical imputer\n",
    "    most_freq_imputer = SimpleImputer(strategy='most_frequent')\n",
    "    unknown_imputer = SimpleImputer(strategy='constant', fill_value='Unknown')\n",
    "    # categorical encoder\n",
    "    oe_encoder = OrdinalEncoder(handle_unknown='use_encoded_value', unknown_value=-1)\n",
    "    ohe_encoder = OneHotEncoder(handle_unknown='ignore', sparse_output=False)\n",
    "\n",
    "    # numerical pipeline\n",
    "    num_pipeline = Pipeline([\n",
    "        ('mean_imputer', mean_imputer),\n",
    "        ('scaler', scaler)\n",
    "    ])\n",
    "    # categorical pipeline\n",
    "    cat_pipeline = Pipeline([\n",
    "        ('most_freq_imputer', most_freq_imputer),\n",
    "        ('oe_encoder', oe_encoder)\n",
    "    ])\n",
    "\n",
    "    # column transformer\n",
    "\n",
    "    pipeline = ColumnTransformer([\n",
    "        ('num', num_pipeline, num_cols),\n",
    "        ('cat_oe', cat_pipeline, cat_cols),\n",
    "        ])\n",
    "    return pipeline\n"
   ]
  },
  {
   "cell_type": "code",
   "execution_count": 665,
   "id": "0b9aa331",
   "metadata": {},
   "outputs": [],
   "source": [
    "X = df_salary_people.drop(TARGET)\n",
    "y = df_salary_people[TARGET]"
   ]
  },
  {
   "cell_type": "markdown",
   "id": "0186dfbb",
   "metadata": {
    "id": "0186dfbb"
   },
   "source": [
    "## Metric definition"
   ]
  },
  {
   "cell_type": "code",
   "execution_count": 666,
   "id": "ad9c21ef",
   "metadata": {
    "executionInfo": {
     "elapsed": 2,
     "status": "ok",
     "timestamp": 1749481288664,
     "user": {
      "displayName": "Gerard Seward",
      "userId": "08585387988591404566"
     },
     "user_tz": 180
    },
    "id": "ad9c21ef"
   },
   "outputs": [],
   "source": [
    "def metrics(y_true, y_pred):\n",
    "    rmse = root_mean_squared_error(y_true, y_pred)\n",
    "    r2 = r2_score(y_true, y_pred)\n",
    "    return {'rmse': rmse, 'r2': r2}"
   ]
  },
  {
   "cell_type": "markdown",
   "id": "6d052385",
   "metadata": {
    "id": "6d052385"
   },
   "source": [
    "## Cross validation training"
   ]
  },
  {
   "cell_type": "code",
   "execution_count": 667,
   "id": "dd4ae5ea",
   "metadata": {},
   "outputs": [],
   "source": [
    "def feature_importance(pipeline, model):\n",
    "    \"\"\"Get feature importance from the model.\"\"\"\n",
    "    importances = []\n",
    "    if hasattr(model, 'feature_importances_'):\n",
    "        importances = model.feature_importances_\n",
    "    elif hasattr(model, 'coef_'):\n",
    "        importances = np.abs(model.coef_)\n",
    "    else:\n",
    "        importances = np.zeros(len(pipeline.get_feature_names_out()))\n",
    "    \n",
    "    fe_impo = pl.DataFrame({\n",
    "        'feature': pipeline.get_feature_names_out(),\n",
    "        'importance': importances\n",
    "    }).sort('importance', descending=True)\n",
    "    \n",
    "    return fe_impo"
   ]
  },
  {
   "cell_type": "code",
   "execution_count": 668,
   "id": "d157da02",
   "metadata": {
    "executionInfo": {
     "elapsed": 29,
     "status": "ok",
     "timestamp": 1749481288699,
     "user": {
      "displayName": "Gerard Seward",
      "userId": "08585387988591404566"
     },
     "user_tz": 180
    },
    "id": "d157da02"
   },
   "outputs": [],
   "source": [
    "def cross_validation(model, X, y):\n",
    "\n",
    "    kf = KFold(n_splits=N_FOLDS, shuffle=True, random_state=SEED)\n",
    "    results = []\n",
    "    importances_table = None\n",
    "\n",
    "    for fold, (train_index, val_index) in enumerate(kf.split(X)):\n",
    "\n",
    "        # print(f\"Fold {fold + 1}/{N_FOLDS}\")\n",
    "\n",
    "        X_train, X_val = X[train_index].clone(), X[val_index].clone()\n",
    "        y_train, y_val = y[train_index].clone(), y[val_index].clone()\n",
    "\n",
    "        # Create preprocessing pipeline\n",
    "        preprocessing_pipeline = create_preprocessing_pipeline()\n",
    "\n",
    "        X_train = preprocessing_pipeline.fit_transform(X_train)\n",
    "        X_val = preprocessing_pipeline.transform(X_val)\n",
    "\n",
    "        model.fit(X_train, y_train)\n",
    "        y_pred = model.predict(X_val)\n",
    "\n",
    "        result = metrics(y_val, y_pred)\n",
    "        results.append(result)\n",
    "\n",
    "        # Get feature importance for this fold\n",
    "        fe_impo = feature_importance(preprocessing_pipeline, model)\n",
    "\n",
    "        \n",
    "        \n",
    "        # Rename the importance column to include fold number\n",
    "        fe_impo = fe_impo.with_columns(\n",
    "            pl.col('importance').alias(f'fold_{fold + 1}')\n",
    "        ).drop('importance')\n",
    "        \n",
    "        # Initialize or join the importances table\n",
    "        if importances_table is None:\n",
    "            # First fold - create the base table\n",
    "            importances_table = fe_impo\n",
    "        else:\n",
    "            # Subsequent folds - join on feature names\n",
    "            importances_table = importances_table.join(\n",
    "                fe_impo, \n",
    "                on='feature', \n",
    "                how='inner'\n",
    "            )\n",
    "\n",
    "        print(f\"Fold {fold + 1} - RMSE: {result['rmse']:.2f}, R2: {result['r2']:.2f}\")\n",
    "\n",
    "    \n",
    "    # Add summary statistics across folds\n",
    "    fold_columns = [f'fold_{i+1}' for i in range(N_FOLDS)]\n",
    "    \n",
    "    # Calculate mean and std across only the fold columns (numeric)\n",
    "    importances_table = importances_table.with_columns([\n",
    "        pl.mean_horizontal([pl.col(col).round(2) for col in fold_columns]).alias('mean_importance'),\n",
    "        pl.concat_list([pl.col(col).round(2) for col in fold_columns]).list.std().alias('std_importance')\n",
    "    ])\n",
    "    # Round numeric columns to 2 decimals\n",
    "    numeric_cols = fold_columns + ['mean_importance', 'std_importance']\n",
    "    importances_table = importances_table.with_columns([\n",
    "        pl.col(col).round(2) for col in numeric_cols\n",
    "    ])\n",
    "\n",
    "    # Sort by mean importance\n",
    "    importances_table = importances_table.sort('mean_importance', descending=True)\n",
    "\n",
    "    # print mean metrics across folds\n",
    "    avg_rmse = np.mean([result['rmse'] for result in results])\n",
    "    avg_r2 = np.mean([result['r2'] for result in results])\n",
    "    print(f\"\\nAverage RMSE across folds: {avg_rmse:.2f}\")\n",
    "    print(f\"Average R2 across folds: {avg_r2:.2f}\")\n",
    "    \n",
    "    return results, importances_table"
   ]
  },
  {
   "cell_type": "markdown",
   "id": "bd62509b",
   "metadata": {
    "id": "bd62509b"
   },
   "source": [
    "## Model evaluation"
   ]
  },
  {
   "cell_type": "code",
   "execution_count": 669,
   "id": "AX_-uxJ9NZl3",
   "metadata": {
    "colab": {
     "base_uri": "https://localhost:8080/"
    },
    "executionInfo": {
     "elapsed": 30,
     "status": "ok",
     "timestamp": 1749481332407,
     "user": {
      "displayName": "Gerard Seward",
      "userId": "08585387988591404566"
     },
     "user_tz": 180
    },
    "id": "AX_-uxJ9NZl3",
    "outputId": "5654b203-c0bd-403c-dd5f-65a98b49beef"
   },
   "outputs": [
    {
     "name": "stdout",
     "output_type": "stream",
     "text": [
      "Fold 1 - RMSE: 55377.16, R2: -0.03\n",
      "Fold 2 - RMSE: 44249.10, R2: -0.00\n",
      "Fold 3 - RMSE: 44752.30, R2: -0.00\n",
      "Fold 4 - RMSE: 48495.19, R2: -0.00\n",
      "Fold 5 - RMSE: 47991.51, R2: -0.05\n",
      "\n",
      "Average RMSE across folds: 48173.05\n",
      "Average R2 across folds: -0.02\n"
     ]
    }
   ],
   "source": [
    "model_dummy = DummyRegressor(strategy='mean')\n",
    "results_dummy, _ = cross_validation(model_dummy, X, y)"
   ]
  },
  {
   "cell_type": "code",
   "execution_count": 670,
   "id": "e16eacca",
   "metadata": {
    "colab": {
     "base_uri": "https://localhost:8080/"
    },
    "executionInfo": {
     "elapsed": 24,
     "status": "ok",
     "timestamp": 1749481288790,
     "user": {
      "displayName": "Gerard Seward",
      "userId": "08585387988591404566"
     },
     "user_tz": 180
    },
    "id": "e16eacca",
    "outputId": "eb6dd481-dcf4-40d4-eed0-bf12f8d1f6b1"
   },
   "outputs": [
    {
     "name": "stdout",
     "output_type": "stream",
     "text": [
      "Fold 1 - RMSE: 19181.20, R2: 0.88\n",
      "Fold 2 - RMSE: 13020.96, R2: 0.91\n",
      "Fold 3 - RMSE: 12262.68, R2: 0.92\n",
      "Fold 4 - RMSE: 23813.81, R2: 0.76\n",
      "Fold 5 - RMSE: 13540.41, R2: 0.92\n",
      "\n",
      "Average RMSE across folds: 16363.81\n",
      "Average R2 across folds: 0.88\n"
     ]
    },
    {
     "data": {
      "text/html": [
       "<div><style>\n",
       ".dataframe > thead > tr,\n",
       ".dataframe > tbody > tr {\n",
       "  text-align: right;\n",
       "  white-space: pre-wrap;\n",
       "}\n",
       "</style>\n",
       "<small>shape: (10, 8)</small><table border=\"1\" class=\"dataframe\"><thead><tr><th>feature</th><th>fold_1</th><th>fold_2</th><th>fold_3</th><th>fold_4</th><th>fold_5</th><th>mean_importance</th><th>std_importance</th></tr><tr><td>str</td><td>f64</td><td>f64</td><td>f64</td><td>f64</td><td>f64</td><td>f64</td><td>f64</td></tr></thead><tbody><tr><td>&quot;num__Age&quot;</td><td>13424.9</td><td>19147.23</td><td>17036.23</td><td>14438.39</td><td>19261.04</td><td>16661.56</td><td>2669.02</td></tr><tr><td>&quot;num__Education_Age_mean&quot;</td><td>9758.09</td><td>8890.03</td><td>9230.25</td><td>8143.94</td><td>11712.15</td><td>9546.89</td><td>1344.71</td></tr><tr><td>&quot;cat_oe__Gender&quot;</td><td>8571.06</td><td>9452.9</td><td>8416.35</td><td>6600.82</td><td>7955.21</td><td>8199.27</td><td>1045.41</td></tr><tr><td>&quot;cat_oe__Job_Level&quot;</td><td>7052.99</td><td>6076.42</td><td>5331.09</td><td>5674.09</td><td>5677.16</td><td>5962.35</td><td>664.35</td></tr><tr><td>&quot;cat_oe__Years of Experience&quot;</td><td>3213.57</td><td>2586.93</td><td>3141.28</td><td>3652.89</td><td>2737.52</td><td>3066.44</td><td>421.1</td></tr><tr><td>&quot;cat_oe__Education Level&quot;</td><td>1846.18</td><td>3658.98</td><td>1643.92</td><td>1076.41</td><td>2068.73</td><td>2058.84</td><td>967.35</td></tr><tr><td>&quot;num__Education_Age_std&quot;</td><td>983.58</td><td>2220.76</td><td>1276.52</td><td>2392.6</td><td>1062.53</td><td>1587.2</td><td>668.25</td></tr><tr><td>&quot;cat_oe__Age_bin&quot;</td><td>1280.75</td><td>2435.92</td><td>832.5</td><td>636.08</td><td>1836.71</td><td>1404.39</td><td>738.85</td></tr><tr><td>&quot;cat_oe__Experience_bin&quot;</td><td>1045.15</td><td>2067.76</td><td>431.93</td><td>808.93</td><td>474.93</td><td>965.74</td><td>665.43</td></tr><tr><td>&quot;cat_oe__Job_Title_Category&quot;</td><td>704.31</td><td>752.65</td><td>423.11</td><td>741.89</td><td>837.63</td><td>691.92</td><td>157.98</td></tr></tbody></table></div>"
      ],
      "text/plain": [
       "shape: (10, 8)\n",
       "┌──────────────┬─────────┬──────────┬──────────┬──────────┬──────────┬──────────────┬──────────────┐\n",
       "│ feature      ┆ fold_1  ┆ fold_2   ┆ fold_3   ┆ fold_4   ┆ fold_5   ┆ mean_importa ┆ std_importan │\n",
       "│ ---          ┆ ---     ┆ ---      ┆ ---      ┆ ---      ┆ ---      ┆ nce          ┆ ce           │\n",
       "│ str          ┆ f64     ┆ f64      ┆ f64      ┆ f64      ┆ f64      ┆ ---          ┆ ---          │\n",
       "│              ┆         ┆          ┆          ┆          ┆          ┆ f64          ┆ f64          │\n",
       "╞══════════════╪═════════╪══════════╪══════════╪══════════╪══════════╪══════════════╪══════════════╡\n",
       "│ num__Age     ┆ 13424.9 ┆ 19147.23 ┆ 17036.23 ┆ 14438.39 ┆ 19261.04 ┆ 16661.56     ┆ 2669.02      │\n",
       "│ num__Educati ┆ 9758.09 ┆ 8890.03  ┆ 9230.25  ┆ 8143.94  ┆ 11712.15 ┆ 9546.89      ┆ 1344.71      │\n",
       "│ on_Age_mean  ┆         ┆          ┆          ┆          ┆          ┆              ┆              │\n",
       "│ cat_oe__Gend ┆ 8571.06 ┆ 9452.9   ┆ 8416.35  ┆ 6600.82  ┆ 7955.21  ┆ 8199.27      ┆ 1045.41      │\n",
       "│ er           ┆         ┆          ┆          ┆          ┆          ┆              ┆              │\n",
       "│ cat_oe__Job_ ┆ 7052.99 ┆ 6076.42  ┆ 5331.09  ┆ 5674.09  ┆ 5677.16  ┆ 5962.35      ┆ 664.35       │\n",
       "│ Level        ┆         ┆          ┆          ┆          ┆          ┆              ┆              │\n",
       "│ cat_oe__Year ┆ 3213.57 ┆ 2586.93  ┆ 3141.28  ┆ 3652.89  ┆ 2737.52  ┆ 3066.44      ┆ 421.1        │\n",
       "│ s of         ┆         ┆          ┆          ┆          ┆          ┆              ┆              │\n",
       "│ Experience   ┆         ┆          ┆          ┆          ┆          ┆              ┆              │\n",
       "│ cat_oe__Educ ┆ 1846.18 ┆ 3658.98  ┆ 1643.92  ┆ 1076.41  ┆ 2068.73  ┆ 2058.84      ┆ 967.35       │\n",
       "│ ation Level  ┆         ┆          ┆          ┆          ┆          ┆              ┆              │\n",
       "│ num__Educati ┆ 983.58  ┆ 2220.76  ┆ 1276.52  ┆ 2392.6   ┆ 1062.53  ┆ 1587.2       ┆ 668.25       │\n",
       "│ on_Age_std   ┆         ┆          ┆          ┆          ┆          ┆              ┆              │\n",
       "│ cat_oe__Age_ ┆ 1280.75 ┆ 2435.92  ┆ 832.5    ┆ 636.08   ┆ 1836.71  ┆ 1404.39      ┆ 738.85       │\n",
       "│ bin          ┆         ┆          ┆          ┆          ┆          ┆              ┆              │\n",
       "│ cat_oe__Expe ┆ 1045.15 ┆ 2067.76  ┆ 431.93   ┆ 808.93   ┆ 474.93   ┆ 965.74       ┆ 665.43       │\n",
       "│ rience_bin   ┆         ┆          ┆          ┆          ┆          ┆              ┆              │\n",
       "│ cat_oe__Job_ ┆ 704.31  ┆ 752.65   ┆ 423.11   ┆ 741.89   ┆ 837.63   ┆ 691.92       ┆ 157.98       │\n",
       "│ Title_Catego ┆         ┆          ┆          ┆          ┆          ┆              ┆              │\n",
       "│ ry           ┆         ┆          ┆          ┆          ┆          ┆              ┆              │\n",
       "└──────────────┴─────────┴──────────┴──────────┴──────────┴──────────┴──────────────┴──────────────┘"
      ]
     },
     "execution_count": 670,
     "metadata": {},
     "output_type": "execute_result"
    }
   ],
   "source": [
    "# linear regression model\n",
    "model_lr = LinearRegression()\n",
    "results_lr, importances_lr = cross_validation(model_lr, X, y)\n",
    "importances_lr"
   ]
  },
  {
   "cell_type": "code",
   "execution_count": 671,
   "id": "b54a4f1d",
   "metadata": {},
   "outputs": [
    {
     "name": "stdout",
     "output_type": "stream",
     "text": [
      "Fold 1 - RMSE: 19193.67, R2: 0.88\n",
      "Fold 2 - RMSE: 12855.99, R2: 0.92\n",
      "Fold 3 - RMSE: 12287.91, R2: 0.92\n",
      "Fold 4 - RMSE: 24354.86, R2: 0.75\n",
      "Fold 5 - RMSE: 13393.89, R2: 0.92\n",
      "\n",
      "Average RMSE across folds: 16417.27\n",
      "Average R2 across folds: 0.88\n"
     ]
    },
    {
     "data": {
      "text/html": [
       "<div><style>\n",
       ".dataframe > thead > tr,\n",
       ".dataframe > tbody > tr {\n",
       "  text-align: right;\n",
       "  white-space: pre-wrap;\n",
       "}\n",
       "</style>\n",
       "<small>shape: (10, 8)</small><table border=\"1\" class=\"dataframe\"><thead><tr><th>feature</th><th>fold_1</th><th>fold_2</th><th>fold_3</th><th>fold_4</th><th>fold_5</th><th>mean_importance</th><th>std_importance</th></tr><tr><td>str</td><td>f64</td><td>f64</td><td>f64</td><td>f64</td><td>f64</td><td>f64</td><td>f64</td></tr></thead><tbody><tr><td>&quot;num__Age&quot;</td><td>12362.59</td><td>17952.73</td><td>15920.55</td><td>13019.05</td><td>18074.11</td><td>15465.81</td><td>2683.81</td></tr><tr><td>&quot;num__Education_Age_mean&quot;</td><td>9904.28</td><td>9158.02</td><td>9363.97</td><td>8270.4</td><td>10158.27</td><td>9370.99</td><td>735.0</td></tr><tr><td>&quot;cat_oe__Gender&quot;</td><td>8292.39</td><td>9217.83</td><td>8159.39</td><td>6314.61</td><td>7731.1</td><td>7943.06</td><td>1059.56</td></tr><tr><td>&quot;cat_oe__Job_Level&quot;</td><td>6901.78</td><td>5932.56</td><td>5174.55</td><td>5483.78</td><td>5562.29</td><td>5810.99</td><td>666.82</td></tr><tr><td>&quot;cat_oe__Years of Experience&quot;</td><td>3410.26</td><td>2802.87</td><td>3330.62</td><td>3858.79</td><td>2914.87</td><td>3263.48</td><td>422.53</td></tr><tr><td>&quot;num__Education_Age_std&quot;</td><td>869.61</td><td>2084.59</td><td>1171.14</td><td>2231.84</td><td>1166.04</td><td>1504.64</td><td>611.21</td></tr><tr><td>&quot;cat_oe__Education Level&quot;</td><td>1471.3</td><td>3099.84</td><td>1273.55</td><td>690.82</td><td>0.0</td><td>1307.1</td><td>1154.37</td></tr><tr><td>&quot;cat_oe__Age_bin&quot;</td><td>841.17</td><td>1883.3</td><td>537.84</td><td>663.43</td><td>1829.68</td><td>1151.08</td><td>653.18</td></tr><tr><td>&quot;cat_oe__Job_Title_Category&quot;</td><td>688.21</td><td>733.12</td><td>407.35</td><td>739.52</td><td>816.55</td><td>676.95</td><td>157.61</td></tr><tr><td>&quot;cat_oe__Experience_bin&quot;</td><td>125.56</td><td>971.84</td><td>0.0</td><td>40.19</td><td>0.0</td><td>227.52</td><td>419.23</td></tr></tbody></table></div>"
      ],
      "text/plain": [
       "shape: (10, 8)\n",
       "┌──────────────┬──────────┬──────────┬──────────┬──────────┬──────────┬──────────────┬─────────────┐\n",
       "│ feature      ┆ fold_1   ┆ fold_2   ┆ fold_3   ┆ fold_4   ┆ fold_5   ┆ mean_importa ┆ std_importa │\n",
       "│ ---          ┆ ---      ┆ ---      ┆ ---      ┆ ---      ┆ ---      ┆ nce          ┆ nce         │\n",
       "│ str          ┆ f64      ┆ f64      ┆ f64      ┆ f64      ┆ f64      ┆ ---          ┆ ---         │\n",
       "│              ┆          ┆          ┆          ┆          ┆          ┆ f64          ┆ f64         │\n",
       "╞══════════════╪══════════╪══════════╪══════════╪══════════╪══════════╪══════════════╪═════════════╡\n",
       "│ num__Age     ┆ 12362.59 ┆ 17952.73 ┆ 15920.55 ┆ 13019.05 ┆ 18074.11 ┆ 15465.81     ┆ 2683.81     │\n",
       "│ num__Educati ┆ 9904.28  ┆ 9158.02  ┆ 9363.97  ┆ 8270.4   ┆ 10158.27 ┆ 9370.99      ┆ 735.0       │\n",
       "│ on_Age_mean  ┆          ┆          ┆          ┆          ┆          ┆              ┆             │\n",
       "│ cat_oe__Gend ┆ 8292.39  ┆ 9217.83  ┆ 8159.39  ┆ 6314.61  ┆ 7731.1   ┆ 7943.06      ┆ 1059.56     │\n",
       "│ er           ┆          ┆          ┆          ┆          ┆          ┆              ┆             │\n",
       "│ cat_oe__Job_ ┆ 6901.78  ┆ 5932.56  ┆ 5174.55  ┆ 5483.78  ┆ 5562.29  ┆ 5810.99      ┆ 666.82      │\n",
       "│ Level        ┆          ┆          ┆          ┆          ┆          ┆              ┆             │\n",
       "│ cat_oe__Year ┆ 3410.26  ┆ 2802.87  ┆ 3330.62  ┆ 3858.79  ┆ 2914.87  ┆ 3263.48      ┆ 422.53      │\n",
       "│ s of         ┆          ┆          ┆          ┆          ┆          ┆              ┆             │\n",
       "│ Experience   ┆          ┆          ┆          ┆          ┆          ┆              ┆             │\n",
       "│ num__Educati ┆ 869.61   ┆ 2084.59  ┆ 1171.14  ┆ 2231.84  ┆ 1166.04  ┆ 1504.64      ┆ 611.21      │\n",
       "│ on_Age_std   ┆          ┆          ┆          ┆          ┆          ┆              ┆             │\n",
       "│ cat_oe__Educ ┆ 1471.3   ┆ 3099.84  ┆ 1273.55  ┆ 690.82   ┆ 0.0      ┆ 1307.1       ┆ 1154.37     │\n",
       "│ ation Level  ┆          ┆          ┆          ┆          ┆          ┆              ┆             │\n",
       "│ cat_oe__Age_ ┆ 841.17   ┆ 1883.3   ┆ 537.84   ┆ 663.43   ┆ 1829.68  ┆ 1151.08      ┆ 653.18      │\n",
       "│ bin          ┆          ┆          ┆          ┆          ┆          ┆              ┆             │\n",
       "│ cat_oe__Job_ ┆ 688.21   ┆ 733.12   ┆ 407.35   ┆ 739.52   ┆ 816.55   ┆ 676.95       ┆ 157.61      │\n",
       "│ Title_Catego ┆          ┆          ┆          ┆          ┆          ┆              ┆             │\n",
       "│ ry           ┆          ┆          ┆          ┆          ┆          ┆              ┆             │\n",
       "│ cat_oe__Expe ┆ 125.56   ┆ 971.84   ┆ 0.0      ┆ 40.19    ┆ 0.0      ┆ 227.52       ┆ 419.23      │\n",
       "│ rience_bin   ┆          ┆          ┆          ┆          ┆          ┆              ┆             │\n",
       "└──────────────┴──────────┴──────────┴──────────┴──────────┴──────────┴──────────────┴─────────────┘"
      ]
     },
     "execution_count": 671,
     "metadata": {},
     "output_type": "execute_result"
    }
   ],
   "source": [
    "# lasso regression model\n",
    "model_lasso = Lasso(alpha=50, random_state=SEED)\n",
    "results_lasso, importances_lasso = cross_validation(model_lasso, X, y)\n",
    "importances_lasso"
   ]
  },
  {
   "cell_type": "code",
   "execution_count": 672,
   "id": "50b54a96",
   "metadata": {
    "colab": {
     "base_uri": "https://localhost:8080/"
    },
    "executionInfo": {
     "elapsed": 898,
     "status": "ok",
     "timestamp": 1749481289693,
     "user": {
      "displayName": "Gerard Seward",
      "userId": "08585387988591404566"
     },
     "user_tz": 180
    },
    "id": "50b54a96",
    "outputId": "09d12deb-7db9-4837-b7e3-ba835e64eeca"
   },
   "outputs": [
    {
     "name": "stdout",
     "output_type": "stream",
     "text": [
      "Fold 1 - RMSE: 12973.57, R2: 0.94\n",
      "Fold 2 - RMSE: 9181.73, R2: 0.96\n",
      "Fold 3 - RMSE: 10499.40, R2: 0.94\n",
      "Fold 4 - RMSE: 21086.94, R2: 0.81\n",
      "Fold 5 - RMSE: 10239.98, R2: 0.95\n",
      "\n",
      "Average RMSE across folds: 12796.33\n",
      "Average R2 across folds: 0.92\n"
     ]
    },
    {
     "data": {
      "text/html": [
       "<div><style>\n",
       ".dataframe > thead > tr,\n",
       ".dataframe > tbody > tr {\n",
       "  text-align: right;\n",
       "  white-space: pre-wrap;\n",
       "}\n",
       "</style>\n",
       "<small>shape: (10, 8)</small><table border=\"1\" class=\"dataframe\"><thead><tr><th>feature</th><th>fold_1</th><th>fold_2</th><th>fold_3</th><th>fold_4</th><th>fold_5</th><th>mean_importance</th><th>std_importance</th></tr><tr><td>str</td><td>f64</td><td>f64</td><td>f64</td><td>f64</td><td>f64</td><td>f64</td><td>f64</td></tr></thead><tbody><tr><td>&quot;num__Age&quot;</td><td>0.43</td><td>0.42</td><td>0.53</td><td>0.32</td><td>0.5</td><td>0.44</td><td>0.08</td></tr><tr><td>&quot;cat_oe__Years of Experience&quot;</td><td>0.45</td><td>0.45</td><td>0.34</td><td>0.59</td><td>0.37</td><td>0.44</td><td>0.1</td></tr><tr><td>&quot;cat_oe__Job_Level&quot;</td><td>0.04</td><td>0.04</td><td>0.05</td><td>0.02</td><td>0.05</td><td>0.04</td><td>0.01</td></tr><tr><td>&quot;cat_oe__Job_Title_Category&quot;</td><td>0.03</td><td>0.05</td><td>0.04</td><td>0.03</td><td>0.04</td><td>0.04</td><td>0.01</td></tr><tr><td>&quot;num__Education_Age_mean&quot;</td><td>0.02</td><td>0.02</td><td>0.02</td><td>0.01</td><td>0.02</td><td>0.02</td><td>0.0</td></tr><tr><td>&quot;cat_oe__Education Level&quot;</td><td>0.01</td><td>0.01</td><td>0.01</td><td>0.01</td><td>0.01</td><td>0.01</td><td>0.0</td></tr><tr><td>&quot;num__Education_Age_std&quot;</td><td>0.01</td><td>0.01</td><td>0.0</td><td>0.01</td><td>0.01</td><td>0.01</td><td>0.0</td></tr><tr><td>&quot;cat_oe__Gender&quot;</td><td>0.01</td><td>0.0</td><td>0.01</td><td>0.01</td><td>0.0</td><td>0.01</td><td>0.01</td></tr><tr><td>&quot;cat_oe__Experience_bin&quot;</td><td>0.0</td><td>0.0</td><td>0.0</td><td>0.0</td><td>0.0</td><td>0.0</td><td>0.0</td></tr><tr><td>&quot;cat_oe__Age_bin&quot;</td><td>0.0</td><td>0.0</td><td>0.0</td><td>0.01</td><td>0.0</td><td>0.0</td><td>0.0</td></tr></tbody></table></div>"
      ],
      "text/plain": [
       "shape: (10, 8)\n",
       "┌──────────────────┬────────┬────────┬────────┬────────┬────────┬─────────────────┬────────────────┐\n",
       "│ feature          ┆ fold_1 ┆ fold_2 ┆ fold_3 ┆ fold_4 ┆ fold_5 ┆ mean_importance ┆ std_importance │\n",
       "│ ---              ┆ ---    ┆ ---    ┆ ---    ┆ ---    ┆ ---    ┆ ---             ┆ ---            │\n",
       "│ str              ┆ f64    ┆ f64    ┆ f64    ┆ f64    ┆ f64    ┆ f64             ┆ f64            │\n",
       "╞══════════════════╪════════╪════════╪════════╪════════╪════════╪═════════════════╪════════════════╡\n",
       "│ num__Age         ┆ 0.43   ┆ 0.42   ┆ 0.53   ┆ 0.32   ┆ 0.5    ┆ 0.44            ┆ 0.08           │\n",
       "│ cat_oe__Years of ┆ 0.45   ┆ 0.45   ┆ 0.34   ┆ 0.59   ┆ 0.37   ┆ 0.44            ┆ 0.1            │\n",
       "│ Experience       ┆        ┆        ┆        ┆        ┆        ┆                 ┆                │\n",
       "│ cat_oe__Job_Leve ┆ 0.04   ┆ 0.04   ┆ 0.05   ┆ 0.02   ┆ 0.05   ┆ 0.04            ┆ 0.01           │\n",
       "│ l                ┆        ┆        ┆        ┆        ┆        ┆                 ┆                │\n",
       "│ cat_oe__Job_Titl ┆ 0.03   ┆ 0.05   ┆ 0.04   ┆ 0.03   ┆ 0.04   ┆ 0.04            ┆ 0.01           │\n",
       "│ e_Category       ┆        ┆        ┆        ┆        ┆        ┆                 ┆                │\n",
       "│ num__Education_A ┆ 0.02   ┆ 0.02   ┆ 0.02   ┆ 0.01   ┆ 0.02   ┆ 0.02            ┆ 0.0            │\n",
       "│ ge_mean          ┆        ┆        ┆        ┆        ┆        ┆                 ┆                │\n",
       "│ cat_oe__Educatio ┆ 0.01   ┆ 0.01   ┆ 0.01   ┆ 0.01   ┆ 0.01   ┆ 0.01            ┆ 0.0            │\n",
       "│ n Level          ┆        ┆        ┆        ┆        ┆        ┆                 ┆                │\n",
       "│ num__Education_A ┆ 0.01   ┆ 0.01   ┆ 0.0    ┆ 0.01   ┆ 0.01   ┆ 0.01            ┆ 0.0            │\n",
       "│ ge_std           ┆        ┆        ┆        ┆        ┆        ┆                 ┆                │\n",
       "│ cat_oe__Gender   ┆ 0.01   ┆ 0.0    ┆ 0.01   ┆ 0.01   ┆ 0.0    ┆ 0.01            ┆ 0.01           │\n",
       "│ cat_oe__Experien ┆ 0.0    ┆ 0.0    ┆ 0.0    ┆ 0.0    ┆ 0.0    ┆ 0.0             ┆ 0.0            │\n",
       "│ ce_bin           ┆        ┆        ┆        ┆        ┆        ┆                 ┆                │\n",
       "│ cat_oe__Age_bin  ┆ 0.0    ┆ 0.0    ┆ 0.0    ┆ 0.01   ┆ 0.0    ┆ 0.0             ┆ 0.0            │\n",
       "└──────────────────┴────────┴────────┴────────┴────────┴────────┴─────────────────┴────────────────┘"
      ]
     },
     "execution_count": 672,
     "metadata": {},
     "output_type": "execute_result"
    }
   ],
   "source": [
    "rfr = RandomForestRegressor(random_state=SEED)\n",
    "results_rf, importances_rf = cross_validation(rfr, X, y)\n",
    "importances_rf"
   ]
  },
  {
   "cell_type": "code",
   "execution_count": 673,
   "id": "01oupN2qdcV1",
   "metadata": {
    "colab": {
     "base_uri": "https://localhost:8080/"
    },
    "executionInfo": {
     "elapsed": 20,
     "status": "ok",
     "timestamp": 1749481289780,
     "user": {
      "displayName": "Gerard Seward",
      "userId": "08585387988591404566"
     },
     "user_tz": 180
    },
    "id": "01oupN2qdcV1",
    "outputId": "f0a6d105-5bb7-4b76-b78c-97901dd5a39e"
   },
   "outputs": [
    {
     "name": "stdout",
     "output_type": "stream",
     "text": [
      "Fold 1 - RMSE: 15658.67, R2: 0.92\n",
      "Fold 2 - RMSE: 9319.91, R2: 0.96\n",
      "Fold 3 - RMSE: 9142.96, R2: 0.96\n",
      "Fold 4 - RMSE: 20710.83, R2: 0.82\n",
      "Fold 5 - RMSE: 9483.89, R2: 0.96\n",
      "\n",
      "Average RMSE across folds: 12863.25\n",
      "Average R2 across folds: 0.92\n"
     ]
    },
    {
     "data": {
      "text/html": [
       "<div><style>\n",
       ".dataframe > thead > tr,\n",
       ".dataframe > tbody > tr {\n",
       "  text-align: right;\n",
       "  white-space: pre-wrap;\n",
       "}\n",
       "</style>\n",
       "<small>shape: (10, 8)</small><table border=\"1\" class=\"dataframe\"><thead><tr><th>feature</th><th>fold_1</th><th>fold_2</th><th>fold_3</th><th>fold_4</th><th>fold_5</th><th>mean_importance</th><th>std_importance</th></tr><tr><td>str</td><td>i32</td><td>i32</td><td>i32</td><td>i32</td><td>i32</td><td>f64</td><td>f64</td></tr></thead><tbody><tr><td>&quot;num__Age&quot;</td><td>261</td><td>327</td><td>318</td><td>314</td><td>315</td><td>307.0</td><td>26.22</td></tr><tr><td>&quot;cat_oe__Years of Experience&quot;</td><td>284</td><td>243</td><td>271</td><td>225</td><td>252</td><td>255.0</td><td>23.18</td></tr><tr><td>&quot;cat_oe__Job_Title_Category&quot;</td><td>149</td><td>175</td><td>191</td><td>209</td><td>179</td><td>180.6</td><td>22.06</td></tr><tr><td>&quot;cat_oe__Job_Level&quot;</td><td>112</td><td>103</td><td>91</td><td>95</td><td>97</td><td>99.6</td><td>8.17</td></tr><tr><td>&quot;cat_oe__Gender&quot;</td><td>72</td><td>78</td><td>75</td><td>109</td><td>69</td><td>80.6</td><td>16.23</td></tr><tr><td>&quot;num__Education_Age_mean&quot;</td><td>111</td><td>81</td><td>63</td><td>63</td><td>65</td><td>76.6</td><td>20.66</td></tr><tr><td>&quot;num__Education_Age_std&quot;</td><td>15</td><td>12</td><td>7</td><td>6</td><td>9</td><td>9.8</td><td>3.7</td></tr><tr><td>&quot;cat_oe__Age_bin&quot;</td><td>12</td><td>1</td><td>9</td><td>4</td><td>9</td><td>7.0</td><td>4.42</td></tr><tr><td>&quot;cat_oe__Education Level&quot;</td><td>1</td><td>6</td><td>0</td><td>0</td><td>1</td><td>1.6</td><td>2.51</td></tr><tr><td>&quot;cat_oe__Experience_bin&quot;</td><td>0</td><td>0</td><td>0</td><td>0</td><td>0</td><td>0.0</td><td>0.0</td></tr></tbody></table></div>"
      ],
      "text/plain": [
       "shape: (10, 8)\n",
       "┌──────────────────┬────────┬────────┬────────┬────────┬────────┬─────────────────┬────────────────┐\n",
       "│ feature          ┆ fold_1 ┆ fold_2 ┆ fold_3 ┆ fold_4 ┆ fold_5 ┆ mean_importance ┆ std_importance │\n",
       "│ ---              ┆ ---    ┆ ---    ┆ ---    ┆ ---    ┆ ---    ┆ ---             ┆ ---            │\n",
       "│ str              ┆ i32    ┆ i32    ┆ i32    ┆ i32    ┆ i32    ┆ f64             ┆ f64            │\n",
       "╞══════════════════╪════════╪════════╪════════╪════════╪════════╪═════════════════╪════════════════╡\n",
       "│ num__Age         ┆ 261    ┆ 327    ┆ 318    ┆ 314    ┆ 315    ┆ 307.0           ┆ 26.22          │\n",
       "│ cat_oe__Years of ┆ 284    ┆ 243    ┆ 271    ┆ 225    ┆ 252    ┆ 255.0           ┆ 23.18          │\n",
       "│ Experience       ┆        ┆        ┆        ┆        ┆        ┆                 ┆                │\n",
       "│ cat_oe__Job_Titl ┆ 149    ┆ 175    ┆ 191    ┆ 209    ┆ 179    ┆ 180.6           ┆ 22.06          │\n",
       "│ e_Category       ┆        ┆        ┆        ┆        ┆        ┆                 ┆                │\n",
       "│ cat_oe__Job_Leve ┆ 112    ┆ 103    ┆ 91     ┆ 95     ┆ 97     ┆ 99.6            ┆ 8.17           │\n",
       "│ l                ┆        ┆        ┆        ┆        ┆        ┆                 ┆                │\n",
       "│ cat_oe__Gender   ┆ 72     ┆ 78     ┆ 75     ┆ 109    ┆ 69     ┆ 80.6            ┆ 16.23          │\n",
       "│ num__Education_A ┆ 111    ┆ 81     ┆ 63     ┆ 63     ┆ 65     ┆ 76.6            ┆ 20.66          │\n",
       "│ ge_mean          ┆        ┆        ┆        ┆        ┆        ┆                 ┆                │\n",
       "│ num__Education_A ┆ 15     ┆ 12     ┆ 7      ┆ 6      ┆ 9      ┆ 9.8             ┆ 3.7            │\n",
       "│ ge_std           ┆        ┆        ┆        ┆        ┆        ┆                 ┆                │\n",
       "│ cat_oe__Age_bin  ┆ 12     ┆ 1      ┆ 9      ┆ 4      ┆ 9      ┆ 7.0             ┆ 4.42           │\n",
       "│ cat_oe__Educatio ┆ 1      ┆ 6      ┆ 0      ┆ 0      ┆ 1      ┆ 1.6             ┆ 2.51           │\n",
       "│ n Level          ┆        ┆        ┆        ┆        ┆        ┆                 ┆                │\n",
       "│ cat_oe__Experien ┆ 0      ┆ 0      ┆ 0      ┆ 0      ┆ 0      ┆ 0.0             ┆ 0.0            │\n",
       "│ ce_bin           ┆        ┆        ┆        ┆        ┆        ┆                 ┆                │\n",
       "└──────────────────┴────────┴────────┴────────┴────────┴────────┴─────────────────┴────────────────┘"
      ]
     },
     "execution_count": 673,
     "metadata": {},
     "output_type": "execute_result"
    }
   ],
   "source": [
    "lgbm = LGBMRegressor(random_state=SEED, verbosity=-1)\n",
    "results_lgb, importances_lgbm = cross_validation(lgbm, X, y)\n",
    "importances_lgbm"
   ]
  }
 ],
 "metadata": {
  "colab": {
   "provenance": []
  },
  "kernelspec": {
   "display_name": ".venv",
   "language": "python",
   "name": "python3"
  },
  "language_info": {
   "codemirror_mode": {
    "name": "ipython",
    "version": 3
   },
   "file_extension": ".py",
   "mimetype": "text/x-python",
   "name": "python",
   "nbconvert_exporter": "python",
   "pygments_lexer": "ipython3",
   "version": "3.13.3"
  }
 },
 "nbformat": 4,
 "nbformat_minor": 5
}
