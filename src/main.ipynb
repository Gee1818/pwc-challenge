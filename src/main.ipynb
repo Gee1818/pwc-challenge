{
 "cells": [
  {
   "cell_type": "code",
   "execution_count": 156,
   "id": "e4b40349",
   "metadata": {
    "executionInfo": {
     "elapsed": 5,
     "status": "ok",
     "timestamp": 1749481285841,
     "user": {
      "displayName": "Gerard Seward",
      "userId": "08585387988591404566"
     },
     "user_tz": 180
    },
    "id": "e4b40349"
   },
   "outputs": [
    {
     "data": {
      "text/plain": [
       "polars.config.Config"
      ]
     },
     "execution_count": 156,
     "metadata": {},
     "output_type": "execute_result"
    }
   ],
   "source": [
    "import polars as pl\n",
    "import numpy as np\n",
    "import plotly.express as px\n",
    "\n",
    "from sklearn.compose import ColumnTransformer\n",
    "from sklearn.pipeline import Pipeline\n",
    "from sklearn.preprocessing import OneHotEncoder, StandardScaler, OrdinalEncoder\n",
    "from sklearn.impute import SimpleImputer\n",
    "from sklearn.model_selection import train_test_split, KFold\n",
    "from sklearn.metrics import root_mean_squared_error, r2_score\n",
    "from sklearn.dummy import DummyRegressor\n",
    "from sklearn.linear_model import LinearRegression, Lasso, Ridge\n",
    "from sklearn.ensemble import RandomForestRegressor\n",
    "from lightgbm import LGBMRegressor\n",
    "\n",
    "import warnings\n",
    "warnings.filterwarnings('ignore')\n",
    "pl.Config.set_tbl_rows(30)\n"
   ]
  },
  {
   "cell_type": "code",
   "execution_count": 157,
   "id": "2df16a1d",
   "metadata": {
    "executionInfo": {
     "elapsed": 41,
     "status": "ok",
     "timestamp": 1749481285889,
     "user": {
      "displayName": "Gerard Seward",
      "userId": "08585387988591404566"
     },
     "user_tz": 180
    },
    "id": "2df16a1d"
   },
   "outputs": [],
   "source": [
    "SEED = 100622\n",
    "TARGET = 'Salary'\n",
    "ID = 'id'\n",
    "N_FOLDS = 5"
   ]
  },
  {
   "cell_type": "markdown",
   "id": "effdc26c",
   "metadata": {
    "id": "effdc26c"
   },
   "source": [
    "## Data read"
   ]
  },
  {
   "cell_type": "code",
   "execution_count": 158,
   "id": "5eda3c19",
   "metadata": {},
   "outputs": [],
   "source": [
    "def load_data(data_path=\"../data/\"):\n",
    "    \"\"\"Load all required datasets.\"\"\"\n",
    "    df_salary = pl.read_csv(f\"{data_path}salary.csv\")\n",
    "    df_people = pl.read_csv(f\"{data_path}people.csv\")\n",
    "    df_descriptions = pl.read_csv(f\"{data_path}descriptions.csv\")\n",
    "    return df_salary, df_people, df_descriptions"
   ]
  },
  {
   "cell_type": "code",
   "execution_count": 159,
   "id": "SFN5SLktTIBm",
   "metadata": {
    "colab": {
     "base_uri": "https://localhost:8080/"
    },
    "executionInfo": {
     "elapsed": 2517,
     "status": "ok",
     "timestamp": 1749481288371,
     "user": {
      "displayName": "Gerard Seward",
      "userId": "08585387988591404566"
     },
     "user_tz": 180
    },
    "id": "SFN5SLktTIBm",
    "outputId": "67f97344-eb93-4eeb-9f6e-3bbcf876ca71"
   },
   "outputs": [],
   "source": [
    "# prompt: fix the error below by adding drive to the environment\n",
    "\n",
    "if 'google.colab' in str(get_ipython()):\n",
    "    # Mount Google Drive if running in Google Colab\n",
    "    from google.colab import drive\n",
    "    drive.mount('/content/drive')\n",
    "    df_salary_raw, df_people_raw, df_descriptions_raw = load_data(data_path=\"/content/drive/MyDrive/Postgrado ciencia de datos/pwc-challenge/data/\")\n",
    "else:\n",
    "    # Load data from local directory\n",
    "    df_salary_raw, df_people_raw, df_descriptions_raw = load_data(data_path=\"../data/\")"
   ]
  },
  {
   "cell_type": "code",
   "execution_count": 160,
   "id": "20b3d478",
   "metadata": {},
   "outputs": [
    {
     "data": {
      "text/html": [
       "<div><style>\n",
       ".dataframe > thead > tr,\n",
       ".dataframe > tbody > tr {\n",
       "  text-align: right;\n",
       "  white-space: pre-wrap;\n",
       "}\n",
       "</style>\n",
       "<small>shape: (375, 7)</small><table border=\"1\" class=\"dataframe\"><thead><tr><th>id</th><th>Salary</th><th>Age</th><th>Gender</th><th>Education Level</th><th>Job Title</th><th>Years of Experience</th></tr><tr><td>i64</td><td>f64</td><td>f64</td><td>str</td><td>str</td><td>str</td><td>f64</td></tr></thead><tbody><tr><td>0</td><td>90000.0</td><td>32.0</td><td>&quot;Male&quot;</td><td>&quot;Bachelor&#x27;s&quot;</td><td>&quot;Software Engineer&quot;</td><td>5.0</td></tr><tr><td>1</td><td>65000.0</td><td>28.0</td><td>&quot;Female&quot;</td><td>&quot;Master&#x27;s&quot;</td><td>&quot;Data Analyst&quot;</td><td>3.0</td></tr><tr><td>2</td><td>150000.0</td><td>45.0</td><td>&quot;Male&quot;</td><td>&quot;PhD&quot;</td><td>&quot;Senior Manager&quot;</td><td>15.0</td></tr><tr><td>3</td><td>60000.0</td><td>36.0</td><td>&quot;Female&quot;</td><td>&quot;Bachelor&#x27;s&quot;</td><td>&quot;Sales Associate&quot;</td><td>7.0</td></tr><tr><td>4</td><td>200000.0</td><td>52.0</td><td>&quot;Male&quot;</td><td>&quot;Master&#x27;s&quot;</td><td>&quot;Director&quot;</td><td>20.0</td></tr><tr><td>5</td><td>55000.0</td><td>29.0</td><td>&quot;Male&quot;</td><td>&quot;Bachelor&#x27;s&quot;</td><td>&quot;Marketing Analyst&quot;</td><td>2.0</td></tr><tr><td>6</td><td>120000.0</td><td>42.0</td><td>&quot;Female&quot;</td><td>&quot;Master&#x27;s&quot;</td><td>&quot;Product Manager&quot;</td><td>12.0</td></tr><tr><td>7</td><td>80000.0</td><td>31.0</td><td>&quot;Male&quot;</td><td>&quot;Bachelor&#x27;s&quot;</td><td>&quot;Sales Manager&quot;</td><td>4.0</td></tr><tr><td>8</td><td>45000.0</td><td>26.0</td><td>&quot;Female&quot;</td><td>&quot;Bachelor&#x27;s&quot;</td><td>&quot;Marketing Coordinator&quot;</td><td>1.0</td></tr><tr><td>9</td><td>110000.0</td><td>38.0</td><td>&quot;Male&quot;</td><td>&quot;PhD&quot;</td><td>&quot;Senior Scientist&quot;</td><td>10.0</td></tr><tr><td>10</td><td>75000.0</td><td>29.0</td><td>&quot;Male&quot;</td><td>&quot;Master&#x27;s&quot;</td><td>&quot;Software Developer&quot;</td><td>3.0</td></tr><tr><td>11</td><td>140000.0</td><td>48.0</td><td>&quot;Female&quot;</td><td>&quot;Bachelor&#x27;s&quot;</td><td>&quot;HR Manager&quot;</td><td>18.0</td></tr><tr><td>12</td><td>65000.0</td><td>35.0</td><td>&quot;Male&quot;</td><td>&quot;Bachelor&#x27;s&quot;</td><td>&quot;Financial Analyst&quot;</td><td>6.0</td></tr><tr><td>13</td><td>130000.0</td><td>40.0</td><td>&quot;Female&quot;</td><td>&quot;Master&#x27;s&quot;</td><td>&quot;Project Manager&quot;</td><td>14.0</td></tr><tr><td>14</td><td>40000.0</td><td>27.0</td><td>&quot;Male&quot;</td><td>&quot;Bachelor&#x27;s&quot;</td><td>&quot;Customer Service Rep&quot;</td><td>2.0</td></tr><tr><td>&hellip;</td><td>&hellip;</td><td>&hellip;</td><td>&hellip;</td><td>&hellip;</td><td>&hellip;</td><td>&hellip;</td></tr><tr><td>360</td><td>40000.0</td><td>29.0</td><td>&quot;Female&quot;</td><td>&quot;Bachelor&#x27;s&quot;</td><td>&quot;Junior Project Manager&quot;</td><td>2.0</td></tr><tr><td>361</td><td>90000.0</td><td>34.0</td><td>&quot;Male&quot;</td><td>&quot;Bachelor&#x27;s&quot;</td><td>&quot;Senior Operations Coordinator&quot;</td><td>7.0</td></tr><tr><td>362</td><td>150000.0</td><td>44.0</td><td>&quot;Female&quot;</td><td>&quot;PhD&quot;</td><td>&quot;Senior Business Analyst&quot;</td><td>15.0</td></tr><tr><td>363</td><td>70000.0</td><td>33.0</td><td>&quot;Male&quot;</td><td>&quot;Bachelor&#x27;s&quot;</td><td>&quot;Junior Marketing Specialist&quot;</td><td>5.0</td></tr><tr><td>364</td><td>90000.0</td><td>35.0</td><td>&quot;Female&quot;</td><td>&quot;Bachelor&#x27;s&quot;</td><td>&quot;Senior Financial Manager&quot;</td><td>8.0</td></tr><tr><td>365</td><td>170000.0</td><td>43.0</td><td>&quot;Male&quot;</td><td>&quot;Master&#x27;s&quot;</td><td>&quot;Director of Marketing&quot;</td><td>18.0</td></tr><tr><td>366</td><td>50000.0</td><td>31.0</td><td>&quot;Female&quot;</td><td>null</td><td>&quot;Junior Financial Analyst&quot;</td><td>3.0</td></tr><tr><td>367</td><td>150000.0</td><td>41.0</td><td>&quot;Male&quot;</td><td>&quot;Bachelor&#x27;s&quot;</td><td>&quot;Senior Product Manager&quot;</td><td>14.0</td></tr><tr><td>368</td><td>160000.0</td><td>44.0</td><td>&quot;Female&quot;</td><td>&quot;PhD&quot;</td><td>&quot;Senior Data Engineer&quot;</td><td>16.0</td></tr><tr><td>369</td><td>60000.0</td><td>33.0</td><td>&quot;Male&quot;</td><td>&quot;Bachelor&#x27;s&quot;</td><td>&quot;Junior Business Analyst&quot;</td><td>4.0</td></tr><tr><td>370</td><td>85000.0</td><td>35.0</td><td>&quot;Female&quot;</td><td>&quot;Bachelor&#x27;s&quot;</td><td>&quot;Senior Marketing Analyst&quot;</td><td>8.0</td></tr><tr><td>371</td><td>170000.0</td><td>43.0</td><td>&quot;Male&quot;</td><td>&quot;Master&#x27;s&quot;</td><td>&quot;Director of Operations&quot;</td><td>19.0</td></tr><tr><td>372</td><td>40000.0</td><td>29.0</td><td>&quot;Female&quot;</td><td>&quot;Bachelor&#x27;s&quot;</td><td>&quot;Junior Project Manager&quot;</td><td>2.0</td></tr><tr><td>373</td><td>90000.0</td><td>34.0</td><td>&quot;Male&quot;</td><td>&quot;Bachelor&#x27;s&quot;</td><td>&quot;Senior Operations Coordinator&quot;</td><td>7.0</td></tr><tr><td>374</td><td>150000.0</td><td>44.0</td><td>&quot;Female&quot;</td><td>&quot;PhD&quot;</td><td>&quot;Senior Business Analyst&quot;</td><td>15.0</td></tr></tbody></table></div>"
      ],
      "text/plain": [
       "shape: (375, 7)\n",
       "┌─────┬──────────┬──────┬────────┬─────────────────┬─────────────────────────┬─────────────────────┐\n",
       "│ id  ┆ Salary   ┆ Age  ┆ Gender ┆ Education Level ┆ Job Title               ┆ Years of Experience │\n",
       "│ --- ┆ ---      ┆ ---  ┆ ---    ┆ ---             ┆ ---                     ┆ ---                 │\n",
       "│ i64 ┆ f64      ┆ f64  ┆ str    ┆ str             ┆ str                     ┆ f64                 │\n",
       "╞═════╪══════════╪══════╪════════╪═════════════════╪═════════════════════════╪═════════════════════╡\n",
       "│ 0   ┆ 90000.0  ┆ 32.0 ┆ Male   ┆ Bachelor's      ┆ Software Engineer       ┆ 5.0                 │\n",
       "│ 1   ┆ 65000.0  ┆ 28.0 ┆ Female ┆ Master's        ┆ Data Analyst            ┆ 3.0                 │\n",
       "│ 2   ┆ 150000.0 ┆ 45.0 ┆ Male   ┆ PhD             ┆ Senior Manager          ┆ 15.0                │\n",
       "│ 3   ┆ 60000.0  ┆ 36.0 ┆ Female ┆ Bachelor's      ┆ Sales Associate         ┆ 7.0                 │\n",
       "│ 4   ┆ 200000.0 ┆ 52.0 ┆ Male   ┆ Master's        ┆ Director                ┆ 20.0                │\n",
       "│ 5   ┆ 55000.0  ┆ 29.0 ┆ Male   ┆ Bachelor's      ┆ Marketing Analyst       ┆ 2.0                 │\n",
       "│ 6   ┆ 120000.0 ┆ 42.0 ┆ Female ┆ Master's        ┆ Product Manager         ┆ 12.0                │\n",
       "│ 7   ┆ 80000.0  ┆ 31.0 ┆ Male   ┆ Bachelor's      ┆ Sales Manager           ┆ 4.0                 │\n",
       "│ 8   ┆ 45000.0  ┆ 26.0 ┆ Female ┆ Bachelor's      ┆ Marketing Coordinator   ┆ 1.0                 │\n",
       "│ 9   ┆ 110000.0 ┆ 38.0 ┆ Male   ┆ PhD             ┆ Senior Scientist        ┆ 10.0                │\n",
       "│ 10  ┆ 75000.0  ┆ 29.0 ┆ Male   ┆ Master's        ┆ Software Developer      ┆ 3.0                 │\n",
       "│ 11  ┆ 140000.0 ┆ 48.0 ┆ Female ┆ Bachelor's      ┆ HR Manager              ┆ 18.0                │\n",
       "│ 12  ┆ 65000.0  ┆ 35.0 ┆ Male   ┆ Bachelor's      ┆ Financial Analyst       ┆ 6.0                 │\n",
       "│ 13  ┆ 130000.0 ┆ 40.0 ┆ Female ┆ Master's        ┆ Project Manager         ┆ 14.0                │\n",
       "│ 14  ┆ 40000.0  ┆ 27.0 ┆ Male   ┆ Bachelor's      ┆ Customer Service Rep    ┆ 2.0                 │\n",
       "│ …   ┆ …        ┆ …    ┆ …      ┆ …               ┆ …                       ┆ …                   │\n",
       "│ 360 ┆ 40000.0  ┆ 29.0 ┆ Female ┆ Bachelor's      ┆ Junior Project Manager  ┆ 2.0                 │\n",
       "│ 361 ┆ 90000.0  ┆ 34.0 ┆ Male   ┆ Bachelor's      ┆ Senior Operations       ┆ 7.0                 │\n",
       "│     ┆          ┆      ┆        ┆                 ┆ Coordinator             ┆                     │\n",
       "│ 362 ┆ 150000.0 ┆ 44.0 ┆ Female ┆ PhD             ┆ Senior Business Analyst ┆ 15.0                │\n",
       "│ 363 ┆ 70000.0  ┆ 33.0 ┆ Male   ┆ Bachelor's      ┆ Junior Marketing        ┆ 5.0                 │\n",
       "│     ┆          ┆      ┆        ┆                 ┆ Specialist              ┆                     │\n",
       "│ 364 ┆ 90000.0  ┆ 35.0 ┆ Female ┆ Bachelor's      ┆ Senior Financial        ┆ 8.0                 │\n",
       "│     ┆          ┆      ┆        ┆                 ┆ Manager                 ┆                     │\n",
       "│ 365 ┆ 170000.0 ┆ 43.0 ┆ Male   ┆ Master's        ┆ Director of Marketing   ┆ 18.0                │\n",
       "│ 366 ┆ 50000.0  ┆ 31.0 ┆ Female ┆ null            ┆ Junior Financial        ┆ 3.0                 │\n",
       "│     ┆          ┆      ┆        ┆                 ┆ Analyst                 ┆                     │\n",
       "│ 367 ┆ 150000.0 ┆ 41.0 ┆ Male   ┆ Bachelor's      ┆ Senior Product Manager  ┆ 14.0                │\n",
       "│ 368 ┆ 160000.0 ┆ 44.0 ┆ Female ┆ PhD             ┆ Senior Data Engineer    ┆ 16.0                │\n",
       "│ 369 ┆ 60000.0  ┆ 33.0 ┆ Male   ┆ Bachelor's      ┆ Junior Business Analyst ┆ 4.0                 │\n",
       "│ 370 ┆ 85000.0  ┆ 35.0 ┆ Female ┆ Bachelor's      ┆ Senior Marketing        ┆ 8.0                 │\n",
       "│     ┆          ┆      ┆        ┆                 ┆ Analyst                 ┆                     │\n",
       "│ 371 ┆ 170000.0 ┆ 43.0 ┆ Male   ┆ Master's        ┆ Director of Operations  ┆ 19.0                │\n",
       "│ 372 ┆ 40000.0  ┆ 29.0 ┆ Female ┆ Bachelor's      ┆ Junior Project Manager  ┆ 2.0                 │\n",
       "│ 373 ┆ 90000.0  ┆ 34.0 ┆ Male   ┆ Bachelor's      ┆ Senior Operations       ┆ 7.0                 │\n",
       "│     ┆          ┆      ┆        ┆                 ┆ Coordinator             ┆                     │\n",
       "│ 374 ┆ 150000.0 ┆ 44.0 ┆ Female ┆ PhD             ┆ Senior Business Analyst ┆ 15.0                │\n",
       "└─────┴──────────┴──────┴────────┴─────────────────┴─────────────────────────┴─────────────────────┘"
      ]
     },
     "execution_count": 160,
     "metadata": {},
     "output_type": "execute_result"
    }
   ],
   "source": [
    "df_salary_people_raw = df_salary_raw.join(df_people_raw,\n",
    "                                      on=\"id\", how=\"inner\")\n",
    "df_salary_people_raw"
   ]
  },
  {
   "cell_type": "markdown",
   "id": "92021ee9",
   "metadata": {
    "id": "92021ee9"
   },
   "source": [
    "## Feature engineer"
   ]
  },
  {
   "cell_type": "code",
   "execution_count": 161,
   "id": "6a0a1c93",
   "metadata": {},
   "outputs": [],
   "source": [
    "num_cols = ['Age']\n",
    "cat_cols = ['Gender', 'Education Level', 'Job Title', 'Years of Experience']"
   ]
  },
  {
   "cell_type": "markdown",
   "id": "473f46d1",
   "metadata": {},
   "source": [
    "### Target variable treatment"
   ]
  },
  {
   "cell_type": "code",
   "execution_count": 162,
   "id": "245fcff8",
   "metadata": {},
   "outputs": [],
   "source": [
    "def clean_target_variable(df, target_col=TARGET):\n",
    "    \"\"\"Remove rows with null values in target variable.\"\"\"\n",
    "    initial_count = df.shape[0]\n",
    "    df_cleaned = df.filter(pl.col(target_col).is_not_null())\n",
    "    removed_count = initial_count - df_cleaned.shape[0]\n",
    "    \n",
    "    if removed_count > 0:\n",
    "        print(f\"Removed {removed_count} rows with null {target_col} values\")\n",
    "\n",
    "    # Only one value for a salary of 350 for a junior analys\n",
    "    # I assume this is an error and remove it\n",
    "    df_cleaned = df_cleaned.filter(pl.col(target_col) > 400)\n",
    "    \n",
    "    return df_cleaned"
   ]
  },
  {
   "cell_type": "markdown",
   "id": "716031ad",
   "metadata": {},
   "source": [
    "### Age treatment"
   ]
  },
  {
   "cell_type": "code",
   "execution_count": 163,
   "id": "df79bc54",
   "metadata": {},
   "outputs": [],
   "source": [
    "def engineer_age_features(df):\n",
    "    \"\"\"Engineer age-related features.\"\"\"\n",
    "    \n",
    "    # Create age bins\n",
    "    df = df.with_columns(\n",
    "        pl.when(pl.col('Age').is_not_null()).then(\n",
    "            pl.when(pl.col('Age') < 30).then(pl.lit('young'))\n",
    "            .when(pl.col('Age') < 45).then(pl.lit('mid'))\n",
    "            .otherwise(pl.lit('old')))\n",
    "            .otherwise(None).alias('Age_bin')\n",
    "    )\n",
    "\n",
    "    cat_cols.append('Age_bin')\n",
    "    \n",
    "    return df"
   ]
  },
  {
   "cell_type": "markdown",
   "id": "721e9a7b",
   "metadata": {},
   "source": [
    "### Gender treatment"
   ]
  },
  {
   "cell_type": "code",
   "execution_count": 164,
   "id": "117c4847",
   "metadata": {},
   "outputs": [],
   "source": [
    "def engineer_gender_features(df):\n",
    "    \"\"\"Engineer gender-related features.\"\"\"\n",
    "    \n",
    "    pass\n",
    "    \n",
    "    return df"
   ]
  },
  {
   "cell_type": "markdown",
   "id": "97372adc",
   "metadata": {},
   "source": [
    "### Education treatment"
   ]
  },
  {
   "cell_type": "code",
   "execution_count": 165,
   "id": "196f7916",
   "metadata": {},
   "outputs": [],
   "source": [
    "def engineer_ed_features(df):\n",
    "    \"\"\"engineer education-related features.\"\"\"\n",
    "\n",
    "    pass\n",
    "    \n",
    "    return df"
   ]
  },
  {
   "cell_type": "markdown",
   "id": "8b3720b1",
   "metadata": {},
   "source": [
    "### Job title treatment"
   ]
  },
  {
   "cell_type": "code",
   "execution_count": 166,
   "id": "80f5c5f7",
   "metadata": {},
   "outputs": [],
   "source": [
    "def engineer_jt_features(df):\n",
    "    \"\"\"engineer job title-related features.\"\"\"\n",
    "\n",
    "    # Create a new column for job title categories\n",
    "    df = df.with_columns(\n",
    "        pl.when(pl.col('Job Title').str.contains('Director')).then(pl.lit('Director'))\n",
    "        .when(pl.col('Job Title').str.contains('Manager')).then(pl.lit('Manager'))\n",
    "        .when(pl.col('Job Title').str.contains('Coordinator')).then(pl.lit('Coordinator'))\n",
    "        .when(pl.col('Job Title').str.contains('Analyst')).then(pl.lit('Analyst'))\n",
    "        .when(pl.col('Job Title').str.contains('CEO')).then(pl.lit('Executive'))\n",
    "        .when(pl.col('Job Title').str.contains('Chief')).then(pl.lit('Executive'))\n",
    "        .when(pl.col('Job Title').str.contains('VP')).then(pl.lit('Executive'))\n",
    "        .otherwise(pl.lit('Other')).alias('Job_Title_Category')\n",
    "    )\n",
    "\n",
    "    df = df.with_columns(\n",
    "        pl.when(pl.col('Job Title').str.contains('Senior')).then(pl.lit('Senior'))\n",
    "        .when(pl.col('Job Title').str.contains('Junior')).then(pl.lit('Junior'))\n",
    "        .otherwise(pl.lit('Other')).alias('Job_Level')\n",
    "    )\n",
    "\n",
    "    df = df.drop('Job Title')\n",
    "    cat_cols.remove('Job Title')\n",
    "\n",
    "    cat_cols.append('Job_Title_Category')\n",
    "    cat_cols.append('Job_Level')\n",
    "    \n",
    "    return df"
   ]
  },
  {
   "cell_type": "markdown",
   "id": "33a5ee55",
   "metadata": {},
   "source": [
    "### Years of experience treatment"
   ]
  },
  {
   "cell_type": "code",
   "execution_count": 167,
   "id": "260a1592",
   "metadata": {},
   "outputs": [],
   "source": [
    "def engineer_yoe_features(df):\n",
    "    \"\"\"engineer years of experience-related features.\"\"\"\n",
    "\n",
    "    # create years of experience bins\n",
    "    df = df.with_columns(\n",
    "        pl.when(pl.col('Years of Experience') < 1).then(pl.lit('junior'))\n",
    "        .when(pl.col('Years of Experience') < 3).then(pl.lit('mid'))\n",
    "        .otherwise(pl.lit('senior')).alias('Experience_bin')\n",
    "    )\n",
    "    cat_cols.append('Experience_bin')\n",
    "    \n",
    "    return df"
   ]
  },
  {
   "cell_type": "markdown",
   "id": "fe4f76d9",
   "metadata": {},
   "source": [
    "### Add interaction features"
   ]
  },
  {
   "cell_type": "code",
   "execution_count": 168,
   "id": "a0867b83",
   "metadata": {},
   "outputs": [],
   "source": [
    "def create_interaction_features(df):\n",
    "    \"\"\"Create interaction features\"\"\"\n",
    "    ed_age = df.group_by('Education Level').agg(\n",
    "        pl.col('Age').mean().alias('Education_Age_mean'),\n",
    "        pl.col('Age').std().alias('Education_Age_std')\n",
    "    )\n",
    "    \n",
    "    df = df.join(ed_age, on='Education Level', how='left')\n",
    "\n",
    "    num_cols.extend(['Education_Age_mean', 'Education_Age_std'])\n",
    "\n",
    "    df = df.with_columns(\n",
    "        (pl.col('Years of Experience') / pl.col('Age')).alias('YoE_Age_ratio'),\n",
    "    )\n",
    "    num_cols.append('YoE_Age_ratio')\n",
    "    \n",
    "    df = df.with_columns(\n",
    "        (pl.col('Years of Experience') + pl.col('Years of Experience')).alias('YoE_squared'),\n",
    "        (pl.col('Years of Experience') * pl.col('Age')).alias('YoE_Age_interaction')\n",
    "    )\n",
    "\n",
    "    num_cols.extend(['YoE_squared', 'YoE_Age_interaction'])\n",
    "\n",
    "    return df"
   ]
  },
  {
   "cell_type": "code",
   "execution_count": 169,
   "id": "7f588c74",
   "metadata": {},
   "outputs": [
    {
     "name": "stdout",
     "output_type": "stream",
     "text": [
      "Removed 2 rows with null Salary values\n"
     ]
    }
   ],
   "source": [
    "def perform_feature_engineering(df):\n",
    "    \"\"\"Perform all feature engineering steps.\"\"\"\n",
    "    # Remove ID column\n",
    "       \n",
    "    # Clean target variable\n",
    "    df = clean_target_variable(df)\n",
    "    \n",
    "    # Engineer features\n",
    "    df = engineer_age_features(df)\n",
    "    df = engineer_gender_features(df)\n",
    "    df = engineer_ed_features(df)\n",
    "    df = engineer_jt_features(df)\n",
    "    df = engineer_yoe_features(df)\n",
    "    df = create_interaction_features(df)\n",
    "\n",
    "    ids = df[ID]\n",
    "    df = df.drop(ID)\n",
    "    return df, ids\n",
    "\n",
    "df_salary_people, ids = perform_feature_engineering(df_salary_people_raw)"
   ]
  },
  {
   "cell_type": "markdown",
   "id": "44ab22f5",
   "metadata": {
    "id": "44ab22f5"
   },
   "source": [
    "## Data preprocessing"
   ]
  },
  {
   "cell_type": "code",
   "execution_count": 170,
   "id": "e426d58c",
   "metadata": {
    "executionInfo": {
     "elapsed": 15,
     "status": "ok",
     "timestamp": 1749481288636,
     "user": {
      "displayName": "Gerard Seward",
      "userId": "08585387988591404566"
     },
     "user_tz": 180
    },
    "id": "e426d58c"
   },
   "outputs": [],
   "source": [
    "# Salary has outliers, need to decide how to handle them\n",
    "\n",
    "# age has 3 null values, need to decide how to fill them\n",
    "\n",
    "# gender has 3 null values, need to decide how to fill them\n",
    "\n",
    "# Education Level has 3 null values, need to decide how to fill them\n",
    "\n",
    "# Job Title has 3 null values, need to decide how to fill them\n",
    "# Job title has high cardinality, experiment extracting keywords"
   ]
  },
  {
   "cell_type": "code",
   "execution_count": 171,
   "id": "08d157aa",
   "metadata": {
    "executionInfo": {
     "elapsed": 12,
     "status": "ok",
     "timestamp": 1749481288638,
     "user": {
      "displayName": "Gerard Seward",
      "userId": "08585387988591404566"
     },
     "user_tz": 180
    },
    "id": "08d157aa"
   },
   "outputs": [],
   "source": [
    "def create_preprocessing_pipeline():\n",
    "    \"\"\"Create sklearn preprocessing pipeline.\"\"\"\n",
    "    # numerical imputer\n",
    "    num_imputer = SimpleImputer(strategy='median')\n",
    "    # numerical scaler\n",
    "    scaler = StandardScaler()\n",
    "    # categorical imputer\n",
    "    cat_imputer = SimpleImputer(strategy='most_frequent')\n",
    "    # categorical encoder\n",
    "    ohe_encoder = OneHotEncoder(handle_unknown='ignore', sparse_output=False)\n",
    "\n",
    "    # numerical pipeline\n",
    "    num_pipeline = Pipeline([\n",
    "        ('num_imputer', num_imputer),\n",
    "        ('scaler', scaler)\n",
    "    ])\n",
    "    # categorical pipeline\n",
    "    cat_pipeline = Pipeline([\n",
    "        ('cat_imputer', cat_imputer),\n",
    "        ('ohe_encoder', ohe_encoder)\n",
    "    ])\n",
    "\n",
    "    # column transformer\n",
    "\n",
    "    pipeline = ColumnTransformer([\n",
    "        ('num', num_pipeline, num_cols),\n",
    "        ('cat_ohe', cat_pipeline, cat_cols),\n",
    "        ])\n",
    "    return pipeline\n"
   ]
  },
  {
   "cell_type": "code",
   "execution_count": 172,
   "id": "0b9aa331",
   "metadata": {},
   "outputs": [],
   "source": [
    "X = df_salary_people.drop(TARGET)\n",
    "y = df_salary_people[TARGET]"
   ]
  },
  {
   "cell_type": "code",
   "execution_count": 173,
   "id": "93ea3536",
   "metadata": {},
   "outputs": [
    {
     "data": {
      "application/vnd.plotly.v1+json": {
       "config": {
        "plotlyServerURL": "https://plot.ly"
       },
       "data": [
        {
         "coloraxis": "coloraxis",
         "hovertemplate": "x: %{x}<br>y: %{y}<br>color: %{z}<extra></extra>",
         "name": "0",
         "texttemplate": "%{z}",
         "type": "heatmap",
         "x": [
          "Age",
          "Education_Age_mean",
          "Education_Age_std",
          "YoE_Age_ratio",
          "YoE_squared",
          "YoE_Age_interaction"
         ],
         "xaxis": "x",
         "y": [
          "Age",
          "Education_Age_mean",
          "Education_Age_std",
          "YoE_Age_ratio",
          "YoE_squared",
          "YoE_Age_interaction"
         ],
         "yaxis": "y",
         "z": {
          "bdata": "AAAAAAAA8D+XCdy9CCbiP7ROJyqN+sS/vvndEarJ7j84HEuWgVbvPwjhSs+lK+8/lwncvQgm4j8AAAAAAADwPyRzQWbtcdK/dthh3bfV4j+XxUJwQA3jPxk9Szg53+I/tE4nKo36xL8kc0Fm7XHSvwAAAAAAAPA/O7KX3Mezw7+TL8MoAn/Ev+N88uxPNMS/vvndEarJ7j922GHdt9XiPzuyl9zHs8O/AAAAAAAA8D9bHauDL5XvP104yPYWuO4/OBxLloFW7z+XxUJwQA3jP5MvwygCf8S/Wx2rgy+V7z8AAAAAAADwPyKTuMXFwe8/COFKz6Ur7z8ZPUs4Od/iP+N88uxPNMS/XTjI9ha47j8ik7jFxcHvPwAAAAAAAPA/",
          "dtype": "f8",
          "shape": "6, 6"
         }
        }
       ],
       "layout": {
        "coloraxis": {
         "colorscale": [
          [
           0,
           "rgb(5,48,97)"
          ],
          [
           0.1,
           "rgb(33,102,172)"
          ],
          [
           0.2,
           "rgb(67,147,195)"
          ],
          [
           0.3,
           "rgb(146,197,222)"
          ],
          [
           0.4,
           "rgb(209,229,240)"
          ],
          [
           0.5,
           "rgb(247,247,247)"
          ],
          [
           0.6,
           "rgb(253,219,199)"
          ],
          [
           0.7,
           "rgb(244,165,130)"
          ],
          [
           0.8,
           "rgb(214,96,77)"
          ],
          [
           0.9,
           "rgb(178,24,43)"
          ],
          [
           1,
           "rgb(103,0,31)"
          ]
         ]
        },
        "margin": {
         "t": 60
        },
        "template": {
         "data": {
          "bar": [
           {
            "error_x": {
             "color": "#2a3f5f"
            },
            "error_y": {
             "color": "#2a3f5f"
            },
            "marker": {
             "line": {
              "color": "#E5ECF6",
              "width": 0.5
             },
             "pattern": {
              "fillmode": "overlay",
              "size": 10,
              "solidity": 0.2
             }
            },
            "type": "bar"
           }
          ],
          "barpolar": [
           {
            "marker": {
             "line": {
              "color": "#E5ECF6",
              "width": 0.5
             },
             "pattern": {
              "fillmode": "overlay",
              "size": 10,
              "solidity": 0.2
             }
            },
            "type": "barpolar"
           }
          ],
          "carpet": [
           {
            "aaxis": {
             "endlinecolor": "#2a3f5f",
             "gridcolor": "white",
             "linecolor": "white",
             "minorgridcolor": "white",
             "startlinecolor": "#2a3f5f"
            },
            "baxis": {
             "endlinecolor": "#2a3f5f",
             "gridcolor": "white",
             "linecolor": "white",
             "minorgridcolor": "white",
             "startlinecolor": "#2a3f5f"
            },
            "type": "carpet"
           }
          ],
          "choropleth": [
           {
            "colorbar": {
             "outlinewidth": 0,
             "ticks": ""
            },
            "type": "choropleth"
           }
          ],
          "contour": [
           {
            "colorbar": {
             "outlinewidth": 0,
             "ticks": ""
            },
            "colorscale": [
             [
              0,
              "#0d0887"
             ],
             [
              0.1111111111111111,
              "#46039f"
             ],
             [
              0.2222222222222222,
              "#7201a8"
             ],
             [
              0.3333333333333333,
              "#9c179e"
             ],
             [
              0.4444444444444444,
              "#bd3786"
             ],
             [
              0.5555555555555556,
              "#d8576b"
             ],
             [
              0.6666666666666666,
              "#ed7953"
             ],
             [
              0.7777777777777778,
              "#fb9f3a"
             ],
             [
              0.8888888888888888,
              "#fdca26"
             ],
             [
              1,
              "#f0f921"
             ]
            ],
            "type": "contour"
           }
          ],
          "contourcarpet": [
           {
            "colorbar": {
             "outlinewidth": 0,
             "ticks": ""
            },
            "type": "contourcarpet"
           }
          ],
          "heatmap": [
           {
            "colorbar": {
             "outlinewidth": 0,
             "ticks": ""
            },
            "colorscale": [
             [
              0,
              "#0d0887"
             ],
             [
              0.1111111111111111,
              "#46039f"
             ],
             [
              0.2222222222222222,
              "#7201a8"
             ],
             [
              0.3333333333333333,
              "#9c179e"
             ],
             [
              0.4444444444444444,
              "#bd3786"
             ],
             [
              0.5555555555555556,
              "#d8576b"
             ],
             [
              0.6666666666666666,
              "#ed7953"
             ],
             [
              0.7777777777777778,
              "#fb9f3a"
             ],
             [
              0.8888888888888888,
              "#fdca26"
             ],
             [
              1,
              "#f0f921"
             ]
            ],
            "type": "heatmap"
           }
          ],
          "histogram": [
           {
            "marker": {
             "pattern": {
              "fillmode": "overlay",
              "size": 10,
              "solidity": 0.2
             }
            },
            "type": "histogram"
           }
          ],
          "histogram2d": [
           {
            "colorbar": {
             "outlinewidth": 0,
             "ticks": ""
            },
            "colorscale": [
             [
              0,
              "#0d0887"
             ],
             [
              0.1111111111111111,
              "#46039f"
             ],
             [
              0.2222222222222222,
              "#7201a8"
             ],
             [
              0.3333333333333333,
              "#9c179e"
             ],
             [
              0.4444444444444444,
              "#bd3786"
             ],
             [
              0.5555555555555556,
              "#d8576b"
             ],
             [
              0.6666666666666666,
              "#ed7953"
             ],
             [
              0.7777777777777778,
              "#fb9f3a"
             ],
             [
              0.8888888888888888,
              "#fdca26"
             ],
             [
              1,
              "#f0f921"
             ]
            ],
            "type": "histogram2d"
           }
          ],
          "histogram2dcontour": [
           {
            "colorbar": {
             "outlinewidth": 0,
             "ticks": ""
            },
            "colorscale": [
             [
              0,
              "#0d0887"
             ],
             [
              0.1111111111111111,
              "#46039f"
             ],
             [
              0.2222222222222222,
              "#7201a8"
             ],
             [
              0.3333333333333333,
              "#9c179e"
             ],
             [
              0.4444444444444444,
              "#bd3786"
             ],
             [
              0.5555555555555556,
              "#d8576b"
             ],
             [
              0.6666666666666666,
              "#ed7953"
             ],
             [
              0.7777777777777778,
              "#fb9f3a"
             ],
             [
              0.8888888888888888,
              "#fdca26"
             ],
             [
              1,
              "#f0f921"
             ]
            ],
            "type": "histogram2dcontour"
           }
          ],
          "mesh3d": [
           {
            "colorbar": {
             "outlinewidth": 0,
             "ticks": ""
            },
            "type": "mesh3d"
           }
          ],
          "parcoords": [
           {
            "line": {
             "colorbar": {
              "outlinewidth": 0,
              "ticks": ""
             }
            },
            "type": "parcoords"
           }
          ],
          "pie": [
           {
            "automargin": true,
            "type": "pie"
           }
          ],
          "scatter": [
           {
            "fillpattern": {
             "fillmode": "overlay",
             "size": 10,
             "solidity": 0.2
            },
            "type": "scatter"
           }
          ],
          "scatter3d": [
           {
            "line": {
             "colorbar": {
              "outlinewidth": 0,
              "ticks": ""
             }
            },
            "marker": {
             "colorbar": {
              "outlinewidth": 0,
              "ticks": ""
             }
            },
            "type": "scatter3d"
           }
          ],
          "scattercarpet": [
           {
            "marker": {
             "colorbar": {
              "outlinewidth": 0,
              "ticks": ""
             }
            },
            "type": "scattercarpet"
           }
          ],
          "scattergeo": [
           {
            "marker": {
             "colorbar": {
              "outlinewidth": 0,
              "ticks": ""
             }
            },
            "type": "scattergeo"
           }
          ],
          "scattergl": [
           {
            "marker": {
             "colorbar": {
              "outlinewidth": 0,
              "ticks": ""
             }
            },
            "type": "scattergl"
           }
          ],
          "scattermap": [
           {
            "marker": {
             "colorbar": {
              "outlinewidth": 0,
              "ticks": ""
             }
            },
            "type": "scattermap"
           }
          ],
          "scattermapbox": [
           {
            "marker": {
             "colorbar": {
              "outlinewidth": 0,
              "ticks": ""
             }
            },
            "type": "scattermapbox"
           }
          ],
          "scatterpolar": [
           {
            "marker": {
             "colorbar": {
              "outlinewidth": 0,
              "ticks": ""
             }
            },
            "type": "scatterpolar"
           }
          ],
          "scatterpolargl": [
           {
            "marker": {
             "colorbar": {
              "outlinewidth": 0,
              "ticks": ""
             }
            },
            "type": "scatterpolargl"
           }
          ],
          "scatterternary": [
           {
            "marker": {
             "colorbar": {
              "outlinewidth": 0,
              "ticks": ""
             }
            },
            "type": "scatterternary"
           }
          ],
          "surface": [
           {
            "colorbar": {
             "outlinewidth": 0,
             "ticks": ""
            },
            "colorscale": [
             [
              0,
              "#0d0887"
             ],
             [
              0.1111111111111111,
              "#46039f"
             ],
             [
              0.2222222222222222,
              "#7201a8"
             ],
             [
              0.3333333333333333,
              "#9c179e"
             ],
             [
              0.4444444444444444,
              "#bd3786"
             ],
             [
              0.5555555555555556,
              "#d8576b"
             ],
             [
              0.6666666666666666,
              "#ed7953"
             ],
             [
              0.7777777777777778,
              "#fb9f3a"
             ],
             [
              0.8888888888888888,
              "#fdca26"
             ],
             [
              1,
              "#f0f921"
             ]
            ],
            "type": "surface"
           }
          ],
          "table": [
           {
            "cells": {
             "fill": {
              "color": "#EBF0F8"
             },
             "line": {
              "color": "white"
             }
            },
            "header": {
             "fill": {
              "color": "#C8D4E3"
             },
             "line": {
              "color": "white"
             }
            },
            "type": "table"
           }
          ]
         },
         "layout": {
          "annotationdefaults": {
           "arrowcolor": "#2a3f5f",
           "arrowhead": 0,
           "arrowwidth": 1
          },
          "autotypenumbers": "strict",
          "coloraxis": {
           "colorbar": {
            "outlinewidth": 0,
            "ticks": ""
           }
          },
          "colorscale": {
           "diverging": [
            [
             0,
             "#8e0152"
            ],
            [
             0.1,
             "#c51b7d"
            ],
            [
             0.2,
             "#de77ae"
            ],
            [
             0.3,
             "#f1b6da"
            ],
            [
             0.4,
             "#fde0ef"
            ],
            [
             0.5,
             "#f7f7f7"
            ],
            [
             0.6,
             "#e6f5d0"
            ],
            [
             0.7,
             "#b8e186"
            ],
            [
             0.8,
             "#7fbc41"
            ],
            [
             0.9,
             "#4d9221"
            ],
            [
             1,
             "#276419"
            ]
           ],
           "sequential": [
            [
             0,
             "#0d0887"
            ],
            [
             0.1111111111111111,
             "#46039f"
            ],
            [
             0.2222222222222222,
             "#7201a8"
            ],
            [
             0.3333333333333333,
             "#9c179e"
            ],
            [
             0.4444444444444444,
             "#bd3786"
            ],
            [
             0.5555555555555556,
             "#d8576b"
            ],
            [
             0.6666666666666666,
             "#ed7953"
            ],
            [
             0.7777777777777778,
             "#fb9f3a"
            ],
            [
             0.8888888888888888,
             "#fdca26"
            ],
            [
             1,
             "#f0f921"
            ]
           ],
           "sequentialminus": [
            [
             0,
             "#0d0887"
            ],
            [
             0.1111111111111111,
             "#46039f"
            ],
            [
             0.2222222222222222,
             "#7201a8"
            ],
            [
             0.3333333333333333,
             "#9c179e"
            ],
            [
             0.4444444444444444,
             "#bd3786"
            ],
            [
             0.5555555555555556,
             "#d8576b"
            ],
            [
             0.6666666666666666,
             "#ed7953"
            ],
            [
             0.7777777777777778,
             "#fb9f3a"
            ],
            [
             0.8888888888888888,
             "#fdca26"
            ],
            [
             1,
             "#f0f921"
            ]
           ]
          },
          "colorway": [
           "#636efa",
           "#EF553B",
           "#00cc96",
           "#ab63fa",
           "#FFA15A",
           "#19d3f3",
           "#FF6692",
           "#B6E880",
           "#FF97FF",
           "#FECB52"
          ],
          "font": {
           "color": "#2a3f5f"
          },
          "geo": {
           "bgcolor": "white",
           "lakecolor": "white",
           "landcolor": "#E5ECF6",
           "showlakes": true,
           "showland": true,
           "subunitcolor": "white"
          },
          "hoverlabel": {
           "align": "left"
          },
          "hovermode": "closest",
          "mapbox": {
           "style": "light"
          },
          "paper_bgcolor": "white",
          "plot_bgcolor": "#E5ECF6",
          "polar": {
           "angularaxis": {
            "gridcolor": "white",
            "linecolor": "white",
            "ticks": ""
           },
           "bgcolor": "#E5ECF6",
           "radialaxis": {
            "gridcolor": "white",
            "linecolor": "white",
            "ticks": ""
           }
          },
          "scene": {
           "xaxis": {
            "backgroundcolor": "#E5ECF6",
            "gridcolor": "white",
            "gridwidth": 2,
            "linecolor": "white",
            "showbackground": true,
            "ticks": "",
            "zerolinecolor": "white"
           },
           "yaxis": {
            "backgroundcolor": "#E5ECF6",
            "gridcolor": "white",
            "gridwidth": 2,
            "linecolor": "white",
            "showbackground": true,
            "ticks": "",
            "zerolinecolor": "white"
           },
           "zaxis": {
            "backgroundcolor": "#E5ECF6",
            "gridcolor": "white",
            "gridwidth": 2,
            "linecolor": "white",
            "showbackground": true,
            "ticks": "",
            "zerolinecolor": "white"
           }
          },
          "shapedefaults": {
           "line": {
            "color": "#2a3f5f"
           }
          },
          "ternary": {
           "aaxis": {
            "gridcolor": "white",
            "linecolor": "white",
            "ticks": ""
           },
           "baxis": {
            "gridcolor": "white",
            "linecolor": "white",
            "ticks": ""
           },
           "bgcolor": "#E5ECF6",
           "caxis": {
            "gridcolor": "white",
            "linecolor": "white",
            "ticks": ""
           }
          },
          "title": {
           "x": 0.05
          },
          "xaxis": {
           "automargin": true,
           "gridcolor": "white",
           "linecolor": "white",
           "ticks": "",
           "title": {
            "standoff": 15
           },
           "zerolinecolor": "white",
           "zerolinewidth": 2
          },
          "yaxis": {
           "automargin": true,
           "gridcolor": "white",
           "linecolor": "white",
           "ticks": "",
           "title": {
            "standoff": 15
           },
           "zerolinecolor": "white",
           "zerolinewidth": 2
          }
         }
        },
        "title": {
         "text": "Correlation Matrix of Numerical Features"
        },
        "xaxis": {
         "anchor": "y",
         "domain": [
          0,
          1
         ]
        },
        "yaxis": {
         "anchor": "x",
         "autorange": "reversed",
         "domain": [
          0,
          1
         ]
        }
       }
      }
     },
     "metadata": {},
     "output_type": "display_data"
    }
   ],
   "source": [
    "# Analyze correlated features\n",
    "corr_matrix = X.select(num_cols).to_pandas().corr()\n",
    "fig = px.imshow(corr_matrix, text_auto=True, aspect=\"auto\", color_continuous_scale='RdBu_r')\n",
    "fig.update_layout(title='Correlation Matrix of Numerical Features')\n",
    "fig.show()"
   ]
  },
  {
   "cell_type": "markdown",
   "id": "0186dfbb",
   "metadata": {
    "id": "0186dfbb"
   },
   "source": [
    "## Metric definition"
   ]
  },
  {
   "cell_type": "code",
   "execution_count": 174,
   "id": "ad9c21ef",
   "metadata": {
    "executionInfo": {
     "elapsed": 2,
     "status": "ok",
     "timestamp": 1749481288664,
     "user": {
      "displayName": "Gerard Seward",
      "userId": "08585387988591404566"
     },
     "user_tz": 180
    },
    "id": "ad9c21ef"
   },
   "outputs": [],
   "source": [
    "def metrics(y_true, y_pred):\n",
    "    rmse = root_mean_squared_error(y_true, y_pred)\n",
    "    r2 = r2_score(y_true, y_pred)\n",
    "    return {'rmse': rmse, 'r2': r2}"
   ]
  },
  {
   "cell_type": "markdown",
   "id": "6d052385",
   "metadata": {
    "id": "6d052385"
   },
   "source": [
    "## Cross validation training"
   ]
  },
  {
   "cell_type": "code",
   "execution_count": 175,
   "id": "dd4ae5ea",
   "metadata": {},
   "outputs": [],
   "source": [
    "def feature_importance(pipeline, model):\n",
    "    \"\"\"Get feature importance from the model.\"\"\"\n",
    "    importances = []\n",
    "    if hasattr(model, 'feature_importances_'):\n",
    "        importances = model.feature_importances_\n",
    "    elif hasattr(model, 'coef_'):\n",
    "        importances = np.abs(model.coef_)\n",
    "    else:\n",
    "        importances = np.zeros(len(pipeline.get_feature_names_out()))\n",
    "    \n",
    "    fe_impo = pl.DataFrame({\n",
    "        'feature': pipeline.get_feature_names_out(),\n",
    "        'importance': importances\n",
    "    }).sort('importance', descending=True)\n",
    "    \n",
    "    return fe_impo"
   ]
  },
  {
   "cell_type": "code",
   "execution_count": 176,
   "id": "d157da02",
   "metadata": {
    "executionInfo": {
     "elapsed": 29,
     "status": "ok",
     "timestamp": 1749481288699,
     "user": {
      "displayName": "Gerard Seward",
      "userId": "08585387988591404566"
     },
     "user_tz": 180
    },
    "id": "d157da02"
   },
   "outputs": [],
   "source": [
    "def cross_validation(model, X, y, seed = SEED, verbose=True):\n",
    "\n",
    "    kf = KFold(n_splits=N_FOLDS, shuffle=True, random_state=seed)\n",
    "    results = []\n",
    "    importances_table = None\n",
    "    oof_preds = np.zeros(len(y))\n",
    "\n",
    "    for fold, (train_index, val_index) in enumerate(kf.split(X)):\n",
    "\n",
    "        # print(f\"Fold {fold + 1}/{N_FOLDS}\")\n",
    "\n",
    "        X_train, X_val = X[train_index].clone(), X[val_index].clone()\n",
    "        y_train, y_val = y[train_index].clone(), y[val_index].clone()\n",
    "\n",
    "        # Create preprocessing pipeline\n",
    "        preprocessing_pipeline = create_preprocessing_pipeline()\n",
    "\n",
    "        X_train = preprocessing_pipeline.fit_transform(X_train)\n",
    "        X_val = preprocessing_pipeline.transform(X_val)\n",
    "\n",
    "        model.fit(X_train, y_train)\n",
    "        y_pred = model.predict(X_val)\n",
    "        oof_preds[val_index] = y_pred\n",
    "\n",
    "        result = metrics(y_val, y_pred)\n",
    "        results.append(result)\n",
    "\n",
    "        # Get feature importance for this fold\n",
    "        fe_impo = feature_importance(preprocessing_pipeline, model)\n",
    "\n",
    "        \n",
    "        \n",
    "        # Rename the importance column to include fold number\n",
    "        fe_impo = fe_impo.with_columns(\n",
    "            pl.col('importance').alias(f'fold_{fold + 1}')\n",
    "        ).drop('importance')\n",
    "        \n",
    "        # Initialize or join the importances table\n",
    "        if importances_table is None:\n",
    "            # First fold - create the base table\n",
    "            importances_table = fe_impo\n",
    "        else:\n",
    "            # Subsequent folds - join on feature names\n",
    "            importances_table = importances_table.join(\n",
    "                fe_impo, \n",
    "                on='feature', \n",
    "                how='inner'\n",
    "            )\n",
    "\n",
    "        if verbose:\n",
    "            # Print metrics for the current fold\n",
    "            print(f\"Fold {fold + 1} - RMSE: {result['rmse']:.2f}, R2: {result['r2']:.2f}\")\n",
    "\n",
    "    \n",
    "    # Add summary statistics across folds\n",
    "    fold_columns = [f'fold_{i+1}' for i in range(N_FOLDS)]\n",
    "    \n",
    "    # Calculate mean and std across only the fold columns (numeric)\n",
    "    importances_table = importances_table.with_columns([\n",
    "        pl.mean_horizontal([pl.col(col).round(2) for col in fold_columns]).alias('mean_importance'),\n",
    "        pl.concat_list([pl.col(col).round(2) for col in fold_columns]).list.std().alias('std_importance')\n",
    "    ]).drop(fold_columns)\n",
    "\n",
    "    importances_table = importances_table.with_columns(\n",
    "        (pl.col(\"mean_importance\") / pl.col(\"mean_importance\").sum() * 100).alias(\"mean_importance_pct\").round(1),\n",
    "    )\n",
    "    # Round numeric columns to 2 decimals\n",
    "    numeric_cols = ['mean_importance', 'std_importance']\n",
    "    importances_table = importances_table.with_columns([\n",
    "        pl.col(col).round(2) for col in numeric_cols\n",
    "    ])\n",
    "\n",
    "    # Sort by mean importance\n",
    "    importances_table = importances_table.sort('mean_importance', descending=True)\n",
    "\n",
    "    if verbose:\n",
    "    # print mean metrics across folds\n",
    "        avg_rmse = np.mean([result['rmse'] for result in results])\n",
    "        avg_r2 = np.mean([result['r2'] for result in results])\n",
    "        print(f\"\\nAverage RMSE across folds: {avg_rmse:.2f}\")\n",
    "        print(f\"Average R2 across folds: {avg_r2:.2f}\")\n",
    "        \n",
    "    return results, importances_table, oof_preds\n",
    "# evaluate model with cv using multple seeds to assess stability\n",
    "seeds = np.random.RandomState(SEED).choice(range(10000), size=5, replace=False).tolist()\n",
    "\n",
    "def evaluate_model_seeds(model, X, y, seeds=seeds):\n",
    "\n",
    "    results = []\n",
    "    for s in seeds:\n",
    "\n",
    "        seed_results, _, _ = cross_validation(model, X, y, s, verbose=False)\n",
    "\n",
    "        avg_rmse = np.mean([result['rmse'] for result in seed_results]).round(2)\n",
    "        avg_r2 = np.mean([result['r2'] for result in seed_results]).round(2)\n",
    "        std_rmse = np.std([result['rmse'] for result in seed_results]).round(2)\n",
    "        std_r2 = np.std([result['r2'] for result in seed_results]).round(2)\n",
    "\n",
    "\n",
    "        results.append({\n",
    "            'seed': s,\n",
    "            'rmse': avg_rmse,\n",
    "            'r2': avg_r2,\n",
    "            'std_rmse': std_rmse,\n",
    "            'std_r2': std_r2\n",
    "        })\n",
    "\n",
    "    eval_results = pl.DataFrame(results)\n",
    "\n",
    "    return eval_results"
   ]
  },
  {
   "cell_type": "markdown",
   "id": "bd62509b",
   "metadata": {
    "id": "bd62509b"
   },
   "source": [
    "## Model evaluation"
   ]
  },
  {
   "cell_type": "code",
   "execution_count": 177,
   "id": "81f646a0",
   "metadata": {},
   "outputs": [],
   "source": [
    "def plot_error_vs_predicted(oof_preds_rf, y, ids):\n",
    "    errors = pl.DataFrame({\n",
    "        'id': ids,\n",
    "        'actual': y,\n",
    "        'predicted': oof_preds_rf\n",
    "    })\n",
    "    # calculate the mean and std of the errors\n",
    "    errors = errors.with_columns(\n",
    "        ((pl.col('predicted') - pl.col('actual')) ** 2).alias('squared_error')\n",
    "    )\n",
    "    errors = errors.with_columns(\n",
    "        (pl.col('squared_error').sqrt()).alias('rmse')\n",
    "    )\n",
    "\n",
    "    mean_error = errors['rmse'].mean()\n",
    "    std_error = errors['rmse'].std()\n",
    "\n",
    "    fig = px.scatter(\n",
    "        errors.to_pandas(),\n",
    "        x='predicted',\n",
    "        y='actual',\n",
    "        hover_data=['id'],\n",
    "        labels={'predicted': 'Predicted Values', 'actual': 'Real Values'},\n",
    "        title=f'Real vs Predicted Values\\nMean Error: {mean_error:.2f}, Std Error: {std_error:.2f}'\n",
    "    )\n",
    "    fig.add_shape(\n",
    "        type='line',\n",
    "        x0=errors['predicted'].min(),\n",
    "        y0=errors['predicted'].min(),\n",
    "        x1=errors['predicted'].max(),\n",
    "        y1=errors['actual'].max(),\n",
    "        line=dict(color='red', dash='dash')\n",
    "    )\n",
    "    fig.update_layout(\n",
    "        width=800,\n",
    "        height=800,\n",
    "        legend_title_text='',\n",
    "        showlegend=False\n",
    "    )\n",
    "    fig.show()"
   ]
  },
  {
   "cell_type": "code",
   "execution_count": 178,
   "id": "AX_-uxJ9NZl3",
   "metadata": {
    "colab": {
     "base_uri": "https://localhost:8080/"
    },
    "executionInfo": {
     "elapsed": 30,
     "status": "ok",
     "timestamp": 1749481332407,
     "user": {
      "displayName": "Gerard Seward",
      "userId": "08585387988591404566"
     },
     "user_tz": 180
    },
    "id": "AX_-uxJ9NZl3",
    "outputId": "5654b203-c0bd-403c-dd5f-65a98b49beef"
   },
   "outputs": [
    {
     "name": "stdout",
     "output_type": "stream",
     "text": [
      "Fold 1 - RMSE: 56941.49, R2: -0.08\n",
      "Fold 2 - RMSE: 44369.66, R2: -0.03\n",
      "Fold 3 - RMSE: 45707.65, R2: -0.05\n",
      "Fold 4 - RMSE: 48455.89, R2: -0.01\n",
      "Fold 5 - RMSE: 45943.56, R2: -0.07\n",
      "\n",
      "Average RMSE across folds: 48283.65\n",
      "Average R2 across folds: -0.05\n"
     ]
    }
   ],
   "source": [
    "model_dummy = DummyRegressor(strategy='median')\n",
    "results_dummy, _, _ = cross_validation(model_dummy, X, y)"
   ]
  },
  {
   "cell_type": "code",
   "execution_count": 179,
   "id": "e16eacca",
   "metadata": {
    "colab": {
     "base_uri": "https://localhost:8080/"
    },
    "executionInfo": {
     "elapsed": 24,
     "status": "ok",
     "timestamp": 1749481288790,
     "user": {
      "displayName": "Gerard Seward",
      "userId": "08585387988591404566"
     },
     "user_tz": 180
    },
    "id": "e16eacca",
    "outputId": "eb6dd481-dcf4-40d4-eed0-bf12f8d1f6b1"
   },
   "outputs": [
    {
     "name": "stdout",
     "output_type": "stream",
     "text": [
      "Fold 1 - RMSE: 13416.38, R2: 0.94\n",
      "Fold 2 - RMSE: 11765.45, R2: 0.93\n",
      "Fold 3 - RMSE: 12475.77, R2: 0.92\n",
      "Fold 4 - RMSE: 11426.19, R2: 0.94\n",
      "Fold 5 - RMSE: 11488.77, R2: 0.93\n",
      "\n",
      "Average RMSE across folds: 12114.51\n",
      "Average R2 across folds: 0.93\n"
     ]
    },
    {
     "data": {
      "text/html": [
       "<div><style>\n",
       ".dataframe > thead > tr,\n",
       ".dataframe > tbody > tr {\n",
       "  text-align: right;\n",
       "  white-space: pre-wrap;\n",
       "}\n",
       "</style>\n",
       "<small>shape: (55, 4)</small><table border=\"1\" class=\"dataframe\"><thead><tr><th>feature</th><th>mean_importance</th><th>std_importance</th><th>mean_importance_pct</th></tr><tr><td>str</td><td>f64</td><td>f64</td><td>f64</td></tr></thead><tbody><tr><td>&quot;cat_ohe__Job_Title_Category_Ex…</td><td>55216.31</td><td>10574.89</td><td>13.0</td></tr><tr><td>&quot;num__YoE_squared&quot;</td><td>28807.05</td><td>11199.59</td><td>6.8</td></tr><tr><td>&quot;num__YoE_Age_ratio&quot;</td><td>26997.0</td><td>7383.05</td><td>6.4</td></tr><tr><td>&quot;cat_ohe__Job_Title_Category_Co…</td><td>22510.27</td><td>3221.03</td><td>5.3</td></tr><tr><td>&quot;cat_ohe__Job_Title_Category_Ot…</td><td>20133.32</td><td>2374.56</td><td>4.7</td></tr><tr><td>&quot;cat_ohe__Job_Title_Category_An…</td><td>18689.08</td><td>2344.92</td><td>4.4</td></tr><tr><td>&quot;cat_ohe__Job_Title_Category_Di…</td><td>18057.52</td><td>3068.91</td><td>4.3</td></tr><tr><td>&quot;num__YoE_Age_interaction&quot;</td><td>16006.98</td><td>7231.34</td><td>3.8</td></tr><tr><td>&quot;cat_ohe__Job_Level_Senior&quot;</td><td>13910.82</td><td>888.24</td><td>3.3</td></tr><tr><td>&quot;cat_ohe__Years of Experience_1…</td><td>13173.43</td><td>2005.72</td><td>3.1</td></tr><tr><td>&quot;cat_ohe__Job_Title_Category_Ma…</td><td>11941.15</td><td>2368.16</td><td>2.8</td></tr><tr><td>&quot;cat_ohe__Experience_bin_senior&quot;</td><td>11562.51</td><td>2849.92</td><td>2.7</td></tr><tr><td>&quot;cat_ohe__Years of Experience_0…</td><td>10619.08</td><td>1728.68</td><td>2.5</td></tr><tr><td>&quot;cat_ohe__Job_Level_Junior&quot;</td><td>10353.32</td><td>977.01</td><td>2.4</td></tr><tr><td>&quot;cat_ohe__Years of Experience_2…</td><td>8317.01</td><td>7724.83</td><td>2.0</td></tr><tr><td>&hellip;</td><td>&hellip;</td><td>&hellip;</td><td>&hellip;</td></tr><tr><td>&quot;cat_ohe__Years of Experience_1…</td><td>2130.82</td><td>480.78</td><td>0.5</td></tr><tr><td>&quot;cat_ohe__Years of Experience_1…</td><td>2124.38</td><td>1372.24</td><td>0.5</td></tr><tr><td>&quot;cat_ohe__Years of Experience_1…</td><td>2074.08</td><td>2266.65</td><td>0.5</td></tr><tr><td>&quot;cat_ohe__Years of Experience_2…</td><td>1987.68</td><td>710.74</td><td>0.5</td></tr><tr><td>&quot;cat_ohe__Years of Experience_8…</td><td>1742.64</td><td>838.55</td><td>0.4</td></tr><tr><td>&quot;cat_ohe__Age_bin_mid&quot;</td><td>1587.38</td><td>1127.23</td><td>0.4</td></tr><tr><td>&quot;cat_ohe__Education Level_None&quot;</td><td>1559.48</td><td>553.99</td><td>0.4</td></tr><tr><td>&quot;cat_ohe__Years of Experience_6…</td><td>1541.83</td><td>967.43</td><td>0.4</td></tr><tr><td>&quot;cat_ohe__Gender_Female&quot;</td><td>1437.67</td><td>716.66</td><td>0.3</td></tr><tr><td>&quot;num__Education_Age_std&quot;</td><td>1432.84</td><td>479.8</td><td>0.3</td></tr><tr><td>&quot;cat_ohe__Education Level_PhD&quot;</td><td>1421.32</td><td>251.34</td><td>0.3</td></tr><tr><td>&quot;cat_ohe__Education Level_Maste…</td><td>1405.28</td><td>240.57</td><td>0.3</td></tr><tr><td>&quot;cat_ohe__Years of Experience_5…</td><td>1081.23</td><td>913.32</td><td>0.3</td></tr><tr><td>&quot;cat_ohe__Years of Experience_7…</td><td>844.91</td><td>512.44</td><td>0.2</td></tr><tr><td>&quot;cat_ohe__Years of Experience_2…</td><td>520.54</td><td>533.86</td><td>0.1</td></tr></tbody></table></div>"
      ],
      "text/plain": [
       "shape: (55, 4)\n",
       "┌─────────────────────────────────┬─────────────────┬────────────────┬─────────────────────┐\n",
       "│ feature                         ┆ mean_importance ┆ std_importance ┆ mean_importance_pct │\n",
       "│ ---                             ┆ ---             ┆ ---            ┆ ---                 │\n",
       "│ str                             ┆ f64             ┆ f64            ┆ f64                 │\n",
       "╞═════════════════════════════════╪═════════════════╪════════════════╪═════════════════════╡\n",
       "│ cat_ohe__Job_Title_Category_Ex… ┆ 55216.31        ┆ 10574.89       ┆ 13.0                │\n",
       "│ num__YoE_squared                ┆ 28807.05        ┆ 11199.59       ┆ 6.8                 │\n",
       "│ num__YoE_Age_ratio              ┆ 26997.0         ┆ 7383.05        ┆ 6.4                 │\n",
       "│ cat_ohe__Job_Title_Category_Co… ┆ 22510.27        ┆ 3221.03        ┆ 5.3                 │\n",
       "│ cat_ohe__Job_Title_Category_Ot… ┆ 20133.32        ┆ 2374.56        ┆ 4.7                 │\n",
       "│ cat_ohe__Job_Title_Category_An… ┆ 18689.08        ┆ 2344.92        ┆ 4.4                 │\n",
       "│ cat_ohe__Job_Title_Category_Di… ┆ 18057.52        ┆ 3068.91        ┆ 4.3                 │\n",
       "│ num__YoE_Age_interaction        ┆ 16006.98        ┆ 7231.34        ┆ 3.8                 │\n",
       "│ cat_ohe__Job_Level_Senior       ┆ 13910.82        ┆ 888.24         ┆ 3.3                 │\n",
       "│ cat_ohe__Years of Experience_1… ┆ 13173.43        ┆ 2005.72        ┆ 3.1                 │\n",
       "│ cat_ohe__Job_Title_Category_Ma… ┆ 11941.15        ┆ 2368.16        ┆ 2.8                 │\n",
       "│ cat_ohe__Experience_bin_senior  ┆ 11562.51        ┆ 2849.92        ┆ 2.7                 │\n",
       "│ cat_ohe__Years of Experience_0… ┆ 10619.08        ┆ 1728.68        ┆ 2.5                 │\n",
       "│ cat_ohe__Job_Level_Junior       ┆ 10353.32        ┆ 977.01         ┆ 2.4                 │\n",
       "│ cat_ohe__Years of Experience_2… ┆ 8317.01         ┆ 7724.83        ┆ 2.0                 │\n",
       "│ …                               ┆ …               ┆ …              ┆ …                   │\n",
       "│ cat_ohe__Years of Experience_1… ┆ 2130.82         ┆ 480.78         ┆ 0.5                 │\n",
       "│ cat_ohe__Years of Experience_1… ┆ 2124.38         ┆ 1372.24        ┆ 0.5                 │\n",
       "│ cat_ohe__Years of Experience_1… ┆ 2074.08         ┆ 2266.65        ┆ 0.5                 │\n",
       "│ cat_ohe__Years of Experience_2… ┆ 1987.68         ┆ 710.74         ┆ 0.5                 │\n",
       "│ cat_ohe__Years of Experience_8… ┆ 1742.64         ┆ 838.55         ┆ 0.4                 │\n",
       "│ cat_ohe__Age_bin_mid            ┆ 1587.38         ┆ 1127.23        ┆ 0.4                 │\n",
       "│ cat_ohe__Education Level_None   ┆ 1559.48         ┆ 553.99         ┆ 0.4                 │\n",
       "│ cat_ohe__Years of Experience_6… ┆ 1541.83         ┆ 967.43         ┆ 0.4                 │\n",
       "│ cat_ohe__Gender_Female          ┆ 1437.67         ┆ 716.66         ┆ 0.3                 │\n",
       "│ num__Education_Age_std          ┆ 1432.84         ┆ 479.8          ┆ 0.3                 │\n",
       "│ cat_ohe__Education Level_PhD    ┆ 1421.32         ┆ 251.34         ┆ 0.3                 │\n",
       "│ cat_ohe__Education Level_Maste… ┆ 1405.28         ┆ 240.57         ┆ 0.3                 │\n",
       "│ cat_ohe__Years of Experience_5… ┆ 1081.23         ┆ 913.32         ┆ 0.3                 │\n",
       "│ cat_ohe__Years of Experience_7… ┆ 844.91          ┆ 512.44         ┆ 0.2                 │\n",
       "│ cat_ohe__Years of Experience_2… ┆ 520.54          ┆ 533.86         ┆ 0.1                 │\n",
       "└─────────────────────────────────┴─────────────────┴────────────────┴─────────────────────┘"
      ]
     },
     "execution_count": 179,
     "metadata": {},
     "output_type": "execute_result"
    }
   ],
   "source": [
    "# linear regression model\n",
    "model_lr = LinearRegression()\n",
    "results_lr, importances_lr, oof_preds_lr = cross_validation(model_lr, X, y)\n",
    "importances_lr"
   ]
  },
  {
   "cell_type": "code",
   "execution_count": 180,
   "id": "64e6ccff",
   "metadata": {},
   "outputs": [
    {
     "data": {
      "application/vnd.plotly.v1+json": {
       "config": {
        "plotlyServerURL": "https://plot.ly"
       },
       "data": [
        {
         "customdata": {
          "bdata": "AAABAAIAAwAEAAUABgAHAAgACQAKAAsADAANAA4ADwAQABEAEgATABQAFQAWABcAGAAZABoAGwAcAB0AHgAfACAAIQAiACMAJAAlACYAJwAoACkAKgArACwALQAuAC8AMAAxADIAMwA0ADUANgA3ADgAOQA6ADsAPAA9AD4APwBAAEEAQgBDAEQARQBGAEcASABJAEoASwBMAE0ATgBPAFAAUQBSAFMAVABVAFYAVwBYAFkAWgBbAFwAXQBeAF8AYABhAGIAYwBkAGUAZgBnAGgAaQBqAGsAbABtAG4AbwBwAHEAcgBzAHQAdQB2AHcAeAB5AHoAewB8AH0AfgB/AIAAgQCCAIMAhACFAIYAhwCIAIkAigCLAIwAjQCOAI8AkACRAJIAkwCUAJUAlgCXAJgAmQCaAJsAnACdAJ4AnwCgAKEAogCjAKQApQCmAKcAqACpAKoAqwCtAK4ArwCwALEAsgCzALQAtQC2ALcAuAC5ALoAuwC8AL0AvgC/AMAAwQDCAMMAxADFAMYAxwDIAMkAygDLAMwAzQDOAM8A0ADRANIA0wDUANUA1gDXANgA2QDaANsA3ADdAN4A3wDgAOEA4gDjAOQA5QDmAOcA6ADpAOoA6wDsAO0A7gDvAPAA8QDyAPMA9AD1APYA9wD4APkA+gD7APwA/QD+AP8AAAEBAQIBBQEGAQcBCAEJAQoBCwEMAQ0BDgEPARABEQESARMBFAEVARYBFwEYARkBGgEbARwBHQEeAR8BIAEhASIBIwEkASUBJgEnASgBKQEqASsBLAEtAS4BLwEwATEBMgEzATQBNQE2ATcBOAE5AToBOwE8AT0BPgE/AUABQQFCAUMBRAFFAUYBRwFIAUkBSgFLAUwBTQFOAU8BUAFRAVIBUwFUAVUBVgFXAVgBWQFaAVsBXAFdAV4BXwFgAWEBYgFjAWQBZQFmAWcBaAFpAWoBawFsAW0BbgFvAXABcQFyAXMBdAF1AXYB",
          "dtype": "i2",
          "shape": "372, 1"
         },
         "hovertemplate": "Predicted Values=%{x}<br>Real Values=%{y}<br>id=%{customdata[0]}<extra></extra>",
         "legendgroup": "",
         "marker": {
          "color": "#636efa",
          "symbol": "circle"
         },
         "mode": "markers",
         "name": "",
         "orientation": "v",
         "showlegend": false,
         "type": "scatter",
         "x": {
          "bdata": "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",
          "dtype": "f8"
         },
         "xaxis": "x",
         "y": {
          "bdata": "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",
          "dtype": "f8"
         },
         "yaxis": "y"
        }
       ],
       "layout": {
        "height": 800,
        "legend": {
         "title": {
          "text": ""
         },
         "tracegroupgap": 0
        },
        "shapes": [
         {
          "line": {
           "color": "red",
           "dash": "dash"
          },
          "type": "line",
          "x0": 14545.921462159225,
          "x1": 248742.68450861957,
          "y0": 14545.921462159225,
          "y1": 250000
         }
        ],
        "showlegend": false,
        "template": {
         "data": {
          "bar": [
           {
            "error_x": {
             "color": "#2a3f5f"
            },
            "error_y": {
             "color": "#2a3f5f"
            },
            "marker": {
             "line": {
              "color": "#E5ECF6",
              "width": 0.5
             },
             "pattern": {
              "fillmode": "overlay",
              "size": 10,
              "solidity": 0.2
             }
            },
            "type": "bar"
           }
          ],
          "barpolar": [
           {
            "marker": {
             "line": {
              "color": "#E5ECF6",
              "width": 0.5
             },
             "pattern": {
              "fillmode": "overlay",
              "size": 10,
              "solidity": 0.2
             }
            },
            "type": "barpolar"
           }
          ],
          "carpet": [
           {
            "aaxis": {
             "endlinecolor": "#2a3f5f",
             "gridcolor": "white",
             "linecolor": "white",
             "minorgridcolor": "white",
             "startlinecolor": "#2a3f5f"
            },
            "baxis": {
             "endlinecolor": "#2a3f5f",
             "gridcolor": "white",
             "linecolor": "white",
             "minorgridcolor": "white",
             "startlinecolor": "#2a3f5f"
            },
            "type": "carpet"
           }
          ],
          "choropleth": [
           {
            "colorbar": {
             "outlinewidth": 0,
             "ticks": ""
            },
            "type": "choropleth"
           }
          ],
          "contour": [
           {
            "colorbar": {
             "outlinewidth": 0,
             "ticks": ""
            },
            "colorscale": [
             [
              0,
              "#0d0887"
             ],
             [
              0.1111111111111111,
              "#46039f"
             ],
             [
              0.2222222222222222,
              "#7201a8"
             ],
             [
              0.3333333333333333,
              "#9c179e"
             ],
             [
              0.4444444444444444,
              "#bd3786"
             ],
             [
              0.5555555555555556,
              "#d8576b"
             ],
             [
              0.6666666666666666,
              "#ed7953"
             ],
             [
              0.7777777777777778,
              "#fb9f3a"
             ],
             [
              0.8888888888888888,
              "#fdca26"
             ],
             [
              1,
              "#f0f921"
             ]
            ],
            "type": "contour"
           }
          ],
          "contourcarpet": [
           {
            "colorbar": {
             "outlinewidth": 0,
             "ticks": ""
            },
            "type": "contourcarpet"
           }
          ],
          "heatmap": [
           {
            "colorbar": {
             "outlinewidth": 0,
             "ticks": ""
            },
            "colorscale": [
             [
              0,
              "#0d0887"
             ],
             [
              0.1111111111111111,
              "#46039f"
             ],
             [
              0.2222222222222222,
              "#7201a8"
             ],
             [
              0.3333333333333333,
              "#9c179e"
             ],
             [
              0.4444444444444444,
              "#bd3786"
             ],
             [
              0.5555555555555556,
              "#d8576b"
             ],
             [
              0.6666666666666666,
              "#ed7953"
             ],
             [
              0.7777777777777778,
              "#fb9f3a"
             ],
             [
              0.8888888888888888,
              "#fdca26"
             ],
             [
              1,
              "#f0f921"
             ]
            ],
            "type": "heatmap"
           }
          ],
          "histogram": [
           {
            "marker": {
             "pattern": {
              "fillmode": "overlay",
              "size": 10,
              "solidity": 0.2
             }
            },
            "type": "histogram"
           }
          ],
          "histogram2d": [
           {
            "colorbar": {
             "outlinewidth": 0,
             "ticks": ""
            },
            "colorscale": [
             [
              0,
              "#0d0887"
             ],
             [
              0.1111111111111111,
              "#46039f"
             ],
             [
              0.2222222222222222,
              "#7201a8"
             ],
             [
              0.3333333333333333,
              "#9c179e"
             ],
             [
              0.4444444444444444,
              "#bd3786"
             ],
             [
              0.5555555555555556,
              "#d8576b"
             ],
             [
              0.6666666666666666,
              "#ed7953"
             ],
             [
              0.7777777777777778,
              "#fb9f3a"
             ],
             [
              0.8888888888888888,
              "#fdca26"
             ],
             [
              1,
              "#f0f921"
             ]
            ],
            "type": "histogram2d"
           }
          ],
          "histogram2dcontour": [
           {
            "colorbar": {
             "outlinewidth": 0,
             "ticks": ""
            },
            "colorscale": [
             [
              0,
              "#0d0887"
             ],
             [
              0.1111111111111111,
              "#46039f"
             ],
             [
              0.2222222222222222,
              "#7201a8"
             ],
             [
              0.3333333333333333,
              "#9c179e"
             ],
             [
              0.4444444444444444,
              "#bd3786"
             ],
             [
              0.5555555555555556,
              "#d8576b"
             ],
             [
              0.6666666666666666,
              "#ed7953"
             ],
             [
              0.7777777777777778,
              "#fb9f3a"
             ],
             [
              0.8888888888888888,
              "#fdca26"
             ],
             [
              1,
              "#f0f921"
             ]
            ],
            "type": "histogram2dcontour"
           }
          ],
          "mesh3d": [
           {
            "colorbar": {
             "outlinewidth": 0,
             "ticks": ""
            },
            "type": "mesh3d"
           }
          ],
          "parcoords": [
           {
            "line": {
             "colorbar": {
              "outlinewidth": 0,
              "ticks": ""
             }
            },
            "type": "parcoords"
           }
          ],
          "pie": [
           {
            "automargin": true,
            "type": "pie"
           }
          ],
          "scatter": [
           {
            "fillpattern": {
             "fillmode": "overlay",
             "size": 10,
             "solidity": 0.2
            },
            "type": "scatter"
           }
          ],
          "scatter3d": [
           {
            "line": {
             "colorbar": {
              "outlinewidth": 0,
              "ticks": ""
             }
            },
            "marker": {
             "colorbar": {
              "outlinewidth": 0,
              "ticks": ""
             }
            },
            "type": "scatter3d"
           }
          ],
          "scattercarpet": [
           {
            "marker": {
             "colorbar": {
              "outlinewidth": 0,
              "ticks": ""
             }
            },
            "type": "scattercarpet"
           }
          ],
          "scattergeo": [
           {
            "marker": {
             "colorbar": {
              "outlinewidth": 0,
              "ticks": ""
             }
            },
            "type": "scattergeo"
           }
          ],
          "scattergl": [
           {
            "marker": {
             "colorbar": {
              "outlinewidth": 0,
              "ticks": ""
             }
            },
            "type": "scattergl"
           }
          ],
          "scattermap": [
           {
            "marker": {
             "colorbar": {
              "outlinewidth": 0,
              "ticks": ""
             }
            },
            "type": "scattermap"
           }
          ],
          "scattermapbox": [
           {
            "marker": {
             "colorbar": {
              "outlinewidth": 0,
              "ticks": ""
             }
            },
            "type": "scattermapbox"
           }
          ],
          "scatterpolar": [
           {
            "marker": {
             "colorbar": {
              "outlinewidth": 0,
              "ticks": ""
             }
            },
            "type": "scatterpolar"
           }
          ],
          "scatterpolargl": [
           {
            "marker": {
             "colorbar": {
              "outlinewidth": 0,
              "ticks": ""
             }
            },
            "type": "scatterpolargl"
           }
          ],
          "scatterternary": [
           {
            "marker": {
             "colorbar": {
              "outlinewidth": 0,
              "ticks": ""
             }
            },
            "type": "scatterternary"
           }
          ],
          "surface": [
           {
            "colorbar": {
             "outlinewidth": 0,
             "ticks": ""
            },
            "colorscale": [
             [
              0,
              "#0d0887"
             ],
             [
              0.1111111111111111,
              "#46039f"
             ],
             [
              0.2222222222222222,
              "#7201a8"
             ],
             [
              0.3333333333333333,
              "#9c179e"
             ],
             [
              0.4444444444444444,
              "#bd3786"
             ],
             [
              0.5555555555555556,
              "#d8576b"
             ],
             [
              0.6666666666666666,
              "#ed7953"
             ],
             [
              0.7777777777777778,
              "#fb9f3a"
             ],
             [
              0.8888888888888888,
              "#fdca26"
             ],
             [
              1,
              "#f0f921"
             ]
            ],
            "type": "surface"
           }
          ],
          "table": [
           {
            "cells": {
             "fill": {
              "color": "#EBF0F8"
             },
             "line": {
              "color": "white"
             }
            },
            "header": {
             "fill": {
              "color": "#C8D4E3"
             },
             "line": {
              "color": "white"
             }
            },
            "type": "table"
           }
          ]
         },
         "layout": {
          "annotationdefaults": {
           "arrowcolor": "#2a3f5f",
           "arrowhead": 0,
           "arrowwidth": 1
          },
          "autotypenumbers": "strict",
          "coloraxis": {
           "colorbar": {
            "outlinewidth": 0,
            "ticks": ""
           }
          },
          "colorscale": {
           "diverging": [
            [
             0,
             "#8e0152"
            ],
            [
             0.1,
             "#c51b7d"
            ],
            [
             0.2,
             "#de77ae"
            ],
            [
             0.3,
             "#f1b6da"
            ],
            [
             0.4,
             "#fde0ef"
            ],
            [
             0.5,
             "#f7f7f7"
            ],
            [
             0.6,
             "#e6f5d0"
            ],
            [
             0.7,
             "#b8e186"
            ],
            [
             0.8,
             "#7fbc41"
            ],
            [
             0.9,
             "#4d9221"
            ],
            [
             1,
             "#276419"
            ]
           ],
           "sequential": [
            [
             0,
             "#0d0887"
            ],
            [
             0.1111111111111111,
             "#46039f"
            ],
            [
             0.2222222222222222,
             "#7201a8"
            ],
            [
             0.3333333333333333,
             "#9c179e"
            ],
            [
             0.4444444444444444,
             "#bd3786"
            ],
            [
             0.5555555555555556,
             "#d8576b"
            ],
            [
             0.6666666666666666,
             "#ed7953"
            ],
            [
             0.7777777777777778,
             "#fb9f3a"
            ],
            [
             0.8888888888888888,
             "#fdca26"
            ],
            [
             1,
             "#f0f921"
            ]
           ],
           "sequentialminus": [
            [
             0,
             "#0d0887"
            ],
            [
             0.1111111111111111,
             "#46039f"
            ],
            [
             0.2222222222222222,
             "#7201a8"
            ],
            [
             0.3333333333333333,
             "#9c179e"
            ],
            [
             0.4444444444444444,
             "#bd3786"
            ],
            [
             0.5555555555555556,
             "#d8576b"
            ],
            [
             0.6666666666666666,
             "#ed7953"
            ],
            [
             0.7777777777777778,
             "#fb9f3a"
            ],
            [
             0.8888888888888888,
             "#fdca26"
            ],
            [
             1,
             "#f0f921"
            ]
           ]
          },
          "colorway": [
           "#636efa",
           "#EF553B",
           "#00cc96",
           "#ab63fa",
           "#FFA15A",
           "#19d3f3",
           "#FF6692",
           "#B6E880",
           "#FF97FF",
           "#FECB52"
          ],
          "font": {
           "color": "#2a3f5f"
          },
          "geo": {
           "bgcolor": "white",
           "lakecolor": "white",
           "landcolor": "#E5ECF6",
           "showlakes": true,
           "showland": true,
           "subunitcolor": "white"
          },
          "hoverlabel": {
           "align": "left"
          },
          "hovermode": "closest",
          "mapbox": {
           "style": "light"
          },
          "paper_bgcolor": "white",
          "plot_bgcolor": "#E5ECF6",
          "polar": {
           "angularaxis": {
            "gridcolor": "white",
            "linecolor": "white",
            "ticks": ""
           },
           "bgcolor": "#E5ECF6",
           "radialaxis": {
            "gridcolor": "white",
            "linecolor": "white",
            "ticks": ""
           }
          },
          "scene": {
           "xaxis": {
            "backgroundcolor": "#E5ECF6",
            "gridcolor": "white",
            "gridwidth": 2,
            "linecolor": "white",
            "showbackground": true,
            "ticks": "",
            "zerolinecolor": "white"
           },
           "yaxis": {
            "backgroundcolor": "#E5ECF6",
            "gridcolor": "white",
            "gridwidth": 2,
            "linecolor": "white",
            "showbackground": true,
            "ticks": "",
            "zerolinecolor": "white"
           },
           "zaxis": {
            "backgroundcolor": "#E5ECF6",
            "gridcolor": "white",
            "gridwidth": 2,
            "linecolor": "white",
            "showbackground": true,
            "ticks": "",
            "zerolinecolor": "white"
           }
          },
          "shapedefaults": {
           "line": {
            "color": "#2a3f5f"
           }
          },
          "ternary": {
           "aaxis": {
            "gridcolor": "white",
            "linecolor": "white",
            "ticks": ""
           },
           "baxis": {
            "gridcolor": "white",
            "linecolor": "white",
            "ticks": ""
           },
           "bgcolor": "#E5ECF6",
           "caxis": {
            "gridcolor": "white",
            "linecolor": "white",
            "ticks": ""
           }
          },
          "title": {
           "x": 0.05
          },
          "xaxis": {
           "automargin": true,
           "gridcolor": "white",
           "linecolor": "white",
           "ticks": "",
           "title": {
            "standoff": 15
           },
           "zerolinecolor": "white",
           "zerolinewidth": 2
          },
          "yaxis": {
           "automargin": true,
           "gridcolor": "white",
           "linecolor": "white",
           "ticks": "",
           "title": {
            "standoff": 15
           },
           "zerolinecolor": "white",
           "zerolinewidth": 2
          }
         }
        },
        "title": {
         "text": "Real vs Predicted Values\nMean Error: 8911.83, Std Error: 8255.31"
        },
        "width": 800,
        "xaxis": {
         "anchor": "y",
         "domain": [
          0,
          1
         ],
         "title": {
          "text": "Predicted Values"
         }
        },
        "yaxis": {
         "anchor": "x",
         "domain": [
          0,
          1
         ],
         "title": {
          "text": "Real Values"
         }
        }
       }
      }
     },
     "metadata": {},
     "output_type": "display_data"
    }
   ],
   "source": [
    "plot_error_vs_predicted(oof_preds_lr, y, ids)"
   ]
  },
  {
   "cell_type": "code",
   "execution_count": 181,
   "id": "c789faa1",
   "metadata": {},
   "outputs": [
    {
     "data": {
      "text/html": [
       "<div><style>\n",
       ".dataframe > thead > tr,\n",
       ".dataframe > tbody > tr {\n",
       "  text-align: right;\n",
       "  white-space: pre-wrap;\n",
       "}\n",
       "</style>\n",
       "<small>shape: (5, 5)</small><table border=\"1\" class=\"dataframe\"><thead><tr><th>seed</th><th>rmse</th><th>r2</th><th>std_rmse</th><th>std_r2</th></tr><tr><td>i64</td><td>f64</td><td>f64</td><td>f64</td><td>f64</td></tr></thead><tbody><tr><td>8431</td><td>12450.78</td><td>0.93</td><td>1024.42</td><td>0.01</td></tr><tr><td>176</td><td>11986.2</td><td>0.94</td><td>1326.56</td><td>0.01</td></tr><tr><td>3954</td><td>12422.59</td><td>0.93</td><td>1779.53</td><td>0.03</td></tr><tr><td>1946</td><td>14206.21</td><td>0.9</td><td>4819.77</td><td>0.07</td></tr><tr><td>1626</td><td>12611.81</td><td>0.93</td><td>1649.73</td><td>0.02</td></tr></tbody></table></div>"
      ],
      "text/plain": [
       "shape: (5, 5)\n",
       "┌──────┬──────────┬──────┬──────────┬────────┐\n",
       "│ seed ┆ rmse     ┆ r2   ┆ std_rmse ┆ std_r2 │\n",
       "│ ---  ┆ ---      ┆ ---  ┆ ---      ┆ ---    │\n",
       "│ i64  ┆ f64      ┆ f64  ┆ f64      ┆ f64    │\n",
       "╞══════╪══════════╪══════╪══════════╪════════╡\n",
       "│ 8431 ┆ 12450.78 ┆ 0.93 ┆ 1024.42  ┆ 0.01   │\n",
       "│ 176  ┆ 11986.2  ┆ 0.94 ┆ 1326.56  ┆ 0.01   │\n",
       "│ 3954 ┆ 12422.59 ┆ 0.93 ┆ 1779.53  ┆ 0.03   │\n",
       "│ 1946 ┆ 14206.21 ┆ 0.9  ┆ 4819.77  ┆ 0.07   │\n",
       "│ 1626 ┆ 12611.81 ┆ 0.93 ┆ 1649.73  ┆ 0.02   │\n",
       "└──────┴──────────┴──────┴──────────┴────────┘"
      ]
     },
     "execution_count": 181,
     "metadata": {},
     "output_type": "execute_result"
    }
   ],
   "source": [
    "lr_seed_results = evaluate_model_seeds(model_lr, X, y)\n",
    "lr_seed_results"
   ]
  },
  {
   "cell_type": "code",
   "execution_count": 182,
   "id": "b54a4f1d",
   "metadata": {},
   "outputs": [
    {
     "name": "stdout",
     "output_type": "stream",
     "text": [
      "Fold 1 - RMSE: 13188.70, R2: 0.94\n",
      "Fold 2 - RMSE: 10811.77, R2: 0.94\n",
      "Fold 3 - RMSE: 11932.23, R2: 0.93\n",
      "Fold 4 - RMSE: 11529.97, R2: 0.94\n",
      "Fold 5 - RMSE: 11028.56, R2: 0.94\n",
      "\n",
      "Average RMSE across folds: 11698.25\n",
      "Average R2 across folds: 0.94\n"
     ]
    },
    {
     "data": {
      "text/html": [
       "<div><style>\n",
       ".dataframe > thead > tr,\n",
       ".dataframe > tbody > tr {\n",
       "  text-align: right;\n",
       "  white-space: pre-wrap;\n",
       "}\n",
       "</style>\n",
       "<small>shape: (55, 4)</small><table border=\"1\" class=\"dataframe\"><thead><tr><th>feature</th><th>mean_importance</th><th>std_importance</th><th>mean_importance_pct</th></tr><tr><td>str</td><td>f64</td><td>f64</td><td>f64</td></tr></thead><tbody><tr><td>&quot;cat_ohe__Job_Title_Category_Ex…</td><td>67480.9</td><td>10921.67</td><td>23.6</td></tr><tr><td>&quot;cat_ohe__Job_Title_Category_Di…</td><td>31563.8</td><td>3032.25</td><td>11.0</td></tr><tr><td>&quot;num__YoE_squared&quot;</td><td>25632.1</td><td>5573.52</td><td>8.9</td></tr><tr><td>&quot;cat_ohe__Job_Level_Senior&quot;</td><td>17199.91</td><td>1105.57</td><td>6.0</td></tr><tr><td>&quot;num__YoE_Age_ratio&quot;</td><td>12723.05</td><td>2523.03</td><td>4.4</td></tr><tr><td>&quot;num__Age&quot;</td><td>12226.39</td><td>2571.2</td><td>4.3</td></tr><tr><td>&quot;cat_ohe__Years of Experience_1…</td><td>10006.82</td><td>916.62</td><td>3.5</td></tr><tr><td>&quot;cat_ohe__Job_Title_Category_Co…</td><td>7916.34</td><td>1653.6</td><td>2.8</td></tr><tr><td>&quot;cat_ohe__Job_Level_Junior&quot;</td><td>6644.84</td><td>917.44</td><td>2.3</td></tr><tr><td>&quot;cat_ohe__Gender_Male&quot;</td><td>6594.13</td><td>610.53</td><td>2.3</td></tr><tr><td>&quot;num__Education_Age_mean&quot;</td><td>6585.74</td><td>1609.22</td><td>2.3</td></tr><tr><td>&quot;cat_ohe__Age_bin_None&quot;</td><td>6225.58</td><td>2553.83</td><td>2.2</td></tr><tr><td>&quot;cat_ohe__Years of Experience_0…</td><td>5907.95</td><td>3225.71</td><td>2.1</td></tr><tr><td>&quot;cat_ohe__Job_Title_Category_Ot…</td><td>5722.34</td><td>686.21</td><td>2.0</td></tr><tr><td>&quot;cat_ohe__Years of Experience_1…</td><td>4856.58</td><td>2878.26</td><td>1.7</td></tr><tr><td>&hellip;</td><td>&hellip;</td><td>&hellip;</td><td>&hellip;</td></tr><tr><td>&quot;cat_ohe__Years of Experience_2…</td><td>564.48</td><td>936.74</td><td>0.2</td></tr><tr><td>&quot;cat_ohe__Years of Experience_1…</td><td>541.39</td><td>578.42</td><td>0.2</td></tr><tr><td>&quot;cat_ohe__Years of Experience_1…</td><td>391.02</td><td>731.41</td><td>0.1</td></tr><tr><td>&quot;cat_ohe__Years of Experience_1…</td><td>285.67</td><td>465.58</td><td>0.1</td></tr><tr><td>&quot;cat_ohe__Years of Experience_3…</td><td>249.18</td><td>557.17</td><td>0.1</td></tr><tr><td>&quot;cat_ohe__Gender_None&quot;</td><td>208.33</td><td>387.18</td><td>0.1</td></tr><tr><td>&quot;cat_ohe__Years of Experience_7…</td><td>146.96</td><td>212.5</td><td>0.1</td></tr><tr><td>&quot;cat_ohe__Age_bin_mid&quot;</td><td>61.3</td><td>84.35</td><td>0.0</td></tr><tr><td>&quot;cat_ohe__Years of Experience_4…</td><td>54.71</td><td>122.34</td><td>0.0</td></tr><tr><td>&quot;cat_ohe__Gender_Female&quot;</td><td>0.0</td><td>0.0</td><td>0.0</td></tr><tr><td>&quot;cat_ohe__Education Level_Maste…</td><td>0.0</td><td>0.0</td><td>0.0</td></tr><tr><td>&quot;cat_ohe__Education Level_PhD&quot;</td><td>0.0</td><td>0.0</td><td>0.0</td></tr><tr><td>&quot;cat_ohe__Education Level_None&quot;</td><td>0.0</td><td>0.0</td><td>0.0</td></tr><tr><td>&quot;cat_ohe__Job_Level_Other&quot;</td><td>0.0</td><td>0.0</td><td>0.0</td></tr><tr><td>&quot;cat_ohe__Experience_bin_junior&quot;</td><td>0.0</td><td>0.0</td><td>0.0</td></tr></tbody></table></div>"
      ],
      "text/plain": [
       "shape: (55, 4)\n",
       "┌─────────────────────────────────┬─────────────────┬────────────────┬─────────────────────┐\n",
       "│ feature                         ┆ mean_importance ┆ std_importance ┆ mean_importance_pct │\n",
       "│ ---                             ┆ ---             ┆ ---            ┆ ---                 │\n",
       "│ str                             ┆ f64             ┆ f64            ┆ f64                 │\n",
       "╞═════════════════════════════════╪═════════════════╪════════════════╪═════════════════════╡\n",
       "│ cat_ohe__Job_Title_Category_Ex… ┆ 67480.9         ┆ 10921.67       ┆ 23.6                │\n",
       "│ cat_ohe__Job_Title_Category_Di… ┆ 31563.8         ┆ 3032.25        ┆ 11.0                │\n",
       "│ num__YoE_squared                ┆ 25632.1         ┆ 5573.52        ┆ 8.9                 │\n",
       "│ cat_ohe__Job_Level_Senior       ┆ 17199.91        ┆ 1105.57        ┆ 6.0                 │\n",
       "│ num__YoE_Age_ratio              ┆ 12723.05        ┆ 2523.03        ┆ 4.4                 │\n",
       "│ num__Age                        ┆ 12226.39        ┆ 2571.2         ┆ 4.3                 │\n",
       "│ cat_ohe__Years of Experience_1… ┆ 10006.82        ┆ 916.62         ┆ 3.5                 │\n",
       "│ cat_ohe__Job_Title_Category_Co… ┆ 7916.34         ┆ 1653.6         ┆ 2.8                 │\n",
       "│ cat_ohe__Job_Level_Junior       ┆ 6644.84         ┆ 917.44         ┆ 2.3                 │\n",
       "│ cat_ohe__Gender_Male            ┆ 6594.13         ┆ 610.53         ┆ 2.3                 │\n",
       "│ num__Education_Age_mean         ┆ 6585.74         ┆ 1609.22        ┆ 2.3                 │\n",
       "│ cat_ohe__Age_bin_None           ┆ 6225.58         ┆ 2553.83        ┆ 2.2                 │\n",
       "│ cat_ohe__Years of Experience_0… ┆ 5907.95         ┆ 3225.71        ┆ 2.1                 │\n",
       "│ cat_ohe__Job_Title_Category_Ot… ┆ 5722.34         ┆ 686.21         ┆ 2.0                 │\n",
       "│ cat_ohe__Years of Experience_1… ┆ 4856.58         ┆ 2878.26        ┆ 1.7                 │\n",
       "│ …                               ┆ …               ┆ …              ┆ …                   │\n",
       "│ cat_ohe__Years of Experience_2… ┆ 564.48          ┆ 936.74         ┆ 0.2                 │\n",
       "│ cat_ohe__Years of Experience_1… ┆ 541.39          ┆ 578.42         ┆ 0.2                 │\n",
       "│ cat_ohe__Years of Experience_1… ┆ 391.02          ┆ 731.41         ┆ 0.1                 │\n",
       "│ cat_ohe__Years of Experience_1… ┆ 285.67          ┆ 465.58         ┆ 0.1                 │\n",
       "│ cat_ohe__Years of Experience_3… ┆ 249.18          ┆ 557.17         ┆ 0.1                 │\n",
       "│ cat_ohe__Gender_None            ┆ 208.33          ┆ 387.18         ┆ 0.1                 │\n",
       "│ cat_ohe__Years of Experience_7… ┆ 146.96          ┆ 212.5          ┆ 0.1                 │\n",
       "│ cat_ohe__Age_bin_mid            ┆ 61.3            ┆ 84.35          ┆ 0.0                 │\n",
       "│ cat_ohe__Years of Experience_4… ┆ 54.71           ┆ 122.34         ┆ 0.0                 │\n",
       "│ cat_ohe__Gender_Female          ┆ 0.0             ┆ 0.0            ┆ 0.0                 │\n",
       "│ cat_ohe__Education Level_Maste… ┆ 0.0             ┆ 0.0            ┆ 0.0                 │\n",
       "│ cat_ohe__Education Level_PhD    ┆ 0.0             ┆ 0.0            ┆ 0.0                 │\n",
       "│ cat_ohe__Education Level_None   ┆ 0.0             ┆ 0.0            ┆ 0.0                 │\n",
       "│ cat_ohe__Job_Level_Other        ┆ 0.0             ┆ 0.0            ┆ 0.0                 │\n",
       "│ cat_ohe__Experience_bin_junior  ┆ 0.0             ┆ 0.0            ┆ 0.0                 │\n",
       "└─────────────────────────────────┴─────────────────┴────────────────┴─────────────────────┘"
      ]
     },
     "execution_count": 182,
     "metadata": {},
     "output_type": "execute_result"
    }
   ],
   "source": [
    "# lasso regression model\n",
    "model_lasso = Lasso(alpha=20, random_state=SEED)\n",
    "results_lasso, importances_lasso, oof_preds_lasso = cross_validation(model_lasso, X, y)\n",
    "importances_lasso"
   ]
  },
  {
   "cell_type": "code",
   "execution_count": 183,
   "id": "908d0c7f",
   "metadata": {},
   "outputs": [
    {
     "data": {
      "application/vnd.plotly.v1+json": {
       "config": {
        "plotlyServerURL": "https://plot.ly"
       },
       "data": [
        {
         "customdata": {
          "bdata": "AAABAAIAAwAEAAUABgAHAAgACQAKAAsADAANAA4ADwAQABEAEgATABQAFQAWABcAGAAZABoAGwAcAB0AHgAfACAAIQAiACMAJAAlACYAJwAoACkAKgArACwALQAuAC8AMAAxADIAMwA0ADUANgA3ADgAOQA6ADsAPAA9AD4APwBAAEEAQgBDAEQARQBGAEcASABJAEoASwBMAE0ATgBPAFAAUQBSAFMAVABVAFYAVwBYAFkAWgBbAFwAXQBeAF8AYABhAGIAYwBkAGUAZgBnAGgAaQBqAGsAbABtAG4AbwBwAHEAcgBzAHQAdQB2AHcAeAB5AHoAewB8AH0AfgB/AIAAgQCCAIMAhACFAIYAhwCIAIkAigCLAIwAjQCOAI8AkACRAJIAkwCUAJUAlgCXAJgAmQCaAJsAnACdAJ4AnwCgAKEAogCjAKQApQCmAKcAqACpAKoAqwCtAK4ArwCwALEAsgCzALQAtQC2ALcAuAC5ALoAuwC8AL0AvgC/AMAAwQDCAMMAxADFAMYAxwDIAMkAygDLAMwAzQDOAM8A0ADRANIA0wDUANUA1gDXANgA2QDaANsA3ADdAN4A3wDgAOEA4gDjAOQA5QDmAOcA6ADpAOoA6wDsAO0A7gDvAPAA8QDyAPMA9AD1APYA9wD4APkA+gD7APwA/QD+AP8AAAEBAQIBBQEGAQcBCAEJAQoBCwEMAQ0BDgEPARABEQESARMBFAEVARYBFwEYARkBGgEbARwBHQEeAR8BIAEhASIBIwEkASUBJgEnASgBKQEqASsBLAEtAS4BLwEwATEBMgEzATQBNQE2ATcBOAE5AToBOwE8AT0BPgE/AUABQQFCAUMBRAFFAUYBRwFIAUkBSgFLAUwBTQFOAU8BUAFRAVIBUwFUAVUBVgFXAVgBWQFaAVsBXAFdAV4BXwFgAWEBYgFjAWQBZQFmAWcBaAFpAWoBawFsAW0BbgFvAXABcQFyAXMBdAF1AXYB",
          "dtype": "i2",
          "shape": "372, 1"
         },
         "hovertemplate": "Predicted Values=%{x}<br>Real Values=%{y}<br>id=%{customdata[0]}<extra></extra>",
         "legendgroup": "",
         "marker": {
          "color": "#636efa",
          "symbol": "circle"
         },
         "mode": "markers",
         "name": "",
         "orientation": "v",
         "showlegend": false,
         "type": "scatter",
         "x": {
          "bdata": "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",
          "dtype": "f8"
         },
         "xaxis": "x",
         "y": {
          "bdata": "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",
          "dtype": "f8"
         },
         "yaxis": "y"
        }
       ],
       "layout": {
        "height": 800,
        "legend": {
         "title": {
          "text": ""
         },
         "tracegroupgap": 0
        },
        "shapes": [
         {
          "line": {
           "color": "red",
           "dash": "dash"
          },
          "type": "line",
          "x0": 23981.091874186022,
          "x1": 245016.59857153433,
          "y0": 23981.091874186022,
          "y1": 250000
         }
        ],
        "showlegend": false,
        "template": {
         "data": {
          "bar": [
           {
            "error_x": {
             "color": "#2a3f5f"
            },
            "error_y": {
             "color": "#2a3f5f"
            },
            "marker": {
             "line": {
              "color": "#E5ECF6",
              "width": 0.5
             },
             "pattern": {
              "fillmode": "overlay",
              "size": 10,
              "solidity": 0.2
             }
            },
            "type": "bar"
           }
          ],
          "barpolar": [
           {
            "marker": {
             "line": {
              "color": "#E5ECF6",
              "width": 0.5
             },
             "pattern": {
              "fillmode": "overlay",
              "size": 10,
              "solidity": 0.2
             }
            },
            "type": "barpolar"
           }
          ],
          "carpet": [
           {
            "aaxis": {
             "endlinecolor": "#2a3f5f",
             "gridcolor": "white",
             "linecolor": "white",
             "minorgridcolor": "white",
             "startlinecolor": "#2a3f5f"
            },
            "baxis": {
             "endlinecolor": "#2a3f5f",
             "gridcolor": "white",
             "linecolor": "white",
             "minorgridcolor": "white",
             "startlinecolor": "#2a3f5f"
            },
            "type": "carpet"
           }
          ],
          "choropleth": [
           {
            "colorbar": {
             "outlinewidth": 0,
             "ticks": ""
            },
            "type": "choropleth"
           }
          ],
          "contour": [
           {
            "colorbar": {
             "outlinewidth": 0,
             "ticks": ""
            },
            "colorscale": [
             [
              0,
              "#0d0887"
             ],
             [
              0.1111111111111111,
              "#46039f"
             ],
             [
              0.2222222222222222,
              "#7201a8"
             ],
             [
              0.3333333333333333,
              "#9c179e"
             ],
             [
              0.4444444444444444,
              "#bd3786"
             ],
             [
              0.5555555555555556,
              "#d8576b"
             ],
             [
              0.6666666666666666,
              "#ed7953"
             ],
             [
              0.7777777777777778,
              "#fb9f3a"
             ],
             [
              0.8888888888888888,
              "#fdca26"
             ],
             [
              1,
              "#f0f921"
             ]
            ],
            "type": "contour"
           }
          ],
          "contourcarpet": [
           {
            "colorbar": {
             "outlinewidth": 0,
             "ticks": ""
            },
            "type": "contourcarpet"
           }
          ],
          "heatmap": [
           {
            "colorbar": {
             "outlinewidth": 0,
             "ticks": ""
            },
            "colorscale": [
             [
              0,
              "#0d0887"
             ],
             [
              0.1111111111111111,
              "#46039f"
             ],
             [
              0.2222222222222222,
              "#7201a8"
             ],
             [
              0.3333333333333333,
              "#9c179e"
             ],
             [
              0.4444444444444444,
              "#bd3786"
             ],
             [
              0.5555555555555556,
              "#d8576b"
             ],
             [
              0.6666666666666666,
              "#ed7953"
             ],
             [
              0.7777777777777778,
              "#fb9f3a"
             ],
             [
              0.8888888888888888,
              "#fdca26"
             ],
             [
              1,
              "#f0f921"
             ]
            ],
            "type": "heatmap"
           }
          ],
          "histogram": [
           {
            "marker": {
             "pattern": {
              "fillmode": "overlay",
              "size": 10,
              "solidity": 0.2
             }
            },
            "type": "histogram"
           }
          ],
          "histogram2d": [
           {
            "colorbar": {
             "outlinewidth": 0,
             "ticks": ""
            },
            "colorscale": [
             [
              0,
              "#0d0887"
             ],
             [
              0.1111111111111111,
              "#46039f"
             ],
             [
              0.2222222222222222,
              "#7201a8"
             ],
             [
              0.3333333333333333,
              "#9c179e"
             ],
             [
              0.4444444444444444,
              "#bd3786"
             ],
             [
              0.5555555555555556,
              "#d8576b"
             ],
             [
              0.6666666666666666,
              "#ed7953"
             ],
             [
              0.7777777777777778,
              "#fb9f3a"
             ],
             [
              0.8888888888888888,
              "#fdca26"
             ],
             [
              1,
              "#f0f921"
             ]
            ],
            "type": "histogram2d"
           }
          ],
          "histogram2dcontour": [
           {
            "colorbar": {
             "outlinewidth": 0,
             "ticks": ""
            },
            "colorscale": [
             [
              0,
              "#0d0887"
             ],
             [
              0.1111111111111111,
              "#46039f"
             ],
             [
              0.2222222222222222,
              "#7201a8"
             ],
             [
              0.3333333333333333,
              "#9c179e"
             ],
             [
              0.4444444444444444,
              "#bd3786"
             ],
             [
              0.5555555555555556,
              "#d8576b"
             ],
             [
              0.6666666666666666,
              "#ed7953"
             ],
             [
              0.7777777777777778,
              "#fb9f3a"
             ],
             [
              0.8888888888888888,
              "#fdca26"
             ],
             [
              1,
              "#f0f921"
             ]
            ],
            "type": "histogram2dcontour"
           }
          ],
          "mesh3d": [
           {
            "colorbar": {
             "outlinewidth": 0,
             "ticks": ""
            },
            "type": "mesh3d"
           }
          ],
          "parcoords": [
           {
            "line": {
             "colorbar": {
              "outlinewidth": 0,
              "ticks": ""
             }
            },
            "type": "parcoords"
           }
          ],
          "pie": [
           {
            "automargin": true,
            "type": "pie"
           }
          ],
          "scatter": [
           {
            "fillpattern": {
             "fillmode": "overlay",
             "size": 10,
             "solidity": 0.2
            },
            "type": "scatter"
           }
          ],
          "scatter3d": [
           {
            "line": {
             "colorbar": {
              "outlinewidth": 0,
              "ticks": ""
             }
            },
            "marker": {
             "colorbar": {
              "outlinewidth": 0,
              "ticks": ""
             }
            },
            "type": "scatter3d"
           }
          ],
          "scattercarpet": [
           {
            "marker": {
             "colorbar": {
              "outlinewidth": 0,
              "ticks": ""
             }
            },
            "type": "scattercarpet"
           }
          ],
          "scattergeo": [
           {
            "marker": {
             "colorbar": {
              "outlinewidth": 0,
              "ticks": ""
             }
            },
            "type": "scattergeo"
           }
          ],
          "scattergl": [
           {
            "marker": {
             "colorbar": {
              "outlinewidth": 0,
              "ticks": ""
             }
            },
            "type": "scattergl"
           }
          ],
          "scattermap": [
           {
            "marker": {
             "colorbar": {
              "outlinewidth": 0,
              "ticks": ""
             }
            },
            "type": "scattermap"
           }
          ],
          "scattermapbox": [
           {
            "marker": {
             "colorbar": {
              "outlinewidth": 0,
              "ticks": ""
             }
            },
            "type": "scattermapbox"
           }
          ],
          "scatterpolar": [
           {
            "marker": {
             "colorbar": {
              "outlinewidth": 0,
              "ticks": ""
             }
            },
            "type": "scatterpolar"
           }
          ],
          "scatterpolargl": [
           {
            "marker": {
             "colorbar": {
              "outlinewidth": 0,
              "ticks": ""
             }
            },
            "type": "scatterpolargl"
           }
          ],
          "scatterternary": [
           {
            "marker": {
             "colorbar": {
              "outlinewidth": 0,
              "ticks": ""
             }
            },
            "type": "scatterternary"
           }
          ],
          "surface": [
           {
            "colorbar": {
             "outlinewidth": 0,
             "ticks": ""
            },
            "colorscale": [
             [
              0,
              "#0d0887"
             ],
             [
              0.1111111111111111,
              "#46039f"
             ],
             [
              0.2222222222222222,
              "#7201a8"
             ],
             [
              0.3333333333333333,
              "#9c179e"
             ],
             [
              0.4444444444444444,
              "#bd3786"
             ],
             [
              0.5555555555555556,
              "#d8576b"
             ],
             [
              0.6666666666666666,
              "#ed7953"
             ],
             [
              0.7777777777777778,
              "#fb9f3a"
             ],
             [
              0.8888888888888888,
              "#fdca26"
             ],
             [
              1,
              "#f0f921"
             ]
            ],
            "type": "surface"
           }
          ],
          "table": [
           {
            "cells": {
             "fill": {
              "color": "#EBF0F8"
             },
             "line": {
              "color": "white"
             }
            },
            "header": {
             "fill": {
              "color": "#C8D4E3"
             },
             "line": {
              "color": "white"
             }
            },
            "type": "table"
           }
          ]
         },
         "layout": {
          "annotationdefaults": {
           "arrowcolor": "#2a3f5f",
           "arrowhead": 0,
           "arrowwidth": 1
          },
          "autotypenumbers": "strict",
          "coloraxis": {
           "colorbar": {
            "outlinewidth": 0,
            "ticks": ""
           }
          },
          "colorscale": {
           "diverging": [
            [
             0,
             "#8e0152"
            ],
            [
             0.1,
             "#c51b7d"
            ],
            [
             0.2,
             "#de77ae"
            ],
            [
             0.3,
             "#f1b6da"
            ],
            [
             0.4,
             "#fde0ef"
            ],
            [
             0.5,
             "#f7f7f7"
            ],
            [
             0.6,
             "#e6f5d0"
            ],
            [
             0.7,
             "#b8e186"
            ],
            [
             0.8,
             "#7fbc41"
            ],
            [
             0.9,
             "#4d9221"
            ],
            [
             1,
             "#276419"
            ]
           ],
           "sequential": [
            [
             0,
             "#0d0887"
            ],
            [
             0.1111111111111111,
             "#46039f"
            ],
            [
             0.2222222222222222,
             "#7201a8"
            ],
            [
             0.3333333333333333,
             "#9c179e"
            ],
            [
             0.4444444444444444,
             "#bd3786"
            ],
            [
             0.5555555555555556,
             "#d8576b"
            ],
            [
             0.6666666666666666,
             "#ed7953"
            ],
            [
             0.7777777777777778,
             "#fb9f3a"
            ],
            [
             0.8888888888888888,
             "#fdca26"
            ],
            [
             1,
             "#f0f921"
            ]
           ],
           "sequentialminus": [
            [
             0,
             "#0d0887"
            ],
            [
             0.1111111111111111,
             "#46039f"
            ],
            [
             0.2222222222222222,
             "#7201a8"
            ],
            [
             0.3333333333333333,
             "#9c179e"
            ],
            [
             0.4444444444444444,
             "#bd3786"
            ],
            [
             0.5555555555555556,
             "#d8576b"
            ],
            [
             0.6666666666666666,
             "#ed7953"
            ],
            [
             0.7777777777777778,
             "#fb9f3a"
            ],
            [
             0.8888888888888888,
             "#fdca26"
            ],
            [
             1,
             "#f0f921"
            ]
           ]
          },
          "colorway": [
           "#636efa",
           "#EF553B",
           "#00cc96",
           "#ab63fa",
           "#FFA15A",
           "#19d3f3",
           "#FF6692",
           "#B6E880",
           "#FF97FF",
           "#FECB52"
          ],
          "font": {
           "color": "#2a3f5f"
          },
          "geo": {
           "bgcolor": "white",
           "lakecolor": "white",
           "landcolor": "#E5ECF6",
           "showlakes": true,
           "showland": true,
           "subunitcolor": "white"
          },
          "hoverlabel": {
           "align": "left"
          },
          "hovermode": "closest",
          "mapbox": {
           "style": "light"
          },
          "paper_bgcolor": "white",
          "plot_bgcolor": "#E5ECF6",
          "polar": {
           "angularaxis": {
            "gridcolor": "white",
            "linecolor": "white",
            "ticks": ""
           },
           "bgcolor": "#E5ECF6",
           "radialaxis": {
            "gridcolor": "white",
            "linecolor": "white",
            "ticks": ""
           }
          },
          "scene": {
           "xaxis": {
            "backgroundcolor": "#E5ECF6",
            "gridcolor": "white",
            "gridwidth": 2,
            "linecolor": "white",
            "showbackground": true,
            "ticks": "",
            "zerolinecolor": "white"
           },
           "yaxis": {
            "backgroundcolor": "#E5ECF6",
            "gridcolor": "white",
            "gridwidth": 2,
            "linecolor": "white",
            "showbackground": true,
            "ticks": "",
            "zerolinecolor": "white"
           },
           "zaxis": {
            "backgroundcolor": "#E5ECF6",
            "gridcolor": "white",
            "gridwidth": 2,
            "linecolor": "white",
            "showbackground": true,
            "ticks": "",
            "zerolinecolor": "white"
           }
          },
          "shapedefaults": {
           "line": {
            "color": "#2a3f5f"
           }
          },
          "ternary": {
           "aaxis": {
            "gridcolor": "white",
            "linecolor": "white",
            "ticks": ""
           },
           "baxis": {
            "gridcolor": "white",
            "linecolor": "white",
            "ticks": ""
           },
           "bgcolor": "#E5ECF6",
           "caxis": {
            "gridcolor": "white",
            "linecolor": "white",
            "ticks": ""
           }
          },
          "title": {
           "x": 0.05
          },
          "xaxis": {
           "automargin": true,
           "gridcolor": "white",
           "linecolor": "white",
           "ticks": "",
           "title": {
            "standoff": 15
           },
           "zerolinecolor": "white",
           "zerolinewidth": 2
          },
          "yaxis": {
           "automargin": true,
           "gridcolor": "white",
           "linecolor": "white",
           "ticks": "",
           "title": {
            "standoff": 15
           },
           "zerolinecolor": "white",
           "zerolinewidth": 2
          }
         }
        },
        "title": {
         "text": "Real vs Predicted Values\nMean Error: 8693.07, Std Error: 7886.50"
        },
        "width": 800,
        "xaxis": {
         "anchor": "y",
         "domain": [
          0,
          1
         ],
         "title": {
          "text": "Predicted Values"
         }
        },
        "yaxis": {
         "anchor": "x",
         "domain": [
          0,
          1
         ],
         "title": {
          "text": "Real Values"
         }
        }
       }
      }
     },
     "metadata": {},
     "output_type": "display_data"
    }
   ],
   "source": [
    "plot_error_vs_predicted(oof_preds_lasso, y, ids)"
   ]
  },
  {
   "cell_type": "code",
   "execution_count": 184,
   "id": "fb5f47b9",
   "metadata": {},
   "outputs": [
    {
     "data": {
      "text/html": [
       "<div><style>\n",
       ".dataframe > thead > tr,\n",
       ".dataframe > tbody > tr {\n",
       "  text-align: right;\n",
       "  white-space: pre-wrap;\n",
       "}\n",
       "</style>\n",
       "<small>shape: (5, 5)</small><table border=\"1\" class=\"dataframe\"><thead><tr><th>seed</th><th>rmse</th><th>r2</th><th>std_rmse</th><th>std_r2</th></tr><tr><td>i64</td><td>f64</td><td>f64</td><td>f64</td><td>f64</td></tr></thead><tbody><tr><td>8431</td><td>11642.18</td><td>0.94</td><td>686.54</td><td>0.01</td></tr><tr><td>176</td><td>11592.19</td><td>0.94</td><td>1108.82</td><td>0.01</td></tr><tr><td>3954</td><td>11874.95</td><td>0.93</td><td>1577.38</td><td>0.03</td></tr><tr><td>1946</td><td>11505.63</td><td>0.94</td><td>1239.33</td><td>0.01</td></tr><tr><td>1626</td><td>12071.57</td><td>0.93</td><td>1517.16</td><td>0.02</td></tr></tbody></table></div>"
      ],
      "text/plain": [
       "shape: (5, 5)\n",
       "┌──────┬──────────┬──────┬──────────┬────────┐\n",
       "│ seed ┆ rmse     ┆ r2   ┆ std_rmse ┆ std_r2 │\n",
       "│ ---  ┆ ---      ┆ ---  ┆ ---      ┆ ---    │\n",
       "│ i64  ┆ f64      ┆ f64  ┆ f64      ┆ f64    │\n",
       "╞══════╪══════════╪══════╪══════════╪════════╡\n",
       "│ 8431 ┆ 11642.18 ┆ 0.94 ┆ 686.54   ┆ 0.01   │\n",
       "│ 176  ┆ 11592.19 ┆ 0.94 ┆ 1108.82  ┆ 0.01   │\n",
       "│ 3954 ┆ 11874.95 ┆ 0.93 ┆ 1577.38  ┆ 0.03   │\n",
       "│ 1946 ┆ 11505.63 ┆ 0.94 ┆ 1239.33  ┆ 0.01   │\n",
       "│ 1626 ┆ 12071.57 ┆ 0.93 ┆ 1517.16  ┆ 0.02   │\n",
       "└──────┴──────────┴──────┴──────────┴────────┘"
      ]
     },
     "execution_count": 184,
     "metadata": {},
     "output_type": "execute_result"
    }
   ],
   "source": [
    "lasso_seed_results = evaluate_model_seeds(model_lasso, X, y)\n",
    "lasso_seed_results"
   ]
  },
  {
   "cell_type": "code",
   "execution_count": 185,
   "id": "cc6b6390",
   "metadata": {},
   "outputs": [
    {
     "name": "stdout",
     "output_type": "stream",
     "text": [
      "Fold 1 - RMSE: 14553.44, R2: 0.93\n",
      "Fold 2 - RMSE: 10892.96, R2: 0.94\n",
      "Fold 3 - RMSE: 11919.41, R2: 0.93\n",
      "Fold 4 - RMSE: 11962.83, R2: 0.94\n",
      "Fold 5 - RMSE: 11104.56, R2: 0.94\n",
      "\n",
      "Average RMSE across folds: 12086.64\n",
      "Average R2 across folds: 0.93\n"
     ]
    },
    {
     "data": {
      "text/html": [
       "<div><style>\n",
       ".dataframe > thead > tr,\n",
       ".dataframe > tbody > tr {\n",
       "  text-align: right;\n",
       "  white-space: pre-wrap;\n",
       "}\n",
       "</style>\n",
       "<small>shape: (55, 4)</small><table border=\"1\" class=\"dataframe\"><thead><tr><th>feature</th><th>mean_importance</th><th>std_importance</th><th>mean_importance_pct</th></tr><tr><td>str</td><td>f64</td><td>f64</td><td>f64</td></tr></thead><tbody><tr><td>&quot;cat_ohe__Job_Title_Category_Ex…</td><td>42190.9</td><td>9000.34</td><td>13.9</td></tr><tr><td>&quot;cat_ohe__Job_Title_Category_Co…</td><td>17985.46</td><td>2734.81</td><td>5.9</td></tr><tr><td>&quot;cat_ohe__Job_Title_Category_Di…</td><td>17277.52</td><td>2634.69</td><td>5.7</td></tr><tr><td>&quot;cat_ohe__Job_Title_Category_Ot…</td><td>16967.88</td><td>2063.73</td><td>5.6</td></tr><tr><td>&quot;cat_ohe__Job_Title_Category_An…</td><td>15317.29</td><td>2218.6</td><td>5.0</td></tr><tr><td>&quot;num__YoE_squared&quot;</td><td>15110.77</td><td>4015.4</td><td>5.0</td></tr><tr><td>&quot;cat_ohe__Job_Level_Senior&quot;</td><td>12719.11</td><td>919.87</td><td>4.2</td></tr><tr><td>&quot;num__Age&quot;</td><td>11697.96</td><td>2221.97</td><td>3.9</td></tr><tr><td>&quot;cat_ohe__Job_Level_Junior&quot;</td><td>9671.44</td><td>920.01</td><td>3.2</td></tr><tr><td>&quot;cat_ohe__Years of Experience_1…</td><td>9607.04</td><td>1594.89</td><td>3.2</td></tr><tr><td>&quot;cat_ohe__Job_Title_Category_Ma…</td><td>9197.8</td><td>2179.06</td><td>3.0</td></tr><tr><td>&quot;num__YoE_Age_ratio&quot;</td><td>8764.52</td><td>2105.9</td><td>2.9</td></tr><tr><td>&quot;num__YoE_Age_interaction&quot;</td><td>8720.99</td><td>1765.19</td><td>2.9</td></tr><tr><td>&quot;num__Education_Age_mean&quot;</td><td>6038.79</td><td>946.55</td><td>2.0</td></tr><tr><td>&quot;cat_ohe__Years of Experience_2…</td><td>5594.44</td><td>4323.17</td><td>1.8</td></tr><tr><td>&hellip;</td><td>&hellip;</td><td>&hellip;</td><td>&hellip;</td></tr><tr><td>&quot;cat_ohe__Years of Experience_1…</td><td>1724.14</td><td>458.65</td><td>0.6</td></tr><tr><td>&quot;cat_ohe__Education Level_None&quot;</td><td>1590.63</td><td>712.24</td><td>0.5</td></tr><tr><td>&quot;cat_ohe__Years of Experience_4…</td><td>1501.81</td><td>194.58</td><td>0.5</td></tr><tr><td>&quot;cat_ohe__Years of Experience_1…</td><td>1456.36</td><td>1693.95</td><td>0.5</td></tr><tr><td>&quot;cat_ohe__Education Level_Maste…</td><td>1438.85</td><td>221.09</td><td>0.5</td></tr><tr><td>&quot;cat_ohe__Education Level_PhD&quot;</td><td>1429.96</td><td>266.82</td><td>0.5</td></tr><tr><td>&quot;num__Education_Age_std&quot;</td><td>1412.8</td><td>498.06</td><td>0.5</td></tr><tr><td>&quot;cat_ohe__Years of Experience_6…</td><td>1326.04</td><td>821.42</td><td>0.4</td></tr><tr><td>&quot;cat_ohe__Years of Experience_1…</td><td>1319.71</td><td>646.72</td><td>0.4</td></tr><tr><td>&quot;cat_ohe__Years of Experience_2…</td><td>1124.72</td><td>531.95</td><td>0.4</td></tr><tr><td>&quot;cat_ohe__Age_bin_old&quot;</td><td>1060.88</td><td>859.43</td><td>0.3</td></tr><tr><td>&quot;cat_ohe__Years of Experience_1…</td><td>1011.24</td><td>950.68</td><td>0.3</td></tr><tr><td>&quot;cat_ohe__Years of Experience_7…</td><td>855.46</td><td>597.47</td><td>0.3</td></tr><tr><td>&quot;cat_ohe__Years of Experience_2…</td><td>789.2</td><td>827.79</td><td>0.3</td></tr><tr><td>&quot;cat_ohe__Years of Experience_1…</td><td>647.04</td><td>582.52</td><td>0.2</td></tr></tbody></table></div>"
      ],
      "text/plain": [
       "shape: (55, 4)\n",
       "┌─────────────────────────────────┬─────────────────┬────────────────┬─────────────────────┐\n",
       "│ feature                         ┆ mean_importance ┆ std_importance ┆ mean_importance_pct │\n",
       "│ ---                             ┆ ---             ┆ ---            ┆ ---                 │\n",
       "│ str                             ┆ f64             ┆ f64            ┆ f64                 │\n",
       "╞═════════════════════════════════╪═════════════════╪════════════════╪═════════════════════╡\n",
       "│ cat_ohe__Job_Title_Category_Ex… ┆ 42190.9         ┆ 9000.34        ┆ 13.9                │\n",
       "│ cat_ohe__Job_Title_Category_Co… ┆ 17985.46        ┆ 2734.81        ┆ 5.9                 │\n",
       "│ cat_ohe__Job_Title_Category_Di… ┆ 17277.52        ┆ 2634.69        ┆ 5.7                 │\n",
       "│ cat_ohe__Job_Title_Category_Ot… ┆ 16967.88        ┆ 2063.73        ┆ 5.6                 │\n",
       "│ cat_ohe__Job_Title_Category_An… ┆ 15317.29        ┆ 2218.6         ┆ 5.0                 │\n",
       "│ num__YoE_squared                ┆ 15110.77        ┆ 4015.4         ┆ 5.0                 │\n",
       "│ cat_ohe__Job_Level_Senior       ┆ 12719.11        ┆ 919.87         ┆ 4.2                 │\n",
       "│ num__Age                        ┆ 11697.96        ┆ 2221.97        ┆ 3.9                 │\n",
       "│ cat_ohe__Job_Level_Junior       ┆ 9671.44         ┆ 920.01         ┆ 3.2                 │\n",
       "│ cat_ohe__Years of Experience_1… ┆ 9607.04         ┆ 1594.89        ┆ 3.2                 │\n",
       "│ cat_ohe__Job_Title_Category_Ma… ┆ 9197.8          ┆ 2179.06        ┆ 3.0                 │\n",
       "│ num__YoE_Age_ratio              ┆ 8764.52         ┆ 2105.9         ┆ 2.9                 │\n",
       "│ num__YoE_Age_interaction        ┆ 8720.99         ┆ 1765.19        ┆ 2.9                 │\n",
       "│ num__Education_Age_mean         ┆ 6038.79         ┆ 946.55         ┆ 2.0                 │\n",
       "│ cat_ohe__Years of Experience_2… ┆ 5594.44         ┆ 4323.17        ┆ 1.8                 │\n",
       "│ …                               ┆ …               ┆ …              ┆ …                   │\n",
       "│ cat_ohe__Years of Experience_1… ┆ 1724.14         ┆ 458.65         ┆ 0.6                 │\n",
       "│ cat_ohe__Education Level_None   ┆ 1590.63         ┆ 712.24         ┆ 0.5                 │\n",
       "│ cat_ohe__Years of Experience_4… ┆ 1501.81         ┆ 194.58         ┆ 0.5                 │\n",
       "│ cat_ohe__Years of Experience_1… ┆ 1456.36         ┆ 1693.95        ┆ 0.5                 │\n",
       "│ cat_ohe__Education Level_Maste… ┆ 1438.85         ┆ 221.09         ┆ 0.5                 │\n",
       "│ cat_ohe__Education Level_PhD    ┆ 1429.96         ┆ 266.82         ┆ 0.5                 │\n",
       "│ num__Education_Age_std          ┆ 1412.8          ┆ 498.06         ┆ 0.5                 │\n",
       "│ cat_ohe__Years of Experience_6… ┆ 1326.04         ┆ 821.42         ┆ 0.4                 │\n",
       "│ cat_ohe__Years of Experience_1… ┆ 1319.71         ┆ 646.72         ┆ 0.4                 │\n",
       "│ cat_ohe__Years of Experience_2… ┆ 1124.72         ┆ 531.95         ┆ 0.4                 │\n",
       "│ cat_ohe__Age_bin_old            ┆ 1060.88         ┆ 859.43         ┆ 0.3                 │\n",
       "│ cat_ohe__Years of Experience_1… ┆ 1011.24         ┆ 950.68         ┆ 0.3                 │\n",
       "│ cat_ohe__Years of Experience_7… ┆ 855.46          ┆ 597.47         ┆ 0.3                 │\n",
       "│ cat_ohe__Years of Experience_2… ┆ 789.2           ┆ 827.79         ┆ 0.3                 │\n",
       "│ cat_ohe__Years of Experience_1… ┆ 647.04          ┆ 582.52         ┆ 0.2                 │\n",
       "└─────────────────────────────────┴─────────────────┴────────────────┴─────────────────────┘"
      ]
     },
     "execution_count": 185,
     "metadata": {},
     "output_type": "execute_result"
    }
   ],
   "source": [
    "# ridge regression model\n",
    "model_ridge = Ridge(alpha=1, random_state=SEED)\n",
    "results_ridge, importances_ridge, oof_preds_ridge = cross_validation(model_ridge, X, y)\n",
    "importances_ridge"
   ]
  },
  {
   "cell_type": "code",
   "execution_count": 186,
   "id": "98e70671",
   "metadata": {},
   "outputs": [
    {
     "data": {
      "application/vnd.plotly.v1+json": {
       "config": {
        "plotlyServerURL": "https://plot.ly"
       },
       "data": [
        {
         "customdata": {
          "bdata": "AAABAAIAAwAEAAUABgAHAAgACQAKAAsADAANAA4ADwAQABEAEgATABQAFQAWABcAGAAZABoAGwAcAB0AHgAfACAAIQAiACMAJAAlACYAJwAoACkAKgArACwALQAuAC8AMAAxADIAMwA0ADUANgA3ADgAOQA6ADsAPAA9AD4APwBAAEEAQgBDAEQARQBGAEcASABJAEoASwBMAE0ATgBPAFAAUQBSAFMAVABVAFYAVwBYAFkAWgBbAFwAXQBeAF8AYABhAGIAYwBkAGUAZgBnAGgAaQBqAGsAbABtAG4AbwBwAHEAcgBzAHQAdQB2AHcAeAB5AHoAewB8AH0AfgB/AIAAgQCCAIMAhACFAIYAhwCIAIkAigCLAIwAjQCOAI8AkACRAJIAkwCUAJUAlgCXAJgAmQCaAJsAnACdAJ4AnwCgAKEAogCjAKQApQCmAKcAqACpAKoAqwCtAK4ArwCwALEAsgCzALQAtQC2ALcAuAC5ALoAuwC8AL0AvgC/AMAAwQDCAMMAxADFAMYAxwDIAMkAygDLAMwAzQDOAM8A0ADRANIA0wDUANUA1gDXANgA2QDaANsA3ADdAN4A3wDgAOEA4gDjAOQA5QDmAOcA6ADpAOoA6wDsAO0A7gDvAPAA8QDyAPMA9AD1APYA9wD4APkA+gD7APwA/QD+AP8AAAEBAQIBBQEGAQcBCAEJAQoBCwEMAQ0BDgEPARABEQESARMBFAEVARYBFwEYARkBGgEbARwBHQEeAR8BIAEhASIBIwEkASUBJgEnASgBKQEqASsBLAEtAS4BLwEwATEBMgEzATQBNQE2ATcBOAE5AToBOwE8AT0BPgE/AUABQQFCAUMBRAFFAUYBRwFIAUkBSgFLAUwBTQFOAU8BUAFRAVIBUwFUAVUBVgFXAVgBWQFaAVsBXAFdAV4BXwFgAWEBYgFjAWQBZQFmAWcBaAFpAWoBawFsAW0BbgFvAXABcQFyAXMBdAF1AXYB",
          "dtype": "i2",
          "shape": "372, 1"
         },
         "hovertemplate": "Predicted Values=%{x}<br>Real Values=%{y}<br>id=%{customdata[0]}<extra></extra>",
         "legendgroup": "",
         "marker": {
          "color": "#636efa",
          "symbol": "circle"
         },
         "mode": "markers",
         "name": "",
         "orientation": "v",
         "showlegend": false,
         "type": "scatter",
         "x": {
          "bdata": "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",
          "dtype": "f8"
         },
         "xaxis": "x",
         "y": {
          "bdata": "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",
          "dtype": "f8"
         },
         "yaxis": "y"
        }
       ],
       "layout": {
        "height": 800,
        "legend": {
         "title": {
          "text": ""
         },
         "tracegroupgap": 0
        },
        "shapes": [
         {
          "line": {
           "color": "red",
           "dash": "dash"
          },
          "type": "line",
          "x0": 24490.273238810885,
          "x1": 234466.81171343592,
          "y0": 24490.273238810885,
          "y1": 250000
         }
        ],
        "showlegend": false,
        "template": {
         "data": {
          "bar": [
           {
            "error_x": {
             "color": "#2a3f5f"
            },
            "error_y": {
             "color": "#2a3f5f"
            },
            "marker": {
             "line": {
              "color": "#E5ECF6",
              "width": 0.5
             },
             "pattern": {
              "fillmode": "overlay",
              "size": 10,
              "solidity": 0.2
             }
            },
            "type": "bar"
           }
          ],
          "barpolar": [
           {
            "marker": {
             "line": {
              "color": "#E5ECF6",
              "width": 0.5
             },
             "pattern": {
              "fillmode": "overlay",
              "size": 10,
              "solidity": 0.2
             }
            },
            "type": "barpolar"
           }
          ],
          "carpet": [
           {
            "aaxis": {
             "endlinecolor": "#2a3f5f",
             "gridcolor": "white",
             "linecolor": "white",
             "minorgridcolor": "white",
             "startlinecolor": "#2a3f5f"
            },
            "baxis": {
             "endlinecolor": "#2a3f5f",
             "gridcolor": "white",
             "linecolor": "white",
             "minorgridcolor": "white",
             "startlinecolor": "#2a3f5f"
            },
            "type": "carpet"
           }
          ],
          "choropleth": [
           {
            "colorbar": {
             "outlinewidth": 0,
             "ticks": ""
            },
            "type": "choropleth"
           }
          ],
          "contour": [
           {
            "colorbar": {
             "outlinewidth": 0,
             "ticks": ""
            },
            "colorscale": [
             [
              0,
              "#0d0887"
             ],
             [
              0.1111111111111111,
              "#46039f"
             ],
             [
              0.2222222222222222,
              "#7201a8"
             ],
             [
              0.3333333333333333,
              "#9c179e"
             ],
             [
              0.4444444444444444,
              "#bd3786"
             ],
             [
              0.5555555555555556,
              "#d8576b"
             ],
             [
              0.6666666666666666,
              "#ed7953"
             ],
             [
              0.7777777777777778,
              "#fb9f3a"
             ],
             [
              0.8888888888888888,
              "#fdca26"
             ],
             [
              1,
              "#f0f921"
             ]
            ],
            "type": "contour"
           }
          ],
          "contourcarpet": [
           {
            "colorbar": {
             "outlinewidth": 0,
             "ticks": ""
            },
            "type": "contourcarpet"
           }
          ],
          "heatmap": [
           {
            "colorbar": {
             "outlinewidth": 0,
             "ticks": ""
            },
            "colorscale": [
             [
              0,
              "#0d0887"
             ],
             [
              0.1111111111111111,
              "#46039f"
             ],
             [
              0.2222222222222222,
              "#7201a8"
             ],
             [
              0.3333333333333333,
              "#9c179e"
             ],
             [
              0.4444444444444444,
              "#bd3786"
             ],
             [
              0.5555555555555556,
              "#d8576b"
             ],
             [
              0.6666666666666666,
              "#ed7953"
             ],
             [
              0.7777777777777778,
              "#fb9f3a"
             ],
             [
              0.8888888888888888,
              "#fdca26"
             ],
             [
              1,
              "#f0f921"
             ]
            ],
            "type": "heatmap"
           }
          ],
          "histogram": [
           {
            "marker": {
             "pattern": {
              "fillmode": "overlay",
              "size": 10,
              "solidity": 0.2
             }
            },
            "type": "histogram"
           }
          ],
          "histogram2d": [
           {
            "colorbar": {
             "outlinewidth": 0,
             "ticks": ""
            },
            "colorscale": [
             [
              0,
              "#0d0887"
             ],
             [
              0.1111111111111111,
              "#46039f"
             ],
             [
              0.2222222222222222,
              "#7201a8"
             ],
             [
              0.3333333333333333,
              "#9c179e"
             ],
             [
              0.4444444444444444,
              "#bd3786"
             ],
             [
              0.5555555555555556,
              "#d8576b"
             ],
             [
              0.6666666666666666,
              "#ed7953"
             ],
             [
              0.7777777777777778,
              "#fb9f3a"
             ],
             [
              0.8888888888888888,
              "#fdca26"
             ],
             [
              1,
              "#f0f921"
             ]
            ],
            "type": "histogram2d"
           }
          ],
          "histogram2dcontour": [
           {
            "colorbar": {
             "outlinewidth": 0,
             "ticks": ""
            },
            "colorscale": [
             [
              0,
              "#0d0887"
             ],
             [
              0.1111111111111111,
              "#46039f"
             ],
             [
              0.2222222222222222,
              "#7201a8"
             ],
             [
              0.3333333333333333,
              "#9c179e"
             ],
             [
              0.4444444444444444,
              "#bd3786"
             ],
             [
              0.5555555555555556,
              "#d8576b"
             ],
             [
              0.6666666666666666,
              "#ed7953"
             ],
             [
              0.7777777777777778,
              "#fb9f3a"
             ],
             [
              0.8888888888888888,
              "#fdca26"
             ],
             [
              1,
              "#f0f921"
             ]
            ],
            "type": "histogram2dcontour"
           }
          ],
          "mesh3d": [
           {
            "colorbar": {
             "outlinewidth": 0,
             "ticks": ""
            },
            "type": "mesh3d"
           }
          ],
          "parcoords": [
           {
            "line": {
             "colorbar": {
              "outlinewidth": 0,
              "ticks": ""
             }
            },
            "type": "parcoords"
           }
          ],
          "pie": [
           {
            "automargin": true,
            "type": "pie"
           }
          ],
          "scatter": [
           {
            "fillpattern": {
             "fillmode": "overlay",
             "size": 10,
             "solidity": 0.2
            },
            "type": "scatter"
           }
          ],
          "scatter3d": [
           {
            "line": {
             "colorbar": {
              "outlinewidth": 0,
              "ticks": ""
             }
            },
            "marker": {
             "colorbar": {
              "outlinewidth": 0,
              "ticks": ""
             }
            },
            "type": "scatter3d"
           }
          ],
          "scattercarpet": [
           {
            "marker": {
             "colorbar": {
              "outlinewidth": 0,
              "ticks": ""
             }
            },
            "type": "scattercarpet"
           }
          ],
          "scattergeo": [
           {
            "marker": {
             "colorbar": {
              "outlinewidth": 0,
              "ticks": ""
             }
            },
            "type": "scattergeo"
           }
          ],
          "scattergl": [
           {
            "marker": {
             "colorbar": {
              "outlinewidth": 0,
              "ticks": ""
             }
            },
            "type": "scattergl"
           }
          ],
          "scattermap": [
           {
            "marker": {
             "colorbar": {
              "outlinewidth": 0,
              "ticks": ""
             }
            },
            "type": "scattermap"
           }
          ],
          "scattermapbox": [
           {
            "marker": {
             "colorbar": {
              "outlinewidth": 0,
              "ticks": ""
             }
            },
            "type": "scattermapbox"
           }
          ],
          "scatterpolar": [
           {
            "marker": {
             "colorbar": {
              "outlinewidth": 0,
              "ticks": ""
             }
            },
            "type": "scatterpolar"
           }
          ],
          "scatterpolargl": [
           {
            "marker": {
             "colorbar": {
              "outlinewidth": 0,
              "ticks": ""
             }
            },
            "type": "scatterpolargl"
           }
          ],
          "scatterternary": [
           {
            "marker": {
             "colorbar": {
              "outlinewidth": 0,
              "ticks": ""
             }
            },
            "type": "scatterternary"
           }
          ],
          "surface": [
           {
            "colorbar": {
             "outlinewidth": 0,
             "ticks": ""
            },
            "colorscale": [
             [
              0,
              "#0d0887"
             ],
             [
              0.1111111111111111,
              "#46039f"
             ],
             [
              0.2222222222222222,
              "#7201a8"
             ],
             [
              0.3333333333333333,
              "#9c179e"
             ],
             [
              0.4444444444444444,
              "#bd3786"
             ],
             [
              0.5555555555555556,
              "#d8576b"
             ],
             [
              0.6666666666666666,
              "#ed7953"
             ],
             [
              0.7777777777777778,
              "#fb9f3a"
             ],
             [
              0.8888888888888888,
              "#fdca26"
             ],
             [
              1,
              "#f0f921"
             ]
            ],
            "type": "surface"
           }
          ],
          "table": [
           {
            "cells": {
             "fill": {
              "color": "#EBF0F8"
             },
             "line": {
              "color": "white"
             }
            },
            "header": {
             "fill": {
              "color": "#C8D4E3"
             },
             "line": {
              "color": "white"
             }
            },
            "type": "table"
           }
          ]
         },
         "layout": {
          "annotationdefaults": {
           "arrowcolor": "#2a3f5f",
           "arrowhead": 0,
           "arrowwidth": 1
          },
          "autotypenumbers": "strict",
          "coloraxis": {
           "colorbar": {
            "outlinewidth": 0,
            "ticks": ""
           }
          },
          "colorscale": {
           "diverging": [
            [
             0,
             "#8e0152"
            ],
            [
             0.1,
             "#c51b7d"
            ],
            [
             0.2,
             "#de77ae"
            ],
            [
             0.3,
             "#f1b6da"
            ],
            [
             0.4,
             "#fde0ef"
            ],
            [
             0.5,
             "#f7f7f7"
            ],
            [
             0.6,
             "#e6f5d0"
            ],
            [
             0.7,
             "#b8e186"
            ],
            [
             0.8,
             "#7fbc41"
            ],
            [
             0.9,
             "#4d9221"
            ],
            [
             1,
             "#276419"
            ]
           ],
           "sequential": [
            [
             0,
             "#0d0887"
            ],
            [
             0.1111111111111111,
             "#46039f"
            ],
            [
             0.2222222222222222,
             "#7201a8"
            ],
            [
             0.3333333333333333,
             "#9c179e"
            ],
            [
             0.4444444444444444,
             "#bd3786"
            ],
            [
             0.5555555555555556,
             "#d8576b"
            ],
            [
             0.6666666666666666,
             "#ed7953"
            ],
            [
             0.7777777777777778,
             "#fb9f3a"
            ],
            [
             0.8888888888888888,
             "#fdca26"
            ],
            [
             1,
             "#f0f921"
            ]
           ],
           "sequentialminus": [
            [
             0,
             "#0d0887"
            ],
            [
             0.1111111111111111,
             "#46039f"
            ],
            [
             0.2222222222222222,
             "#7201a8"
            ],
            [
             0.3333333333333333,
             "#9c179e"
            ],
            [
             0.4444444444444444,
             "#bd3786"
            ],
            [
             0.5555555555555556,
             "#d8576b"
            ],
            [
             0.6666666666666666,
             "#ed7953"
            ],
            [
             0.7777777777777778,
             "#fb9f3a"
            ],
            [
             0.8888888888888888,
             "#fdca26"
            ],
            [
             1,
             "#f0f921"
            ]
           ]
          },
          "colorway": [
           "#636efa",
           "#EF553B",
           "#00cc96",
           "#ab63fa",
           "#FFA15A",
           "#19d3f3",
           "#FF6692",
           "#B6E880",
           "#FF97FF",
           "#FECB52"
          ],
          "font": {
           "color": "#2a3f5f"
          },
          "geo": {
           "bgcolor": "white",
           "lakecolor": "white",
           "landcolor": "#E5ECF6",
           "showlakes": true,
           "showland": true,
           "subunitcolor": "white"
          },
          "hoverlabel": {
           "align": "left"
          },
          "hovermode": "closest",
          "mapbox": {
           "style": "light"
          },
          "paper_bgcolor": "white",
          "plot_bgcolor": "#E5ECF6",
          "polar": {
           "angularaxis": {
            "gridcolor": "white",
            "linecolor": "white",
            "ticks": ""
           },
           "bgcolor": "#E5ECF6",
           "radialaxis": {
            "gridcolor": "white",
            "linecolor": "white",
            "ticks": ""
           }
          },
          "scene": {
           "xaxis": {
            "backgroundcolor": "#E5ECF6",
            "gridcolor": "white",
            "gridwidth": 2,
            "linecolor": "white",
            "showbackground": true,
            "ticks": "",
            "zerolinecolor": "white"
           },
           "yaxis": {
            "backgroundcolor": "#E5ECF6",
            "gridcolor": "white",
            "gridwidth": 2,
            "linecolor": "white",
            "showbackground": true,
            "ticks": "",
            "zerolinecolor": "white"
           },
           "zaxis": {
            "backgroundcolor": "#E5ECF6",
            "gridcolor": "white",
            "gridwidth": 2,
            "linecolor": "white",
            "showbackground": true,
            "ticks": "",
            "zerolinecolor": "white"
           }
          },
          "shapedefaults": {
           "line": {
            "color": "#2a3f5f"
           }
          },
          "ternary": {
           "aaxis": {
            "gridcolor": "white",
            "linecolor": "white",
            "ticks": ""
           },
           "baxis": {
            "gridcolor": "white",
            "linecolor": "white",
            "ticks": ""
           },
           "bgcolor": "#E5ECF6",
           "caxis": {
            "gridcolor": "white",
            "linecolor": "white",
            "ticks": ""
           }
          },
          "title": {
           "x": 0.05
          },
          "xaxis": {
           "automargin": true,
           "gridcolor": "white",
           "linecolor": "white",
           "ticks": "",
           "title": {
            "standoff": 15
           },
           "zerolinecolor": "white",
           "zerolinewidth": 2
          },
          "yaxis": {
           "automargin": true,
           "gridcolor": "white",
           "linecolor": "white",
           "ticks": "",
           "title": {
            "standoff": 15
           },
           "zerolinecolor": "white",
           "zerolinewidth": 2
          }
         }
        },
        "title": {
         "text": "Real vs Predicted Values\nMean Error: 8930.19, Std Error: 8265.56"
        },
        "width": 800,
        "xaxis": {
         "anchor": "y",
         "domain": [
          0,
          1
         ],
         "title": {
          "text": "Predicted Values"
         }
        },
        "yaxis": {
         "anchor": "x",
         "domain": [
          0,
          1
         ],
         "title": {
          "text": "Real Values"
         }
        }
       }
      }
     },
     "metadata": {},
     "output_type": "display_data"
    }
   ],
   "source": [
    "plot_error_vs_predicted(oof_preds_ridge, y, ids)"
   ]
  },
  {
   "cell_type": "code",
   "execution_count": 187,
   "id": "88856ab8",
   "metadata": {},
   "outputs": [
    {
     "data": {
      "text/html": [
       "<div><style>\n",
       ".dataframe > thead > tr,\n",
       ".dataframe > tbody > tr {\n",
       "  text-align: right;\n",
       "  white-space: pre-wrap;\n",
       "}\n",
       "</style>\n",
       "<small>shape: (5, 5)</small><table border=\"1\" class=\"dataframe\"><thead><tr><th>seed</th><th>rmse</th><th>r2</th><th>std_rmse</th><th>std_r2</th></tr><tr><td>i64</td><td>f64</td><td>f64</td><td>f64</td><td>f64</td></tr></thead><tbody><tr><td>8431</td><td>11893.54</td><td>0.94</td><td>868.49</td><td>0.01</td></tr><tr><td>176</td><td>11835.19</td><td>0.94</td><td>1351.58</td><td>0.01</td></tr><tr><td>3954</td><td>11910.56</td><td>0.93</td><td>1556.89</td><td>0.02</td></tr><tr><td>1946</td><td>11666.79</td><td>0.94</td><td>1503.59</td><td>0.01</td></tr><tr><td>1626</td><td>12257.09</td><td>0.93</td><td>1823.43</td><td>0.02</td></tr></tbody></table></div>"
      ],
      "text/plain": [
       "shape: (5, 5)\n",
       "┌──────┬──────────┬──────┬──────────┬────────┐\n",
       "│ seed ┆ rmse     ┆ r2   ┆ std_rmse ┆ std_r2 │\n",
       "│ ---  ┆ ---      ┆ ---  ┆ ---      ┆ ---    │\n",
       "│ i64  ┆ f64      ┆ f64  ┆ f64      ┆ f64    │\n",
       "╞══════╪══════════╪══════╪══════════╪════════╡\n",
       "│ 8431 ┆ 11893.54 ┆ 0.94 ┆ 868.49   ┆ 0.01   │\n",
       "│ 176  ┆ 11835.19 ┆ 0.94 ┆ 1351.58  ┆ 0.01   │\n",
       "│ 3954 ┆ 11910.56 ┆ 0.93 ┆ 1556.89  ┆ 0.02   │\n",
       "│ 1946 ┆ 11666.79 ┆ 0.94 ┆ 1503.59  ┆ 0.01   │\n",
       "│ 1626 ┆ 12257.09 ┆ 0.93 ┆ 1823.43  ┆ 0.02   │\n",
       "└──────┴──────────┴──────┴──────────┴────────┘"
      ]
     },
     "execution_count": 187,
     "metadata": {},
     "output_type": "execute_result"
    }
   ],
   "source": [
    "ridge_seed_results = evaluate_model_seeds(model_ridge, X, y)\n",
    "ridge_seed_results"
   ]
  },
  {
   "cell_type": "code",
   "execution_count": 188,
   "id": "50b54a96",
   "metadata": {
    "colab": {
     "base_uri": "https://localhost:8080/"
    },
    "executionInfo": {
     "elapsed": 898,
     "status": "ok",
     "timestamp": 1749481289693,
     "user": {
      "displayName": "Gerard Seward",
      "userId": "08585387988591404566"
     },
     "user_tz": 180
    },
    "id": "50b54a96",
    "outputId": "09d12deb-7db9-4837-b7e3-ba835e64eeca"
   },
   "outputs": [
    {
     "name": "stdout",
     "output_type": "stream",
     "text": [
      "Fold 1 - RMSE: 14540.06, R2: 0.93\n",
      "Fold 2 - RMSE: 9562.80, R2: 0.95\n",
      "Fold 3 - RMSE: 8946.17, R2: 0.96\n",
      "Fold 4 - RMSE: 13025.30, R2: 0.93\n",
      "Fold 5 - RMSE: 10089.77, R2: 0.95\n",
      "\n",
      "Average RMSE across folds: 11232.82\n",
      "Average R2 across folds: 0.94\n"
     ]
    },
    {
     "data": {
      "text/html": [
       "<div><style>\n",
       ".dataframe > thead > tr,\n",
       ".dataframe > tbody > tr {\n",
       "  text-align: right;\n",
       "  white-space: pre-wrap;\n",
       "}\n",
       "</style>\n",
       "<small>shape: (55, 4)</small><table border=\"1\" class=\"dataframe\"><thead><tr><th>feature</th><th>mean_importance</th><th>std_importance</th><th>mean_importance_pct</th></tr><tr><td>str</td><td>f64</td><td>f64</td><td>f64</td></tr></thead><tbody><tr><td>&quot;num__Age&quot;</td><td>0.31</td><td>0.13</td><td>31.4</td></tr><tr><td>&quot;num__YoE_Age_interaction&quot;</td><td>0.31</td><td>0.04</td><td>31.6</td></tr><tr><td>&quot;num__YoE_squared&quot;</td><td>0.18</td><td>0.09</td><td>18.6</td></tr><tr><td>&quot;num__YoE_Age_ratio&quot;</td><td>0.09</td><td>0.05</td><td>9.2</td></tr><tr><td>&quot;cat_ohe__Job_Level_Senior&quot;</td><td>0.03</td><td>0.01</td><td>3.1</td></tr><tr><td>&quot;cat_ohe__Job_Title_Category_Di…</td><td>0.02</td><td>0.01</td><td>1.6</td></tr><tr><td>&quot;cat_ohe__Job_Title_Category_Ex…</td><td>0.01</td><td>0.01</td><td>1.4</td></tr><tr><td>&quot;num__Education_Age_mean&quot;</td><td>0.01</td><td>0.01</td><td>1.4</td></tr><tr><td>&quot;cat_ohe__Education Level_Bache…</td><td>0.01</td><td>0.01</td><td>0.6</td></tr><tr><td>&quot;cat_ohe__Job_Title_Category_Ma…</td><td>0.01</td><td>0.0</td><td>0.8</td></tr><tr><td>&quot;num__Education_Age_std&quot;</td><td>0.0</td><td>0.0</td><td>0.0</td></tr><tr><td>&quot;cat_ohe__Job_Level_Other&quot;</td><td>0.0</td><td>0.0</td><td>0.2</td></tr><tr><td>&quot;cat_ohe__Job_Title_Category_An…</td><td>0.0</td><td>0.0</td><td>0.0</td></tr><tr><td>&quot;cat_ohe__Education Level_PhD&quot;</td><td>0.0</td><td>0.0</td><td>0.0</td></tr><tr><td>&quot;cat_ohe__Gender_Male&quot;</td><td>0.0</td><td>0.0</td><td>0.0</td></tr><tr><td>&hellip;</td><td>&hellip;</td><td>&hellip;</td><td>&hellip;</td></tr><tr><td>&quot;cat_ohe__Years of Experience_2…</td><td>0.0</td><td>0.0</td><td>0.0</td></tr><tr><td>&quot;cat_ohe__Gender_None&quot;</td><td>0.0</td><td>0.0</td><td>0.0</td></tr><tr><td>&quot;cat_ohe__Years of Experience_5…</td><td>0.0</td><td>0.0</td><td>0.0</td></tr><tr><td>&quot;cat_ohe__Years of Experience_2…</td><td>0.0</td><td>0.0</td><td>0.0</td></tr><tr><td>&quot;cat_ohe__Years of Experience_2…</td><td>0.0</td><td>0.0</td><td>0.0</td></tr><tr><td>&quot;cat_ohe__Experience_bin_mid&quot;</td><td>0.0</td><td>0.0</td><td>0.0</td></tr><tr><td>&quot;cat_ohe__Years of Experience_6…</td><td>0.0</td><td>0.0</td><td>0.0</td></tr><tr><td>&quot;cat_ohe__Age_bin_None&quot;</td><td>0.0</td><td>0.0</td><td>0.0</td></tr><tr><td>&quot;cat_ohe__Years of Experience_2…</td><td>0.0</td><td>0.0</td><td>0.0</td></tr><tr><td>&quot;cat_ohe__Age_bin_young&quot;</td><td>0.0</td><td>0.0</td><td>0.0</td></tr><tr><td>&quot;cat_ohe__Years of Experience_0…</td><td>0.0</td><td>0.0</td><td>0.0</td></tr><tr><td>&quot;cat_ohe__Experience_bin_junior&quot;</td><td>0.0</td><td>0.0</td><td>0.0</td></tr><tr><td>&quot;cat_ohe__Years of Experience_1…</td><td>0.0</td><td>0.0</td><td>0.0</td></tr><tr><td>&quot;cat_ohe__Years of Experience_1…</td><td>0.0</td><td>0.0</td><td>0.0</td></tr><tr><td>&quot;cat_ohe__Education Level_None&quot;</td><td>0.0</td><td>0.0</td><td>0.0</td></tr></tbody></table></div>"
      ],
      "text/plain": [
       "shape: (55, 4)\n",
       "┌─────────────────────────────────┬─────────────────┬────────────────┬─────────────────────┐\n",
       "│ feature                         ┆ mean_importance ┆ std_importance ┆ mean_importance_pct │\n",
       "│ ---                             ┆ ---             ┆ ---            ┆ ---                 │\n",
       "│ str                             ┆ f64             ┆ f64            ┆ f64                 │\n",
       "╞═════════════════════════════════╪═════════════════╪════════════════╪═════════════════════╡\n",
       "│ num__Age                        ┆ 0.31            ┆ 0.13           ┆ 31.4                │\n",
       "│ num__YoE_Age_interaction        ┆ 0.31            ┆ 0.04           ┆ 31.6                │\n",
       "│ num__YoE_squared                ┆ 0.18            ┆ 0.09           ┆ 18.6                │\n",
       "│ num__YoE_Age_ratio              ┆ 0.09            ┆ 0.05           ┆ 9.2                 │\n",
       "│ cat_ohe__Job_Level_Senior       ┆ 0.03            ┆ 0.01           ┆ 3.1                 │\n",
       "│ cat_ohe__Job_Title_Category_Di… ┆ 0.02            ┆ 0.01           ┆ 1.6                 │\n",
       "│ cat_ohe__Job_Title_Category_Ex… ┆ 0.01            ┆ 0.01           ┆ 1.4                 │\n",
       "│ num__Education_Age_mean         ┆ 0.01            ┆ 0.01           ┆ 1.4                 │\n",
       "│ cat_ohe__Education Level_Bache… ┆ 0.01            ┆ 0.01           ┆ 0.6                 │\n",
       "│ cat_ohe__Job_Title_Category_Ma… ┆ 0.01            ┆ 0.0            ┆ 0.8                 │\n",
       "│ num__Education_Age_std          ┆ 0.0             ┆ 0.0            ┆ 0.0                 │\n",
       "│ cat_ohe__Job_Level_Other        ┆ 0.0             ┆ 0.0            ┆ 0.2                 │\n",
       "│ cat_ohe__Job_Title_Category_An… ┆ 0.0             ┆ 0.0            ┆ 0.0                 │\n",
       "│ cat_ohe__Education Level_PhD    ┆ 0.0             ┆ 0.0            ┆ 0.0                 │\n",
       "│ cat_ohe__Gender_Male            ┆ 0.0             ┆ 0.0            ┆ 0.0                 │\n",
       "│ …                               ┆ …               ┆ …              ┆ …                   │\n",
       "│ cat_ohe__Years of Experience_2… ┆ 0.0             ┆ 0.0            ┆ 0.0                 │\n",
       "│ cat_ohe__Gender_None            ┆ 0.0             ┆ 0.0            ┆ 0.0                 │\n",
       "│ cat_ohe__Years of Experience_5… ┆ 0.0             ┆ 0.0            ┆ 0.0                 │\n",
       "│ cat_ohe__Years of Experience_2… ┆ 0.0             ┆ 0.0            ┆ 0.0                 │\n",
       "│ cat_ohe__Years of Experience_2… ┆ 0.0             ┆ 0.0            ┆ 0.0                 │\n",
       "│ cat_ohe__Experience_bin_mid     ┆ 0.0             ┆ 0.0            ┆ 0.0                 │\n",
       "│ cat_ohe__Years of Experience_6… ┆ 0.0             ┆ 0.0            ┆ 0.0                 │\n",
       "│ cat_ohe__Age_bin_None           ┆ 0.0             ┆ 0.0            ┆ 0.0                 │\n",
       "│ cat_ohe__Years of Experience_2… ┆ 0.0             ┆ 0.0            ┆ 0.0                 │\n",
       "│ cat_ohe__Age_bin_young          ┆ 0.0             ┆ 0.0            ┆ 0.0                 │\n",
       "│ cat_ohe__Years of Experience_0… ┆ 0.0             ┆ 0.0            ┆ 0.0                 │\n",
       "│ cat_ohe__Experience_bin_junior  ┆ 0.0             ┆ 0.0            ┆ 0.0                 │\n",
       "│ cat_ohe__Years of Experience_1… ┆ 0.0             ┆ 0.0            ┆ 0.0                 │\n",
       "│ cat_ohe__Years of Experience_1… ┆ 0.0             ┆ 0.0            ┆ 0.0                 │\n",
       "│ cat_ohe__Education Level_None   ┆ 0.0             ┆ 0.0            ┆ 0.0                 │\n",
       "└─────────────────────────────────┴─────────────────┴────────────────┴─────────────────────┘"
      ]
     },
     "execution_count": 188,
     "metadata": {},
     "output_type": "execute_result"
    }
   ],
   "source": [
    "rfr = RandomForestRegressor(random_state=SEED)\n",
    "results_rf, importances_rf, oof_preds_rf = cross_validation(rfr, X, y)\n",
    "importances_rf"
   ]
  },
  {
   "cell_type": "code",
   "execution_count": 189,
   "id": "49fcbc8b",
   "metadata": {},
   "outputs": [
    {
     "data": {
      "application/vnd.plotly.v1+json": {
       "config": {
        "plotlyServerURL": "https://plot.ly"
       },
       "data": [
        {
         "customdata": {
          "bdata": "AAABAAIAAwAEAAUABgAHAAgACQAKAAsADAANAA4ADwAQABEAEgATABQAFQAWABcAGAAZABoAGwAcAB0AHgAfACAAIQAiACMAJAAlACYAJwAoACkAKgArACwALQAuAC8AMAAxADIAMwA0ADUANgA3ADgAOQA6ADsAPAA9AD4APwBAAEEAQgBDAEQARQBGAEcASABJAEoASwBMAE0ATgBPAFAAUQBSAFMAVABVAFYAVwBYAFkAWgBbAFwAXQBeAF8AYABhAGIAYwBkAGUAZgBnAGgAaQBqAGsAbABtAG4AbwBwAHEAcgBzAHQAdQB2AHcAeAB5AHoAewB8AH0AfgB/AIAAgQCCAIMAhACFAIYAhwCIAIkAigCLAIwAjQCOAI8AkACRAJIAkwCUAJUAlgCXAJgAmQCaAJsAnACdAJ4AnwCgAKEAogCjAKQApQCmAKcAqACpAKoAqwCtAK4ArwCwALEAsgCzALQAtQC2ALcAuAC5ALoAuwC8AL0AvgC/AMAAwQDCAMMAxADFAMYAxwDIAMkAygDLAMwAzQDOAM8A0ADRANIA0wDUANUA1gDXANgA2QDaANsA3ADdAN4A3wDgAOEA4gDjAOQA5QDmAOcA6ADpAOoA6wDsAO0A7gDvAPAA8QDyAPMA9AD1APYA9wD4APkA+gD7APwA/QD+AP8AAAEBAQIBBQEGAQcBCAEJAQoBCwEMAQ0BDgEPARABEQESARMBFAEVARYBFwEYARkBGgEbARwBHQEeAR8BIAEhASIBIwEkASUBJgEnASgBKQEqASsBLAEtAS4BLwEwATEBMgEzATQBNQE2ATcBOAE5AToBOwE8AT0BPgE/AUABQQFCAUMBRAFFAUYBRwFIAUkBSgFLAUwBTQFOAU8BUAFRAVIBUwFUAVUBVgFXAVgBWQFaAVsBXAFdAV4BXwFgAWEBYgFjAWQBZQFmAWcBaAFpAWoBawFsAW0BbgFvAXABcQFyAXMBdAF1AXYB",
          "dtype": "i2",
          "shape": "372, 1"
         },
         "hovertemplate": "Predicted Values=%{x}<br>Real Values=%{y}<br>id=%{customdata[0]}<extra></extra>",
         "legendgroup": "",
         "marker": {
          "color": "#636efa",
          "symbol": "circle"
         },
         "mode": "markers",
         "name": "",
         "orientation": "v",
         "showlegend": false,
         "type": "scatter",
         "x": {
          "bdata": "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",
          "dtype": "f8"
         },
         "xaxis": "x",
         "y": {
          "bdata": "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",
          "dtype": "f8"
         },
         "yaxis": "y"
        }
       ],
       "layout": {
        "height": 800,
        "legend": {
         "title": {
          "text": ""
         },
         "tracegroupgap": 0
        },
        "shapes": [
         {
          "line": {
           "color": "red",
           "dash": "dash"
          },
          "type": "line",
          "x0": 33125,
          "x1": 206748.3333333333,
          "y0": 33125,
          "y1": 250000
         }
        ],
        "showlegend": false,
        "template": {
         "data": {
          "bar": [
           {
            "error_x": {
             "color": "#2a3f5f"
            },
            "error_y": {
             "color": "#2a3f5f"
            },
            "marker": {
             "line": {
              "color": "#E5ECF6",
              "width": 0.5
             },
             "pattern": {
              "fillmode": "overlay",
              "size": 10,
              "solidity": 0.2
             }
            },
            "type": "bar"
           }
          ],
          "barpolar": [
           {
            "marker": {
             "line": {
              "color": "#E5ECF6",
              "width": 0.5
             },
             "pattern": {
              "fillmode": "overlay",
              "size": 10,
              "solidity": 0.2
             }
            },
            "type": "barpolar"
           }
          ],
          "carpet": [
           {
            "aaxis": {
             "endlinecolor": "#2a3f5f",
             "gridcolor": "white",
             "linecolor": "white",
             "minorgridcolor": "white",
             "startlinecolor": "#2a3f5f"
            },
            "baxis": {
             "endlinecolor": "#2a3f5f",
             "gridcolor": "white",
             "linecolor": "white",
             "minorgridcolor": "white",
             "startlinecolor": "#2a3f5f"
            },
            "type": "carpet"
           }
          ],
          "choropleth": [
           {
            "colorbar": {
             "outlinewidth": 0,
             "ticks": ""
            },
            "type": "choropleth"
           }
          ],
          "contour": [
           {
            "colorbar": {
             "outlinewidth": 0,
             "ticks": ""
            },
            "colorscale": [
             [
              0,
              "#0d0887"
             ],
             [
              0.1111111111111111,
              "#46039f"
             ],
             [
              0.2222222222222222,
              "#7201a8"
             ],
             [
              0.3333333333333333,
              "#9c179e"
             ],
             [
              0.4444444444444444,
              "#bd3786"
             ],
             [
              0.5555555555555556,
              "#d8576b"
             ],
             [
              0.6666666666666666,
              "#ed7953"
             ],
             [
              0.7777777777777778,
              "#fb9f3a"
             ],
             [
              0.8888888888888888,
              "#fdca26"
             ],
             [
              1,
              "#f0f921"
             ]
            ],
            "type": "contour"
           }
          ],
          "contourcarpet": [
           {
            "colorbar": {
             "outlinewidth": 0,
             "ticks": ""
            },
            "type": "contourcarpet"
           }
          ],
          "heatmap": [
           {
            "colorbar": {
             "outlinewidth": 0,
             "ticks": ""
            },
            "colorscale": [
             [
              0,
              "#0d0887"
             ],
             [
              0.1111111111111111,
              "#46039f"
             ],
             [
              0.2222222222222222,
              "#7201a8"
             ],
             [
              0.3333333333333333,
              "#9c179e"
             ],
             [
              0.4444444444444444,
              "#bd3786"
             ],
             [
              0.5555555555555556,
              "#d8576b"
             ],
             [
              0.6666666666666666,
              "#ed7953"
             ],
             [
              0.7777777777777778,
              "#fb9f3a"
             ],
             [
              0.8888888888888888,
              "#fdca26"
             ],
             [
              1,
              "#f0f921"
             ]
            ],
            "type": "heatmap"
           }
          ],
          "histogram": [
           {
            "marker": {
             "pattern": {
              "fillmode": "overlay",
              "size": 10,
              "solidity": 0.2
             }
            },
            "type": "histogram"
           }
          ],
          "histogram2d": [
           {
            "colorbar": {
             "outlinewidth": 0,
             "ticks": ""
            },
            "colorscale": [
             [
              0,
              "#0d0887"
             ],
             [
              0.1111111111111111,
              "#46039f"
             ],
             [
              0.2222222222222222,
              "#7201a8"
             ],
             [
              0.3333333333333333,
              "#9c179e"
             ],
             [
              0.4444444444444444,
              "#bd3786"
             ],
             [
              0.5555555555555556,
              "#d8576b"
             ],
             [
              0.6666666666666666,
              "#ed7953"
             ],
             [
              0.7777777777777778,
              "#fb9f3a"
             ],
             [
              0.8888888888888888,
              "#fdca26"
             ],
             [
              1,
              "#f0f921"
             ]
            ],
            "type": "histogram2d"
           }
          ],
          "histogram2dcontour": [
           {
            "colorbar": {
             "outlinewidth": 0,
             "ticks": ""
            },
            "colorscale": [
             [
              0,
              "#0d0887"
             ],
             [
              0.1111111111111111,
              "#46039f"
             ],
             [
              0.2222222222222222,
              "#7201a8"
             ],
             [
              0.3333333333333333,
              "#9c179e"
             ],
             [
              0.4444444444444444,
              "#bd3786"
             ],
             [
              0.5555555555555556,
              "#d8576b"
             ],
             [
              0.6666666666666666,
              "#ed7953"
             ],
             [
              0.7777777777777778,
              "#fb9f3a"
             ],
             [
              0.8888888888888888,
              "#fdca26"
             ],
             [
              1,
              "#f0f921"
             ]
            ],
            "type": "histogram2dcontour"
           }
          ],
          "mesh3d": [
           {
            "colorbar": {
             "outlinewidth": 0,
             "ticks": ""
            },
            "type": "mesh3d"
           }
          ],
          "parcoords": [
           {
            "line": {
             "colorbar": {
              "outlinewidth": 0,
              "ticks": ""
             }
            },
            "type": "parcoords"
           }
          ],
          "pie": [
           {
            "automargin": true,
            "type": "pie"
           }
          ],
          "scatter": [
           {
            "fillpattern": {
             "fillmode": "overlay",
             "size": 10,
             "solidity": 0.2
            },
            "type": "scatter"
           }
          ],
          "scatter3d": [
           {
            "line": {
             "colorbar": {
              "outlinewidth": 0,
              "ticks": ""
             }
            },
            "marker": {
             "colorbar": {
              "outlinewidth": 0,
              "ticks": ""
             }
            },
            "type": "scatter3d"
           }
          ],
          "scattercarpet": [
           {
            "marker": {
             "colorbar": {
              "outlinewidth": 0,
              "ticks": ""
             }
            },
            "type": "scattercarpet"
           }
          ],
          "scattergeo": [
           {
            "marker": {
             "colorbar": {
              "outlinewidth": 0,
              "ticks": ""
             }
            },
            "type": "scattergeo"
           }
          ],
          "scattergl": [
           {
            "marker": {
             "colorbar": {
              "outlinewidth": 0,
              "ticks": ""
             }
            },
            "type": "scattergl"
           }
          ],
          "scattermap": [
           {
            "marker": {
             "colorbar": {
              "outlinewidth": 0,
              "ticks": ""
             }
            },
            "type": "scattermap"
           }
          ],
          "scattermapbox": [
           {
            "marker": {
             "colorbar": {
              "outlinewidth": 0,
              "ticks": ""
             }
            },
            "type": "scattermapbox"
           }
          ],
          "scatterpolar": [
           {
            "marker": {
             "colorbar": {
              "outlinewidth": 0,
              "ticks": ""
             }
            },
            "type": "scatterpolar"
           }
          ],
          "scatterpolargl": [
           {
            "marker": {
             "colorbar": {
              "outlinewidth": 0,
              "ticks": ""
             }
            },
            "type": "scatterpolargl"
           }
          ],
          "scatterternary": [
           {
            "marker": {
             "colorbar": {
              "outlinewidth": 0,
              "ticks": ""
             }
            },
            "type": "scatterternary"
           }
          ],
          "surface": [
           {
            "colorbar": {
             "outlinewidth": 0,
             "ticks": ""
            },
            "colorscale": [
             [
              0,
              "#0d0887"
             ],
             [
              0.1111111111111111,
              "#46039f"
             ],
             [
              0.2222222222222222,
              "#7201a8"
             ],
             [
              0.3333333333333333,
              "#9c179e"
             ],
             [
              0.4444444444444444,
              "#bd3786"
             ],
             [
              0.5555555555555556,
              "#d8576b"
             ],
             [
              0.6666666666666666,
              "#ed7953"
             ],
             [
              0.7777777777777778,
              "#fb9f3a"
             ],
             [
              0.8888888888888888,
              "#fdca26"
             ],
             [
              1,
              "#f0f921"
             ]
            ],
            "type": "surface"
           }
          ],
          "table": [
           {
            "cells": {
             "fill": {
              "color": "#EBF0F8"
             },
             "line": {
              "color": "white"
             }
            },
            "header": {
             "fill": {
              "color": "#C8D4E3"
             },
             "line": {
              "color": "white"
             }
            },
            "type": "table"
           }
          ]
         },
         "layout": {
          "annotationdefaults": {
           "arrowcolor": "#2a3f5f",
           "arrowhead": 0,
           "arrowwidth": 1
          },
          "autotypenumbers": "strict",
          "coloraxis": {
           "colorbar": {
            "outlinewidth": 0,
            "ticks": ""
           }
          },
          "colorscale": {
           "diverging": [
            [
             0,
             "#8e0152"
            ],
            [
             0.1,
             "#c51b7d"
            ],
            [
             0.2,
             "#de77ae"
            ],
            [
             0.3,
             "#f1b6da"
            ],
            [
             0.4,
             "#fde0ef"
            ],
            [
             0.5,
             "#f7f7f7"
            ],
            [
             0.6,
             "#e6f5d0"
            ],
            [
             0.7,
             "#b8e186"
            ],
            [
             0.8,
             "#7fbc41"
            ],
            [
             0.9,
             "#4d9221"
            ],
            [
             1,
             "#276419"
            ]
           ],
           "sequential": [
            [
             0,
             "#0d0887"
            ],
            [
             0.1111111111111111,
             "#46039f"
            ],
            [
             0.2222222222222222,
             "#7201a8"
            ],
            [
             0.3333333333333333,
             "#9c179e"
            ],
            [
             0.4444444444444444,
             "#bd3786"
            ],
            [
             0.5555555555555556,
             "#d8576b"
            ],
            [
             0.6666666666666666,
             "#ed7953"
            ],
            [
             0.7777777777777778,
             "#fb9f3a"
            ],
            [
             0.8888888888888888,
             "#fdca26"
            ],
            [
             1,
             "#f0f921"
            ]
           ],
           "sequentialminus": [
            [
             0,
             "#0d0887"
            ],
            [
             0.1111111111111111,
             "#46039f"
            ],
            [
             0.2222222222222222,
             "#7201a8"
            ],
            [
             0.3333333333333333,
             "#9c179e"
            ],
            [
             0.4444444444444444,
             "#bd3786"
            ],
            [
             0.5555555555555556,
             "#d8576b"
            ],
            [
             0.6666666666666666,
             "#ed7953"
            ],
            [
             0.7777777777777778,
             "#fb9f3a"
            ],
            [
             0.8888888888888888,
             "#fdca26"
            ],
            [
             1,
             "#f0f921"
            ]
           ]
          },
          "colorway": [
           "#636efa",
           "#EF553B",
           "#00cc96",
           "#ab63fa",
           "#FFA15A",
           "#19d3f3",
           "#FF6692",
           "#B6E880",
           "#FF97FF",
           "#FECB52"
          ],
          "font": {
           "color": "#2a3f5f"
          },
          "geo": {
           "bgcolor": "white",
           "lakecolor": "white",
           "landcolor": "#E5ECF6",
           "showlakes": true,
           "showland": true,
           "subunitcolor": "white"
          },
          "hoverlabel": {
           "align": "left"
          },
          "hovermode": "closest",
          "mapbox": {
           "style": "light"
          },
          "paper_bgcolor": "white",
          "plot_bgcolor": "#E5ECF6",
          "polar": {
           "angularaxis": {
            "gridcolor": "white",
            "linecolor": "white",
            "ticks": ""
           },
           "bgcolor": "#E5ECF6",
           "radialaxis": {
            "gridcolor": "white",
            "linecolor": "white",
            "ticks": ""
           }
          },
          "scene": {
           "xaxis": {
            "backgroundcolor": "#E5ECF6",
            "gridcolor": "white",
            "gridwidth": 2,
            "linecolor": "white",
            "showbackground": true,
            "ticks": "",
            "zerolinecolor": "white"
           },
           "yaxis": {
            "backgroundcolor": "#E5ECF6",
            "gridcolor": "white",
            "gridwidth": 2,
            "linecolor": "white",
            "showbackground": true,
            "ticks": "",
            "zerolinecolor": "white"
           },
           "zaxis": {
            "backgroundcolor": "#E5ECF6",
            "gridcolor": "white",
            "gridwidth": 2,
            "linecolor": "white",
            "showbackground": true,
            "ticks": "",
            "zerolinecolor": "white"
           }
          },
          "shapedefaults": {
           "line": {
            "color": "#2a3f5f"
           }
          },
          "ternary": {
           "aaxis": {
            "gridcolor": "white",
            "linecolor": "white",
            "ticks": ""
           },
           "baxis": {
            "gridcolor": "white",
            "linecolor": "white",
            "ticks": ""
           },
           "bgcolor": "#E5ECF6",
           "caxis": {
            "gridcolor": "white",
            "linecolor": "white",
            "ticks": ""
           }
          },
          "title": {
           "x": 0.05
          },
          "xaxis": {
           "automargin": true,
           "gridcolor": "white",
           "linecolor": "white",
           "ticks": "",
           "title": {
            "standoff": 15
           },
           "zerolinecolor": "white",
           "zerolinewidth": 2
          },
          "yaxis": {
           "automargin": true,
           "gridcolor": "white",
           "linecolor": "white",
           "ticks": "",
           "title": {
            "standoff": 15
           },
           "zerolinecolor": "white",
           "zerolinewidth": 2
          }
         }
        },
        "title": {
         "text": "Real vs Predicted Values\nMean Error: 7289.49, Std Error: 8834.87"
        },
        "width": 800,
        "xaxis": {
         "anchor": "y",
         "domain": [
          0,
          1
         ],
         "title": {
          "text": "Predicted Values"
         }
        },
        "yaxis": {
         "anchor": "x",
         "domain": [
          0,
          1
         ],
         "title": {
          "text": "Real Values"
         }
        }
       }
      }
     },
     "metadata": {},
     "output_type": "display_data"
    }
   ],
   "source": [
    "plot_error_vs_predicted(oof_preds_rf, y, ids)"
   ]
  },
  {
   "cell_type": "code",
   "execution_count": 190,
   "id": "6489d69b",
   "metadata": {},
   "outputs": [
    {
     "data": {
      "text/html": [
       "<div><style>\n",
       ".dataframe > thead > tr,\n",
       ".dataframe > tbody > tr {\n",
       "  text-align: right;\n",
       "  white-space: pre-wrap;\n",
       "}\n",
       "</style>\n",
       "<small>shape: (5, 5)</small><table border=\"1\" class=\"dataframe\"><thead><tr><th>seed</th><th>rmse</th><th>r2</th><th>std_rmse</th><th>std_r2</th></tr><tr><td>i64</td><td>f64</td><td>f64</td><td>f64</td><td>f64</td></tr></thead><tbody><tr><td>8431</td><td>11046.3</td><td>0.95</td><td>1404.25</td><td>0.01</td></tr><tr><td>176</td><td>11613.55</td><td>0.94</td><td>2194.38</td><td>0.02</td></tr><tr><td>3954</td><td>11098.38</td><td>0.94</td><td>1344.22</td><td>0.01</td></tr><tr><td>1946</td><td>11187.32</td><td>0.94</td><td>1658.73</td><td>0.01</td></tr><tr><td>1626</td><td>11303.38</td><td>0.94</td><td>2654.96</td><td>0.03</td></tr></tbody></table></div>"
      ],
      "text/plain": [
       "shape: (5, 5)\n",
       "┌──────┬──────────┬──────┬──────────┬────────┐\n",
       "│ seed ┆ rmse     ┆ r2   ┆ std_rmse ┆ std_r2 │\n",
       "│ ---  ┆ ---      ┆ ---  ┆ ---      ┆ ---    │\n",
       "│ i64  ┆ f64      ┆ f64  ┆ f64      ┆ f64    │\n",
       "╞══════╪══════════╪══════╪══════════╪════════╡\n",
       "│ 8431 ┆ 11046.3  ┆ 0.95 ┆ 1404.25  ┆ 0.01   │\n",
       "│ 176  ┆ 11613.55 ┆ 0.94 ┆ 2194.38  ┆ 0.02   │\n",
       "│ 3954 ┆ 11098.38 ┆ 0.94 ┆ 1344.22  ┆ 0.01   │\n",
       "│ 1946 ┆ 11187.32 ┆ 0.94 ┆ 1658.73  ┆ 0.01   │\n",
       "│ 1626 ┆ 11303.38 ┆ 0.94 ┆ 2654.96  ┆ 0.03   │\n",
       "└──────┴──────────┴──────┴──────────┴────────┘"
      ]
     },
     "execution_count": 190,
     "metadata": {},
     "output_type": "execute_result"
    }
   ],
   "source": [
    "rfr_seed_results = evaluate_model_seeds(rfr, X, y)\n",
    "rfr_seed_results"
   ]
  },
  {
   "cell_type": "code",
   "execution_count": 191,
   "id": "01oupN2qdcV1",
   "metadata": {
    "colab": {
     "base_uri": "https://localhost:8080/"
    },
    "executionInfo": {
     "elapsed": 20,
     "status": "ok",
     "timestamp": 1749481289780,
     "user": {
      "displayName": "Gerard Seward",
      "userId": "08585387988591404566"
     },
     "user_tz": 180
    },
    "id": "01oupN2qdcV1",
    "outputId": "f0a6d105-5bb7-4b76-b78c-97901dd5a39e"
   },
   "outputs": [
    {
     "name": "stdout",
     "output_type": "stream",
     "text": [
      "Fold 1 - RMSE: 13703.52, R2: 0.94\n",
      "Fold 2 - RMSE: 10357.49, R2: 0.94\n",
      "Fold 3 - RMSE: 10241.49, R2: 0.95\n",
      "Fold 4 - RMSE: 14057.66, R2: 0.92\n",
      "Fold 5 - RMSE: 10056.77, R2: 0.95\n",
      "\n",
      "Average RMSE across folds: 11683.38\n",
      "Average R2 across folds: 0.94\n"
     ]
    },
    {
     "data": {
      "text/html": [
       "<div><style>\n",
       ".dataframe > thead > tr,\n",
       ".dataframe > tbody > tr {\n",
       "  text-align: right;\n",
       "  white-space: pre-wrap;\n",
       "}\n",
       "</style>\n",
       "<small>shape: (55, 4)</small><table border=\"1\" class=\"dataframe\"><thead><tr><th>feature</th><th>mean_importance</th><th>std_importance</th><th>mean_importance_pct</th></tr><tr><td>str</td><td>f64</td><td>f64</td><td>f64</td></tr></thead><tbody><tr><td>&quot;num__YoE_Age_ratio&quot;</td><td>19712.8</td><td>1939.59</td><td>25.1</td></tr><tr><td>&quot;num__YoE_Age_interaction&quot;</td><td>13474.4</td><td>993.31</td><td>17.2</td></tr><tr><td>&quot;num__Age&quot;</td><td>11358.2</td><td>846.53</td><td>14.5</td></tr><tr><td>&quot;num__YoE_squared&quot;</td><td>4172.6</td><td>479.74</td><td>5.3</td></tr><tr><td>&quot;cat_ohe__Job_Title_Category_An…</td><td>3533.2</td><td>901.45</td><td>4.5</td></tr><tr><td>&quot;cat_ohe__Job_Title_Category_Ot…</td><td>3411.6</td><td>334.11</td><td>4.3</td></tr><tr><td>&quot;cat_ohe__Gender_Female&quot;</td><td>3263.4</td><td>459.13</td><td>4.2</td></tr><tr><td>&quot;cat_ohe__Job_Title_Category_Ma…</td><td>2798.2</td><td>645.48</td><td>3.6</td></tr><tr><td>&quot;cat_ohe__Job_Title_Category_Di…</td><td>2664.0</td><td>167.23</td><td>3.4</td></tr><tr><td>&quot;cat_ohe__Job_Level_Senior&quot;</td><td>2320.0</td><td>202.47</td><td>3.0</td></tr><tr><td>&quot;cat_ohe__Job_Level_Other&quot;</td><td>2295.4</td><td>249.01</td><td>2.9</td></tr><tr><td>&quot;num__Education_Age_mean&quot;</td><td>2142.6</td><td>437.67</td><td>2.7</td></tr><tr><td>&quot;cat_ohe__Gender_Male&quot;</td><td>1621.4</td><td>486.74</td><td>2.1</td></tr><tr><td>&quot;cat_ohe__Job_Title_Category_Co…</td><td>1464.4</td><td>902.23</td><td>1.9</td></tr><tr><td>&quot;cat_ohe__Job_Level_Junior&quot;</td><td>961.0</td><td>247.09</td><td>1.2</td></tr><tr><td>&hellip;</td><td>&hellip;</td><td>&hellip;</td><td>&hellip;</td></tr><tr><td>&quot;cat_ohe__Years of Experience_1…</td><td>0.0</td><td>0.0</td><td>0.0</td></tr><tr><td>&quot;cat_ohe__Years of Experience_1…</td><td>0.0</td><td>0.0</td><td>0.0</td></tr><tr><td>&quot;cat_ohe__Years of Experience_1…</td><td>0.0</td><td>0.0</td><td>0.0</td></tr><tr><td>&quot;cat_ohe__Years of Experience_1…</td><td>0.0</td><td>0.0</td><td>0.0</td></tr><tr><td>&quot;cat_ohe__Years of Experience_2…</td><td>0.0</td><td>0.0</td><td>0.0</td></tr><tr><td>&quot;cat_ohe__Years of Experience_2…</td><td>0.0</td><td>0.0</td><td>0.0</td></tr><tr><td>&quot;cat_ohe__Years of Experience_2…</td><td>0.0</td><td>0.0</td><td>0.0</td></tr><tr><td>&quot;cat_ohe__Years of Experience_2…</td><td>0.0</td><td>0.0</td><td>0.0</td></tr><tr><td>&quot;cat_ohe__Years of Experience_2…</td><td>0.0</td><td>0.0</td><td>0.0</td></tr><tr><td>&quot;cat_ohe__Age_bin_old&quot;</td><td>0.0</td><td>0.0</td><td>0.0</td></tr><tr><td>&quot;cat_ohe__Age_bin_young&quot;</td><td>0.0</td><td>0.0</td><td>0.0</td></tr><tr><td>&quot;cat_ohe__Age_bin_None&quot;</td><td>0.0</td><td>0.0</td><td>0.0</td></tr><tr><td>&quot;cat_ohe__Job_Title_Category_Ex…</td><td>0.0</td><td>0.0</td><td>0.0</td></tr><tr><td>&quot;cat_ohe__Experience_bin_junior&quot;</td><td>0.0</td><td>0.0</td><td>0.0</td></tr><tr><td>&quot;cat_ohe__Experience_bin_senior&quot;</td><td>0.0</td><td>0.0</td><td>0.0</td></tr></tbody></table></div>"
      ],
      "text/plain": [
       "shape: (55, 4)\n",
       "┌─────────────────────────────────┬─────────────────┬────────────────┬─────────────────────┐\n",
       "│ feature                         ┆ mean_importance ┆ std_importance ┆ mean_importance_pct │\n",
       "│ ---                             ┆ ---             ┆ ---            ┆ ---                 │\n",
       "│ str                             ┆ f64             ┆ f64            ┆ f64                 │\n",
       "╞═════════════════════════════════╪═════════════════╪════════════════╪═════════════════════╡\n",
       "│ num__YoE_Age_ratio              ┆ 19712.8         ┆ 1939.59        ┆ 25.1                │\n",
       "│ num__YoE_Age_interaction        ┆ 13474.4         ┆ 993.31         ┆ 17.2                │\n",
       "│ num__Age                        ┆ 11358.2         ┆ 846.53         ┆ 14.5                │\n",
       "│ num__YoE_squared                ┆ 4172.6          ┆ 479.74         ┆ 5.3                 │\n",
       "│ cat_ohe__Job_Title_Category_An… ┆ 3533.2          ┆ 901.45         ┆ 4.5                 │\n",
       "│ cat_ohe__Job_Title_Category_Ot… ┆ 3411.6          ┆ 334.11         ┆ 4.3                 │\n",
       "│ cat_ohe__Gender_Female          ┆ 3263.4          ┆ 459.13         ┆ 4.2                 │\n",
       "│ cat_ohe__Job_Title_Category_Ma… ┆ 2798.2          ┆ 645.48         ┆ 3.6                 │\n",
       "│ cat_ohe__Job_Title_Category_Di… ┆ 2664.0          ┆ 167.23         ┆ 3.4                 │\n",
       "│ cat_ohe__Job_Level_Senior       ┆ 2320.0          ┆ 202.47         ┆ 3.0                 │\n",
       "│ cat_ohe__Job_Level_Other        ┆ 2295.4          ┆ 249.01         ┆ 2.9                 │\n",
       "│ num__Education_Age_mean         ┆ 2142.6          ┆ 437.67         ┆ 2.7                 │\n",
       "│ cat_ohe__Gender_Male            ┆ 1621.4          ┆ 486.74         ┆ 2.1                 │\n",
       "│ cat_ohe__Job_Title_Category_Co… ┆ 1464.4          ┆ 902.23         ┆ 1.9                 │\n",
       "│ cat_ohe__Job_Level_Junior       ┆ 961.0           ┆ 247.09         ┆ 1.2                 │\n",
       "│ …                               ┆ …               ┆ …              ┆ …                   │\n",
       "│ cat_ohe__Years of Experience_1… ┆ 0.0             ┆ 0.0            ┆ 0.0                 │\n",
       "│ cat_ohe__Years of Experience_1… ┆ 0.0             ┆ 0.0            ┆ 0.0                 │\n",
       "│ cat_ohe__Years of Experience_1… ┆ 0.0             ┆ 0.0            ┆ 0.0                 │\n",
       "│ cat_ohe__Years of Experience_1… ┆ 0.0             ┆ 0.0            ┆ 0.0                 │\n",
       "│ cat_ohe__Years of Experience_2… ┆ 0.0             ┆ 0.0            ┆ 0.0                 │\n",
       "│ cat_ohe__Years of Experience_2… ┆ 0.0             ┆ 0.0            ┆ 0.0                 │\n",
       "│ cat_ohe__Years of Experience_2… ┆ 0.0             ┆ 0.0            ┆ 0.0                 │\n",
       "│ cat_ohe__Years of Experience_2… ┆ 0.0             ┆ 0.0            ┆ 0.0                 │\n",
       "│ cat_ohe__Years of Experience_2… ┆ 0.0             ┆ 0.0            ┆ 0.0                 │\n",
       "│ cat_ohe__Age_bin_old            ┆ 0.0             ┆ 0.0            ┆ 0.0                 │\n",
       "│ cat_ohe__Age_bin_young          ┆ 0.0             ┆ 0.0            ┆ 0.0                 │\n",
       "│ cat_ohe__Age_bin_None           ┆ 0.0             ┆ 0.0            ┆ 0.0                 │\n",
       "│ cat_ohe__Job_Title_Category_Ex… ┆ 0.0             ┆ 0.0            ┆ 0.0                 │\n",
       "│ cat_ohe__Experience_bin_junior  ┆ 0.0             ┆ 0.0            ┆ 0.0                 │\n",
       "│ cat_ohe__Experience_bin_senior  ┆ 0.0             ┆ 0.0            ┆ 0.0                 │\n",
       "└─────────────────────────────────┴─────────────────┴────────────────┴─────────────────────┘"
      ]
     },
     "execution_count": 191,
     "metadata": {},
     "output_type": "execute_result"
    }
   ],
   "source": [
    "lgbm = LGBMRegressor(random_state=SEED,\n",
    "                    n_estimators=7500,\n",
    "                    learning_rate=0.01, \n",
    "                    verbosity=-1)\n",
    "results_lgb, importances_lgbm, oof_preds_lgbm = cross_validation(lgbm, X, y)\n",
    "importances_lgbm"
   ]
  },
  {
   "cell_type": "code",
   "execution_count": 192,
   "id": "6a9d1100",
   "metadata": {},
   "outputs": [
    {
     "data": {
      "application/vnd.plotly.v1+json": {
       "config": {
        "plotlyServerURL": "https://plot.ly"
       },
       "data": [
        {
         "customdata": {
          "bdata": "AAABAAIAAwAEAAUABgAHAAgACQAKAAsADAANAA4ADwAQABEAEgATABQAFQAWABcAGAAZABoAGwAcAB0AHgAfACAAIQAiACMAJAAlACYAJwAoACkAKgArACwALQAuAC8AMAAxADIAMwA0ADUANgA3ADgAOQA6ADsAPAA9AD4APwBAAEEAQgBDAEQARQBGAEcASABJAEoASwBMAE0ATgBPAFAAUQBSAFMAVABVAFYAVwBYAFkAWgBbAFwAXQBeAF8AYABhAGIAYwBkAGUAZgBnAGgAaQBqAGsAbABtAG4AbwBwAHEAcgBzAHQAdQB2AHcAeAB5AHoAewB8AH0AfgB/AIAAgQCCAIMAhACFAIYAhwCIAIkAigCLAIwAjQCOAI8AkACRAJIAkwCUAJUAlgCXAJgAmQCaAJsAnACdAJ4AnwCgAKEAogCjAKQApQCmAKcAqACpAKoAqwCtAK4ArwCwALEAsgCzALQAtQC2ALcAuAC5ALoAuwC8AL0AvgC/AMAAwQDCAMMAxADFAMYAxwDIAMkAygDLAMwAzQDOAM8A0ADRANIA0wDUANUA1gDXANgA2QDaANsA3ADdAN4A3wDgAOEA4gDjAOQA5QDmAOcA6ADpAOoA6wDsAO0A7gDvAPAA8QDyAPMA9AD1APYA9wD4APkA+gD7APwA/QD+AP8AAAEBAQIBBQEGAQcBCAEJAQoBCwEMAQ0BDgEPARABEQESARMBFAEVARYBFwEYARkBGgEbARwBHQEeAR8BIAEhASIBIwEkASUBJgEnASgBKQEqASsBLAEtAS4BLwEwATEBMgEzATQBNQE2ATcBOAE5AToBOwE8AT0BPgE/AUABQQFCAUMBRAFFAUYBRwFIAUkBSgFLAUwBTQFOAU8BUAFRAVIBUwFUAVUBVgFXAVgBWQFaAVsBXAFdAV4BXwFgAWEBYgFjAWQBZQFmAWcBaAFpAWoBawFsAW0BbgFvAXABcQFyAXMBdAF1AXYB",
          "dtype": "i2",
          "shape": "372, 1"
         },
         "hovertemplate": "Predicted Values=%{x}<br>Real Values=%{y}<br>id=%{customdata[0]}<extra></extra>",
         "legendgroup": "",
         "marker": {
          "color": "#636efa",
          "symbol": "circle"
         },
         "mode": "markers",
         "name": "",
         "orientation": "v",
         "showlegend": false,
         "type": "scatter",
         "x": {
          "bdata": "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",
          "dtype": "f8"
         },
         "xaxis": "x",
         "y": {
          "bdata": "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",
          "dtype": "f8"
         },
         "yaxis": "y"
        }
       ],
       "layout": {
        "height": 800,
        "legend": {
         "title": {
          "text": ""
         },
         "tracegroupgap": 0
        },
        "shapes": [
         {
          "line": {
           "color": "red",
           "dash": "dash"
          },
          "type": "line",
          "x0": 32369.845567950164,
          "x1": 213595.70074760946,
          "y0": 32369.845567950164,
          "y1": 250000
         }
        ],
        "showlegend": false,
        "template": {
         "data": {
          "bar": [
           {
            "error_x": {
             "color": "#2a3f5f"
            },
            "error_y": {
             "color": "#2a3f5f"
            },
            "marker": {
             "line": {
              "color": "#E5ECF6",
              "width": 0.5
             },
             "pattern": {
              "fillmode": "overlay",
              "size": 10,
              "solidity": 0.2
             }
            },
            "type": "bar"
           }
          ],
          "barpolar": [
           {
            "marker": {
             "line": {
              "color": "#E5ECF6",
              "width": 0.5
             },
             "pattern": {
              "fillmode": "overlay",
              "size": 10,
              "solidity": 0.2
             }
            },
            "type": "barpolar"
           }
          ],
          "carpet": [
           {
            "aaxis": {
             "endlinecolor": "#2a3f5f",
             "gridcolor": "white",
             "linecolor": "white",
             "minorgridcolor": "white",
             "startlinecolor": "#2a3f5f"
            },
            "baxis": {
             "endlinecolor": "#2a3f5f",
             "gridcolor": "white",
             "linecolor": "white",
             "minorgridcolor": "white",
             "startlinecolor": "#2a3f5f"
            },
            "type": "carpet"
           }
          ],
          "choropleth": [
           {
            "colorbar": {
             "outlinewidth": 0,
             "ticks": ""
            },
            "type": "choropleth"
           }
          ],
          "contour": [
           {
            "colorbar": {
             "outlinewidth": 0,
             "ticks": ""
            },
            "colorscale": [
             [
              0,
              "#0d0887"
             ],
             [
              0.1111111111111111,
              "#46039f"
             ],
             [
              0.2222222222222222,
              "#7201a8"
             ],
             [
              0.3333333333333333,
              "#9c179e"
             ],
             [
              0.4444444444444444,
              "#bd3786"
             ],
             [
              0.5555555555555556,
              "#d8576b"
             ],
             [
              0.6666666666666666,
              "#ed7953"
             ],
             [
              0.7777777777777778,
              "#fb9f3a"
             ],
             [
              0.8888888888888888,
              "#fdca26"
             ],
             [
              1,
              "#f0f921"
             ]
            ],
            "type": "contour"
           }
          ],
          "contourcarpet": [
           {
            "colorbar": {
             "outlinewidth": 0,
             "ticks": ""
            },
            "type": "contourcarpet"
           }
          ],
          "heatmap": [
           {
            "colorbar": {
             "outlinewidth": 0,
             "ticks": ""
            },
            "colorscale": [
             [
              0,
              "#0d0887"
             ],
             [
              0.1111111111111111,
              "#46039f"
             ],
             [
              0.2222222222222222,
              "#7201a8"
             ],
             [
              0.3333333333333333,
              "#9c179e"
             ],
             [
              0.4444444444444444,
              "#bd3786"
             ],
             [
              0.5555555555555556,
              "#d8576b"
             ],
             [
              0.6666666666666666,
              "#ed7953"
             ],
             [
              0.7777777777777778,
              "#fb9f3a"
             ],
             [
              0.8888888888888888,
              "#fdca26"
             ],
             [
              1,
              "#f0f921"
             ]
            ],
            "type": "heatmap"
           }
          ],
          "histogram": [
           {
            "marker": {
             "pattern": {
              "fillmode": "overlay",
              "size": 10,
              "solidity": 0.2
             }
            },
            "type": "histogram"
           }
          ],
          "histogram2d": [
           {
            "colorbar": {
             "outlinewidth": 0,
             "ticks": ""
            },
            "colorscale": [
             [
              0,
              "#0d0887"
             ],
             [
              0.1111111111111111,
              "#46039f"
             ],
             [
              0.2222222222222222,
              "#7201a8"
             ],
             [
              0.3333333333333333,
              "#9c179e"
             ],
             [
              0.4444444444444444,
              "#bd3786"
             ],
             [
              0.5555555555555556,
              "#d8576b"
             ],
             [
              0.6666666666666666,
              "#ed7953"
             ],
             [
              0.7777777777777778,
              "#fb9f3a"
             ],
             [
              0.8888888888888888,
              "#fdca26"
             ],
             [
              1,
              "#f0f921"
             ]
            ],
            "type": "histogram2d"
           }
          ],
          "histogram2dcontour": [
           {
            "colorbar": {
             "outlinewidth": 0,
             "ticks": ""
            },
            "colorscale": [
             [
              0,
              "#0d0887"
             ],
             [
              0.1111111111111111,
              "#46039f"
             ],
             [
              0.2222222222222222,
              "#7201a8"
             ],
             [
              0.3333333333333333,
              "#9c179e"
             ],
             [
              0.4444444444444444,
              "#bd3786"
             ],
             [
              0.5555555555555556,
              "#d8576b"
             ],
             [
              0.6666666666666666,
              "#ed7953"
             ],
             [
              0.7777777777777778,
              "#fb9f3a"
             ],
             [
              0.8888888888888888,
              "#fdca26"
             ],
             [
              1,
              "#f0f921"
             ]
            ],
            "type": "histogram2dcontour"
           }
          ],
          "mesh3d": [
           {
            "colorbar": {
             "outlinewidth": 0,
             "ticks": ""
            },
            "type": "mesh3d"
           }
          ],
          "parcoords": [
           {
            "line": {
             "colorbar": {
              "outlinewidth": 0,
              "ticks": ""
             }
            },
            "type": "parcoords"
           }
          ],
          "pie": [
           {
            "automargin": true,
            "type": "pie"
           }
          ],
          "scatter": [
           {
            "fillpattern": {
             "fillmode": "overlay",
             "size": 10,
             "solidity": 0.2
            },
            "type": "scatter"
           }
          ],
          "scatter3d": [
           {
            "line": {
             "colorbar": {
              "outlinewidth": 0,
              "ticks": ""
             }
            },
            "marker": {
             "colorbar": {
              "outlinewidth": 0,
              "ticks": ""
             }
            },
            "type": "scatter3d"
           }
          ],
          "scattercarpet": [
           {
            "marker": {
             "colorbar": {
              "outlinewidth": 0,
              "ticks": ""
             }
            },
            "type": "scattercarpet"
           }
          ],
          "scattergeo": [
           {
            "marker": {
             "colorbar": {
              "outlinewidth": 0,
              "ticks": ""
             }
            },
            "type": "scattergeo"
           }
          ],
          "scattergl": [
           {
            "marker": {
             "colorbar": {
              "outlinewidth": 0,
              "ticks": ""
             }
            },
            "type": "scattergl"
           }
          ],
          "scattermap": [
           {
            "marker": {
             "colorbar": {
              "outlinewidth": 0,
              "ticks": ""
             }
            },
            "type": "scattermap"
           }
          ],
          "scattermapbox": [
           {
            "marker": {
             "colorbar": {
              "outlinewidth": 0,
              "ticks": ""
             }
            },
            "type": "scattermapbox"
           }
          ],
          "scatterpolar": [
           {
            "marker": {
             "colorbar": {
              "outlinewidth": 0,
              "ticks": ""
             }
            },
            "type": "scatterpolar"
           }
          ],
          "scatterpolargl": [
           {
            "marker": {
             "colorbar": {
              "outlinewidth": 0,
              "ticks": ""
             }
            },
            "type": "scatterpolargl"
           }
          ],
          "scatterternary": [
           {
            "marker": {
             "colorbar": {
              "outlinewidth": 0,
              "ticks": ""
             }
            },
            "type": "scatterternary"
           }
          ],
          "surface": [
           {
            "colorbar": {
             "outlinewidth": 0,
             "ticks": ""
            },
            "colorscale": [
             [
              0,
              "#0d0887"
             ],
             [
              0.1111111111111111,
              "#46039f"
             ],
             [
              0.2222222222222222,
              "#7201a8"
             ],
             [
              0.3333333333333333,
              "#9c179e"
             ],
             [
              0.4444444444444444,
              "#bd3786"
             ],
             [
              0.5555555555555556,
              "#d8576b"
             ],
             [
              0.6666666666666666,
              "#ed7953"
             ],
             [
              0.7777777777777778,
              "#fb9f3a"
             ],
             [
              0.8888888888888888,
              "#fdca26"
             ],
             [
              1,
              "#f0f921"
             ]
            ],
            "type": "surface"
           }
          ],
          "table": [
           {
            "cells": {
             "fill": {
              "color": "#EBF0F8"
             },
             "line": {
              "color": "white"
             }
            },
            "header": {
             "fill": {
              "color": "#C8D4E3"
             },
             "line": {
              "color": "white"
             }
            },
            "type": "table"
           }
          ]
         },
         "layout": {
          "annotationdefaults": {
           "arrowcolor": "#2a3f5f",
           "arrowhead": 0,
           "arrowwidth": 1
          },
          "autotypenumbers": "strict",
          "coloraxis": {
           "colorbar": {
            "outlinewidth": 0,
            "ticks": ""
           }
          },
          "colorscale": {
           "diverging": [
            [
             0,
             "#8e0152"
            ],
            [
             0.1,
             "#c51b7d"
            ],
            [
             0.2,
             "#de77ae"
            ],
            [
             0.3,
             "#f1b6da"
            ],
            [
             0.4,
             "#fde0ef"
            ],
            [
             0.5,
             "#f7f7f7"
            ],
            [
             0.6,
             "#e6f5d0"
            ],
            [
             0.7,
             "#b8e186"
            ],
            [
             0.8,
             "#7fbc41"
            ],
            [
             0.9,
             "#4d9221"
            ],
            [
             1,
             "#276419"
            ]
           ],
           "sequential": [
            [
             0,
             "#0d0887"
            ],
            [
             0.1111111111111111,
             "#46039f"
            ],
            [
             0.2222222222222222,
             "#7201a8"
            ],
            [
             0.3333333333333333,
             "#9c179e"
            ],
            [
             0.4444444444444444,
             "#bd3786"
            ],
            [
             0.5555555555555556,
             "#d8576b"
            ],
            [
             0.6666666666666666,
             "#ed7953"
            ],
            [
             0.7777777777777778,
             "#fb9f3a"
            ],
            [
             0.8888888888888888,
             "#fdca26"
            ],
            [
             1,
             "#f0f921"
            ]
           ],
           "sequentialminus": [
            [
             0,
             "#0d0887"
            ],
            [
             0.1111111111111111,
             "#46039f"
            ],
            [
             0.2222222222222222,
             "#7201a8"
            ],
            [
             0.3333333333333333,
             "#9c179e"
            ],
            [
             0.4444444444444444,
             "#bd3786"
            ],
            [
             0.5555555555555556,
             "#d8576b"
            ],
            [
             0.6666666666666666,
             "#ed7953"
            ],
            [
             0.7777777777777778,
             "#fb9f3a"
            ],
            [
             0.8888888888888888,
             "#fdca26"
            ],
            [
             1,
             "#f0f921"
            ]
           ]
          },
          "colorway": [
           "#636efa",
           "#EF553B",
           "#00cc96",
           "#ab63fa",
           "#FFA15A",
           "#19d3f3",
           "#FF6692",
           "#B6E880",
           "#FF97FF",
           "#FECB52"
          ],
          "font": {
           "color": "#2a3f5f"
          },
          "geo": {
           "bgcolor": "white",
           "lakecolor": "white",
           "landcolor": "#E5ECF6",
           "showlakes": true,
           "showland": true,
           "subunitcolor": "white"
          },
          "hoverlabel": {
           "align": "left"
          },
          "hovermode": "closest",
          "mapbox": {
           "style": "light"
          },
          "paper_bgcolor": "white",
          "plot_bgcolor": "#E5ECF6",
          "polar": {
           "angularaxis": {
            "gridcolor": "white",
            "linecolor": "white",
            "ticks": ""
           },
           "bgcolor": "#E5ECF6",
           "radialaxis": {
            "gridcolor": "white",
            "linecolor": "white",
            "ticks": ""
           }
          },
          "scene": {
           "xaxis": {
            "backgroundcolor": "#E5ECF6",
            "gridcolor": "white",
            "gridwidth": 2,
            "linecolor": "white",
            "showbackground": true,
            "ticks": "",
            "zerolinecolor": "white"
           },
           "yaxis": {
            "backgroundcolor": "#E5ECF6",
            "gridcolor": "white",
            "gridwidth": 2,
            "linecolor": "white",
            "showbackground": true,
            "ticks": "",
            "zerolinecolor": "white"
           },
           "zaxis": {
            "backgroundcolor": "#E5ECF6",
            "gridcolor": "white",
            "gridwidth": 2,
            "linecolor": "white",
            "showbackground": true,
            "ticks": "",
            "zerolinecolor": "white"
           }
          },
          "shapedefaults": {
           "line": {
            "color": "#2a3f5f"
           }
          },
          "ternary": {
           "aaxis": {
            "gridcolor": "white",
            "linecolor": "white",
            "ticks": ""
           },
           "baxis": {
            "gridcolor": "white",
            "linecolor": "white",
            "ticks": ""
           },
           "bgcolor": "#E5ECF6",
           "caxis": {
            "gridcolor": "white",
            "linecolor": "white",
            "ticks": ""
           }
          },
          "title": {
           "x": 0.05
          },
          "xaxis": {
           "automargin": true,
           "gridcolor": "white",
           "linecolor": "white",
           "ticks": "",
           "title": {
            "standoff": 15
           },
           "zerolinecolor": "white",
           "zerolinewidth": 2
          },
          "yaxis": {
           "automargin": true,
           "gridcolor": "white",
           "linecolor": "white",
           "ticks": "",
           "title": {
            "standoff": 15
           },
           "zerolinecolor": "white",
           "zerolinewidth": 2
          }
         }
        },
        "title": {
         "text": "Real vs Predicted Values\nMean Error: 7576.08, Std Error: 9088.93"
        },
        "width": 800,
        "xaxis": {
         "anchor": "y",
         "domain": [
          0,
          1
         ],
         "title": {
          "text": "Predicted Values"
         }
        },
        "yaxis": {
         "anchor": "x",
         "domain": [
          0,
          1
         ],
         "title": {
          "text": "Real Values"
         }
        }
       }
      }
     },
     "metadata": {},
     "output_type": "display_data"
    }
   ],
   "source": [
    "plot_error_vs_predicted(oof_preds_lgbm, y, ids)"
   ]
  },
  {
   "cell_type": "code",
   "execution_count": 193,
   "id": "39c67349",
   "metadata": {},
   "outputs": [
    {
     "data": {
      "text/html": [
       "<div><style>\n",
       ".dataframe > thead > tr,\n",
       ".dataframe > tbody > tr {\n",
       "  text-align: right;\n",
       "  white-space: pre-wrap;\n",
       "}\n",
       "</style>\n",
       "<small>shape: (5, 5)</small><table border=\"1\" class=\"dataframe\"><thead><tr><th>seed</th><th>rmse</th><th>r2</th><th>std_rmse</th><th>std_r2</th></tr><tr><td>i64</td><td>f64</td><td>f64</td><td>f64</td><td>f64</td></tr></thead><tbody><tr><td>8431</td><td>11567.7</td><td>0.94</td><td>1726.5</td><td>0.01</td></tr><tr><td>176</td><td>12390.55</td><td>0.93</td><td>1804.6</td><td>0.02</td></tr><tr><td>3954</td><td>11691.68</td><td>0.94</td><td>1595.34</td><td>0.02</td></tr><tr><td>1946</td><td>11371.12</td><td>0.94</td><td>2145.83</td><td>0.02</td></tr><tr><td>1626</td><td>10991.12</td><td>0.94</td><td>1864.08</td><td>0.02</td></tr></tbody></table></div>"
      ],
      "text/plain": [
       "shape: (5, 5)\n",
       "┌──────┬──────────┬──────┬──────────┬────────┐\n",
       "│ seed ┆ rmse     ┆ r2   ┆ std_rmse ┆ std_r2 │\n",
       "│ ---  ┆ ---      ┆ ---  ┆ ---      ┆ ---    │\n",
       "│ i64  ┆ f64      ┆ f64  ┆ f64      ┆ f64    │\n",
       "╞══════╪══════════╪══════╪══════════╪════════╡\n",
       "│ 8431 ┆ 11567.7  ┆ 0.94 ┆ 1726.5   ┆ 0.01   │\n",
       "│ 176  ┆ 12390.55 ┆ 0.93 ┆ 1804.6   ┆ 0.02   │\n",
       "│ 3954 ┆ 11691.68 ┆ 0.94 ┆ 1595.34  ┆ 0.02   │\n",
       "│ 1946 ┆ 11371.12 ┆ 0.94 ┆ 2145.83  ┆ 0.02   │\n",
       "│ 1626 ┆ 10991.12 ┆ 0.94 ┆ 1864.08  ┆ 0.02   │\n",
       "└──────┴──────────┴──────┴──────────┴────────┘"
      ]
     },
     "execution_count": 193,
     "metadata": {},
     "output_type": "execute_result"
    }
   ],
   "source": [
    "lgbm_seed_results = evaluate_model_seeds(lgbm, X, y)\n",
    "lgbm_seed_results"
   ]
  },
  {
   "cell_type": "markdown",
   "id": "e8bcd618",
   "metadata": {},
   "source": [
    "Stuff to do\n",
    "\n",
    "1. Evaluate correlated features\n",
    "1. Feature selection\n",
    "1. Hyperparameter optimization\n",
    "1. Modelblending\n",
    "1. Model professionaldescription"
   ]
  }
 ],
 "metadata": {
  "colab": {
   "provenance": []
  },
  "kernelspec": {
   "display_name": ".venv",
   "language": "python",
   "name": "python3"
  },
  "language_info": {
   "codemirror_mode": {
    "name": "ipython",
    "version": 3
   },
   "file_extension": ".py",
   "mimetype": "text/x-python",
   "name": "python",
   "nbconvert_exporter": "python",
   "pygments_lexer": "ipython3",
   "version": "3.13.3"
  }
 },
 "nbformat": 4,
 "nbformat_minor": 5
}
