{
 "cells": [
  {
   "cell_type": "code",
   "execution_count": 86,
   "id": "e4b40349",
   "metadata": {},
   "outputs": [],
   "source": [
    "import polars as pl\n",
    "import numpy as np\n",
    "import plotly.express as px\n",
    "\n",
    "from sklearn.compose import ColumnTransformer\n",
    "from sklearn.pipeline import Pipeline\n",
    "from sklearn.preprocessing import OneHotEncoder, StandardScaler, OrdinalEncoder\n",
    "from sklearn.impute import SimpleImputer\n",
    "from sklearn.model_selection import train_test_split, KFold\n",
    "from sklearn.metrics import mean_squared_error, r2_score\n",
    "from sklearn.linear_model import LinearRegression\n",
    "from sklearn.ensemble import RandomForestRegressor\n"
   ]
  },
  {
   "cell_type": "code",
   "execution_count": 87,
   "id": "2df16a1d",
   "metadata": {},
   "outputs": [],
   "source": [
    "SEED = 100622\n",
    "TARGET = 'Salary'\n",
    "ID = 'id'\n",
    "N_FOLDS = 5"
   ]
  },
  {
   "cell_type": "markdown",
   "id": "effdc26c",
   "metadata": {},
   "source": [
    "## Data read"
   ]
  },
  {
   "cell_type": "code",
   "execution_count": 88,
   "id": "247be93a",
   "metadata": {},
   "outputs": [],
   "source": [
    "df_salary_raw = pl.read_csv(\"../data/salary.csv\")\n",
    "df_people_raw = pl.read_csv(\"../data/people.csv\")\n",
    "df_descriptions_raw = pl.read_csv(\"../data/descriptions.csv\")"
   ]
  },
  {
   "cell_type": "code",
   "execution_count": 89,
   "id": "d5f278e5",
   "metadata": {},
   "outputs": [
    {
     "data": {
      "application/vnd.plotly.v1+json": {
       "config": {
        "plotlyServerURL": "https://plot.ly"
       },
       "data": [
        {
         "bingroup": "x",
         "hovertemplate": "Salary=%{x}<br>count=%{y}<extra></extra>",
         "legendgroup": "",
         "marker": {
          "color": "#636efa",
          "pattern": {
           "shape": ""
          }
         },
         "name": "",
         "nbinsx": 30,
         "orientation": "v",
         "showlegend": false,
         "type": "histogram",
         "x": {
          "bdata": "AAAAAAD59UAAAAAAAL3vQAAAAACATwJBAAAAAABM7UAAAAAAAGoIQQAAAAAA2+pAAAAAAABM/UAAAAAAAIjzQAAAAAAA+eVAAAAAAADb+kAAAAAAgE/yQAAAAAAAFwFBAAAAAAC970AAAAAAAL3/QAAAAAAAiONAAAAAAICE/kAAAAAAAPn1QAAAAACAE/xAAAAAAAAX4UAAAAAAAPkFQQAAAAAAiPNAAAAAAIAxB0EAAAAAAGroQAAAAAAATO1AAAAAAAAXAUEAAAAAAPnlQAAAAAAA2/pAAAAAAACI40AAAAAAABcBQQAAAAAA+fVAAAAAAICEDkEAAAAAANvqQAAAAACAT/JAAAAAAAC970AAAAAAgMAEQQAAAAAA+eVAAAAAAABM7UAAAAAAgBP8QAAAAAAAiONAAAAAAACIA0EAAAAAAIjzQAAAAACAMQdBAAAAAABM7UAAAAAAAPnlQAAAAAAAvf9AAAAAAACI40AAAAAAgE/yQAAAAAAA+QVBAAAAAABM/UAAAAAAABfhQAAAAAAAvf9AAAAAAIDA9EAAAAAAAEztQAAAAAAAaghBAAAAAABq6EAAAAAAgDH3QAAAAAAAve9AAAAAAAAXAUEAAAAAANvqQAAAAACAovlAAAAAAIDABEEAAAAAAGroQAAAAAAAiPNAAAAAAAD5BUEAAAAAABfhQAAAAAAA+fVAAAAAAABM/UAAAAAAAPnlQAAAAAAA+fVAAAAAAIBPAkEAAAAAAL3vQAAAAAAAF/FAAAAAAIAxB0EAAAAAAIjjQAAAAAAATP1AAAAAAIAx90AAAAAAAIgDQQAAAAAAavhAAAAAAAD5BUEAAAAAANvqQAAAAAAAF/FAAAAAAACI80AAAAAAAEzdQAAAAACAhA5BAAAAAACI40AAAAAAgDH3QAAAAAAA+eVAAAAAAACI80AAAAAAwHoAQQAAAAAA2+pAAAAAAABM/UAAAAAAAIjjQAAAAACAovlAAAAAAIDABEEAAAAAgE/yQAAAAAAAve9AAAAAAACIA0EAAAAAABfhQAAAAAAA+fVAAAAAAADb+kAAAAAAAPnlQAAAAACAMfdAAAAAAIBPAkEAAAAAAGroQAAAAAAAiPNAAAAAAADbCkEAAAAAAGroQAAAAAAATO1AAAAAAABq+EAAAAAAAIjjQAAAAAAA2/pAAAAAAIAx90AAAAAAAL3/QAAAAAAA+fVAAAAAAAAX4UAAAAAAgDH3QAAAAAAAve9AAAAAAIDABEEAAAAAAPnlQAAAAAAATP1AAAAAAABq+EAAAAAAAPkFQQAAAAAAauhAAAAAAACI80AAAAAAABcBQQAAAAAAiONAAAAAAIAx90AAAAAAANv6QAAAAAAAauhAAAAAAICi+UAAAAAAAIgDQQAAAAAA+eVAAAAAAABq+EAAAAAAAIgDQQAAAAAAF+FAAAAAAADb6kAAAAAAABcBQQAAAAAAauhAAAAAAABM7UAAAAAAAEz9QAAAAAAAiONAAAAAAADb+kAAAAAAAGroQAAAAADAegBBAAAAAACI40AAAAAAAPn1QAAAAACATwJBAAAAAABM7UAAAAAAAIjzQAAAAADAXAVBAAAAAAD55UAAAAAAAEz9QAAAAAAAFwFBAAAAAAAX4UAAAAAAgDH3QAAAAAAA2/pAAAAAAABq6EAAAAAAgBP8QAAAAABAlQZBAAAAAACI40AAAAAAAPn1QAAAAADAXAVBAAAAAAD55UAAAAAAAIjzQAAAAAAATP1AAAAAAAAX4UAAAAAAANv6QAAAAACATwJBAAAAAABq6EAAAAAAgKL5QAAAAAAA+QVBAAAAAACI40AAAAAAAAD4fwAAAAAAFwFBAAAAAAD55UAAAAAAgMD0QAAAAAAAFwFBAAAAAABq6EAAAAAAAIjzQAAAAACAwARBAAAAAACI40AAAAAAgKL5QAAAAABAswFBAAAAAACI40AAAAAAgMD0QAAAAAAAvf9AAAAAAIAx90AAAAAAAGr4QAAAAAAA+QVBAAAAAAAX4UAAAAAAgDH3QAAAAACAwARBAAAAAAD55UAAAAAAgDH3QAAAAAAATP1AAAAAAACI40AAAAAAAPn1QAAAAADA6wJBAAAAAADb6kAAAAAAANv6QAAAAAAA+QVBAAAAAAD55UAAAAAAAL3/QAAAAAAA+eVAAAAAAAD59UAAAAAAAIgDQQAAAAAAauhAAAAAAABM/UAAAAAAgMAEQQAAAAAAiONAAAAAAADb+kAAAAAAgE8CQQAAAAAAiONAAAAAAIDA9EAAAAAAAL3/QAAAAAAAavhAAAAAAIAx90AAAAAAAPkFQQAAAAAAF+FAAAAAAABq+EAAAAAAgMAEQQAAAAAA+eVAAAAAAABq+EAAAAAAABcBQQAAAAAAiONAAAAAAICi+UAAAAAAAIgDQQAAAAAAF/FAAAAAAABM/UAAAAAAgDEHQQAAAAAA+eVAAAAAAABM/UAAAAAAAGroQAAAAACAwPRAAAAAAAAXAUEAAAAAAPnlQAAAAAAAavhAAAAAAAAXAUEAAAAAABfxQAAAAAAATP1AAAAAAACIA0EAAAAAAIjjQAAAAAAATP1AAAAAAIBPAkEAAAAAABfxQAAAAACAMfdAAAAAAAD5BUEAAAAAAGroQAAAAACAMfdAAAAAAIDABEEAAAAAAIjjQAAAAAAA2/pAAAAAAIBPAkEAAAAAAIjjQAAAAACAwPRAAAAAAAC9/0AAAAAAAGr4QAAAAACAMfdAAAAAAAD5BUEAAAAAAOB1QAAAAAAAAPh/AAAAAABM/UAAAAAAAIgDQQAAAAAAauhAAAAAAADb+kAAAAAAAIjjQAAAAACAMfdAAAAAAAAXAUEAAAAAAEztQAAAAAAA2/pAAAAAAIBPAkEAAAAAAEztQAAAAAAA+fVAAAAAAAD5BUEAAAAAAIjjQAAAAAAATP1AAAAAAACIA0EAAAAAABfxQAAAAACAMfdAAAAAAAD5BUEAAAAAAGroQAAAAACAMfdAAAAAAIDABEEAAAAAABfhQAAAAAAAavhAAAAAAIBPAkEAAAAAAEztQAAAAACAwPRAAAAAAAC9/0AAAAAAAL3vQAAAAAAA2/pAAAAAAAD5BUEAAAAAAIjjQAAAAAAA+fVAAAAAAAAXAUEAAAAAAEztQAAAAAAAvf9AAAAAAACIA0EAAAAAAIjjQAAAAAAAavhAAAAAAAD5BUEAAAAAANvqQAAAAAAATP1AAAAAAIBPAkEAAAAAABfxQAAAAACAMfdAAAAAAAD5BUEAAAAAAGroQAAAAAAATP1AAAAAAIDABEEAAAAAABfhQAAAAAAAavhAAAAAAIBPAkEAAAAAAEztQAAAAACAwPRAAAAAAAC9/0AAAAAAAIjzQAAAAACAMfdAAAAAAACI40AAAAAAAEz9QAAAAAAAiANBAAAAAAC970AAAAAAAL3/QAAAAAAA+QVBAAAAAACI40AAAAAAAGr4QAAAAACATwJBAAAAAADb6kAAAAAAANv6QAAAAAAA+QVBAAAAAABq6EAAAAAAAL3/QAAAAAAAiANBAAAAAABM7UAAAAAAgDH3QAAAAACAwARBAAAAAACI40AAAAAAAPn1QAAAAACATwJBAAAAAAAX8UAAAAAAAPn1QAAAAACAwARBAAAAAABq6EAAAAAAgE8CQQAAAAAAiANBAAAAAABM7UAAAAAAgMD0QAAAAAAA+QVBAAAAAAAX4UAAAAAAANv6QAAAAAAAiANBAAAAAADb6kAAAAAAANv6QAAAAAAA+QVBAAAAAABq6EAAAAAAAL3/QAAAAAAAiANBAAAAAABM7UAAAAAAgDH3QAAAAACAwARBAAAAAACI40AAAAAAAPn1QAAAAACATwJBAAAAAAAX8UAAAAAAAPn1QAAAAACAwARBAAAAAABq6EAAAAAAgE8CQQAAAAAAiANBAAAAAABM7UAAAAAAgMD0QAAAAACAwARBAAAAAACI40AAAAAAAPn1QAAAAACATwJB",
          "dtype": "f8"
         },
         "xaxis": "x",
         "yaxis": "y"
        }
       ],
       "layout": {
        "barmode": "relative",
        "legend": {
         "tracegroupgap": 0
        },
        "template": {
         "data": {
          "bar": [
           {
            "error_x": {
             "color": "#2a3f5f"
            },
            "error_y": {
             "color": "#2a3f5f"
            },
            "marker": {
             "line": {
              "color": "#E5ECF6",
              "width": 0.5
             },
             "pattern": {
              "fillmode": "overlay",
              "size": 10,
              "solidity": 0.2
             }
            },
            "type": "bar"
           }
          ],
          "barpolar": [
           {
            "marker": {
             "line": {
              "color": "#E5ECF6",
              "width": 0.5
             },
             "pattern": {
              "fillmode": "overlay",
              "size": 10,
              "solidity": 0.2
             }
            },
            "type": "barpolar"
           }
          ],
          "carpet": [
           {
            "aaxis": {
             "endlinecolor": "#2a3f5f",
             "gridcolor": "white",
             "linecolor": "white",
             "minorgridcolor": "white",
             "startlinecolor": "#2a3f5f"
            },
            "baxis": {
             "endlinecolor": "#2a3f5f",
             "gridcolor": "white",
             "linecolor": "white",
             "minorgridcolor": "white",
             "startlinecolor": "#2a3f5f"
            },
            "type": "carpet"
           }
          ],
          "choropleth": [
           {
            "colorbar": {
             "outlinewidth": 0,
             "ticks": ""
            },
            "type": "choropleth"
           }
          ],
          "contour": [
           {
            "colorbar": {
             "outlinewidth": 0,
             "ticks": ""
            },
            "colorscale": [
             [
              0,
              "#0d0887"
             ],
             [
              0.1111111111111111,
              "#46039f"
             ],
             [
              0.2222222222222222,
              "#7201a8"
             ],
             [
              0.3333333333333333,
              "#9c179e"
             ],
             [
              0.4444444444444444,
              "#bd3786"
             ],
             [
              0.5555555555555556,
              "#d8576b"
             ],
             [
              0.6666666666666666,
              "#ed7953"
             ],
             [
              0.7777777777777778,
              "#fb9f3a"
             ],
             [
              0.8888888888888888,
              "#fdca26"
             ],
             [
              1,
              "#f0f921"
             ]
            ],
            "type": "contour"
           }
          ],
          "contourcarpet": [
           {
            "colorbar": {
             "outlinewidth": 0,
             "ticks": ""
            },
            "type": "contourcarpet"
           }
          ],
          "heatmap": [
           {
            "colorbar": {
             "outlinewidth": 0,
             "ticks": ""
            },
            "colorscale": [
             [
              0,
              "#0d0887"
             ],
             [
              0.1111111111111111,
              "#46039f"
             ],
             [
              0.2222222222222222,
              "#7201a8"
             ],
             [
              0.3333333333333333,
              "#9c179e"
             ],
             [
              0.4444444444444444,
              "#bd3786"
             ],
             [
              0.5555555555555556,
              "#d8576b"
             ],
             [
              0.6666666666666666,
              "#ed7953"
             ],
             [
              0.7777777777777778,
              "#fb9f3a"
             ],
             [
              0.8888888888888888,
              "#fdca26"
             ],
             [
              1,
              "#f0f921"
             ]
            ],
            "type": "heatmap"
           }
          ],
          "histogram": [
           {
            "marker": {
             "pattern": {
              "fillmode": "overlay",
              "size": 10,
              "solidity": 0.2
             }
            },
            "type": "histogram"
           }
          ],
          "histogram2d": [
           {
            "colorbar": {
             "outlinewidth": 0,
             "ticks": ""
            },
            "colorscale": [
             [
              0,
              "#0d0887"
             ],
             [
              0.1111111111111111,
              "#46039f"
             ],
             [
              0.2222222222222222,
              "#7201a8"
             ],
             [
              0.3333333333333333,
              "#9c179e"
             ],
             [
              0.4444444444444444,
              "#bd3786"
             ],
             [
              0.5555555555555556,
              "#d8576b"
             ],
             [
              0.6666666666666666,
              "#ed7953"
             ],
             [
              0.7777777777777778,
              "#fb9f3a"
             ],
             [
              0.8888888888888888,
              "#fdca26"
             ],
             [
              1,
              "#f0f921"
             ]
            ],
            "type": "histogram2d"
           }
          ],
          "histogram2dcontour": [
           {
            "colorbar": {
             "outlinewidth": 0,
             "ticks": ""
            },
            "colorscale": [
             [
              0,
              "#0d0887"
             ],
             [
              0.1111111111111111,
              "#46039f"
             ],
             [
              0.2222222222222222,
              "#7201a8"
             ],
             [
              0.3333333333333333,
              "#9c179e"
             ],
             [
              0.4444444444444444,
              "#bd3786"
             ],
             [
              0.5555555555555556,
              "#d8576b"
             ],
             [
              0.6666666666666666,
              "#ed7953"
             ],
             [
              0.7777777777777778,
              "#fb9f3a"
             ],
             [
              0.8888888888888888,
              "#fdca26"
             ],
             [
              1,
              "#f0f921"
             ]
            ],
            "type": "histogram2dcontour"
           }
          ],
          "mesh3d": [
           {
            "colorbar": {
             "outlinewidth": 0,
             "ticks": ""
            },
            "type": "mesh3d"
           }
          ],
          "parcoords": [
           {
            "line": {
             "colorbar": {
              "outlinewidth": 0,
              "ticks": ""
             }
            },
            "type": "parcoords"
           }
          ],
          "pie": [
           {
            "automargin": true,
            "type": "pie"
           }
          ],
          "scatter": [
           {
            "fillpattern": {
             "fillmode": "overlay",
             "size": 10,
             "solidity": 0.2
            },
            "type": "scatter"
           }
          ],
          "scatter3d": [
           {
            "line": {
             "colorbar": {
              "outlinewidth": 0,
              "ticks": ""
             }
            },
            "marker": {
             "colorbar": {
              "outlinewidth": 0,
              "ticks": ""
             }
            },
            "type": "scatter3d"
           }
          ],
          "scattercarpet": [
           {
            "marker": {
             "colorbar": {
              "outlinewidth": 0,
              "ticks": ""
             }
            },
            "type": "scattercarpet"
           }
          ],
          "scattergeo": [
           {
            "marker": {
             "colorbar": {
              "outlinewidth": 0,
              "ticks": ""
             }
            },
            "type": "scattergeo"
           }
          ],
          "scattergl": [
           {
            "marker": {
             "colorbar": {
              "outlinewidth": 0,
              "ticks": ""
             }
            },
            "type": "scattergl"
           }
          ],
          "scattermap": [
           {
            "marker": {
             "colorbar": {
              "outlinewidth": 0,
              "ticks": ""
             }
            },
            "type": "scattermap"
           }
          ],
          "scattermapbox": [
           {
            "marker": {
             "colorbar": {
              "outlinewidth": 0,
              "ticks": ""
             }
            },
            "type": "scattermapbox"
           }
          ],
          "scatterpolar": [
           {
            "marker": {
             "colorbar": {
              "outlinewidth": 0,
              "ticks": ""
             }
            },
            "type": "scatterpolar"
           }
          ],
          "scatterpolargl": [
           {
            "marker": {
             "colorbar": {
              "outlinewidth": 0,
              "ticks": ""
             }
            },
            "type": "scatterpolargl"
           }
          ],
          "scatterternary": [
           {
            "marker": {
             "colorbar": {
              "outlinewidth": 0,
              "ticks": ""
             }
            },
            "type": "scatterternary"
           }
          ],
          "surface": [
           {
            "colorbar": {
             "outlinewidth": 0,
             "ticks": ""
            },
            "colorscale": [
             [
              0,
              "#0d0887"
             ],
             [
              0.1111111111111111,
              "#46039f"
             ],
             [
              0.2222222222222222,
              "#7201a8"
             ],
             [
              0.3333333333333333,
              "#9c179e"
             ],
             [
              0.4444444444444444,
              "#bd3786"
             ],
             [
              0.5555555555555556,
              "#d8576b"
             ],
             [
              0.6666666666666666,
              "#ed7953"
             ],
             [
              0.7777777777777778,
              "#fb9f3a"
             ],
             [
              0.8888888888888888,
              "#fdca26"
             ],
             [
              1,
              "#f0f921"
             ]
            ],
            "type": "surface"
           }
          ],
          "table": [
           {
            "cells": {
             "fill": {
              "color": "#EBF0F8"
             },
             "line": {
              "color": "white"
             }
            },
            "header": {
             "fill": {
              "color": "#C8D4E3"
             },
             "line": {
              "color": "white"
             }
            },
            "type": "table"
           }
          ]
         },
         "layout": {
          "annotationdefaults": {
           "arrowcolor": "#2a3f5f",
           "arrowhead": 0,
           "arrowwidth": 1
          },
          "autotypenumbers": "strict",
          "coloraxis": {
           "colorbar": {
            "outlinewidth": 0,
            "ticks": ""
           }
          },
          "colorscale": {
           "diverging": [
            [
             0,
             "#8e0152"
            ],
            [
             0.1,
             "#c51b7d"
            ],
            [
             0.2,
             "#de77ae"
            ],
            [
             0.3,
             "#f1b6da"
            ],
            [
             0.4,
             "#fde0ef"
            ],
            [
             0.5,
             "#f7f7f7"
            ],
            [
             0.6,
             "#e6f5d0"
            ],
            [
             0.7,
             "#b8e186"
            ],
            [
             0.8,
             "#7fbc41"
            ],
            [
             0.9,
             "#4d9221"
            ],
            [
             1,
             "#276419"
            ]
           ],
           "sequential": [
            [
             0,
             "#0d0887"
            ],
            [
             0.1111111111111111,
             "#46039f"
            ],
            [
             0.2222222222222222,
             "#7201a8"
            ],
            [
             0.3333333333333333,
             "#9c179e"
            ],
            [
             0.4444444444444444,
             "#bd3786"
            ],
            [
             0.5555555555555556,
             "#d8576b"
            ],
            [
             0.6666666666666666,
             "#ed7953"
            ],
            [
             0.7777777777777778,
             "#fb9f3a"
            ],
            [
             0.8888888888888888,
             "#fdca26"
            ],
            [
             1,
             "#f0f921"
            ]
           ],
           "sequentialminus": [
            [
             0,
             "#0d0887"
            ],
            [
             0.1111111111111111,
             "#46039f"
            ],
            [
             0.2222222222222222,
             "#7201a8"
            ],
            [
             0.3333333333333333,
             "#9c179e"
            ],
            [
             0.4444444444444444,
             "#bd3786"
            ],
            [
             0.5555555555555556,
             "#d8576b"
            ],
            [
             0.6666666666666666,
             "#ed7953"
            ],
            [
             0.7777777777777778,
             "#fb9f3a"
            ],
            [
             0.8888888888888888,
             "#fdca26"
            ],
            [
             1,
             "#f0f921"
            ]
           ]
          },
          "colorway": [
           "#636efa",
           "#EF553B",
           "#00cc96",
           "#ab63fa",
           "#FFA15A",
           "#19d3f3",
           "#FF6692",
           "#B6E880",
           "#FF97FF",
           "#FECB52"
          ],
          "font": {
           "color": "#2a3f5f"
          },
          "geo": {
           "bgcolor": "white",
           "lakecolor": "white",
           "landcolor": "#E5ECF6",
           "showlakes": true,
           "showland": true,
           "subunitcolor": "white"
          },
          "hoverlabel": {
           "align": "left"
          },
          "hovermode": "closest",
          "mapbox": {
           "style": "light"
          },
          "paper_bgcolor": "white",
          "plot_bgcolor": "#E5ECF6",
          "polar": {
           "angularaxis": {
            "gridcolor": "white",
            "linecolor": "white",
            "ticks": ""
           },
           "bgcolor": "#E5ECF6",
           "radialaxis": {
            "gridcolor": "white",
            "linecolor": "white",
            "ticks": ""
           }
          },
          "scene": {
           "xaxis": {
            "backgroundcolor": "#E5ECF6",
            "gridcolor": "white",
            "gridwidth": 2,
            "linecolor": "white",
            "showbackground": true,
            "ticks": "",
            "zerolinecolor": "white"
           },
           "yaxis": {
            "backgroundcolor": "#E5ECF6",
            "gridcolor": "white",
            "gridwidth": 2,
            "linecolor": "white",
            "showbackground": true,
            "ticks": "",
            "zerolinecolor": "white"
           },
           "zaxis": {
            "backgroundcolor": "#E5ECF6",
            "gridcolor": "white",
            "gridwidth": 2,
            "linecolor": "white",
            "showbackground": true,
            "ticks": "",
            "zerolinecolor": "white"
           }
          },
          "shapedefaults": {
           "line": {
            "color": "#2a3f5f"
           }
          },
          "ternary": {
           "aaxis": {
            "gridcolor": "white",
            "linecolor": "white",
            "ticks": ""
           },
           "baxis": {
            "gridcolor": "white",
            "linecolor": "white",
            "ticks": ""
           },
           "bgcolor": "#E5ECF6",
           "caxis": {
            "gridcolor": "white",
            "linecolor": "white",
            "ticks": ""
           }
          },
          "title": {
           "x": 0.05
          },
          "xaxis": {
           "automargin": true,
           "gridcolor": "white",
           "linecolor": "white",
           "ticks": "",
           "title": {
            "standoff": 15
           },
           "zerolinecolor": "white",
           "zerolinewidth": 2
          },
          "yaxis": {
           "automargin": true,
           "gridcolor": "white",
           "linecolor": "white",
           "ticks": "",
           "title": {
            "standoff": 15
           },
           "zerolinecolor": "white",
           "zerolinewidth": 2
          }
         }
        },
        "title": {
         "text": "Salary Distribution"
        },
        "xaxis": {
         "anchor": "y",
         "domain": [
          0,
          1
         ],
         "title": {
          "text": "Salary"
         }
        },
        "yaxis": {
         "anchor": "x",
         "domain": [
          0,
          1
         ],
         "title": {
          "text": "count"
         }
        }
       }
      }
     },
     "metadata": {},
     "output_type": "display_data"
    }
   ],
   "source": [
    "fig = px.histogram(df_salary_raw,\n",
    "                   x=\"Salary\",\n",
    "                   nbins=30,\n",
    "                   title=\"Salary Distribution\")\n",
    "fig.show()"
   ]
  },
  {
   "cell_type": "code",
   "execution_count": 90,
   "id": "3edb3ec8",
   "metadata": {},
   "outputs": [
    {
     "data": {
      "text/html": [
       "<div><style>\n",
       ".dataframe > thead > tr,\n",
       ".dataframe > tbody > tr {\n",
       "  text-align: right;\n",
       "  white-space: pre-wrap;\n",
       "}\n",
       "</style>\n",
       "<small>shape: (375, 7)</small><table border=\"1\" class=\"dataframe\"><thead><tr><th>id</th><th>Salary</th><th>Age</th><th>Gender</th><th>Education Level</th><th>Job Title</th><th>Years of Experience</th></tr><tr><td>i64</td><td>f64</td><td>f64</td><td>str</td><td>str</td><td>str</td><td>f64</td></tr></thead><tbody><tr><td>0</td><td>90000.0</td><td>32.0</td><td>&quot;Male&quot;</td><td>&quot;Bachelor&#x27;s&quot;</td><td>&quot;Software Engineer&quot;</td><td>5.0</td></tr><tr><td>1</td><td>65000.0</td><td>28.0</td><td>&quot;Female&quot;</td><td>&quot;Master&#x27;s&quot;</td><td>&quot;Data Analyst&quot;</td><td>3.0</td></tr><tr><td>2</td><td>150000.0</td><td>45.0</td><td>&quot;Male&quot;</td><td>&quot;PhD&quot;</td><td>&quot;Senior Manager&quot;</td><td>15.0</td></tr><tr><td>3</td><td>60000.0</td><td>36.0</td><td>&quot;Female&quot;</td><td>&quot;Bachelor&#x27;s&quot;</td><td>&quot;Sales Associate&quot;</td><td>7.0</td></tr><tr><td>4</td><td>200000.0</td><td>52.0</td><td>&quot;Male&quot;</td><td>&quot;Master&#x27;s&quot;</td><td>&quot;Director&quot;</td><td>20.0</td></tr><tr><td>&hellip;</td><td>&hellip;</td><td>&hellip;</td><td>&hellip;</td><td>&hellip;</td><td>&hellip;</td><td>&hellip;</td></tr><tr><td>370</td><td>85000.0</td><td>35.0</td><td>&quot;Female&quot;</td><td>&quot;Bachelor&#x27;s&quot;</td><td>&quot;Senior Marketing Analyst&quot;</td><td>8.0</td></tr><tr><td>371</td><td>170000.0</td><td>43.0</td><td>&quot;Male&quot;</td><td>&quot;Master&#x27;s&quot;</td><td>&quot;Director of Operations&quot;</td><td>19.0</td></tr><tr><td>372</td><td>40000.0</td><td>29.0</td><td>&quot;Female&quot;</td><td>&quot;Bachelor&#x27;s&quot;</td><td>&quot;Junior Project Manager&quot;</td><td>2.0</td></tr><tr><td>373</td><td>90000.0</td><td>34.0</td><td>&quot;Male&quot;</td><td>&quot;Bachelor&#x27;s&quot;</td><td>&quot;Senior Operations Coordinator&quot;</td><td>7.0</td></tr><tr><td>374</td><td>150000.0</td><td>44.0</td><td>&quot;Female&quot;</td><td>&quot;PhD&quot;</td><td>&quot;Senior Business Analyst&quot;</td><td>15.0</td></tr></tbody></table></div>"
      ],
      "text/plain": [
       "shape: (375, 7)\n",
       "┌─────┬──────────┬──────┬────────┬─────────────────┬─────────────────────────┬─────────────────────┐\n",
       "│ id  ┆ Salary   ┆ Age  ┆ Gender ┆ Education Level ┆ Job Title               ┆ Years of Experience │\n",
       "│ --- ┆ ---      ┆ ---  ┆ ---    ┆ ---             ┆ ---                     ┆ ---                 │\n",
       "│ i64 ┆ f64      ┆ f64  ┆ str    ┆ str             ┆ str                     ┆ f64                 │\n",
       "╞═════╪══════════╪══════╪════════╪═════════════════╪═════════════════════════╪═════════════════════╡\n",
       "│ 0   ┆ 90000.0  ┆ 32.0 ┆ Male   ┆ Bachelor's      ┆ Software Engineer       ┆ 5.0                 │\n",
       "│ 1   ┆ 65000.0  ┆ 28.0 ┆ Female ┆ Master's        ┆ Data Analyst            ┆ 3.0                 │\n",
       "│ 2   ┆ 150000.0 ┆ 45.0 ┆ Male   ┆ PhD             ┆ Senior Manager          ┆ 15.0                │\n",
       "│ 3   ┆ 60000.0  ┆ 36.0 ┆ Female ┆ Bachelor's      ┆ Sales Associate         ┆ 7.0                 │\n",
       "│ 4   ┆ 200000.0 ┆ 52.0 ┆ Male   ┆ Master's        ┆ Director                ┆ 20.0                │\n",
       "│ …   ┆ …        ┆ …    ┆ …      ┆ …               ┆ …                       ┆ …                   │\n",
       "│ 370 ┆ 85000.0  ┆ 35.0 ┆ Female ┆ Bachelor's      ┆ Senior Marketing        ┆ 8.0                 │\n",
       "│     ┆          ┆      ┆        ┆                 ┆ Analyst                 ┆                     │\n",
       "│ 371 ┆ 170000.0 ┆ 43.0 ┆ Male   ┆ Master's        ┆ Director of Operations  ┆ 19.0                │\n",
       "│ 372 ┆ 40000.0  ┆ 29.0 ┆ Female ┆ Bachelor's      ┆ Junior Project Manager  ┆ 2.0                 │\n",
       "│ 373 ┆ 90000.0  ┆ 34.0 ┆ Male   ┆ Bachelor's      ┆ Senior Operations       ┆ 7.0                 │\n",
       "│     ┆          ┆      ┆        ┆                 ┆ Coordinator             ┆                     │\n",
       "│ 374 ┆ 150000.0 ┆ 44.0 ┆ Female ┆ PhD             ┆ Senior Business Analyst ┆ 15.0                │\n",
       "└─────┴──────────┴──────┴────────┴─────────────────┴─────────────────────────┴─────────────────────┘"
      ]
     },
     "execution_count": 90,
     "metadata": {},
     "output_type": "execute_result"
    }
   ],
   "source": [
    "df_salary_people_raw = df_salary_raw.join(df_people_raw, \n",
    "                                      on=\"id\", how=\"inner\")\n",
    "df_salary_people_raw"
   ]
  },
  {
   "cell_type": "code",
   "execution_count": 91,
   "id": "5276d428",
   "metadata": {},
   "outputs": [
    {
     "data": {
      "text/html": [
       "<div><style>\n",
       ".dataframe > thead > tr,\n",
       ".dataframe > tbody > tr {\n",
       "  text-align: right;\n",
       "  white-space: pre-wrap;\n",
       "}\n",
       "</style>\n",
       "<small>shape: (1, 7)</small><table border=\"1\" class=\"dataframe\"><thead><tr><th>id</th><th>Salary</th><th>Age</th><th>Gender</th><th>Education Level</th><th>Job Title</th><th>Years of Experience</th></tr><tr><td>u32</td><td>u32</td><td>u32</td><td>u32</td><td>u32</td><td>u32</td><td>u32</td></tr></thead><tbody><tr><td>0</td><td>2</td><td>5</td><td>5</td><td>5</td><td>5</td><td>2</td></tr></tbody></table></div>"
      ],
      "text/plain": [
       "shape: (1, 7)\n",
       "┌─────┬────────┬─────┬────────┬─────────────────┬───────────┬─────────────────────┐\n",
       "│ id  ┆ Salary ┆ Age ┆ Gender ┆ Education Level ┆ Job Title ┆ Years of Experience │\n",
       "│ --- ┆ ---    ┆ --- ┆ ---    ┆ ---             ┆ ---       ┆ ---                 │\n",
       "│ u32 ┆ u32    ┆ u32 ┆ u32    ┆ u32             ┆ u32       ┆ u32                 │\n",
       "╞═════╪════════╪═════╪════════╪═════════════════╪═══════════╪═════════════════════╡\n",
       "│ 0   ┆ 2      ┆ 5   ┆ 5      ┆ 5               ┆ 5         ┆ 2                   │\n",
       "└─────┴────────┴─────┴────────┴─────────────────┴───────────┴─────────────────────┘"
      ]
     },
     "execution_count": 91,
     "metadata": {},
     "output_type": "execute_result"
    }
   ],
   "source": [
    "df_salary_people_raw.null_count()"
   ]
  },
  {
   "cell_type": "code",
   "execution_count": 92,
   "id": "1c53a315",
   "metadata": {},
   "outputs": [
    {
     "data": {
      "text/html": [
       "<div><style>\n",
       ".dataframe > thead > tr,\n",
       ".dataframe > tbody > tr {\n",
       "  text-align: right;\n",
       "  white-space: pre-wrap;\n",
       "}\n",
       "</style>\n",
       "<small>shape: (1, 7)</small><table border=\"1\" class=\"dataframe\"><thead><tr><th>id</th><th>Salary</th><th>Age</th><th>Gender</th><th>Education Level</th><th>Job Title</th><th>Years of Experience</th></tr><tr><td>i64</td><td>f64</td><td>f64</td><td>str</td><td>str</td><td>str</td><td>f64</td></tr></thead><tbody><tr><td>259</td><td>350.0</td><td>29.0</td><td>&quot;Male&quot;</td><td>&quot;Bachelor&#x27;s&quot;</td><td>&quot;Junior Business Operations Ana…</td><td>1.5</td></tr></tbody></table></div>"
      ],
      "text/plain": [
       "shape: (1, 7)\n",
       "┌─────┬────────┬──────┬────────┬─────────────────┬─────────────────┬─────────────────────┐\n",
       "│ id  ┆ Salary ┆ Age  ┆ Gender ┆ Education Level ┆ Job Title       ┆ Years of Experience │\n",
       "│ --- ┆ ---    ┆ ---  ┆ ---    ┆ ---             ┆ ---             ┆ ---                 │\n",
       "│ i64 ┆ f64    ┆ f64  ┆ str    ┆ str             ┆ str             ┆ f64                 │\n",
       "╞═════╪════════╪══════╪════════╪═════════════════╪═════════════════╪═════════════════════╡\n",
       "│ 259 ┆ 350.0  ┆ 29.0 ┆ Male   ┆ Bachelor's      ┆ Junior Business ┆ 1.5                 │\n",
       "│     ┆        ┆      ┆        ┆                 ┆ Operations Ana… ┆                     │\n",
       "└─────┴────────┴──────┴────────┴─────────────────┴─────────────────┴─────────────────────┘"
      ]
     },
     "execution_count": 92,
     "metadata": {},
     "output_type": "execute_result"
    }
   ],
   "source": [
    "df_salary_people_raw.filter(pl.col(\"Salary\") < 3500)"
   ]
  },
  {
   "cell_type": "code",
   "execution_count": 93,
   "id": "b531ac47",
   "metadata": {},
   "outputs": [
    {
     "data": {
      "text/html": [
       "<div><style>\n",
       ".dataframe > thead > tr,\n",
       ".dataframe > tbody > tr {\n",
       "  text-align: right;\n",
       "  white-space: pre-wrap;\n",
       "}\n",
       "</style>\n",
       "<small>shape: (174, 2)</small><table border=\"1\" class=\"dataframe\"><thead><tr><th>Job Title</th><th>count</th></tr><tr><td>str</td><td>u32</td></tr></thead><tbody><tr><td>&quot;Junior Data Scientist&quot;</td><td>1</td></tr><tr><td>&quot;Senior Data Analyst&quot;</td><td>3</td></tr><tr><td>&quot;Sales Director&quot;</td><td>1</td></tr><tr><td>&quot;Junior Web Developer&quot;</td><td>1</td></tr><tr><td>&quot;Project Manager&quot;</td><td>2</td></tr><tr><td>&hellip;</td><td>&hellip;</td></tr><tr><td>&quot;Director of Finance&quot;</td><td>2</td></tr><tr><td>&quot;Event Coordinator&quot;</td><td>2</td></tr><tr><td>&quot;Junior Marketing Manager&quot;</td><td>3</td></tr><tr><td>&quot;Senior Software Developer&quot;</td><td>3</td></tr><tr><td>&quot;Senior Financial Analyst&quot;</td><td>7</td></tr></tbody></table></div>"
      ],
      "text/plain": [
       "shape: (174, 2)\n",
       "┌───────────────────────────┬───────┐\n",
       "│ Job Title                 ┆ count │\n",
       "│ ---                       ┆ ---   │\n",
       "│ str                       ┆ u32   │\n",
       "╞═══════════════════════════╪═══════╡\n",
       "│ Junior Data Scientist     ┆ 1     │\n",
       "│ Senior Data Analyst       ┆ 3     │\n",
       "│ Sales Director            ┆ 1     │\n",
       "│ Junior Web Developer      ┆ 1     │\n",
       "│ Project Manager           ┆ 2     │\n",
       "│ …                         ┆ …     │\n",
       "│ Director of Finance       ┆ 2     │\n",
       "│ Event Coordinator         ┆ 2     │\n",
       "│ Junior Marketing Manager  ┆ 3     │\n",
       "│ Senior Software Developer ┆ 3     │\n",
       "│ Senior Financial Analyst  ┆ 7     │\n",
       "└───────────────────────────┴───────┘"
      ]
     },
     "execution_count": 93,
     "metadata": {},
     "output_type": "execute_result"
    }
   ],
   "source": [
    "df_salary_people_raw['Job Title'].value_counts()"
   ]
  },
  {
   "cell_type": "code",
   "execution_count": 94,
   "id": "69c9a66c",
   "metadata": {},
   "outputs": [
    {
     "data": {
      "text/html": [
       "<div><style>\n",
       ".dataframe > thead > tr,\n",
       ".dataframe > tbody > tr {\n",
       "  text-align: right;\n",
       "  white-space: pre-wrap;\n",
       "}\n",
       "</style>\n",
       "<small>shape: (9, 2)</small><table border=\"1\" class=\"dataframe\"><thead><tr><th>statistic</th><th>value</th></tr><tr><td>str</td><td>f64</td></tr></thead><tbody><tr><td>&quot;count&quot;</td><td>373.0</td></tr><tr><td>&quot;null_count&quot;</td><td>2.0</td></tr><tr><td>&quot;mean&quot;</td><td>100577.345845</td></tr><tr><td>&quot;std&quot;</td><td>48240.013482</td></tr><tr><td>&quot;min&quot;</td><td>350.0</td></tr><tr><td>&quot;25%&quot;</td><td>55000.0</td></tr><tr><td>&quot;50%&quot;</td><td>95000.0</td></tr><tr><td>&quot;75%&quot;</td><td>140000.0</td></tr><tr><td>&quot;max&quot;</td><td>250000.0</td></tr></tbody></table></div>"
      ],
      "text/plain": [
       "shape: (9, 2)\n",
       "┌────────────┬───────────────┐\n",
       "│ statistic  ┆ value         │\n",
       "│ ---        ┆ ---           │\n",
       "│ str        ┆ f64           │\n",
       "╞════════════╪═══════════════╡\n",
       "│ count      ┆ 373.0         │\n",
       "│ null_count ┆ 2.0           │\n",
       "│ mean       ┆ 100577.345845 │\n",
       "│ std        ┆ 48240.013482  │\n",
       "│ min        ┆ 350.0         │\n",
       "│ 25%        ┆ 55000.0       │\n",
       "│ 50%        ┆ 95000.0       │\n",
       "│ 75%        ┆ 140000.0      │\n",
       "│ max        ┆ 250000.0      │\n",
       "└────────────┴───────────────┘"
      ]
     },
     "execution_count": 94,
     "metadata": {},
     "output_type": "execute_result"
    }
   ],
   "source": [
    "df_salary_people_raw['Salary'].describe()"
   ]
  },
  {
   "cell_type": "markdown",
   "id": "92021ee9",
   "metadata": {},
   "source": [
    "## Feature engineer"
   ]
  },
  {
   "cell_type": "code",
   "execution_count": 95,
   "id": "d89c9115",
   "metadata": {},
   "outputs": [
    {
     "data": {
      "text/plain": [
       "['id',\n",
       " 'Salary',\n",
       " 'Age',\n",
       " 'Gender',\n",
       " 'Education Level',\n",
       " 'Job Title',\n",
       " 'Years of Experience']"
      ]
     },
     "execution_count": 95,
     "metadata": {},
     "output_type": "execute_result"
    }
   ],
   "source": [
    "df_salary_people_raw.columns"
   ]
  },
  {
   "cell_type": "code",
   "execution_count": 96,
   "id": "2737bda5",
   "metadata": {},
   "outputs": [],
   "source": [
    "def feature_eng(df):\n",
    "    # drop id\n",
    "    df = df.drop(ID)\n",
    "\n",
    "    # Remove rows with null values in 'Salary' 2 totatl\n",
    "    df = df.filter(pl.col(\"Salary\").is_not_null())\n",
    "\n",
    "\n",
    "    return df, num_cols, cat_cols\n",
    "\n",
    "num_cols = ['Age']\n",
    "cat_cols = ['Gender', 'Education Level', 'Job Title', 'Years of Experience']\n",
    "\n",
    "df_salary_people, num_cols, cat_cols = feature_eng(df_salary_people_raw)"
   ]
  },
  {
   "cell_type": "markdown",
   "id": "44ab22f5",
   "metadata": {},
   "source": [
    "## Data preprocessing"
   ]
  },
  {
   "cell_type": "code",
   "execution_count": 97,
   "id": "e426d58c",
   "metadata": {},
   "outputs": [],
   "source": [
    "# Salary has outliers, need to decide how to handle them\n",
    "\n",
    "# age has 3 null values, need to decide how to fill them\n",
    "\n",
    "# gender has 3 null values, need to decide how to fill them\n",
    "\n",
    "# Education Level has 3 null values, need to decide how to fill them\n",
    "\n",
    "# Job Title has 3 null values, need to decide how to fill them\n",
    "# Job title has high cardinality, experiment extracting keywords"
   ]
  },
  {
   "cell_type": "code",
   "execution_count": null,
   "id": "08d157aa",
   "metadata": {},
   "outputs": [],
   "source": [
    "num_pipeline = Pipeline([\n",
    "    ('imputer', SimpleImputer(strategy='mean')),\n",
    "    ('scaler', StandardScaler())\n",
    "])\n",
    "\n",
    "cat_pipeline = Pipeline([\n",
    "    ('imputer', SimpleImputer(strategy='most_frequent')),\n",
    "    ('encoder', OrdinalEncoder(handle_unknown='use_encoded_value', unknown_value=-1))\n",
    "])\n",
    "\n",
    "pipeline = ColumnTransformer([\n",
    "    ('num', num_pipeline, num_cols),\n",
    "    ('cat_oe', cat_pipeline, cat_cols),\n",
    "])"
   ]
  },
  {
   "cell_type": "markdown",
   "id": "f5a9e5b0",
   "metadata": {},
   "source": [
    "## Train-test split"
   ]
  },
  {
   "cell_type": "code",
   "execution_count": 111,
   "id": "8039c539",
   "metadata": {},
   "outputs": [],
   "source": [
    "# Split the data into training and testing sets\n",
    "X = df_salary_people.drop(TARGET).to_pandas()\n",
    "y = df_salary_people[TARGET]\n",
    "X_train_raw, X_test_raw, y_train, y_test = train_test_split(X, y, test_size=0.2, random_state=SEED)\n",
    "\n",
    "# fit and transform the training data, and transform the test data\n",
    "X_train = pipeline.fit_transform(X_train_raw)\n",
    "X_test = pipeline.transform(X_test_raw)"
   ]
  },
  {
   "cell_type": "markdown",
   "id": "0186dfbb",
   "metadata": {},
   "source": [
    "## Metric definition"
   ]
  },
  {
   "cell_type": "code",
   "execution_count": 105,
   "id": "ad9c21ef",
   "metadata": {},
   "outputs": [],
   "source": [
    "def metrics(y_true, y_pred):\n",
    "    mse = mean_squared_error(y_true, y_pred)\n",
    "    r2 = r2_score(y_true, y_pred)\n",
    "    return {'mse': mse, 'r2': r2}"
   ]
  },
  {
   "cell_type": "markdown",
   "id": "6d052385",
   "metadata": {},
   "source": [
    "## Cross validation training"
   ]
  },
  {
   "cell_type": "code",
   "execution_count": 106,
   "id": "d157da02",
   "metadata": {},
   "outputs": [],
   "source": [
    "def cross_calidation(model, X, y):\n",
    "\n",
    "    kf = KFold(n_splits=N_FOLDS, shuffle=True, random_state=SEED)\n",
    "    results = []\n",
    "\n",
    "    for train_index, val_index in kf.split(X):\n",
    "\n",
    "        X_train, X_val = X[train_index], X[val_index]\n",
    "        y_train, y_val = y[train_index], y[val_index]\n",
    "\n",
    "        model.fit(X_train, y_train)\n",
    "        y_pred = model.predict(X_val)\n",
    "\n",
    "        result = metrics(y_val, y_pred)\n",
    "        results.append(result)\n",
    "\n",
    "    return results\n"
   ]
  },
  {
   "cell_type": "code",
   "execution_count": 116,
   "id": "78470f09",
   "metadata": {},
   "outputs": [],
   "source": [
    "def print_results(results):\n",
    "    # Print results\n",
    "    print(\"Cross-validation results:\")\n",
    "    for i, result in enumerate(results):\n",
    "        print(f\"Fold {i+1}: MSE = {result['mse']:.2f}, R² = {result['r2']:.4f}\")\n",
    "\n",
    "    # Calculate average performance\n",
    "    avg_mse = np.mean([r['mse'] for r in results])\n",
    "    avg_r2 = np.mean([r['r2'] for r in results])\n",
    "    print(f\"\\nAverage MSE: {avg_mse:.2f}\")\n",
    "    print(f\"Average R²: {avg_r2:.4f}\")"
   ]
  },
  {
   "cell_type": "markdown",
   "id": "b9c972e8",
   "metadata": {},
   "source": [
    "## Model definition"
   ]
  },
  {
   "cell_type": "code",
   "execution_count": null,
   "id": "dfa9afd6",
   "metadata": {},
   "outputs": [],
   "source": [
    "# linear regression model\n",
    "model_lr = LinearRegression()"
   ]
  },
  {
   "cell_type": "markdown",
   "id": "bd62509b",
   "metadata": {},
   "source": [
    "## Model evaluation"
   ]
  },
  {
   "cell_type": "code",
   "execution_count": 117,
   "id": "e16eacca",
   "metadata": {},
   "outputs": [
    {
     "name": "stdout",
     "output_type": "stream",
     "text": [
      "Cross-validation results:\n",
      "Fold 1: MSE = 197157744.96, R² = 0.8996\n",
      "Fold 2: MSE = 171006517.94, R² = 0.9208\n",
      "Fold 3: MSE = 220232116.93, R² = 0.9051\n",
      "Fold 4: MSE = 167742674.07, R² = 0.9162\n",
      "Fold 5: MSE = 360198382.70, R² = 0.8374\n",
      "\n",
      "Average MSE: 223267487.32\n",
      "Average R²: 0.8958\n"
     ]
    }
   ],
   "source": [
    "results_lr = cross_calidation(model_lr, X_train, y_train)\n",
    "print_results(results_lr)"
   ]
  },
  {
   "cell_type": "code",
   "execution_count": 119,
   "id": "50b54a96",
   "metadata": {},
   "outputs": [
    {
     "name": "stdout",
     "output_type": "stream",
     "text": [
      "Cross-validation results:\n",
      "Fold 1: MSE = 120145196.35, R² = 0.9388\n",
      "Fold 2: MSE = 221905798.75, R² = 0.8973\n",
      "Fold 3: MSE = 224358473.50, R² = 0.9033\n",
      "Fold 4: MSE = 188543271.00, R² = 0.9058\n",
      "Fold 5: MSE = 411686308.85, R² = 0.8142\n",
      "\n",
      "Average MSE: 233327809.69\n",
      "Average R²: 0.8919\n"
     ]
    }
   ],
   "source": [
    "results_rf = cross_calidation(RandomForestRegressor(random_state=SEED), X_train, y_train)\n",
    "print_results(results_rf)"
   ]
  }
 ],
 "metadata": {
  "kernelspec": {
   "display_name": ".venv",
   "language": "python",
   "name": "python3"
  },
  "language_info": {
   "codemirror_mode": {
    "name": "ipython",
    "version": 3
   },
   "file_extension": ".py",
   "mimetype": "text/x-python",
   "name": "python",
   "nbconvert_exporter": "python",
   "pygments_lexer": "ipython3",
   "version": "3.13.3"
  }
 },
 "nbformat": 4,
 "nbformat_minor": 5
}
