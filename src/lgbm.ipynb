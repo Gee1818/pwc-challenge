{
  "cells": [
    {
      "cell_type": "code",
      "execution_count": null,
      "id": "e4b40349",
      "metadata": {
        "id": "e4b40349",
        "colab": {
          "base_uri": "https://localhost:8080/",
          "height": 187
        },
        "outputId": "bf2d8f44-35f7-46f0-ef56-01a9801a0c38"
      },
      "outputs": [
        {
          "output_type": "execute_result",
          "data": {
            "text/plain": [
              "polars.config.Config"
            ],
            "text/html": [
              "<div style=\"max-width:800px; border: 1px solid var(--colab-border-color);\"><style>\n",
              "      pre.function-repr-contents {\n",
              "        overflow-x: auto;\n",
              "        padding: 8px 12px;\n",
              "        max-height: 500px;\n",
              "      }\n",
              "\n",
              "      pre.function-repr-contents.function-repr-contents-collapsed {\n",
              "        cursor: pointer;\n",
              "        max-height: 100px;\n",
              "      }\n",
              "    </style>\n",
              "    <pre style=\"white-space: initial; background:\n",
              "         var(--colab-secondary-surface-color); padding: 8px 12px;\n",
              "         border-bottom: 1px solid var(--colab-border-color);\"><b>polars.config.Config</b><br/>def __call__(func)</pre><pre class=\"function-repr-contents function-repr-contents-collapsed\" style=\"\"><a class=\"filepath\" style=\"display:none\" href=\"#\">/usr/local/lib/python3.11/dist-packages/polars/config.py</a>Configure polars; offers options for table formatting and more.\n",
              "\n",
              "Notes\n",
              "-----\n",
              "Can also be used as a context manager OR a function decorator in order to\n",
              "temporarily scope the lifetime of specific options. For example:\n",
              "\n",
              "&gt;&gt;&gt; with pl.Config() as cfg:\n",
              "...     # set verbose for more detailed output within the scope\n",
              "...     cfg.set_verbose(True)  # doctest: +IGNORE_RESULT\n",
              "&gt;&gt;&gt; # scope exit - no longer in verbose mode\n",
              "\n",
              "This can also be written more compactly as:\n",
              "\n",
              "&gt;&gt;&gt; with pl.Config(verbose=True):\n",
              "...     pass\n",
              "\n",
              "(The compact format is available for all `Config` methods that take a single value).\n",
              "\n",
              "Alternatively, you can use as a decorator in order to scope the duration of the\n",
              "selected options to a specific function:\n",
              "\n",
              "&gt;&gt;&gt; @pl.Config(verbose=True)\n",
              "... def test():\n",
              "...     pass</pre>\n",
              "      <script>\n",
              "      if (google.colab.kernel.accessAllowed && google.colab.files && google.colab.files.view) {\n",
              "        for (const element of document.querySelectorAll('.filepath')) {\n",
              "          element.style.display = 'block'\n",
              "          element.onclick = (event) => {\n",
              "            event.preventDefault();\n",
              "            event.stopPropagation();\n",
              "            google.colab.files.view(element.textContent, 145);\n",
              "          };\n",
              "        }\n",
              "      }\n",
              "      for (const element of document.querySelectorAll('.function-repr-contents')) {\n",
              "        element.onclick = (event) => {\n",
              "          event.preventDefault();\n",
              "          event.stopPropagation();\n",
              "          element.classList.toggle('function-repr-contents-collapsed');\n",
              "        };\n",
              "      }\n",
              "      </script>\n",
              "      </div>"
            ]
          },
          "metadata": {},
          "execution_count": 706
        }
      ],
      "source": [
        "import polars as pl\n",
        "import numpy as np\n",
        "import plotly.express as px\n",
        "import joblib\n",
        "\n",
        "from sklearn.compose import ColumnTransformer\n",
        "from sklearn.pipeline import Pipeline\n",
        "from sklearn.preprocessing import OneHotEncoder, StandardScaler, OrdinalEncoder\n",
        "from sklearn.impute import SimpleImputer\n",
        "from sklearn.model_selection import train_test_split, KFold\n",
        "from sklearn.metrics import root_mean_squared_error, r2_score\n",
        "from sklearn.dummy import DummyRegressor\n",
        "from sklearn.linear_model import LinearRegression, Lasso, Ridge\n",
        "from sklearn.ensemble import RandomForestRegressor\n",
        "from lightgbm import LGBMRegressor\n",
        "from sklearn.linear_model import LassoCV\n",
        "from sklearn.feature_selection import SelectFromModel\n",
        "\n",
        "import warnings\n",
        "warnings.filterwarnings('ignore')\n",
        "pl.Config.set_tbl_rows(30)\n"
      ]
    },
    {
      "cell_type": "code",
      "execution_count": null,
      "id": "2df16a1d",
      "metadata": {
        "id": "2df16a1d"
      },
      "outputs": [],
      "source": [
        "SEED = 100622\n",
        "TARGET = 'Salary'\n",
        "ID = 'id'\n",
        "N_FOLDS = 5"
      ]
    },
    {
      "cell_type": "markdown",
      "id": "effdc26c",
      "metadata": {
        "id": "effdc26c"
      },
      "source": [
        "## Data read"
      ]
    },
    {
      "cell_type": "code",
      "execution_count": null,
      "id": "5eda3c19",
      "metadata": {
        "id": "5eda3c19"
      },
      "outputs": [],
      "source": [
        "def load_data(data_path=\"../data/\"):\n",
        "    \"\"\"Load all required datasets.\"\"\"\n",
        "    df_salary = pl.read_csv(f\"{data_path}salary.csv\")\n",
        "    df_people = pl.read_csv(f\"{data_path}people.csv\")\n",
        "    df_descriptions = pl.read_csv(f\"{data_path}descriptions.csv\")\n",
        "    return df_salary, df_people, df_descriptions"
      ]
    },
    {
      "cell_type": "code",
      "execution_count": null,
      "id": "SFN5SLktTIBm",
      "metadata": {
        "id": "SFN5SLktTIBm",
        "colab": {
          "base_uri": "https://localhost:8080/"
        },
        "outputId": "5f46b2f6-0937-4565-b858-c4955c634594"
      },
      "outputs": [
        {
          "output_type": "stream",
          "name": "stdout",
          "text": [
            "Drive already mounted at /content/drive; to attempt to forcibly remount, call drive.mount(\"/content/drive\", force_remount=True).\n"
          ]
        }
      ],
      "source": [
        "# prompt: fix the error below by adding drive to the environment\n",
        "\n",
        "if 'google.colab' in str(get_ipython()):\n",
        "    # Mount Google Drive if running in Google Colab\n",
        "    from google.colab import drive\n",
        "    drive.mount('/content/drive')\n",
        "    df_salary_raw, df_people_raw, df_descriptions_raw = load_data(data_path=\"/content/drive/MyDrive/Postgrado ciencia de datos/pwc-challenge/data/\")\n",
        "else:\n",
        "    # Load data from local directory\n",
        "    df_salary_raw, df_people_raw, df_descriptions_raw = load_data(data_path=\"../data/\")"
      ]
    },
    {
      "cell_type": "code",
      "execution_count": null,
      "id": "20b3d478",
      "metadata": {
        "id": "20b3d478",
        "colab": {
          "base_uri": "https://localhost:8080/",
          "height": 1000
        },
        "outputId": "46493eb7-8b53-47e4-f4d0-83d226b80c41"
      },
      "outputs": [
        {
          "output_type": "execute_result",
          "data": {
            "text/plain": [
              "shape: (375, 7)\n",
              "┌─────┬──────────┬──────┬────────┬─────────────────┬─────────────────────────┬─────────────────────┐\n",
              "│ id  ┆ Salary   ┆ Age  ┆ Gender ┆ Education Level ┆ Job Title               ┆ Years of Experience │\n",
              "│ --- ┆ ---      ┆ ---  ┆ ---    ┆ ---             ┆ ---                     ┆ ---                 │\n",
              "│ i64 ┆ f64      ┆ f64  ┆ str    ┆ str             ┆ str                     ┆ f64                 │\n",
              "╞═════╪══════════╪══════╪════════╪═════════════════╪═════════════════════════╪═════════════════════╡\n",
              "│ 0   ┆ 90000.0  ┆ 32.0 ┆ Male   ┆ Bachelor's      ┆ Software Engineer       ┆ 5.0                 │\n",
              "│ 1   ┆ 65000.0  ┆ 28.0 ┆ Female ┆ Master's        ┆ Data Analyst            ┆ 3.0                 │\n",
              "│ 2   ┆ 150000.0 ┆ 45.0 ┆ Male   ┆ PhD             ┆ Senior Manager          ┆ 15.0                │\n",
              "│ 3   ┆ 60000.0  ┆ 36.0 ┆ Female ┆ Bachelor's      ┆ Sales Associate         ┆ 7.0                 │\n",
              "│ 4   ┆ 200000.0 ┆ 52.0 ┆ Male   ┆ Master's        ┆ Director                ┆ 20.0                │\n",
              "│ 5   ┆ 55000.0  ┆ 29.0 ┆ Male   ┆ Bachelor's      ┆ Marketing Analyst       ┆ 2.0                 │\n",
              "│ 6   ┆ 120000.0 ┆ 42.0 ┆ Female ┆ Master's        ┆ Product Manager         ┆ 12.0                │\n",
              "│ 7   ┆ 80000.0  ┆ 31.0 ┆ Male   ┆ Bachelor's      ┆ Sales Manager           ┆ 4.0                 │\n",
              "│ 8   ┆ 45000.0  ┆ 26.0 ┆ Female ┆ Bachelor's      ┆ Marketing Coordinator   ┆ 1.0                 │\n",
              "│ 9   ┆ 110000.0 ┆ 38.0 ┆ Male   ┆ PhD             ┆ Senior Scientist        ┆ 10.0                │\n",
              "│ 10  ┆ 75000.0  ┆ 29.0 ┆ Male   ┆ Master's        ┆ Software Developer      ┆ 3.0                 │\n",
              "│ 11  ┆ 140000.0 ┆ 48.0 ┆ Female ┆ Bachelor's      ┆ HR Manager              ┆ 18.0                │\n",
              "│ 12  ┆ 65000.0  ┆ 35.0 ┆ Male   ┆ Bachelor's      ┆ Financial Analyst       ┆ 6.0                 │\n",
              "│ 13  ┆ 130000.0 ┆ 40.0 ┆ Female ┆ Master's        ┆ Project Manager         ┆ 14.0                │\n",
              "│ 14  ┆ 40000.0  ┆ 27.0 ┆ Male   ┆ Bachelor's      ┆ Customer Service Rep    ┆ 2.0                 │\n",
              "│ …   ┆ …        ┆ …    ┆ …      ┆ …               ┆ …                       ┆ …                   │\n",
              "│ 360 ┆ 40000.0  ┆ 29.0 ┆ Female ┆ Bachelor's      ┆ Junior Project Manager  ┆ 2.0                 │\n",
              "│ 361 ┆ 90000.0  ┆ 34.0 ┆ Male   ┆ Bachelor's      ┆ Senior Operations       ┆ 7.0                 │\n",
              "│     ┆          ┆      ┆        ┆                 ┆ Coordinator             ┆                     │\n",
              "│ 362 ┆ 150000.0 ┆ 44.0 ┆ Female ┆ PhD             ┆ Senior Business Analyst ┆ 15.0                │\n",
              "│ 363 ┆ 70000.0  ┆ 33.0 ┆ Male   ┆ Bachelor's      ┆ Junior Marketing        ┆ 5.0                 │\n",
              "│     ┆          ┆      ┆        ┆                 ┆ Specialist              ┆                     │\n",
              "│ 364 ┆ 90000.0  ┆ 35.0 ┆ Female ┆ Bachelor's      ┆ Senior Financial        ┆ 8.0                 │\n",
              "│     ┆          ┆      ┆        ┆                 ┆ Manager                 ┆                     │\n",
              "│ 365 ┆ 170000.0 ┆ 43.0 ┆ Male   ┆ Master's        ┆ Director of Marketing   ┆ 18.0                │\n",
              "│ 366 ┆ 50000.0  ┆ 31.0 ┆ Female ┆ null            ┆ Junior Financial        ┆ 3.0                 │\n",
              "│     ┆          ┆      ┆        ┆                 ┆ Analyst                 ┆                     │\n",
              "│ 367 ┆ 150000.0 ┆ 41.0 ┆ Male   ┆ Bachelor's      ┆ Senior Product Manager  ┆ 14.0                │\n",
              "│ 368 ┆ 160000.0 ┆ 44.0 ┆ Female ┆ PhD             ┆ Senior Data Engineer    ┆ 16.0                │\n",
              "│ 369 ┆ 60000.0  ┆ 33.0 ┆ Male   ┆ Bachelor's      ┆ Junior Business Analyst ┆ 4.0                 │\n",
              "│ 370 ┆ 85000.0  ┆ 35.0 ┆ Female ┆ Bachelor's      ┆ Senior Marketing        ┆ 8.0                 │\n",
              "│     ┆          ┆      ┆        ┆                 ┆ Analyst                 ┆                     │\n",
              "│ 371 ┆ 170000.0 ┆ 43.0 ┆ Male   ┆ Master's        ┆ Director of Operations  ┆ 19.0                │\n",
              "│ 372 ┆ 40000.0  ┆ 29.0 ┆ Female ┆ Bachelor's      ┆ Junior Project Manager  ┆ 2.0                 │\n",
              "│ 373 ┆ 90000.0  ┆ 34.0 ┆ Male   ┆ Bachelor's      ┆ Senior Operations       ┆ 7.0                 │\n",
              "│     ┆          ┆      ┆        ┆                 ┆ Coordinator             ┆                     │\n",
              "│ 374 ┆ 150000.0 ┆ 44.0 ┆ Female ┆ PhD             ┆ Senior Business Analyst ┆ 15.0                │\n",
              "└─────┴──────────┴──────┴────────┴─────────────────┴─────────────────────────┴─────────────────────┘"
            ],
            "text/html": [
              "<div><style>\n",
              ".dataframe > thead > tr,\n",
              ".dataframe > tbody > tr {\n",
              "  text-align: right;\n",
              "  white-space: pre-wrap;\n",
              "}\n",
              "</style>\n",
              "<small>shape: (375, 7)</small><table border=\"1\" class=\"dataframe\"><thead><tr><th>id</th><th>Salary</th><th>Age</th><th>Gender</th><th>Education Level</th><th>Job Title</th><th>Years of Experience</th></tr><tr><td>i64</td><td>f64</td><td>f64</td><td>str</td><td>str</td><td>str</td><td>f64</td></tr></thead><tbody><tr><td>0</td><td>90000.0</td><td>32.0</td><td>&quot;Male&quot;</td><td>&quot;Bachelor&#x27;s&quot;</td><td>&quot;Software Engineer&quot;</td><td>5.0</td></tr><tr><td>1</td><td>65000.0</td><td>28.0</td><td>&quot;Female&quot;</td><td>&quot;Master&#x27;s&quot;</td><td>&quot;Data Analyst&quot;</td><td>3.0</td></tr><tr><td>2</td><td>150000.0</td><td>45.0</td><td>&quot;Male&quot;</td><td>&quot;PhD&quot;</td><td>&quot;Senior Manager&quot;</td><td>15.0</td></tr><tr><td>3</td><td>60000.0</td><td>36.0</td><td>&quot;Female&quot;</td><td>&quot;Bachelor&#x27;s&quot;</td><td>&quot;Sales Associate&quot;</td><td>7.0</td></tr><tr><td>4</td><td>200000.0</td><td>52.0</td><td>&quot;Male&quot;</td><td>&quot;Master&#x27;s&quot;</td><td>&quot;Director&quot;</td><td>20.0</td></tr><tr><td>5</td><td>55000.0</td><td>29.0</td><td>&quot;Male&quot;</td><td>&quot;Bachelor&#x27;s&quot;</td><td>&quot;Marketing Analyst&quot;</td><td>2.0</td></tr><tr><td>6</td><td>120000.0</td><td>42.0</td><td>&quot;Female&quot;</td><td>&quot;Master&#x27;s&quot;</td><td>&quot;Product Manager&quot;</td><td>12.0</td></tr><tr><td>7</td><td>80000.0</td><td>31.0</td><td>&quot;Male&quot;</td><td>&quot;Bachelor&#x27;s&quot;</td><td>&quot;Sales Manager&quot;</td><td>4.0</td></tr><tr><td>8</td><td>45000.0</td><td>26.0</td><td>&quot;Female&quot;</td><td>&quot;Bachelor&#x27;s&quot;</td><td>&quot;Marketing Coordinator&quot;</td><td>1.0</td></tr><tr><td>9</td><td>110000.0</td><td>38.0</td><td>&quot;Male&quot;</td><td>&quot;PhD&quot;</td><td>&quot;Senior Scientist&quot;</td><td>10.0</td></tr><tr><td>10</td><td>75000.0</td><td>29.0</td><td>&quot;Male&quot;</td><td>&quot;Master&#x27;s&quot;</td><td>&quot;Software Developer&quot;</td><td>3.0</td></tr><tr><td>11</td><td>140000.0</td><td>48.0</td><td>&quot;Female&quot;</td><td>&quot;Bachelor&#x27;s&quot;</td><td>&quot;HR Manager&quot;</td><td>18.0</td></tr><tr><td>12</td><td>65000.0</td><td>35.0</td><td>&quot;Male&quot;</td><td>&quot;Bachelor&#x27;s&quot;</td><td>&quot;Financial Analyst&quot;</td><td>6.0</td></tr><tr><td>13</td><td>130000.0</td><td>40.0</td><td>&quot;Female&quot;</td><td>&quot;Master&#x27;s&quot;</td><td>&quot;Project Manager&quot;</td><td>14.0</td></tr><tr><td>14</td><td>40000.0</td><td>27.0</td><td>&quot;Male&quot;</td><td>&quot;Bachelor&#x27;s&quot;</td><td>&quot;Customer Service Rep&quot;</td><td>2.0</td></tr><tr><td>&hellip;</td><td>&hellip;</td><td>&hellip;</td><td>&hellip;</td><td>&hellip;</td><td>&hellip;</td><td>&hellip;</td></tr><tr><td>360</td><td>40000.0</td><td>29.0</td><td>&quot;Female&quot;</td><td>&quot;Bachelor&#x27;s&quot;</td><td>&quot;Junior Project Manager&quot;</td><td>2.0</td></tr><tr><td>361</td><td>90000.0</td><td>34.0</td><td>&quot;Male&quot;</td><td>&quot;Bachelor&#x27;s&quot;</td><td>&quot;Senior Operations Coordinator&quot;</td><td>7.0</td></tr><tr><td>362</td><td>150000.0</td><td>44.0</td><td>&quot;Female&quot;</td><td>&quot;PhD&quot;</td><td>&quot;Senior Business Analyst&quot;</td><td>15.0</td></tr><tr><td>363</td><td>70000.0</td><td>33.0</td><td>&quot;Male&quot;</td><td>&quot;Bachelor&#x27;s&quot;</td><td>&quot;Junior Marketing Specialist&quot;</td><td>5.0</td></tr><tr><td>364</td><td>90000.0</td><td>35.0</td><td>&quot;Female&quot;</td><td>&quot;Bachelor&#x27;s&quot;</td><td>&quot;Senior Financial Manager&quot;</td><td>8.0</td></tr><tr><td>365</td><td>170000.0</td><td>43.0</td><td>&quot;Male&quot;</td><td>&quot;Master&#x27;s&quot;</td><td>&quot;Director of Marketing&quot;</td><td>18.0</td></tr><tr><td>366</td><td>50000.0</td><td>31.0</td><td>&quot;Female&quot;</td><td>null</td><td>&quot;Junior Financial Analyst&quot;</td><td>3.0</td></tr><tr><td>367</td><td>150000.0</td><td>41.0</td><td>&quot;Male&quot;</td><td>&quot;Bachelor&#x27;s&quot;</td><td>&quot;Senior Product Manager&quot;</td><td>14.0</td></tr><tr><td>368</td><td>160000.0</td><td>44.0</td><td>&quot;Female&quot;</td><td>&quot;PhD&quot;</td><td>&quot;Senior Data Engineer&quot;</td><td>16.0</td></tr><tr><td>369</td><td>60000.0</td><td>33.0</td><td>&quot;Male&quot;</td><td>&quot;Bachelor&#x27;s&quot;</td><td>&quot;Junior Business Analyst&quot;</td><td>4.0</td></tr><tr><td>370</td><td>85000.0</td><td>35.0</td><td>&quot;Female&quot;</td><td>&quot;Bachelor&#x27;s&quot;</td><td>&quot;Senior Marketing Analyst&quot;</td><td>8.0</td></tr><tr><td>371</td><td>170000.0</td><td>43.0</td><td>&quot;Male&quot;</td><td>&quot;Master&#x27;s&quot;</td><td>&quot;Director of Operations&quot;</td><td>19.0</td></tr><tr><td>372</td><td>40000.0</td><td>29.0</td><td>&quot;Female&quot;</td><td>&quot;Bachelor&#x27;s&quot;</td><td>&quot;Junior Project Manager&quot;</td><td>2.0</td></tr><tr><td>373</td><td>90000.0</td><td>34.0</td><td>&quot;Male&quot;</td><td>&quot;Bachelor&#x27;s&quot;</td><td>&quot;Senior Operations Coordinator&quot;</td><td>7.0</td></tr><tr><td>374</td><td>150000.0</td><td>44.0</td><td>&quot;Female&quot;</td><td>&quot;PhD&quot;</td><td>&quot;Senior Business Analyst&quot;</td><td>15.0</td></tr></tbody></table></div>"
            ]
          },
          "metadata": {},
          "execution_count": 710
        }
      ],
      "source": [
        "df_salary_people_raw = df_salary_raw.join(df_people_raw,\n",
        "                                      on=\"id\", how=\"inner\")\n",
        "df_salary_people_raw"
      ]
    },
    {
      "cell_type": "markdown",
      "id": "92021ee9",
      "metadata": {
        "id": "92021ee9"
      },
      "source": [
        "## Feature engineer"
      ]
    },
    {
      "cell_type": "code",
      "execution_count": null,
      "id": "6a0a1c93",
      "metadata": {
        "id": "6a0a1c93"
      },
      "outputs": [],
      "source": [
        "num_cols = ['Age']\n",
        "cat_cols = ['Gender', 'Education Level', 'Job Title', 'Years of Experience']"
      ]
    },
    {
      "cell_type": "markdown",
      "id": "473f46d1",
      "metadata": {
        "id": "473f46d1"
      },
      "source": [
        "### Target variable treatment"
      ]
    },
    {
      "cell_type": "code",
      "execution_count": null,
      "id": "245fcff8",
      "metadata": {
        "id": "245fcff8"
      },
      "outputs": [],
      "source": [
        "def clean_target_variable(df, target_col=TARGET):\n",
        "    \"\"\"Remove rows with null values in target variable.\"\"\"\n",
        "    initial_count = df.shape[0]\n",
        "    df_cleaned = df.filter(pl.col(target_col).is_not_null())\n",
        "    removed_count = initial_count - df_cleaned.shape[0]\n",
        "\n",
        "    if removed_count > 0:\n",
        "        print(f\"Removed {removed_count} rows with null {target_col} values\")\n",
        "\n",
        "    # Only one value for a salary of 350 for a junior analys\n",
        "    # I assume this is an error and remove it\n",
        "    df_cleaned = df_cleaned.filter(pl.col(target_col) > 400)\n",
        "\n",
        "    method = 'log_transform878'\n",
        "\n",
        "        # 3. Handle outliers based on the chosen method\n",
        "\n",
        "    # set target as global\n",
        "    global TARGET\n",
        "\n",
        "    if method == 'log_transform':\n",
        "        # Apply a log transformation to compress the range of the target variable.\n",
        "        # This is useful when the distribution is skewed and has a long tail.\n",
        "        # It doesn't remove outliers but reduces their impact.\n",
        "        # Use log1p to handle cases where target_col can be 0 or small positive values.\n",
        "        print(f\"Applying log1p transformation to '{target_col}'\")\n",
        "        df_cleaned = df_cleaned.with_columns(\n",
        "            (pl.col(target_col) + 1).log().alias(f'{TARGET}_log')\n",
        "        )\n",
        "        TARGET = f'{TARGET}_log'\n",
        "        # Note: If you choose this, your model will predict log-transformed values.\n",
        "        # You'll need to inverse transform them (exp_minus_1) after prediction.\n",
        "        print(f\"A new column '{target_col}_log' has been created. Use this for training.\")\n",
        "        print(\"Remember to inverse transform your predictions (exp(pred) - 1) later.\")\n",
        "\n",
        "    elif method == 'capping':\n",
        "        # Winsorization: Cap values at a certain percentile (e.g., 1st and 99th percentile).\n",
        "        lower_percentile = 0.01\n",
        "        upper_percentile = 0.99\n",
        "        lower_cap = df_cleaned.select(pl.col(target_col).quantile(lower_percentile)).item()\n",
        "        upper_cap = df_cleaned.select(pl.col(target_col).quantile(upper_percentile)).item()\n",
        "\n",
        "        print(f\"Capping '{target_col}' values between {lower_cap:.2f} (1st percentile) and {upper_cap:.2f} (99th percentile).\")\n",
        "        df_cleaned = df_cleaned.with_columns(\n",
        "            pl.col(target_col).clip(lower_bound=lower_cap, upper_bound=upper_cap).alias(target_col)\n",
        "        )\n",
        "        print(f\"Values outside this range have been capped.\")\n",
        "\n",
        "    else:\n",
        "        print(f\"Warning: Unknown outlier handling method '{method}'. No outlier treatment applied.\")\n",
        "\n",
        "\n",
        "    return df_cleaned"
      ]
    },
    {
      "cell_type": "markdown",
      "id": "716031ad",
      "metadata": {
        "id": "716031ad"
      },
      "source": [
        "### Age treatment"
      ]
    },
    {
      "cell_type": "code",
      "execution_count": null,
      "id": "df79bc54",
      "metadata": {
        "id": "df79bc54"
      },
      "outputs": [],
      "source": [
        "def engineer_age_features(df):\n",
        "    \"\"\"Engineer age-related features.\"\"\"\n",
        "\n",
        "    # Create age bins\n",
        "    df = df.with_columns(\n",
        "        pl.when(pl.col('Age').is_not_null()).then(\n",
        "            pl.when(pl.col('Age') < 30).then(pl.lit('young'))\n",
        "            .when(pl.col('Age') < 45).then(pl.lit('mid'))\n",
        "            .otherwise(pl.lit('old')))\n",
        "            .otherwise(None).alias('Age_bin')\n",
        "    )\n",
        "\n",
        "    cat_cols.append('Age_bin')\n",
        "\n",
        "    return df"
      ]
    },
    {
      "cell_type": "markdown",
      "id": "721e9a7b",
      "metadata": {
        "id": "721e9a7b"
      },
      "source": [
        "### Gender treatment"
      ]
    },
    {
      "cell_type": "code",
      "execution_count": null,
      "id": "117c4847",
      "metadata": {
        "id": "117c4847"
      },
      "outputs": [],
      "source": [
        "def engineer_gender_features(df):\n",
        "    \"\"\"Engineer gender-related features.\"\"\"\n",
        "\n",
        "    pass\n",
        "\n",
        "    return df"
      ]
    },
    {
      "cell_type": "markdown",
      "id": "97372adc",
      "metadata": {
        "id": "97372adc"
      },
      "source": [
        "### Education treatment"
      ]
    },
    {
      "cell_type": "code",
      "execution_count": null,
      "id": "196f7916",
      "metadata": {
        "id": "196f7916"
      },
      "outputs": [],
      "source": [
        "def engineer_ed_features(df):\n",
        "    \"\"\"engineer education-related features.\"\"\"\n",
        "\n",
        "    pass\n",
        "\n",
        "    return df"
      ]
    },
    {
      "cell_type": "markdown",
      "id": "8b3720b1",
      "metadata": {
        "id": "8b3720b1"
      },
      "source": [
        "### Job title treatment"
      ]
    },
    {
      "cell_type": "code",
      "execution_count": null,
      "id": "80f5c5f7",
      "metadata": {
        "id": "80f5c5f7"
      },
      "outputs": [],
      "source": [
        "def engineer_jt_features(df):\n",
        "    \"\"\"engineer job title-related features.\"\"\"\n",
        "\n",
        "    # Create a new column for job title categories\n",
        "    df = df.with_columns(\n",
        "        pl.when(pl.col('Job Title').str.contains('Director')).then(pl.lit('Director'))\n",
        "        .when(pl.col('Job Title').str.contains('Manager')).then(pl.lit('Manager'))\n",
        "        .when(pl.col('Job Title').str.contains('Coordinator')).then(pl.lit('Coordinator'))\n",
        "        .when(pl.col('Job Title').str.contains('Analyst')).then(pl.lit('Analyst'))\n",
        "        .when(pl.col('Job Title').str.contains('CEO')).then(pl.lit('Executive'))\n",
        "        .when(pl.col('Job Title').str.contains('Chief')).then(pl.lit('Executive'))\n",
        "        .when(pl.col('Job Title').str.contains('VP')).then(pl.lit('Executive'))\n",
        "        .otherwise(pl.lit('Other')).alias('Job_Title_Category')\n",
        "    )\n",
        "\n",
        "    df = df.with_columns(\n",
        "        pl.when(pl.col('Job Title').str.contains('Senior')).then(pl.lit('Senior'))\n",
        "        .when(pl.col('Job Title').str.contains('Junior')).then(pl.lit('Junior'))\n",
        "        .otherwise(pl.lit('Other')).alias('Job_Level')\n",
        "    )\n",
        "\n",
        "    df = df.drop('Job Title')\n",
        "    cat_cols.remove('Job Title')\n",
        "\n",
        "    cat_cols.append('Job_Title_Category')\n",
        "    cat_cols.append('Job_Level')\n",
        "\n",
        "    return df"
      ]
    },
    {
      "cell_type": "markdown",
      "id": "33a5ee55",
      "metadata": {
        "id": "33a5ee55"
      },
      "source": [
        "### Years of experience treatment"
      ]
    },
    {
      "cell_type": "code",
      "execution_count": null,
      "id": "260a1592",
      "metadata": {
        "id": "260a1592"
      },
      "outputs": [],
      "source": [
        "def engineer_yoe_features(df):\n",
        "    \"\"\"engineer years of experience-related features.\"\"\"\n",
        "\n",
        "    # create years of experience bins\n",
        "    df = df.with_columns(\n",
        "        pl.when(pl.col('Years of Experience') < 1).then(pl.lit('junior'))\n",
        "        .when(pl.col('Years of Experience') < 3).then(pl.lit('mid'))\n",
        "        .otherwise(pl.lit('senior')).alias('Experience_bin')\n",
        "    )\n",
        "    cat_cols.append('Experience_bin')\n",
        "\n",
        "    return df"
      ]
    },
    {
      "cell_type": "markdown",
      "id": "fe4f76d9",
      "metadata": {
        "id": "fe4f76d9"
      },
      "source": [
        "### Add interaction features"
      ]
    },
    {
      "cell_type": "code",
      "execution_count": null,
      "id": "a0867b83",
      "metadata": {
        "id": "a0867b83"
      },
      "outputs": [],
      "source": [
        "def create_interaction_features(df):\n",
        "    \"\"\"Create interaction features\"\"\"\n",
        "    ed_age = df.group_by('Education Level').agg(\n",
        "        pl.col('Age').mean().alias('Education_Age_mean'),\n",
        "        pl.col('Age').std().alias('Education_Age_std')\n",
        "    )\n",
        "\n",
        "    df = df.join(ed_age, on='Education Level', how='left')\n",
        "\n",
        "    num_cols.extend(['Education_Age_mean', 'Education_Age_std'])\n",
        "\n",
        "    df = df.with_columns(\n",
        "        (pl.col('Years of Experience') / pl.col('Age')).alias('YoE_Age_ratio'),\n",
        "    )\n",
        "    num_cols.append('YoE_Age_ratio')\n",
        "\n",
        "    df = df.with_columns(\n",
        "        (pl.col('Years of Experience') + pl.col('Years of Experience')).alias('YoE_squared'),\n",
        "        (pl.col('Years of Experience') * pl.col('Age')).alias('YoE_Age_interaction')\n",
        "    )\n",
        "\n",
        "    num_cols.extend(['YoE_squared', 'YoE_Age_interaction'])\n",
        "\n",
        "    return df"
      ]
    },
    {
      "cell_type": "code",
      "execution_count": null,
      "id": "7f588c74",
      "metadata": {
        "id": "7f588c74",
        "colab": {
          "base_uri": "https://localhost:8080/"
        },
        "outputId": "9cfb4001-a21a-45ae-fae2-d490f5fa68da"
      },
      "outputs": [
        {
          "output_type": "stream",
          "name": "stdout",
          "text": [
            "Removed 2 rows with null Salary values\n",
            "Warning: Unknown outlier handling method 'log_transform878'. No outlier treatment applied.\n"
          ]
        }
      ],
      "source": [
        "def perform_feature_engineering(df):\n",
        "    \"\"\"Perform all feature engineering steps.\"\"\"\n",
        "    # Remove ID column\n",
        "\n",
        "    # Clean target variable\n",
        "    df = clean_target_variable(df)\n",
        "\n",
        "    # Engineer features\n",
        "    df = engineer_age_features(df)\n",
        "    df = engineer_gender_features(df)\n",
        "    df = engineer_ed_features(df)\n",
        "    df = engineer_jt_features(df)\n",
        "    df = engineer_yoe_features(df)\n",
        "    df = create_interaction_features(df)\n",
        "\n",
        "    ids = df[ID]\n",
        "    df = df.drop(ID)\n",
        "    return df, ids\n",
        "\n",
        "df_salary_people, ids = perform_feature_engineering(df_salary_people_raw)"
      ]
    },
    {
      "cell_type": "markdown",
      "id": "44ab22f5",
      "metadata": {
        "id": "44ab22f5"
      },
      "source": [
        "## Data preprocessing"
      ]
    },
    {
      "cell_type": "code",
      "execution_count": null,
      "id": "e426d58c",
      "metadata": {
        "id": "e426d58c"
      },
      "outputs": [],
      "source": [
        "# Salary has outliers, need to decide how to handle them\n",
        "\n",
        "# age has 3 null values, need to decide how to fill them\n",
        "\n",
        "# gender has 3 null values, need to decide how to fill them\n",
        "\n",
        "# Education Level has 3 null values, need to decide how to fill them\n",
        "\n",
        "# Job Title has 3 null values, need to decide how to fill them\n",
        "# Job title has high cardinality, experiment extracting keywords"
      ]
    },
    {
      "cell_type": "code",
      "execution_count": null,
      "id": "08d157aa",
      "metadata": {
        "id": "08d157aa"
      },
      "outputs": [],
      "source": [
        "def create_preprocessing_pipeline():\n",
        "    \"\"\"Create sklearn preprocessing pipeline.\"\"\"\n",
        "    # numerical imputer\n",
        "    num_imputer = SimpleImputer(strategy='median')\n",
        "    # numerical scaler\n",
        "    scaler = StandardScaler()\n",
        "    # categorical imputer\n",
        "    cat_imputer = SimpleImputer(strategy='most_frequent')\n",
        "    # categorical encoder\n",
        "    ohe_encoder = OneHotEncoder(handle_unknown='ignore', sparse_output=False)\n",
        "    oe_encoder = OrdinalEncoder(handle_unknown='use_encoded_value', unknown_value=-1)\n",
        "\n",
        "    # numerical pipeline\n",
        "    num_pipeline = Pipeline([\n",
        "        ('num_imputer', num_imputer),\n",
        "        ('scaler', scaler)\n",
        "    ])\n",
        "    # categorical pipeline\n",
        "    cat_pipeline = Pipeline([\n",
        "        ('cat_imputer', cat_imputer),\n",
        "        ('ohe_encoder', ohe_encoder)\n",
        "    ])\n",
        "\n",
        "    # column transformer\n",
        "\n",
        "    pipeline = ColumnTransformer([\n",
        "        ('num', num_pipeline, num_cols),\n",
        "        ('cat_ohe', cat_pipeline, cat_cols),\n",
        "        ])\n",
        "    return pipeline\n"
      ]
    },
    {
      "cell_type": "code",
      "execution_count": null,
      "id": "0b9aa331",
      "metadata": {
        "id": "0b9aa331"
      },
      "outputs": [],
      "source": [
        "X = df_salary_people.drop(TARGET)\n",
        "# y_base = df_salary_people.select('Salary')\n",
        "y = df_salary_people[TARGET]"
      ]
    },
    {
      "cell_type": "code",
      "execution_count": null,
      "id": "93ea3536",
      "metadata": {
        "id": "93ea3536",
        "colab": {
          "base_uri": "https://localhost:8080/",
          "height": 542
        },
        "outputId": "20bba322-3d39-40e3-a122-bc952bee38f3"
      },
      "outputs": [
        {
          "output_type": "display_data",
          "data": {
            "text/html": [
              "<html>\n",
              "<head><meta charset=\"utf-8\" /></head>\n",
              "<body>\n",
              "    <div>            <script src=\"https://cdnjs.cloudflare.com/ajax/libs/mathjax/2.7.5/MathJax.js?config=TeX-AMS-MML_SVG\"></script><script type=\"text/javascript\">if (window.MathJax && window.MathJax.Hub && window.MathJax.Hub.Config) {window.MathJax.Hub.Config({SVG: {font: \"STIX-Web\"}});}</script>                <script type=\"text/javascript\">window.PlotlyConfig = {MathJaxConfig: 'local'};</script>\n",
              "        <script charset=\"utf-8\" src=\"https://cdn.plot.ly/plotly-2.35.2.min.js\"></script>                <div id=\"35b565d0-a2cf-4cc6-ad98-57e279fed9d0\" class=\"plotly-graph-div\" style=\"height:525px; width:100%;\"></div>            <script type=\"text/javascript\">                                    window.PLOTLYENV=window.PLOTLYENV || {};                                    if (document.getElementById(\"35b565d0-a2cf-4cc6-ad98-57e279fed9d0\")) {                    Plotly.newPlot(                        \"35b565d0-a2cf-4cc6-ad98-57e279fed9d0\",                        [{\"coloraxis\":\"coloraxis\",\"name\":\"0\",\"texttemplate\":\"%{z}\",\"x\":[\"Age\",\"Education_Age_mean\",\"Education_Age_std\",\"YoE_Age_ratio\",\"YoE_squared\",\"YoE_Age_interaction\"],\"y\":[\"Age\",\"Education_Age_mean\",\"Education_Age_std\",\"YoE_Age_ratio\",\"YoE_squared\",\"YoE_Age_interaction\"],\"z\":[[1.0,0.5671428402131821,-0.16389622267035053,0.9621172284094468,0.9793098388116794,0.974078087680966],[0.5671428402131821,1.0,-0.28820357309250455,0.5885886501189492,0.5953676407427108,0.5897489642610793],[-0.16389622267035053,-0.28820357309250455,1.0,-0.15392397185441262,-0.16012598982194656,-0.15784644193352113],[0.9621172284094468,0.5885886501189492,-0.15392397185441262,1.0,0.9869611331604732,0.9599718875849806],[0.9793098388116794,0.5953676407427108,-0.16012598982194656,0.9869611331604732,1.0,0.9924038755167184],[0.974078087680966,0.5897489642610793,-0.15784644193352113,0.9599718875849806,0.9924038755167184,1.0]],\"type\":\"heatmap\",\"xaxis\":\"x\",\"yaxis\":\"y\",\"hovertemplate\":\"x: %{x}\\u003cbr\\u003ey: %{y}\\u003cbr\\u003ecolor: %{z}\\u003cextra\\u003e\\u003c\\u002fextra\\u003e\"}],                        {\"template\":{\"data\":{\"histogram2dcontour\":[{\"type\":\"histogram2dcontour\",\"colorbar\":{\"outlinewidth\":0,\"ticks\":\"\"},\"colorscale\":[[0.0,\"#0d0887\"],[0.1111111111111111,\"#46039f\"],[0.2222222222222222,\"#7201a8\"],[0.3333333333333333,\"#9c179e\"],[0.4444444444444444,\"#bd3786\"],[0.5555555555555556,\"#d8576b\"],[0.6666666666666666,\"#ed7953\"],[0.7777777777777778,\"#fb9f3a\"],[0.8888888888888888,\"#fdca26\"],[1.0,\"#f0f921\"]]}],\"choropleth\":[{\"type\":\"choropleth\",\"colorbar\":{\"outlinewidth\":0,\"ticks\":\"\"}}],\"histogram2d\":[{\"type\":\"histogram2d\",\"colorbar\":{\"outlinewidth\":0,\"ticks\":\"\"},\"colorscale\":[[0.0,\"#0d0887\"],[0.1111111111111111,\"#46039f\"],[0.2222222222222222,\"#7201a8\"],[0.3333333333333333,\"#9c179e\"],[0.4444444444444444,\"#bd3786\"],[0.5555555555555556,\"#d8576b\"],[0.6666666666666666,\"#ed7953\"],[0.7777777777777778,\"#fb9f3a\"],[0.8888888888888888,\"#fdca26\"],[1.0,\"#f0f921\"]]}],\"heatmap\":[{\"type\":\"heatmap\",\"colorbar\":{\"outlinewidth\":0,\"ticks\":\"\"},\"colorscale\":[[0.0,\"#0d0887\"],[0.1111111111111111,\"#46039f\"],[0.2222222222222222,\"#7201a8\"],[0.3333333333333333,\"#9c179e\"],[0.4444444444444444,\"#bd3786\"],[0.5555555555555556,\"#d8576b\"],[0.6666666666666666,\"#ed7953\"],[0.7777777777777778,\"#fb9f3a\"],[0.8888888888888888,\"#fdca26\"],[1.0,\"#f0f921\"]]}],\"heatmapgl\":[{\"type\":\"heatmapgl\",\"colorbar\":{\"outlinewidth\":0,\"ticks\":\"\"},\"colorscale\":[[0.0,\"#0d0887\"],[0.1111111111111111,\"#46039f\"],[0.2222222222222222,\"#7201a8\"],[0.3333333333333333,\"#9c179e\"],[0.4444444444444444,\"#bd3786\"],[0.5555555555555556,\"#d8576b\"],[0.6666666666666666,\"#ed7953\"],[0.7777777777777778,\"#fb9f3a\"],[0.8888888888888888,\"#fdca26\"],[1.0,\"#f0f921\"]]}],\"contourcarpet\":[{\"type\":\"contourcarpet\",\"colorbar\":{\"outlinewidth\":0,\"ticks\":\"\"}}],\"contour\":[{\"type\":\"contour\",\"colorbar\":{\"outlinewidth\":0,\"ticks\":\"\"},\"colorscale\":[[0.0,\"#0d0887\"],[0.1111111111111111,\"#46039f\"],[0.2222222222222222,\"#7201a8\"],[0.3333333333333333,\"#9c179e\"],[0.4444444444444444,\"#bd3786\"],[0.5555555555555556,\"#d8576b\"],[0.6666666666666666,\"#ed7953\"],[0.7777777777777778,\"#fb9f3a\"],[0.8888888888888888,\"#fdca26\"],[1.0,\"#f0f921\"]]}],\"surface\":[{\"type\":\"surface\",\"colorbar\":{\"outlinewidth\":0,\"ticks\":\"\"},\"colorscale\":[[0.0,\"#0d0887\"],[0.1111111111111111,\"#46039f\"],[0.2222222222222222,\"#7201a8\"],[0.3333333333333333,\"#9c179e\"],[0.4444444444444444,\"#bd3786\"],[0.5555555555555556,\"#d8576b\"],[0.6666666666666666,\"#ed7953\"],[0.7777777777777778,\"#fb9f3a\"],[0.8888888888888888,\"#fdca26\"],[1.0,\"#f0f921\"]]}],\"mesh3d\":[{\"type\":\"mesh3d\",\"colorbar\":{\"outlinewidth\":0,\"ticks\":\"\"}}],\"scatter\":[{\"fillpattern\":{\"fillmode\":\"overlay\",\"size\":10,\"solidity\":0.2},\"type\":\"scatter\"}],\"parcoords\":[{\"type\":\"parcoords\",\"line\":{\"colorbar\":{\"outlinewidth\":0,\"ticks\":\"\"}}}],\"scatterpolargl\":[{\"type\":\"scatterpolargl\",\"marker\":{\"colorbar\":{\"outlinewidth\":0,\"ticks\":\"\"}}}],\"bar\":[{\"error_x\":{\"color\":\"#2a3f5f\"},\"error_y\":{\"color\":\"#2a3f5f\"},\"marker\":{\"line\":{\"color\":\"#E5ECF6\",\"width\":0.5},\"pattern\":{\"fillmode\":\"overlay\",\"size\":10,\"solidity\":0.2}},\"type\":\"bar\"}],\"scattergeo\":[{\"type\":\"scattergeo\",\"marker\":{\"colorbar\":{\"outlinewidth\":0,\"ticks\":\"\"}}}],\"scatterpolar\":[{\"type\":\"scatterpolar\",\"marker\":{\"colorbar\":{\"outlinewidth\":0,\"ticks\":\"\"}}}],\"histogram\":[{\"marker\":{\"pattern\":{\"fillmode\":\"overlay\",\"size\":10,\"solidity\":0.2}},\"type\":\"histogram\"}],\"scattergl\":[{\"type\":\"scattergl\",\"marker\":{\"colorbar\":{\"outlinewidth\":0,\"ticks\":\"\"}}}],\"scatter3d\":[{\"type\":\"scatter3d\",\"line\":{\"colorbar\":{\"outlinewidth\":0,\"ticks\":\"\"}},\"marker\":{\"colorbar\":{\"outlinewidth\":0,\"ticks\":\"\"}}}],\"scattermapbox\":[{\"type\":\"scattermapbox\",\"marker\":{\"colorbar\":{\"outlinewidth\":0,\"ticks\":\"\"}}}],\"scatterternary\":[{\"type\":\"scatterternary\",\"marker\":{\"colorbar\":{\"outlinewidth\":0,\"ticks\":\"\"}}}],\"scattercarpet\":[{\"type\":\"scattercarpet\",\"marker\":{\"colorbar\":{\"outlinewidth\":0,\"ticks\":\"\"}}}],\"carpet\":[{\"aaxis\":{\"endlinecolor\":\"#2a3f5f\",\"gridcolor\":\"white\",\"linecolor\":\"white\",\"minorgridcolor\":\"white\",\"startlinecolor\":\"#2a3f5f\"},\"baxis\":{\"endlinecolor\":\"#2a3f5f\",\"gridcolor\":\"white\",\"linecolor\":\"white\",\"minorgridcolor\":\"white\",\"startlinecolor\":\"#2a3f5f\"},\"type\":\"carpet\"}],\"table\":[{\"cells\":{\"fill\":{\"color\":\"#EBF0F8\"},\"line\":{\"color\":\"white\"}},\"header\":{\"fill\":{\"color\":\"#C8D4E3\"},\"line\":{\"color\":\"white\"}},\"type\":\"table\"}],\"barpolar\":[{\"marker\":{\"line\":{\"color\":\"#E5ECF6\",\"width\":0.5},\"pattern\":{\"fillmode\":\"overlay\",\"size\":10,\"solidity\":0.2}},\"type\":\"barpolar\"}],\"pie\":[{\"automargin\":true,\"type\":\"pie\"}]},\"layout\":{\"autotypenumbers\":\"strict\",\"colorway\":[\"#636efa\",\"#EF553B\",\"#00cc96\",\"#ab63fa\",\"#FFA15A\",\"#19d3f3\",\"#FF6692\",\"#B6E880\",\"#FF97FF\",\"#FECB52\"],\"font\":{\"color\":\"#2a3f5f\"},\"hovermode\":\"closest\",\"hoverlabel\":{\"align\":\"left\"},\"paper_bgcolor\":\"white\",\"plot_bgcolor\":\"#E5ECF6\",\"polar\":{\"bgcolor\":\"#E5ECF6\",\"angularaxis\":{\"gridcolor\":\"white\",\"linecolor\":\"white\",\"ticks\":\"\"},\"radialaxis\":{\"gridcolor\":\"white\",\"linecolor\":\"white\",\"ticks\":\"\"}},\"ternary\":{\"bgcolor\":\"#E5ECF6\",\"aaxis\":{\"gridcolor\":\"white\",\"linecolor\":\"white\",\"ticks\":\"\"},\"baxis\":{\"gridcolor\":\"white\",\"linecolor\":\"white\",\"ticks\":\"\"},\"caxis\":{\"gridcolor\":\"white\",\"linecolor\":\"white\",\"ticks\":\"\"}},\"coloraxis\":{\"colorbar\":{\"outlinewidth\":0,\"ticks\":\"\"}},\"colorscale\":{\"sequential\":[[0.0,\"#0d0887\"],[0.1111111111111111,\"#46039f\"],[0.2222222222222222,\"#7201a8\"],[0.3333333333333333,\"#9c179e\"],[0.4444444444444444,\"#bd3786\"],[0.5555555555555556,\"#d8576b\"],[0.6666666666666666,\"#ed7953\"],[0.7777777777777778,\"#fb9f3a\"],[0.8888888888888888,\"#fdca26\"],[1.0,\"#f0f921\"]],\"sequentialminus\":[[0.0,\"#0d0887\"],[0.1111111111111111,\"#46039f\"],[0.2222222222222222,\"#7201a8\"],[0.3333333333333333,\"#9c179e\"],[0.4444444444444444,\"#bd3786\"],[0.5555555555555556,\"#d8576b\"],[0.6666666666666666,\"#ed7953\"],[0.7777777777777778,\"#fb9f3a\"],[0.8888888888888888,\"#fdca26\"],[1.0,\"#f0f921\"]],\"diverging\":[[0,\"#8e0152\"],[0.1,\"#c51b7d\"],[0.2,\"#de77ae\"],[0.3,\"#f1b6da\"],[0.4,\"#fde0ef\"],[0.5,\"#f7f7f7\"],[0.6,\"#e6f5d0\"],[0.7,\"#b8e186\"],[0.8,\"#7fbc41\"],[0.9,\"#4d9221\"],[1,\"#276419\"]]},\"xaxis\":{\"gridcolor\":\"white\",\"linecolor\":\"white\",\"ticks\":\"\",\"title\":{\"standoff\":15},\"zerolinecolor\":\"white\",\"automargin\":true,\"zerolinewidth\":2},\"yaxis\":{\"gridcolor\":\"white\",\"linecolor\":\"white\",\"ticks\":\"\",\"title\":{\"standoff\":15},\"zerolinecolor\":\"white\",\"automargin\":true,\"zerolinewidth\":2},\"scene\":{\"xaxis\":{\"backgroundcolor\":\"#E5ECF6\",\"gridcolor\":\"white\",\"linecolor\":\"white\",\"showbackground\":true,\"ticks\":\"\",\"zerolinecolor\":\"white\",\"gridwidth\":2},\"yaxis\":{\"backgroundcolor\":\"#E5ECF6\",\"gridcolor\":\"white\",\"linecolor\":\"white\",\"showbackground\":true,\"ticks\":\"\",\"zerolinecolor\":\"white\",\"gridwidth\":2},\"zaxis\":{\"backgroundcolor\":\"#E5ECF6\",\"gridcolor\":\"white\",\"linecolor\":\"white\",\"showbackground\":true,\"ticks\":\"\",\"zerolinecolor\":\"white\",\"gridwidth\":2}},\"shapedefaults\":{\"line\":{\"color\":\"#2a3f5f\"}},\"annotationdefaults\":{\"arrowcolor\":\"#2a3f5f\",\"arrowhead\":0,\"arrowwidth\":1},\"geo\":{\"bgcolor\":\"white\",\"landcolor\":\"#E5ECF6\",\"subunitcolor\":\"white\",\"showland\":true,\"showlakes\":true,\"lakecolor\":\"white\"},\"title\":{\"x\":0.05},\"mapbox\":{\"style\":\"light\"}}},\"xaxis\":{\"anchor\":\"y\",\"domain\":[0.0,1.0]},\"yaxis\":{\"anchor\":\"x\",\"domain\":[0.0,1.0],\"autorange\":\"reversed\"},\"coloraxis\":{\"colorscale\":[[0.0,\"rgb(5,48,97)\"],[0.1,\"rgb(33,102,172)\"],[0.2,\"rgb(67,147,195)\"],[0.3,\"rgb(146,197,222)\"],[0.4,\"rgb(209,229,240)\"],[0.5,\"rgb(247,247,247)\"],[0.6,\"rgb(253,219,199)\"],[0.7,\"rgb(244,165,130)\"],[0.8,\"rgb(214,96,77)\"],[0.9,\"rgb(178,24,43)\"],[1.0,\"rgb(103,0,31)\"]]},\"margin\":{\"t\":60},\"title\":{\"text\":\"Correlation Matrix of Numerical Features\"}},                        {\"responsive\": true}                    ).then(function(){\n",
              "                            \n",
              "var gd = document.getElementById('35b565d0-a2cf-4cc6-ad98-57e279fed9d0');\n",
              "var x = new MutationObserver(function (mutations, observer) {{\n",
              "        var display = window.getComputedStyle(gd).display;\n",
              "        if (!display || display === 'none') {{\n",
              "            console.log([gd, 'removed!']);\n",
              "            Plotly.purge(gd);\n",
              "            observer.disconnect();\n",
              "        }}\n",
              "}});\n",
              "\n",
              "// Listen for the removal of the full notebook cells\n",
              "var notebookContainer = gd.closest('#notebook-container');\n",
              "if (notebookContainer) {{\n",
              "    x.observe(notebookContainer, {childList: true});\n",
              "}}\n",
              "\n",
              "// Listen for the clearing of the current output cell\n",
              "var outputEl = gd.closest('.output');\n",
              "if (outputEl) {{\n",
              "    x.observe(outputEl, {childList: true});\n",
              "}}\n",
              "\n",
              "                        })                };                            </script>        </div>\n",
              "</body>\n",
              "</html>"
            ]
          },
          "metadata": {}
        }
      ],
      "source": [
        "# Analyze correlated features\n",
        "corr_matrix = X.select(num_cols).to_pandas().corr()\n",
        "fig = px.imshow(corr_matrix, text_auto=True, aspect=\"auto\", color_continuous_scale='RdBu_r')\n",
        "fig.update_layout(title='Correlation Matrix of Numerical Features')\n",
        "fig.show()"
      ]
    },
    {
      "cell_type": "markdown",
      "id": "0186dfbb",
      "metadata": {
        "id": "0186dfbb"
      },
      "source": [
        "## Metric definition"
      ]
    },
    {
      "cell_type": "code",
      "execution_count": null,
      "id": "ad9c21ef",
      "metadata": {
        "id": "ad9c21ef"
      },
      "outputs": [],
      "source": [
        "def metrics(y_true, y_pred):\n",
        "    rmse = root_mean_squared_error(y_true, y_pred)\n",
        "    r2 = r2_score(y_true, y_pred)\n",
        "    return {'rmse': rmse, 'r2': r2}"
      ]
    },
    {
      "cell_type": "code",
      "source": [
        "def bootstrap_confidence_intervals(y_true, y_pred, n_bootstrap=1000, confidence_level=0.95):\n",
        "    \"\"\"\n",
        "    Calculate bootstrap confidence intervals for RMSE and R2.\n",
        "\n",
        "    Args:\n",
        "        y_true: True values\n",
        "        y_pred: Predicted values\n",
        "        n_bootstrap: Number of bootstrap samples\n",
        "        confidence_level: Confidence level\n",
        "\n",
        "    Returns:\n",
        "        Dictionary with bootstrap confidence intervals\n",
        "    \"\"\"\n",
        "    n_samples = len(y_true)\n",
        "    bootstrap_rmse = []\n",
        "    bootstrap_r2 = []\n",
        "\n",
        "    np.random.seed(SEED)\n",
        "    for _ in range(n_bootstrap):\n",
        "        # Bootstrap sample indices\n",
        "        indices = np.random.choice(n_samples, size=n_samples, replace=True)\n",
        "        y_true_boot = y_true[indices]\n",
        "        y_pred_boot = y_pred[indices]\n",
        "\n",
        "        # Calculate metrics for bootstrap sample\n",
        "        rmse_boot = root_mean_squared_error(y_true_boot, y_pred_boot)\n",
        "        r2_boot = r2_score(y_true_boot, y_pred_boot)\n",
        "\n",
        "        bootstrap_rmse.append(rmse_boot)\n",
        "        bootstrap_r2.append(r2_boot)\n",
        "\n",
        "    # Calculate percentile confidence intervals\n",
        "    alpha = 1 - confidence_level\n",
        "    lower_percentile = (alpha/2) * 100\n",
        "    upper_percentile = (1 - alpha/2) * 100\n",
        "\n",
        "    rmse_ci = np.percentile(bootstrap_rmse, [lower_percentile, upper_percentile])\n",
        "    r2_ci = np.percentile(bootstrap_r2, [lower_percentile, upper_percentile])\n",
        "\n",
        "    return {\n",
        "        'rmse': {\n",
        "            'mean': np.mean(bootstrap_rmse),\n",
        "            'std': np.std(bootstrap_rmse),\n",
        "            'lower_ci': rmse_ci[0],\n",
        "            'upper_ci': rmse_ci[1]\n",
        "        },\n",
        "        'r2': {\n",
        "            'mean': np.mean(bootstrap_r2),\n",
        "            'std': np.std(bootstrap_r2),\n",
        "            'lower_ci': r2_ci[0],\n",
        "            'upper_ci': r2_ci[1]\n",
        "        }\n",
        "    }"
      ],
      "metadata": {
        "id": "wLnVxHLYf66e"
      },
      "id": "wLnVxHLYf66e",
      "execution_count": null,
      "outputs": []
    },
    {
      "cell_type": "code",
      "source": [
        "def print_metrics_with_ci(results):\n",
        "  print(\"\\nBootstrap Confidence Intervals for Out-of-Fold Predictions:\")\n",
        "  print(\"=\" * 60)\n",
        "  print(f\"RMSE: {results['rmse']['mean']:.2f}\")\n",
        "  print(f\"      95% CI: [{results['rmse']['lower_ci']:.2f}, {results['rmse']['upper_ci']:.2f}]\")\n",
        "  print(f\"R²:   {results['r2']['mean']:.3f}\")\n",
        "  print(f\"      95% CI: [{results['r2']['lower_ci']:.3f}, {results['r2']['upper_ci']:.3f}]\")"
      ],
      "metadata": {
        "id": "K7zjPVEQhhbp"
      },
      "id": "K7zjPVEQhhbp",
      "execution_count": null,
      "outputs": []
    },
    {
      "cell_type": "markdown",
      "id": "6d052385",
      "metadata": {
        "id": "6d052385"
      },
      "source": [
        "## Cross validation training"
      ]
    },
    {
      "cell_type": "code",
      "execution_count": null,
      "id": "dd4ae5ea",
      "metadata": {
        "id": "dd4ae5ea"
      },
      "outputs": [],
      "source": [
        "def feature_importance(pipeline, model):\n",
        "    \"\"\"Get feature importance from the model.\"\"\"\n",
        "    importances = []\n",
        "    if hasattr(model, 'feature_importances_'):\n",
        "        importances = model.feature_importances_\n",
        "    elif hasattr(model, 'coef_'):\n",
        "        importances = np.abs(model.coef_)\n",
        "    else:\n",
        "        importances = np.zeros(len(pipeline.get_feature_names_out()))\n",
        "\n",
        "    fe_impo = pl.DataFrame({\n",
        "        'feature': pipeline.get_feature_names_out(),\n",
        "        'importance': importances\n",
        "    }).sort('importance', descending=True)\n",
        "\n",
        "    return fe_impo"
      ]
    },
    {
      "cell_type": "code",
      "execution_count": null,
      "id": "d157da02",
      "metadata": {
        "id": "d157da02"
      },
      "outputs": [],
      "source": [
        "def cross_validation(model, X, y, seed = SEED, verbose=True):\n",
        "\n",
        "    kf = KFold(n_splits=N_FOLDS, shuffle=True, random_state=seed)\n",
        "    results = []\n",
        "    importances_table = None\n",
        "    oof_preds = np.zeros(len(y))\n",
        "\n",
        "    for fold, (train_index, val_index) in enumerate(kf.split(X)):\n",
        "\n",
        "        # print(f\"Fold {fold + 1}/{N_FOLDS}\")\n",
        "\n",
        "        X_train, X_val = X[train_index].clone(), X[val_index].clone()\n",
        "        y_train, y_val = y[train_index].clone(), y[val_index].clone()\n",
        "\n",
        "        # Create preprocessing pipeline\n",
        "        preprocessing_pipeline = create_preprocessing_pipeline()\n",
        "\n",
        "        X_train = preprocessing_pipeline.fit_transform(X_train)\n",
        "        X_val = preprocessing_pipeline.transform(X_val)\n",
        "\n",
        "        model.fit(X_train, y_train)\n",
        "        y_pred = model.predict(X_val)\n",
        "        oof_preds[val_index] = y_pred\n",
        "\n",
        "        result = metrics(y_val, y_pred)\n",
        "        results.append(result)\n",
        "\n",
        "        # Get feature importance for this fold\n",
        "        fe_impo = feature_importance(preprocessing_pipeline, model)\n",
        "\n",
        "\n",
        "\n",
        "        # Rename the importance column to include fold number\n",
        "        fe_impo = fe_impo.with_columns(\n",
        "            pl.col('importance').alias(f'fold_{fold + 1}')\n",
        "        ).drop('importance')\n",
        "\n",
        "        # Initialize or join the importances table\n",
        "        if importances_table is None:\n",
        "            # First fold - create the base table\n",
        "            importances_table = fe_impo\n",
        "        else:\n",
        "            # Subsequent folds - join on feature names\n",
        "            importances_table = importances_table.join(\n",
        "                fe_impo,\n",
        "                on='feature',\n",
        "                how='inner'\n",
        "            )\n",
        "\n",
        "        if verbose:\n",
        "            # Print metrics for the current fold\n",
        "            print(f\"Fold {fold + 1} - RMSE: {result['rmse']:.2f}, R2: {result['r2']:.2f}\")\n",
        "\n",
        "\n",
        "    # Add summary statistics across folds\n",
        "    fold_columns = [f'fold_{i+1}' for i in range(N_FOLDS)]\n",
        "\n",
        "    # Calculate mean and std across only the fold columns (numeric)\n",
        "    importances_table = importances_table.with_columns([\n",
        "        pl.mean_horizontal([pl.col(col).round(2) for col in fold_columns]).alias('mean_importance'),\n",
        "        pl.concat_list([pl.col(col).round(2) for col in fold_columns]).list.std().alias('std_importance')\n",
        "    ]).drop(fold_columns)\n",
        "\n",
        "    importances_table = importances_table.with_columns(\n",
        "        (pl.col(\"mean_importance\") / pl.col(\"mean_importance\").sum() * 100).alias(\"mean_importance_pct\").round(1),\n",
        "    )\n",
        "    # Round numeric columns to 2 decimals\n",
        "    numeric_cols = ['mean_importance', 'std_importance']\n",
        "    importances_table = importances_table.with_columns([\n",
        "        pl.col(col).round(2) for col in numeric_cols\n",
        "    ])\n",
        "\n",
        "    # Sort by mean importance\n",
        "    importances_table = importances_table.sort('mean_importance', descending=True)\n",
        "\n",
        "    if verbose:\n",
        "    # print mean metrics across folds\n",
        "        avg_rmse = np.mean([result['rmse'] for result in results])\n",
        "        avg_r2 = np.mean([result['r2'] for result in results])\n",
        "        print(f\"\\nAverage RMSE across folds: {avg_rmse:.2f}\")\n",
        "        print(f\"Average R2 across folds: {avg_r2:.2f}\")\n",
        "\n",
        "    return results, importances_table, oof_preds\n",
        "\n",
        "# evaluate model with cv using multple seeds to assess stability\n",
        "seeds = np.random.RandomState(SEED).choice(range(10000), size=5, replace=False).tolist()\n",
        "\n",
        "def evaluate_model_seeds(model, X, y, seeds=seeds):\n",
        "\n",
        "    results = []\n",
        "    for s in seeds:\n",
        "\n",
        "        seed_results, _, _ = cross_validation(model, X, y, s, verbose=False)\n",
        "\n",
        "        avg_rmse = np.mean([result['rmse'] for result in seed_results])\n",
        "        avg_r2 = np.mean([result['r2'] for result in seed_results])\n",
        "\n",
        "        results.append({\n",
        "            'seed': s,\n",
        "            'rmse': avg_rmse,\n",
        "            'r2': avg_r2\n",
        "        })\n",
        "\n",
        "    eval_results = pl.DataFrame(results)\n",
        "\n",
        "    eval_results = eval_results.with_columns(\n",
        "        pl.col('seed').cast(pl.String).alias('seed'))\n",
        "\n",
        "    # Calculate the mean of 'rmse' and 'r2' columns\n",
        "    mean_rmse = eval_results['rmse'].mean()\n",
        "    mean_r2 = eval_results['r2'].mean()\n",
        "\n",
        "    # Create a summary row DataFrame\n",
        "    summary_row = pl.DataFrame({\n",
        "        'seed': 'Mean',  # Label for the summary row\n",
        "        'rmse': mean_rmse,\n",
        "        'r2': mean_r2\n",
        "    })\n",
        "\n",
        "    eval_results = eval_results.vstack(summary_row)\n",
        "\n",
        "    return eval_results"
      ]
    },
    {
      "cell_type": "markdown",
      "id": "bd62509b",
      "metadata": {
        "id": "bd62509b"
      },
      "source": [
        "## Model evaluation"
      ]
    },
    {
      "cell_type": "code",
      "execution_count": null,
      "id": "81f646a0",
      "metadata": {
        "id": "81f646a0"
      },
      "outputs": [],
      "source": [
        "def plot_error_vs_predicted(oof_preds_rf, y, ids):\n",
        "    errors = pl.DataFrame({\n",
        "        'id': ids,\n",
        "        'actual': y,\n",
        "        'predicted': oof_preds_rf\n",
        "    })\n",
        "    # calculate the mean and std of the errors\n",
        "    errors = errors.with_columns(\n",
        "        ((pl.col('predicted') - pl.col('actual')) ** 2).alias('squared_error')\n",
        "    )\n",
        "\n",
        "    rmse_value = np.sqrt(errors['squared_error'].mean())\n",
        "\n",
        "    fig = px.scatter(\n",
        "        errors.to_pandas(),\n",
        "        x='predicted',\n",
        "        y='actual',\n",
        "        hover_data=['id'],\n",
        "        labels={'predicted': 'Predicted Values', 'actual': 'Real Values'},\n",
        "        title=f'Real vs Predicted Values\\nMean Error: {rmse_value:.2f}'\n",
        "    )\n",
        "    # add a line at 45 degrees\n",
        "\n",
        "    max_val = max(errors['predicted'].max(), errors['actual'].max())\n",
        "\n",
        "    fig.add_shape(\n",
        "        type='line',\n",
        "        x0=0,\n",
        "        y0=0,\n",
        "        x1=max_val,\n",
        "        y1=max_val,\n",
        "        line=dict(\n",
        "            color='Red',\n",
        "            width=2,\n",
        "            dash='dash',\n",
        "        )\n",
        "    )\n",
        "    fig.update_layout(\n",
        "        width=800,\n",
        "        height=800,\n",
        "        legend_title_text='',\n",
        "        showlegend=False\n",
        "    )\n",
        "    fig.show()"
      ]
    },
    {
      "cell_type": "code",
      "execution_count": null,
      "id": "AX_-uxJ9NZl3",
      "metadata": {
        "id": "AX_-uxJ9NZl3",
        "colab": {
          "base_uri": "https://localhost:8080/"
        },
        "outputId": "7d279f34-0188-47cb-9ef5-99858e3b9607"
      },
      "outputs": [
        {
          "output_type": "stream",
          "name": "stdout",
          "text": [
            "Fold 1 - RMSE: 56941.49, R2: -0.08\n",
            "Fold 2 - RMSE: 44369.66, R2: -0.03\n",
            "Fold 3 - RMSE: 45707.65, R2: -0.05\n",
            "Fold 4 - RMSE: 48455.89, R2: -0.01\n",
            "Fold 5 - RMSE: 45943.56, R2: -0.07\n",
            "\n",
            "Average RMSE across folds: 48283.65\n",
            "Average R2 across folds: -0.05\n"
          ]
        }
      ],
      "source": [
        "model_dummy = DummyRegressor(strategy='median')\n",
        "results_dummy, _, _ = cross_validation(model_dummy, X, y)"
      ]
    },
    {
      "cell_type": "code",
      "source": [
        "# pip install optuna"
      ],
      "metadata": {
        "collapsed": true,
        "id": "fK0KHdA366KB"
      },
      "id": "fK0KHdA366KB",
      "execution_count": null,
      "outputs": []
    },
    {
      "cell_type": "code",
      "execution_count": null,
      "id": "0e330a98",
      "metadata": {
        "id": "0e330a98",
        "colab": {
          "base_uri": "https://localhost:8080/",
          "height": 120,
          "referenced_widgets": [
            "c19b8a670dbe4bb894f263974fa0a7bd",
            "10be7966c82b40c89b07b316483c17ff",
            "913367aa6f2c4bb39ae7f0524c6ae3da",
            "05b7db91d9314861bd45fcca97fc56b7",
            "ce78c95de5a94ac68702e02a0a11e1dd",
            "9aa4aef38edd42808129ee3460a879a1",
            "44209967d2424c25b71d1560d2cef05d",
            "de778b0723fb4627a7596d3fba6a84ac",
            "40f5932bb6da4017b7b4f6745e3259a0",
            "4dab74ddf24c4c008ee0d52be90779cf",
            "fa731749c5a6446ebb3002f70ea4ca10"
          ]
        },
        "outputId": "91791dd6-c897-4150-f4d5-c33caa0eb1e5"
      },
      "outputs": [
        {
          "output_type": "display_data",
          "data": {
            "text/plain": [
              "  0%|          | 0/50 [00:00<?, ?it/s]"
            ],
            "application/vnd.jupyter.widget-view+json": {
              "version_major": 2,
              "version_minor": 0,
              "model_id": "c19b8a670dbe4bb894f263974fa0a7bd"
            }
          },
          "metadata": {}
        },
        {
          "output_type": "execute_result",
          "data": {
            "text/plain": [
              "{'n_estimators': 327,\n",
              " 'max_depth': 18,\n",
              " 'min_samples_split': 2,\n",
              " 'min_samples_leaf': 1}"
            ]
          },
          "metadata": {},
          "execution_count": 732
        }
      ],
      "source": [
        "# hyperparameter optim\n",
        "import optuna\n",
        "\n",
        "def objective(trial):\n",
        "  \"\"\"\n",
        "  Objective function for Optuna to minimize RMSE from cross-validation.\n",
        "  \"\"\"\n",
        "  n_estimators = trial.suggest_int('n_estimators', 200, 400)\n",
        "  max_depth = trial.suggest_int('max_depth', 6, 28)\n",
        "  min_samples_split = trial.suggest_int('min_samples_split', 2, 5)\n",
        "  min_samples_leaf = trial.suggest_int('min_samples_leaf', 1, 5)\n",
        "\n",
        "\n",
        "  model = RandomForestRegressor(\n",
        "      n_estimators=n_estimators,\n",
        "      max_depth=max_depth,\n",
        "      min_samples_split=min_samples_split,\n",
        "      min_samples_leaf=min_samples_leaf,\n",
        "      random_state=SEED,\n",
        "      n_jobs=-1 # Use all available cores for faster training\n",
        "  )\n",
        "\n",
        "  # Run cross-validation and get the average RMSE\n",
        "  results, _, _ = cross_validation(model, X, y, verbose=False)\n",
        "  avg_rmse = np.mean([result['rmse'] for result in results])\n",
        "  avg_r2 = np.mean([result['r2'] for result in results])\n",
        "\n",
        "  return avg_r2\n",
        "\n",
        "study = optuna.create_study(direction='maximize',  # Minimize RMSE\n",
        "                                sampler=optuna.samplers.TPESampler(seed=SEED))\n",
        "optuna.logging.set_verbosity(optuna.logging.WARNING)\n",
        "study.optimize(objective, n_trials=50, show_progress_bar=True, )\n",
        "\n",
        "best_params = study.best_params\n",
        "best_params"
      ]
    },
    {
      "cell_type": "code",
      "source": [
        "# best_params = {'n_estimators': 298,\n",
        "#  'max_depth': 8,\n",
        "#  'min_samples_split': 2,\n",
        "#  'min_samples_leaf': 1}"
      ],
      "metadata": {
        "id": "YnnKMvUHvUF7"
      },
      "id": "YnnKMvUHvUF7",
      "execution_count": null,
      "outputs": []
    },
    {
      "cell_type": "code",
      "source": [
        "# Sort trials by value (RMSE) and print the top 10\n",
        "# print(\"\\nTop 10 trials sorted by RMSE:\")\n",
        "# sorted_trials = sorted(study.trials, key=lambda t: t.value)\n",
        "# for i, trial in enumerate(sorted_trials[:10]):\n",
        "#   print(f\"Trial {i+1} (Value/RMSE: {trial.value:.2f}):\")\n",
        "#   print(f\"n_estimators: {trial.params['n_estimators']} - max_depth: {trial.params['max_depth']} - min_samples_split: {trial.params['min_samples_split']} - min_samples_leaf: {trial.params['min_samples_leaf']}\")\n",
        "\n"
      ],
      "metadata": {
        "id": "CUffsCT39pX3"
      },
      "id": "CUffsCT39pX3",
      "execution_count": null,
      "outputs": []
    },
    {
      "cell_type": "code",
      "execution_count": null,
      "id": "b54a4f1d",
      "metadata": {
        "id": "b54a4f1d",
        "colab": {
          "base_uri": "https://localhost:8080/",
          "height": 555
        },
        "outputId": "79be24c9-1de2-4401-e499-9233094a1c17"
      },
      "outputs": [
        {
          "output_type": "stream",
          "name": "stdout",
          "text": [
            "Fold 1 - RMSE: 14828.02, R2: 0.93\n",
            "Fold 2 - RMSE: 9591.73, R2: 0.95\n",
            "Fold 3 - RMSE: 9081.01, R2: 0.96\n",
            "Fold 4 - RMSE: 12807.00, R2: 0.93\n",
            "Fold 5 - RMSE: 10095.58, R2: 0.95\n",
            "\n",
            "Average RMSE across folds: 11280.67\n",
            "Average R2 across folds: 0.94\n"
          ]
        },
        {
          "output_type": "execute_result",
          "data": {
            "text/plain": [
              "shape: (10, 4)\n",
              "┌─────────────────────────────────┬─────────────────┬────────────────┬─────────────────────┐\n",
              "│ feature                         ┆ mean_importance ┆ std_importance ┆ mean_importance_pct │\n",
              "│ ---                             ┆ ---             ┆ ---            ┆ ---                 │\n",
              "│ str                             ┆ f64             ┆ f64            ┆ f64                 │\n",
              "╞═════════════════════════════════╪═════════════════╪════════════════╪═════════════════════╡\n",
              "│ num__YoE_Age_interaction        ┆ 0.32            ┆ 0.04           ┆ 32.9                │\n",
              "│ num__Age                        ┆ 0.3             ┆ 0.13           ┆ 30.9                │\n",
              "│ num__YoE_squared                ┆ 0.18            ┆ 0.08           ┆ 18.1                │\n",
              "│ num__YoE_Age_ratio              ┆ 0.09            ┆ 0.05           ┆ 8.8                 │\n",
              "│ cat_ohe__Job_Level_Senior       ┆ 0.03            ┆ 0.01           ┆ 3.3                 │\n",
              "│ cat_ohe__Job_Title_Category_Di… ┆ 0.02            ┆ 0.01           ┆ 1.6                 │\n",
              "│ cat_ohe__Job_Title_Category_Ex… ┆ 0.01            ┆ 0.01           ┆ 1.4                 │\n",
              "│ num__Education_Age_mean         ┆ 0.01            ┆ 0.01           ┆ 1.0                 │\n",
              "│ cat_ohe__Education Level_Bache… ┆ 0.01            ┆ 0.0            ┆ 0.8                 │\n",
              "│ cat_ohe__Job_Title_Category_Ma… ┆ 0.01            ┆ 0.0            ┆ 0.8                 │\n",
              "└─────────────────────────────────┴─────────────────┴────────────────┴─────────────────────┘"
            ],
            "text/html": [
              "<div><style>\n",
              ".dataframe > thead > tr,\n",
              ".dataframe > tbody > tr {\n",
              "  text-align: right;\n",
              "  white-space: pre-wrap;\n",
              "}\n",
              "</style>\n",
              "<small>shape: (10, 4)</small><table border=\"1\" class=\"dataframe\"><thead><tr><th>feature</th><th>mean_importance</th><th>std_importance</th><th>mean_importance_pct</th></tr><tr><td>str</td><td>f64</td><td>f64</td><td>f64</td></tr></thead><tbody><tr><td>&quot;num__YoE_Age_interaction&quot;</td><td>0.32</td><td>0.04</td><td>32.9</td></tr><tr><td>&quot;num__Age&quot;</td><td>0.3</td><td>0.13</td><td>30.9</td></tr><tr><td>&quot;num__YoE_squared&quot;</td><td>0.18</td><td>0.08</td><td>18.1</td></tr><tr><td>&quot;num__YoE_Age_ratio&quot;</td><td>0.09</td><td>0.05</td><td>8.8</td></tr><tr><td>&quot;cat_ohe__Job_Level_Senior&quot;</td><td>0.03</td><td>0.01</td><td>3.3</td></tr><tr><td>&quot;cat_ohe__Job_Title_Category_Di…</td><td>0.02</td><td>0.01</td><td>1.6</td></tr><tr><td>&quot;cat_ohe__Job_Title_Category_Ex…</td><td>0.01</td><td>0.01</td><td>1.4</td></tr><tr><td>&quot;num__Education_Age_mean&quot;</td><td>0.01</td><td>0.01</td><td>1.0</td></tr><tr><td>&quot;cat_ohe__Education Level_Bache…</td><td>0.01</td><td>0.0</td><td>0.8</td></tr><tr><td>&quot;cat_ohe__Job_Title_Category_Ma…</td><td>0.01</td><td>0.0</td><td>0.8</td></tr></tbody></table></div>"
            ]
          },
          "metadata": {},
          "execution_count": 735
        }
      ],
      "source": [
        "# rf regression model\n",
        "model_rf = RandomForestRegressor(**best_params, random_state=SEED)\n",
        "results_rf, importances_rf, oof_preds_rf = cross_validation(model_rf, X, y)\n",
        "importances_rf.filter(pl.col('mean_importance') > 0)"
      ]
    },
    {
      "cell_type": "code",
      "source": [
        "# Inverse log for oof preds\n",
        "# oof_preds_rf = np.expm1(oof_preds_rf)"
      ],
      "metadata": {
        "id": "mEXvYdSjB4Ex"
      },
      "id": "mEXvYdSjB4Ex",
      "execution_count": null,
      "outputs": []
    },
    {
      "cell_type": "code",
      "execution_count": null,
      "id": "908d0c7f",
      "metadata": {
        "id": "908d0c7f",
        "colab": {
          "base_uri": "https://localhost:8080/",
          "height": 817
        },
        "outputId": "ce1340e8-69ed-4aac-c38d-eceef41552b5"
      },
      "outputs": [
        {
          "output_type": "display_data",
          "data": {
            "text/html": [
              "<html>\n",
              "<head><meta charset=\"utf-8\" /></head>\n",
              "<body>\n",
              "    <div>            <script src=\"https://cdnjs.cloudflare.com/ajax/libs/mathjax/2.7.5/MathJax.js?config=TeX-AMS-MML_SVG\"></script><script type=\"text/javascript\">if (window.MathJax && window.MathJax.Hub && window.MathJax.Hub.Config) {window.MathJax.Hub.Config({SVG: {font: \"STIX-Web\"}});}</script>                <script type=\"text/javascript\">window.PlotlyConfig = {MathJaxConfig: 'local'};</script>\n",
              "        <script charset=\"utf-8\" src=\"https://cdn.plot.ly/plotly-2.35.2.min.js\"></script>                <div id=\"897771cb-9222-46e7-a120-d0249cb7bc77\" class=\"plotly-graph-div\" style=\"height:800px; width:800px;\"></div>            <script type=\"text/javascript\">                                    window.PLOTLYENV=window.PLOTLYENV || {};                                    if (document.getElementById(\"897771cb-9222-46e7-a120-d0249cb7bc77\")) {                    Plotly.newPlot(                        \"897771cb-9222-46e7-a120-d0249cb7bc77\",                        [{\"customdata\":[[0],[1],[2],[3],[4],[5],[6],[7],[8],[9],[10],[11],[12],[13],[14],[15],[16],[17],[18],[19],[20],[21],[22],[23],[24],[25],[26],[27],[28],[29],[30],[31],[32],[33],[34],[35],[36],[37],[38],[39],[40],[41],[42],[43],[44],[45],[46],[47],[48],[49],[50],[51],[52],[53],[54],[55],[56],[57],[58],[59],[60],[61],[62],[63],[64],[65],[66],[67],[68],[69],[70],[71],[72],[73],[74],[75],[76],[77],[78],[79],[80],[81],[82],[83],[84],[85],[86],[87],[88],[89],[90],[91],[92],[93],[94],[95],[96],[97],[98],[99],[100],[101],[102],[103],[104],[105],[106],[107],[108],[109],[110],[111],[112],[113],[114],[115],[116],[117],[118],[119],[120],[121],[122],[123],[124],[125],[126],[127],[128],[129],[130],[131],[132],[133],[134],[135],[136],[137],[138],[139],[140],[141],[142],[143],[144],[145],[146],[147],[148],[149],[150],[151],[152],[153],[154],[155],[156],[157],[158],[159],[160],[161],[162],[163],[164],[165],[166],[167],[168],[169],[170],[171],[173],[174],[175],[176],[177],[178],[179],[180],[181],[182],[183],[184],[185],[186],[187],[188],[189],[190],[191],[192],[193],[194],[195],[196],[197],[198],[199],[200],[201],[202],[203],[204],[205],[206],[207],[208],[209],[210],[211],[212],[213],[214],[215],[216],[217],[218],[219],[220],[221],[222],[223],[224],[225],[226],[227],[228],[229],[230],[231],[232],[233],[234],[235],[236],[237],[238],[239],[240],[241],[242],[243],[244],[245],[246],[247],[248],[249],[250],[251],[252],[253],[254],[255],[256],[257],[258],[261],[262],[263],[264],[265],[266],[267],[268],[269],[270],[271],[272],[273],[274],[275],[276],[277],[278],[279],[280],[281],[282],[283],[284],[285],[286],[287],[288],[289],[290],[291],[292],[293],[294],[295],[296],[297],[298],[299],[300],[301],[302],[303],[304],[305],[306],[307],[308],[309],[310],[311],[312],[313],[314],[315],[316],[317],[318],[319],[320],[321],[322],[323],[324],[325],[326],[327],[328],[329],[330],[331],[332],[333],[334],[335],[336],[337],[338],[339],[340],[341],[342],[343],[344],[345],[346],[347],[348],[349],[350],[351],[352],[353],[354],[355],[356],[357],[358],[359],[360],[361],[362],[363],[364],[365],[366],[367],[368],[369],[370],[371],[372],[373],[374]],\"hovertemplate\":\"Predicted Values=%{x}\\u003cbr\\u003eReal Values=%{y}\\u003cbr\\u003eid=%{customdata[0]}\\u003cextra\\u003e\\u003c\\u002fextra\\u003e\",\"legendgroup\":\"\",\"marker\":{\"color\":\"#636efa\",\"symbol\":\"circle\"},\"mode\":\"markers\",\"name\":\"\",\"orientation\":\"v\",\"showlegend\":false,\"x\":[65479.10295616719,61344.29153924568,149690.5854084753,61411.8246687054,174972.47706422015,40284.913353720694,109773.19062181449,59678.89908256881,38157.49235474006,113180.42813455657,68825.17838939858,128035.67787971457,66865.44342507645,102477.06422018349,44543.06829765546,123853.21100917431,93272.17125382263,107826.96228338429,33514.271151885834,169875.8069996602,77607.15499247609,204709.48012232417,40459.73496432212,71702.34454638125,120135.06625891947,47477.064220183485,94495.41284403669,35145.259938837924,144655.45361875638,89330.2752293578,164021.40672782875,56376.14678899082,67664.37308868501,62522.935779816515,149083.07849133533,41659.53109072375,60387.35983690112,128349.64322120286,38008.40978593272,142675.84097859327,75014.63521188291,170273.44546381244,49464.83180428135,65183.486238532096,123089.19469928645,41392.45667686034,77542.30377166157,172692.40570846075,114596.07543323141,33425.07645259939,155229.35779816515,89357.79816513762,72420.48929663608,185713.55759429155,44770.64220183486,79097.85932721713,44108.963157128295,149645.93951749915,58883.79204892967,89816.5137614679,163007.8636959371,53149.847094801225,82222.22222222222,163107.79816513762,36025.99388379205,96146.78899082569,127510.19367991846,57259.93883792049,95412.84403669725,152745.52206203586,69785.27741371778,68192.04164846365,177813.45565749236,40459.73496432212,141047.4006116208,91447.50254841997,137706.42201834862,93975.53516819573,177951.07033639145,50378.84083296927,58853.21100917431,111438.8379204893,36382.51783893986,208980.74122615406,40000.0,89633.02752293578,40487.003058103975,84699.28644240572,155565.749235474,66778.79714576961,89285.42303771661,49174.31192660551,117293.57798165138,162079.51070336392,64102.956167176344,76091.37905926895,168153.66972477065,36279.30682976554,94872.57900101937,149235.47400611622,54941.386340468904,95596.33027522935,151167.17635066257,60929.08111256735,109161.3149847095,164374.52065433722,48756.006989951944,63685.01529051988,109187.05402650357,42353.975535168196,130723.24159021406,80183.4862385321,162884.81141692153,97746.61424202709,37373.85321100918,97767.00160186399,104732.41590214067,162314.09276248724,44893.985728848114,117094.8012232416,122599.38837920489,192733.18042813457,68317.290422795,91834.8623853211,158911.3149847095,37559.76044852192,103956.42201834862,125417.94087665649,64077.47196738022,94755.35168195718,180221.96738022423,49100.40774719674,118197.75739041793,164582.56880733944,35025.35677879714,69009.93883792049,145284.40366972476,56513.76146788991,69943.20664045434,124805.30071355762,39904.43425076452,123876.14678899082,60289.79175768165,132654.94393476043,45783.38430173291,93672.78287461774,141047.4006116208,59510.70336391437,108279.81651376147,174311.9266055046,45000.0,117094.8012232416,149751.49264598807,41186.54434250765,101024.46483180427,129892.96636085627,63880.369884957036,97317.89718945682,180439.18377748653,40015.29051987768,102293.57798165138,178818.80733944953,46345.56574923547,88960.24464831804,116735.4740061162,40547.07295762342,121728.84811416922,158255.60652395515,51875.6371049949,107737.00305810398,175470.9480122324,40000.0,121486.74821610603,40217.88990825688,86862.38532110091,144576.96228338432,54141.69215086646,101989.86092908111,172976.55453618756,40015.29051987768,106850.15290519877,149980.97179748554,43900.86646279307,94162.07951070338,128036.69724770643,93761.46788990825,97981.6513761468,179452.39915538082,37649.08256880734,102140.67278287462,172169.46992864422,51299.694189602444,92752.40279598079,103025.14441046547,39904.43425076452,103081.03975535168,150265.90942187273,63970.43832823649,102370.03058103975,179655.9633027523,49740.06116207951,134829.76554536185,39789.75535168196,90138.88888888888,148088.9762632882,51773.700305810395,115997.70642201835,172726.55453618758,40000.0,112859.32721712538,150072.7149167516,40007.645259938836,85076.45259938837,121517.54769185964,95856.26911314984,97865.44342507645,179274.9745158002,38337.15596330275,119240.57084607545,177134.77501092173,63457.69622833842,99368.71996505024,125066.76860346585,40382.2629969419,116406.27275374983,154910.1499927188,66281.34556574922,103134.55657492355,169862.3853211009,47033.639143730885,132978.59327217127,39789.75535168196,90113.91437308869,133957.76904033785,54643.0755788554,97711.51885830786,149169.21508664626,54600.26212319791,102688.07339449541,147067.957866123,35454.28619969905,114755.35168195718,150370.97713703217,66442.40570846076,101361.62079510704,179775.04732779964,49938.8379204893,94629.53254696376,172849.38837920487,40275.22935779816,112415.90214067278,149945.8764137663,40000.0,85076.45259938837,121387.35983690112,90953.35177903985,96559.63302752294,179698.0122324159,115932.72171253823,158255.60652395515,51911.31498470948,125395.00509683994,35401.37614678899,92735.69244211446,141662.07951070336,60698.26707441386,109243.37410805299,152526.3579437891,59437.30886850153,94483.18042813455,173434.250764526,41116.20795107033,115573.39449541284,151003.49497597205,69165.04053201301,95152.90519877676,179965.85117227316,50795.10703363914,103081.03975535168,170336.39143730886,39293.32313965341,102110.52861511578,149980.97179748554,60000.0,95646.78899082569,127548.41997961262,61055.04587155963,108082.13193534294,179170.51356730252,40030.58103975535,91345.56574923548,129627.42099898064,59969.41896024465,118967.88990825688,153216.90694626482,40122.32415902141,103776.75840978594,175621.30479102954,53287.46177370031,103031.16353575069,151900.6116207951,66204.89296636084,90766.05504587154,179655.9633027523,50795.10703363914,117420.99898063202,172169.46992864422,39293.32313965341,102110.52861511578,147619.73933304212,59969.41896024465,85061.1620795107,101128.69520897044,95856.26911314984,92735.69244211446,40275.22935779816,116597.85932721713,140622.54259501965,58179.5301198971,110875.38226299694,173302.75229357797,40596.33027522936,105000.0,135797.14576962282,49922.27319062181,108845.56574923548,178818.80733944953,49709.48012232416,106401.37614678899,164347.60448521917,60341.48827726809,94988.47750109217,170336.39143730886,40244.64831804281,90000.0,149648.31804281345,60289.79175768165,90122.3241590214,168685.0152905199,49877.67584097859,137721.7125382263,158911.3149847095,60000.0,85030.58103975536,173730.8868501529,36182.466870540266,95152.90519877676,158911.3149847095,49617.7370030581,107721.7125382263,177649.99271880012,49556.5749235474,106401.37614678899,153325.95505072572,60743.119266055044,95295.87155963303,172169.46992864422,40047.14576962284,89938.8379204893,149548.3471676132,60929.08111256735,91090.21406727828,165849.89806320082,53272.17125382263,137935.77981651376,153534.36726372506,59918.4505606524,85061.1620795107,169005.8613659531,40244.64831804281,89889.90825688074,149760.19367991848],\"xaxis\":\"x\",\"y\":[90000.0,65000.0,150000.0,60000.0,200000.0,55000.0,120000.0,80000.0,45000.0,110000.0,75000.0,140000.0,65000.0,130000.0,40000.0,125000.0,90000.0,115000.0,35000.0,180000.0,80000.0,190000.0,50000.0,60000.0,140000.0,45000.0,110000.0,40000.0,140000.0,90000.0,250000.0,55000.0,75000.0,65000.0,170000.0,45000.0,60000.0,115000.0,40000.0,160000.0,80000.0,190000.0,60000.0,45000.0,130000.0,40000.0,75000.0,180000.0,120000.0,35000.0,130000.0,85000.0,60000.0,200000.0,50000.0,95000.0,65000.0,140000.0,55000.0,105000.0,170000.0,50000.0,80000.0,180000.0,35000.0,90000.0,120000.0,45000.0,90000.0,150000.0,65000.0,70000.0,190000.0,40000.0,120000.0,95000.0,160000.0,100000.0,180000.0,55000.0,70000.0,80000.0,30000.0,250000.0,40000.0,95000.0,45000.0,80000.0,135000.0,55000.0,120000.0,40000.0,105000.0,170000.0,75000.0,65000.0,160000.0,35000.0,90000.0,110000.0,45000.0,95000.0,150000.0,50000.0,80000.0,220000.0,50000.0,60000.0,100000.0,40000.0,110000.0,95000.0,130000.0,90000.0,35000.0,95000.0,65000.0,170000.0,45000.0,120000.0,100000.0,180000.0,50000.0,80000.0,140000.0,40000.0,95000.0,110000.0,50000.0,105000.0,160000.0,45000.0,100000.0,160000.0,35000.0,55000.0,140000.0,50000.0,60000.0,120000.0,40000.0,110000.0,50000.0,135000.0,40000.0,90000.0,150000.0,60000.0,80000.0,175000.0,45000.0,120000.0,140000.0,35000.0,95000.0,110000.0,50000.0,115000.0,185000.0,40000.0,90000.0,175000.0,45000.0,80000.0,120000.0,35000.0,110000.0,150000.0,50000.0,105000.0,180000.0,40000.0,140000.0,45000.0,85000.0,140000.0,50000.0,80000.0,170000.0,40000.0,105000.0,145000.0,40000.0,85000.0,130000.0,95000.0,100000.0,180000.0,35000.0,95000.0,170000.0,45000.0,95000.0,120000.0,40000.0,90000.0,155000.0,55000.0,110000.0,180000.0,45000.0,130000.0,45000.0,90000.0,160000.0,50000.0,120000.0,170000.0,40000.0,110000.0,150000.0,40000.0,85000.0,130000.0,100000.0,95000.0,180000.0,35000.0,100000.0,170000.0,45000.0,100000.0,140000.0,40000.0,105000.0,160000.0,70000.0,120000.0,190000.0,45000.0,120000.0,50000.0,85000.0,140000.0,45000.0,100000.0,140000.0,70000.0,120000.0,160000.0,40000.0,120000.0,150000.0,70000.0,95000.0,180000.0,50000.0,95000.0,170000.0,40000.0,110000.0,150000.0,40000.0,85000.0,130000.0,100000.0,95000.0,180000.0,120000.0,160000.0,50000.0,110000.0,40000.0,95000.0,140000.0,60000.0,110000.0,150000.0,60000.0,90000.0,180000.0,40000.0,120000.0,160000.0,70000.0,95000.0,180000.0,50000.0,95000.0,170000.0,35000.0,100000.0,150000.0,60000.0,85000.0,130000.0,65000.0,110000.0,180000.0,40000.0,90000.0,140000.0,60000.0,130000.0,160000.0,40000.0,100000.0,180000.0,55000.0,120000.0,150000.0,70000.0,95000.0,180000.0,50000.0,120000.0,170000.0,35000.0,100000.0,150000.0,60000.0,85000.0,130000.0,80000.0,95000.0,40000.0,120000.0,160000.0,65000.0,130000.0,180000.0,40000.0,100000.0,150000.0,55000.0,110000.0,180000.0,50000.0,130000.0,160000.0,60000.0,95000.0,170000.0,40000.0,90000.0,150000.0,70000.0,90000.0,170000.0,50000.0,150000.0,160000.0,60000.0,85000.0,180000.0,35000.0,110000.0,160000.0,55000.0,110000.0,180000.0,50000.0,130000.0,160000.0,60000.0,95000.0,170000.0,40000.0,90000.0,150000.0,70000.0,90000.0,170000.0,50000.0,150000.0,160000.0,60000.0,85000.0,170000.0,40000.0,90000.0,150000.0],\"yaxis\":\"y\",\"type\":\"scatter\"}],                        {\"template\":{\"data\":{\"histogram2dcontour\":[{\"type\":\"histogram2dcontour\",\"colorbar\":{\"outlinewidth\":0,\"ticks\":\"\"},\"colorscale\":[[0.0,\"#0d0887\"],[0.1111111111111111,\"#46039f\"],[0.2222222222222222,\"#7201a8\"],[0.3333333333333333,\"#9c179e\"],[0.4444444444444444,\"#bd3786\"],[0.5555555555555556,\"#d8576b\"],[0.6666666666666666,\"#ed7953\"],[0.7777777777777778,\"#fb9f3a\"],[0.8888888888888888,\"#fdca26\"],[1.0,\"#f0f921\"]]}],\"choropleth\":[{\"type\":\"choropleth\",\"colorbar\":{\"outlinewidth\":0,\"ticks\":\"\"}}],\"histogram2d\":[{\"type\":\"histogram2d\",\"colorbar\":{\"outlinewidth\":0,\"ticks\":\"\"},\"colorscale\":[[0.0,\"#0d0887\"],[0.1111111111111111,\"#46039f\"],[0.2222222222222222,\"#7201a8\"],[0.3333333333333333,\"#9c179e\"],[0.4444444444444444,\"#bd3786\"],[0.5555555555555556,\"#d8576b\"],[0.6666666666666666,\"#ed7953\"],[0.7777777777777778,\"#fb9f3a\"],[0.8888888888888888,\"#fdca26\"],[1.0,\"#f0f921\"]]}],\"heatmap\":[{\"type\":\"heatmap\",\"colorbar\":{\"outlinewidth\":0,\"ticks\":\"\"},\"colorscale\":[[0.0,\"#0d0887\"],[0.1111111111111111,\"#46039f\"],[0.2222222222222222,\"#7201a8\"],[0.3333333333333333,\"#9c179e\"],[0.4444444444444444,\"#bd3786\"],[0.5555555555555556,\"#d8576b\"],[0.6666666666666666,\"#ed7953\"],[0.7777777777777778,\"#fb9f3a\"],[0.8888888888888888,\"#fdca26\"],[1.0,\"#f0f921\"]]}],\"heatmapgl\":[{\"type\":\"heatmapgl\",\"colorbar\":{\"outlinewidth\":0,\"ticks\":\"\"},\"colorscale\":[[0.0,\"#0d0887\"],[0.1111111111111111,\"#46039f\"],[0.2222222222222222,\"#7201a8\"],[0.3333333333333333,\"#9c179e\"],[0.4444444444444444,\"#bd3786\"],[0.5555555555555556,\"#d8576b\"],[0.6666666666666666,\"#ed7953\"],[0.7777777777777778,\"#fb9f3a\"],[0.8888888888888888,\"#fdca26\"],[1.0,\"#f0f921\"]]}],\"contourcarpet\":[{\"type\":\"contourcarpet\",\"colorbar\":{\"outlinewidth\":0,\"ticks\":\"\"}}],\"contour\":[{\"type\":\"contour\",\"colorbar\":{\"outlinewidth\":0,\"ticks\":\"\"},\"colorscale\":[[0.0,\"#0d0887\"],[0.1111111111111111,\"#46039f\"],[0.2222222222222222,\"#7201a8\"],[0.3333333333333333,\"#9c179e\"],[0.4444444444444444,\"#bd3786\"],[0.5555555555555556,\"#d8576b\"],[0.6666666666666666,\"#ed7953\"],[0.7777777777777778,\"#fb9f3a\"],[0.8888888888888888,\"#fdca26\"],[1.0,\"#f0f921\"]]}],\"surface\":[{\"type\":\"surface\",\"colorbar\":{\"outlinewidth\":0,\"ticks\":\"\"},\"colorscale\":[[0.0,\"#0d0887\"],[0.1111111111111111,\"#46039f\"],[0.2222222222222222,\"#7201a8\"],[0.3333333333333333,\"#9c179e\"],[0.4444444444444444,\"#bd3786\"],[0.5555555555555556,\"#d8576b\"],[0.6666666666666666,\"#ed7953\"],[0.7777777777777778,\"#fb9f3a\"],[0.8888888888888888,\"#fdca26\"],[1.0,\"#f0f921\"]]}],\"mesh3d\":[{\"type\":\"mesh3d\",\"colorbar\":{\"outlinewidth\":0,\"ticks\":\"\"}}],\"scatter\":[{\"fillpattern\":{\"fillmode\":\"overlay\",\"size\":10,\"solidity\":0.2},\"type\":\"scatter\"}],\"parcoords\":[{\"type\":\"parcoords\",\"line\":{\"colorbar\":{\"outlinewidth\":0,\"ticks\":\"\"}}}],\"scatterpolargl\":[{\"type\":\"scatterpolargl\",\"marker\":{\"colorbar\":{\"outlinewidth\":0,\"ticks\":\"\"}}}],\"bar\":[{\"error_x\":{\"color\":\"#2a3f5f\"},\"error_y\":{\"color\":\"#2a3f5f\"},\"marker\":{\"line\":{\"color\":\"#E5ECF6\",\"width\":0.5},\"pattern\":{\"fillmode\":\"overlay\",\"size\":10,\"solidity\":0.2}},\"type\":\"bar\"}],\"scattergeo\":[{\"type\":\"scattergeo\",\"marker\":{\"colorbar\":{\"outlinewidth\":0,\"ticks\":\"\"}}}],\"scatterpolar\":[{\"type\":\"scatterpolar\",\"marker\":{\"colorbar\":{\"outlinewidth\":0,\"ticks\":\"\"}}}],\"histogram\":[{\"marker\":{\"pattern\":{\"fillmode\":\"overlay\",\"size\":10,\"solidity\":0.2}},\"type\":\"histogram\"}],\"scattergl\":[{\"type\":\"scattergl\",\"marker\":{\"colorbar\":{\"outlinewidth\":0,\"ticks\":\"\"}}}],\"scatter3d\":[{\"type\":\"scatter3d\",\"line\":{\"colorbar\":{\"outlinewidth\":0,\"ticks\":\"\"}},\"marker\":{\"colorbar\":{\"outlinewidth\":0,\"ticks\":\"\"}}}],\"scattermapbox\":[{\"type\":\"scattermapbox\",\"marker\":{\"colorbar\":{\"outlinewidth\":0,\"ticks\":\"\"}}}],\"scatterternary\":[{\"type\":\"scatterternary\",\"marker\":{\"colorbar\":{\"outlinewidth\":0,\"ticks\":\"\"}}}],\"scattercarpet\":[{\"type\":\"scattercarpet\",\"marker\":{\"colorbar\":{\"outlinewidth\":0,\"ticks\":\"\"}}}],\"carpet\":[{\"aaxis\":{\"endlinecolor\":\"#2a3f5f\",\"gridcolor\":\"white\",\"linecolor\":\"white\",\"minorgridcolor\":\"white\",\"startlinecolor\":\"#2a3f5f\"},\"baxis\":{\"endlinecolor\":\"#2a3f5f\",\"gridcolor\":\"white\",\"linecolor\":\"white\",\"minorgridcolor\":\"white\",\"startlinecolor\":\"#2a3f5f\"},\"type\":\"carpet\"}],\"table\":[{\"cells\":{\"fill\":{\"color\":\"#EBF0F8\"},\"line\":{\"color\":\"white\"}},\"header\":{\"fill\":{\"color\":\"#C8D4E3\"},\"line\":{\"color\":\"white\"}},\"type\":\"table\"}],\"barpolar\":[{\"marker\":{\"line\":{\"color\":\"#E5ECF6\",\"width\":0.5},\"pattern\":{\"fillmode\":\"overlay\",\"size\":10,\"solidity\":0.2}},\"type\":\"barpolar\"}],\"pie\":[{\"automargin\":true,\"type\":\"pie\"}]},\"layout\":{\"autotypenumbers\":\"strict\",\"colorway\":[\"#636efa\",\"#EF553B\",\"#00cc96\",\"#ab63fa\",\"#FFA15A\",\"#19d3f3\",\"#FF6692\",\"#B6E880\",\"#FF97FF\",\"#FECB52\"],\"font\":{\"color\":\"#2a3f5f\"},\"hovermode\":\"closest\",\"hoverlabel\":{\"align\":\"left\"},\"paper_bgcolor\":\"white\",\"plot_bgcolor\":\"#E5ECF6\",\"polar\":{\"bgcolor\":\"#E5ECF6\",\"angularaxis\":{\"gridcolor\":\"white\",\"linecolor\":\"white\",\"ticks\":\"\"},\"radialaxis\":{\"gridcolor\":\"white\",\"linecolor\":\"white\",\"ticks\":\"\"}},\"ternary\":{\"bgcolor\":\"#E5ECF6\",\"aaxis\":{\"gridcolor\":\"white\",\"linecolor\":\"white\",\"ticks\":\"\"},\"baxis\":{\"gridcolor\":\"white\",\"linecolor\":\"white\",\"ticks\":\"\"},\"caxis\":{\"gridcolor\":\"white\",\"linecolor\":\"white\",\"ticks\":\"\"}},\"coloraxis\":{\"colorbar\":{\"outlinewidth\":0,\"ticks\":\"\"}},\"colorscale\":{\"sequential\":[[0.0,\"#0d0887\"],[0.1111111111111111,\"#46039f\"],[0.2222222222222222,\"#7201a8\"],[0.3333333333333333,\"#9c179e\"],[0.4444444444444444,\"#bd3786\"],[0.5555555555555556,\"#d8576b\"],[0.6666666666666666,\"#ed7953\"],[0.7777777777777778,\"#fb9f3a\"],[0.8888888888888888,\"#fdca26\"],[1.0,\"#f0f921\"]],\"sequentialminus\":[[0.0,\"#0d0887\"],[0.1111111111111111,\"#46039f\"],[0.2222222222222222,\"#7201a8\"],[0.3333333333333333,\"#9c179e\"],[0.4444444444444444,\"#bd3786\"],[0.5555555555555556,\"#d8576b\"],[0.6666666666666666,\"#ed7953\"],[0.7777777777777778,\"#fb9f3a\"],[0.8888888888888888,\"#fdca26\"],[1.0,\"#f0f921\"]],\"diverging\":[[0,\"#8e0152\"],[0.1,\"#c51b7d\"],[0.2,\"#de77ae\"],[0.3,\"#f1b6da\"],[0.4,\"#fde0ef\"],[0.5,\"#f7f7f7\"],[0.6,\"#e6f5d0\"],[0.7,\"#b8e186\"],[0.8,\"#7fbc41\"],[0.9,\"#4d9221\"],[1,\"#276419\"]]},\"xaxis\":{\"gridcolor\":\"white\",\"linecolor\":\"white\",\"ticks\":\"\",\"title\":{\"standoff\":15},\"zerolinecolor\":\"white\",\"automargin\":true,\"zerolinewidth\":2},\"yaxis\":{\"gridcolor\":\"white\",\"linecolor\":\"white\",\"ticks\":\"\",\"title\":{\"standoff\":15},\"zerolinecolor\":\"white\",\"automargin\":true,\"zerolinewidth\":2},\"scene\":{\"xaxis\":{\"backgroundcolor\":\"#E5ECF6\",\"gridcolor\":\"white\",\"linecolor\":\"white\",\"showbackground\":true,\"ticks\":\"\",\"zerolinecolor\":\"white\",\"gridwidth\":2},\"yaxis\":{\"backgroundcolor\":\"#E5ECF6\",\"gridcolor\":\"white\",\"linecolor\":\"white\",\"showbackground\":true,\"ticks\":\"\",\"zerolinecolor\":\"white\",\"gridwidth\":2},\"zaxis\":{\"backgroundcolor\":\"#E5ECF6\",\"gridcolor\":\"white\",\"linecolor\":\"white\",\"showbackground\":true,\"ticks\":\"\",\"zerolinecolor\":\"white\",\"gridwidth\":2}},\"shapedefaults\":{\"line\":{\"color\":\"#2a3f5f\"}},\"annotationdefaults\":{\"arrowcolor\":\"#2a3f5f\",\"arrowhead\":0,\"arrowwidth\":1},\"geo\":{\"bgcolor\":\"white\",\"landcolor\":\"#E5ECF6\",\"subunitcolor\":\"white\",\"showland\":true,\"showlakes\":true,\"lakecolor\":\"white\"},\"title\":{\"x\":0.05},\"mapbox\":{\"style\":\"light\"}}},\"xaxis\":{\"anchor\":\"y\",\"domain\":[0.0,1.0],\"title\":{\"text\":\"Predicted Values\"}},\"yaxis\":{\"anchor\":\"x\",\"domain\":[0.0,1.0],\"title\":{\"text\":\"Real Values\"}},\"legend\":{\"tracegroupgap\":0,\"title\":{\"text\":\"\"}},\"title\":{\"text\":\"Real vs Predicted Values\\nMean Error: 11497.11\"},\"shapes\":[{\"line\":{\"color\":\"Red\",\"dash\":\"dash\",\"width\":2},\"type\":\"line\",\"x0\":0,\"x1\":250000.0,\"y0\":0,\"y1\":250000.0}],\"width\":800,\"height\":800,\"showlegend\":false},                        {\"responsive\": true}                    ).then(function(){\n",
              "                            \n",
              "var gd = document.getElementById('897771cb-9222-46e7-a120-d0249cb7bc77');\n",
              "var x = new MutationObserver(function (mutations, observer) {{\n",
              "        var display = window.getComputedStyle(gd).display;\n",
              "        if (!display || display === 'none') {{\n",
              "            console.log([gd, 'removed!']);\n",
              "            Plotly.purge(gd);\n",
              "            observer.disconnect();\n",
              "        }}\n",
              "}});\n",
              "\n",
              "// Listen for the removal of the full notebook cells\n",
              "var notebookContainer = gd.closest('#notebook-container');\n",
              "if (notebookContainer) {{\n",
              "    x.observe(notebookContainer, {childList: true});\n",
              "}}\n",
              "\n",
              "// Listen for the clearing of the current output cell\n",
              "var outputEl = gd.closest('.output');\n",
              "if (outputEl) {{\n",
              "    x.observe(outputEl, {childList: true});\n",
              "}}\n",
              "\n",
              "                        })                };                            </script>        </div>\n",
              "</body>\n",
              "</html>"
            ]
          },
          "metadata": {}
        }
      ],
      "source": [
        "plot_error_vs_predicted(oof_preds_rf, y, ids)"
      ]
    },
    {
      "cell_type": "code",
      "execution_count": null,
      "id": "636c8865",
      "metadata": {
        "id": "636c8865",
        "colab": {
          "base_uri": "https://localhost:8080/",
          "height": 286
        },
        "outputId": "06edef3f-7730-4137-cfe7-f78542f085f1"
      },
      "outputs": [
        {
          "output_type": "execute_result",
          "data": {
            "text/plain": [
              "shape: (6, 3)\n",
              "┌──────┬──────────────┬──────────┐\n",
              "│ seed ┆ rmse         ┆ r2       │\n",
              "│ ---  ┆ ---          ┆ ---      │\n",
              "│ str  ┆ f64          ┆ f64      │\n",
              "╞══════╪══════════════╪══════════╡\n",
              "│ 8431 ┆ 10911.790601 ┆ 0.946754 │\n",
              "│ 176  ┆ 11580.600279 ┆ 0.939202 │\n",
              "│ 3954 ┆ 11147.546051 ┆ 0.943353 │\n",
              "│ 1946 ┆ 11094.049407 ┆ 0.944101 │\n",
              "│ 1626 ┆ 11262.248325 ┆ 0.940115 │\n",
              "│ Mean ┆ 11199.246933 ┆ 0.942705 │\n",
              "└──────┴──────────────┴──────────┘"
            ],
            "text/html": [
              "<div><style>\n",
              ".dataframe > thead > tr,\n",
              ".dataframe > tbody > tr {\n",
              "  text-align: right;\n",
              "  white-space: pre-wrap;\n",
              "}\n",
              "</style>\n",
              "<small>shape: (6, 3)</small><table border=\"1\" class=\"dataframe\"><thead><tr><th>seed</th><th>rmse</th><th>r2</th></tr><tr><td>str</td><td>f64</td><td>f64</td></tr></thead><tbody><tr><td>&quot;8431&quot;</td><td>10911.790601</td><td>0.946754</td></tr><tr><td>&quot;176&quot;</td><td>11580.600279</td><td>0.939202</td></tr><tr><td>&quot;3954&quot;</td><td>11147.546051</td><td>0.943353</td></tr><tr><td>&quot;1946&quot;</td><td>11094.049407</td><td>0.944101</td></tr><tr><td>&quot;1626&quot;</td><td>11262.248325</td><td>0.940115</td></tr><tr><td>&quot;Mean&quot;</td><td>11199.246933</td><td>0.942705</td></tr></tbody></table></div>"
            ]
          },
          "metadata": {},
          "execution_count": 738
        }
      ],
      "source": [
        "rf_seed_results = evaluate_model_seeds(model_rf, X, y)\n",
        "rf_seed_results"
      ]
    },
    {
      "cell_type": "code",
      "source": [
        "bootstrap_ci = bootstrap_confidence_intervals(np.array(y), oof_preds_rf)\n",
        "print_metrics_with_ci(bootstrap_ci)"
      ],
      "metadata": {
        "colab": {
          "base_uri": "https://localhost:8080/"
        },
        "id": "QaG56Lq5jaB8",
        "outputId": "7d5425ca-33a1-4c5b-b0bf-5b9d11fd06d3"
      },
      "id": "QaG56Lq5jaB8",
      "execution_count": null,
      "outputs": [
        {
          "output_type": "stream",
          "name": "stdout",
          "text": [
            "\n",
            "Bootstrap Confidence Intervals for Out-of-Fold Predictions:\n",
            "============================================================\n",
            "RMSE: 11487.21\n",
            "      95% CI: [9664.10, 13672.67]\n",
            "R²:   0.942\n",
            "      95% CI: [0.922, 0.959]\n"
          ]
        }
      ]
    },
    {
      "cell_type": "code",
      "execution_count": null,
      "id": "40a39286",
      "metadata": {
        "id": "40a39286",
        "colab": {
          "base_uri": "https://localhost:8080/",
          "height": 80
        },
        "outputId": "a299d6b9-3411-4efa-98cb-9c0785f0da77"
      },
      "outputs": [
        {
          "output_type": "execute_result",
          "data": {
            "text/plain": [
              "RandomForestRegressor(max_depth=18, n_estimators=327, random_state=100622)"
            ],
            "text/html": [
              "<style>#sk-container-id-19 {\n",
              "  /* Definition of color scheme common for light and dark mode */\n",
              "  --sklearn-color-text: #000;\n",
              "  --sklearn-color-text-muted: #666;\n",
              "  --sklearn-color-line: gray;\n",
              "  /* Definition of color scheme for unfitted estimators */\n",
              "  --sklearn-color-unfitted-level-0: #fff5e6;\n",
              "  --sklearn-color-unfitted-level-1: #f6e4d2;\n",
              "  --sklearn-color-unfitted-level-2: #ffe0b3;\n",
              "  --sklearn-color-unfitted-level-3: chocolate;\n",
              "  /* Definition of color scheme for fitted estimators */\n",
              "  --sklearn-color-fitted-level-0: #f0f8ff;\n",
              "  --sklearn-color-fitted-level-1: #d4ebff;\n",
              "  --sklearn-color-fitted-level-2: #b3dbfd;\n",
              "  --sklearn-color-fitted-level-3: cornflowerblue;\n",
              "\n",
              "  /* Specific color for light theme */\n",
              "  --sklearn-color-text-on-default-background: var(--sg-text-color, var(--theme-code-foreground, var(--jp-content-font-color1, black)));\n",
              "  --sklearn-color-background: var(--sg-background-color, var(--theme-background, var(--jp-layout-color0, white)));\n",
              "  --sklearn-color-border-box: var(--sg-text-color, var(--theme-code-foreground, var(--jp-content-font-color1, black)));\n",
              "  --sklearn-color-icon: #696969;\n",
              "\n",
              "  @media (prefers-color-scheme: dark) {\n",
              "    /* Redefinition of color scheme for dark theme */\n",
              "    --sklearn-color-text-on-default-background: var(--sg-text-color, var(--theme-code-foreground, var(--jp-content-font-color1, white)));\n",
              "    --sklearn-color-background: var(--sg-background-color, var(--theme-background, var(--jp-layout-color0, #111)));\n",
              "    --sklearn-color-border-box: var(--sg-text-color, var(--theme-code-foreground, var(--jp-content-font-color1, white)));\n",
              "    --sklearn-color-icon: #878787;\n",
              "  }\n",
              "}\n",
              "\n",
              "#sk-container-id-19 {\n",
              "  color: var(--sklearn-color-text);\n",
              "}\n",
              "\n",
              "#sk-container-id-19 pre {\n",
              "  padding: 0;\n",
              "}\n",
              "\n",
              "#sk-container-id-19 input.sk-hidden--visually {\n",
              "  border: 0;\n",
              "  clip: rect(1px 1px 1px 1px);\n",
              "  clip: rect(1px, 1px, 1px, 1px);\n",
              "  height: 1px;\n",
              "  margin: -1px;\n",
              "  overflow: hidden;\n",
              "  padding: 0;\n",
              "  position: absolute;\n",
              "  width: 1px;\n",
              "}\n",
              "\n",
              "#sk-container-id-19 div.sk-dashed-wrapped {\n",
              "  border: 1px dashed var(--sklearn-color-line);\n",
              "  margin: 0 0.4em 0.5em 0.4em;\n",
              "  box-sizing: border-box;\n",
              "  padding-bottom: 0.4em;\n",
              "  background-color: var(--sklearn-color-background);\n",
              "}\n",
              "\n",
              "#sk-container-id-19 div.sk-container {\n",
              "  /* jupyter's `normalize.less` sets `[hidden] { display: none; }`\n",
              "     but bootstrap.min.css set `[hidden] { display: none !important; }`\n",
              "     so we also need the `!important` here to be able to override the\n",
              "     default hidden behavior on the sphinx rendered scikit-learn.org.\n",
              "     See: https://github.com/scikit-learn/scikit-learn/issues/21755 */\n",
              "  display: inline-block !important;\n",
              "  position: relative;\n",
              "}\n",
              "\n",
              "#sk-container-id-19 div.sk-text-repr-fallback {\n",
              "  display: none;\n",
              "}\n",
              "\n",
              "div.sk-parallel-item,\n",
              "div.sk-serial,\n",
              "div.sk-item {\n",
              "  /* draw centered vertical line to link estimators */\n",
              "  background-image: linear-gradient(var(--sklearn-color-text-on-default-background), var(--sklearn-color-text-on-default-background));\n",
              "  background-size: 2px 100%;\n",
              "  background-repeat: no-repeat;\n",
              "  background-position: center center;\n",
              "}\n",
              "\n",
              "/* Parallel-specific style estimator block */\n",
              "\n",
              "#sk-container-id-19 div.sk-parallel-item::after {\n",
              "  content: \"\";\n",
              "  width: 100%;\n",
              "  border-bottom: 2px solid var(--sklearn-color-text-on-default-background);\n",
              "  flex-grow: 1;\n",
              "}\n",
              "\n",
              "#sk-container-id-19 div.sk-parallel {\n",
              "  display: flex;\n",
              "  align-items: stretch;\n",
              "  justify-content: center;\n",
              "  background-color: var(--sklearn-color-background);\n",
              "  position: relative;\n",
              "}\n",
              "\n",
              "#sk-container-id-19 div.sk-parallel-item {\n",
              "  display: flex;\n",
              "  flex-direction: column;\n",
              "}\n",
              "\n",
              "#sk-container-id-19 div.sk-parallel-item:first-child::after {\n",
              "  align-self: flex-end;\n",
              "  width: 50%;\n",
              "}\n",
              "\n",
              "#sk-container-id-19 div.sk-parallel-item:last-child::after {\n",
              "  align-self: flex-start;\n",
              "  width: 50%;\n",
              "}\n",
              "\n",
              "#sk-container-id-19 div.sk-parallel-item:only-child::after {\n",
              "  width: 0;\n",
              "}\n",
              "\n",
              "/* Serial-specific style estimator block */\n",
              "\n",
              "#sk-container-id-19 div.sk-serial {\n",
              "  display: flex;\n",
              "  flex-direction: column;\n",
              "  align-items: center;\n",
              "  background-color: var(--sklearn-color-background);\n",
              "  padding-right: 1em;\n",
              "  padding-left: 1em;\n",
              "}\n",
              "\n",
              "\n",
              "/* Toggleable style: style used for estimator/Pipeline/ColumnTransformer box that is\n",
              "clickable and can be expanded/collapsed.\n",
              "- Pipeline and ColumnTransformer use this feature and define the default style\n",
              "- Estimators will overwrite some part of the style using the `sk-estimator` class\n",
              "*/\n",
              "\n",
              "/* Pipeline and ColumnTransformer style (default) */\n",
              "\n",
              "#sk-container-id-19 div.sk-toggleable {\n",
              "  /* Default theme specific background. It is overwritten whether we have a\n",
              "  specific estimator or a Pipeline/ColumnTransformer */\n",
              "  background-color: var(--sklearn-color-background);\n",
              "}\n",
              "\n",
              "/* Toggleable label */\n",
              "#sk-container-id-19 label.sk-toggleable__label {\n",
              "  cursor: pointer;\n",
              "  display: flex;\n",
              "  width: 100%;\n",
              "  margin-bottom: 0;\n",
              "  padding: 0.5em;\n",
              "  box-sizing: border-box;\n",
              "  text-align: center;\n",
              "  align-items: start;\n",
              "  justify-content: space-between;\n",
              "  gap: 0.5em;\n",
              "}\n",
              "\n",
              "#sk-container-id-19 label.sk-toggleable__label .caption {\n",
              "  font-size: 0.6rem;\n",
              "  font-weight: lighter;\n",
              "  color: var(--sklearn-color-text-muted);\n",
              "}\n",
              "\n",
              "#sk-container-id-19 label.sk-toggleable__label-arrow:before {\n",
              "  /* Arrow on the left of the label */\n",
              "  content: \"▸\";\n",
              "  float: left;\n",
              "  margin-right: 0.25em;\n",
              "  color: var(--sklearn-color-icon);\n",
              "}\n",
              "\n",
              "#sk-container-id-19 label.sk-toggleable__label-arrow:hover:before {\n",
              "  color: var(--sklearn-color-text);\n",
              "}\n",
              "\n",
              "/* Toggleable content - dropdown */\n",
              "\n",
              "#sk-container-id-19 div.sk-toggleable__content {\n",
              "  max-height: 0;\n",
              "  max-width: 0;\n",
              "  overflow: hidden;\n",
              "  text-align: left;\n",
              "  /* unfitted */\n",
              "  background-color: var(--sklearn-color-unfitted-level-0);\n",
              "}\n",
              "\n",
              "#sk-container-id-19 div.sk-toggleable__content.fitted {\n",
              "  /* fitted */\n",
              "  background-color: var(--sklearn-color-fitted-level-0);\n",
              "}\n",
              "\n",
              "#sk-container-id-19 div.sk-toggleable__content pre {\n",
              "  margin: 0.2em;\n",
              "  border-radius: 0.25em;\n",
              "  color: var(--sklearn-color-text);\n",
              "  /* unfitted */\n",
              "  background-color: var(--sklearn-color-unfitted-level-0);\n",
              "}\n",
              "\n",
              "#sk-container-id-19 div.sk-toggleable__content.fitted pre {\n",
              "  /* unfitted */\n",
              "  background-color: var(--sklearn-color-fitted-level-0);\n",
              "}\n",
              "\n",
              "#sk-container-id-19 input.sk-toggleable__control:checked~div.sk-toggleable__content {\n",
              "  /* Expand drop-down */\n",
              "  max-height: 200px;\n",
              "  max-width: 100%;\n",
              "  overflow: auto;\n",
              "}\n",
              "\n",
              "#sk-container-id-19 input.sk-toggleable__control:checked~label.sk-toggleable__label-arrow:before {\n",
              "  content: \"▾\";\n",
              "}\n",
              "\n",
              "/* Pipeline/ColumnTransformer-specific style */\n",
              "\n",
              "#sk-container-id-19 div.sk-label input.sk-toggleable__control:checked~label.sk-toggleable__label {\n",
              "  color: var(--sklearn-color-text);\n",
              "  background-color: var(--sklearn-color-unfitted-level-2);\n",
              "}\n",
              "\n",
              "#sk-container-id-19 div.sk-label.fitted input.sk-toggleable__control:checked~label.sk-toggleable__label {\n",
              "  background-color: var(--sklearn-color-fitted-level-2);\n",
              "}\n",
              "\n",
              "/* Estimator-specific style */\n",
              "\n",
              "/* Colorize estimator box */\n",
              "#sk-container-id-19 div.sk-estimator input.sk-toggleable__control:checked~label.sk-toggleable__label {\n",
              "  /* unfitted */\n",
              "  background-color: var(--sklearn-color-unfitted-level-2);\n",
              "}\n",
              "\n",
              "#sk-container-id-19 div.sk-estimator.fitted input.sk-toggleable__control:checked~label.sk-toggleable__label {\n",
              "  /* fitted */\n",
              "  background-color: var(--sklearn-color-fitted-level-2);\n",
              "}\n",
              "\n",
              "#sk-container-id-19 div.sk-label label.sk-toggleable__label,\n",
              "#sk-container-id-19 div.sk-label label {\n",
              "  /* The background is the default theme color */\n",
              "  color: var(--sklearn-color-text-on-default-background);\n",
              "}\n",
              "\n",
              "/* On hover, darken the color of the background */\n",
              "#sk-container-id-19 div.sk-label:hover label.sk-toggleable__label {\n",
              "  color: var(--sklearn-color-text);\n",
              "  background-color: var(--sklearn-color-unfitted-level-2);\n",
              "}\n",
              "\n",
              "/* Label box, darken color on hover, fitted */\n",
              "#sk-container-id-19 div.sk-label.fitted:hover label.sk-toggleable__label.fitted {\n",
              "  color: var(--sklearn-color-text);\n",
              "  background-color: var(--sklearn-color-fitted-level-2);\n",
              "}\n",
              "\n",
              "/* Estimator label */\n",
              "\n",
              "#sk-container-id-19 div.sk-label label {\n",
              "  font-family: monospace;\n",
              "  font-weight: bold;\n",
              "  display: inline-block;\n",
              "  line-height: 1.2em;\n",
              "}\n",
              "\n",
              "#sk-container-id-19 div.sk-label-container {\n",
              "  text-align: center;\n",
              "}\n",
              "\n",
              "/* Estimator-specific */\n",
              "#sk-container-id-19 div.sk-estimator {\n",
              "  font-family: monospace;\n",
              "  border: 1px dotted var(--sklearn-color-border-box);\n",
              "  border-radius: 0.25em;\n",
              "  box-sizing: border-box;\n",
              "  margin-bottom: 0.5em;\n",
              "  /* unfitted */\n",
              "  background-color: var(--sklearn-color-unfitted-level-0);\n",
              "}\n",
              "\n",
              "#sk-container-id-19 div.sk-estimator.fitted {\n",
              "  /* fitted */\n",
              "  background-color: var(--sklearn-color-fitted-level-0);\n",
              "}\n",
              "\n",
              "/* on hover */\n",
              "#sk-container-id-19 div.sk-estimator:hover {\n",
              "  /* unfitted */\n",
              "  background-color: var(--sklearn-color-unfitted-level-2);\n",
              "}\n",
              "\n",
              "#sk-container-id-19 div.sk-estimator.fitted:hover {\n",
              "  /* fitted */\n",
              "  background-color: var(--sklearn-color-fitted-level-2);\n",
              "}\n",
              "\n",
              "/* Specification for estimator info (e.g. \"i\" and \"?\") */\n",
              "\n",
              "/* Common style for \"i\" and \"?\" */\n",
              "\n",
              ".sk-estimator-doc-link,\n",
              "a:link.sk-estimator-doc-link,\n",
              "a:visited.sk-estimator-doc-link {\n",
              "  float: right;\n",
              "  font-size: smaller;\n",
              "  line-height: 1em;\n",
              "  font-family: monospace;\n",
              "  background-color: var(--sklearn-color-background);\n",
              "  border-radius: 1em;\n",
              "  height: 1em;\n",
              "  width: 1em;\n",
              "  text-decoration: none !important;\n",
              "  margin-left: 0.5em;\n",
              "  text-align: center;\n",
              "  /* unfitted */\n",
              "  border: var(--sklearn-color-unfitted-level-1) 1pt solid;\n",
              "  color: var(--sklearn-color-unfitted-level-1);\n",
              "}\n",
              "\n",
              ".sk-estimator-doc-link.fitted,\n",
              "a:link.sk-estimator-doc-link.fitted,\n",
              "a:visited.sk-estimator-doc-link.fitted {\n",
              "  /* fitted */\n",
              "  border: var(--sklearn-color-fitted-level-1) 1pt solid;\n",
              "  color: var(--sklearn-color-fitted-level-1);\n",
              "}\n",
              "\n",
              "/* On hover */\n",
              "div.sk-estimator:hover .sk-estimator-doc-link:hover,\n",
              ".sk-estimator-doc-link:hover,\n",
              "div.sk-label-container:hover .sk-estimator-doc-link:hover,\n",
              ".sk-estimator-doc-link:hover {\n",
              "  /* unfitted */\n",
              "  background-color: var(--sklearn-color-unfitted-level-3);\n",
              "  color: var(--sklearn-color-background);\n",
              "  text-decoration: none;\n",
              "}\n",
              "\n",
              "div.sk-estimator.fitted:hover .sk-estimator-doc-link.fitted:hover,\n",
              ".sk-estimator-doc-link.fitted:hover,\n",
              "div.sk-label-container:hover .sk-estimator-doc-link.fitted:hover,\n",
              ".sk-estimator-doc-link.fitted:hover {\n",
              "  /* fitted */\n",
              "  background-color: var(--sklearn-color-fitted-level-3);\n",
              "  color: var(--sklearn-color-background);\n",
              "  text-decoration: none;\n",
              "}\n",
              "\n",
              "/* Span, style for the box shown on hovering the info icon */\n",
              ".sk-estimator-doc-link span {\n",
              "  display: none;\n",
              "  z-index: 9999;\n",
              "  position: relative;\n",
              "  font-weight: normal;\n",
              "  right: .2ex;\n",
              "  padding: .5ex;\n",
              "  margin: .5ex;\n",
              "  width: min-content;\n",
              "  min-width: 20ex;\n",
              "  max-width: 50ex;\n",
              "  color: var(--sklearn-color-text);\n",
              "  box-shadow: 2pt 2pt 4pt #999;\n",
              "  /* unfitted */\n",
              "  background: var(--sklearn-color-unfitted-level-0);\n",
              "  border: .5pt solid var(--sklearn-color-unfitted-level-3);\n",
              "}\n",
              "\n",
              ".sk-estimator-doc-link.fitted span {\n",
              "  /* fitted */\n",
              "  background: var(--sklearn-color-fitted-level-0);\n",
              "  border: var(--sklearn-color-fitted-level-3);\n",
              "}\n",
              "\n",
              ".sk-estimator-doc-link:hover span {\n",
              "  display: block;\n",
              "}\n",
              "\n",
              "/* \"?\"-specific style due to the `<a>` HTML tag */\n",
              "\n",
              "#sk-container-id-19 a.estimator_doc_link {\n",
              "  float: right;\n",
              "  font-size: 1rem;\n",
              "  line-height: 1em;\n",
              "  font-family: monospace;\n",
              "  background-color: var(--sklearn-color-background);\n",
              "  border-radius: 1rem;\n",
              "  height: 1rem;\n",
              "  width: 1rem;\n",
              "  text-decoration: none;\n",
              "  /* unfitted */\n",
              "  color: var(--sklearn-color-unfitted-level-1);\n",
              "  border: var(--sklearn-color-unfitted-level-1) 1pt solid;\n",
              "}\n",
              "\n",
              "#sk-container-id-19 a.estimator_doc_link.fitted {\n",
              "  /* fitted */\n",
              "  border: var(--sklearn-color-fitted-level-1) 1pt solid;\n",
              "  color: var(--sklearn-color-fitted-level-1);\n",
              "}\n",
              "\n",
              "/* On hover */\n",
              "#sk-container-id-19 a.estimator_doc_link:hover {\n",
              "  /* unfitted */\n",
              "  background-color: var(--sklearn-color-unfitted-level-3);\n",
              "  color: var(--sklearn-color-background);\n",
              "  text-decoration: none;\n",
              "}\n",
              "\n",
              "#sk-container-id-19 a.estimator_doc_link.fitted:hover {\n",
              "  /* fitted */\n",
              "  background-color: var(--sklearn-color-fitted-level-3);\n",
              "}\n",
              "</style><div id=\"sk-container-id-19\" class=\"sk-top-container\"><div class=\"sk-text-repr-fallback\"><pre>RandomForestRegressor(max_depth=18, n_estimators=327, random_state=100622)</pre><b>In a Jupyter environment, please rerun this cell to show the HTML representation or trust the notebook. <br />On GitHub, the HTML representation is unable to render, please try loading this page with nbviewer.org.</b></div><div class=\"sk-container\" hidden><div class=\"sk-item\"><div class=\"sk-estimator fitted sk-toggleable\"><input class=\"sk-toggleable__control sk-hidden--visually\" id=\"sk-estimator-id-19\" type=\"checkbox\" checked><label for=\"sk-estimator-id-19\" class=\"sk-toggleable__label fitted sk-toggleable__label-arrow\"><div><div>RandomForestRegressor</div></div><div><a class=\"sk-estimator-doc-link fitted\" rel=\"noreferrer\" target=\"_blank\" href=\"https://scikit-learn.org/1.6/modules/generated/sklearn.ensemble.RandomForestRegressor.html\">?<span>Documentation for RandomForestRegressor</span></a><span class=\"sk-estimator-doc-link fitted\">i<span>Fitted</span></span></div></label><div class=\"sk-toggleable__content fitted\"><pre>RandomForestRegressor(max_depth=18, n_estimators=327, random_state=100622)</pre></div> </div></div></div></div>"
            ]
          },
          "metadata": {},
          "execution_count": 740
        }
      ],
      "source": [
        "# export model\n",
        "\n",
        "preprocessing_pipeline = create_preprocessing_pipeline()\n",
        "\n",
        "X_train = preprocessing_pipeline.fit_transform(X)\n",
        "\n",
        "final_rf_model = RandomForestRegressor(**best_params, random_state=SEED)\n",
        "final_rf_model.fit(X_train, y)\n",
        "\n",
        "# Save the model and preprocessing pipeline\n",
        "# joblib.dump(final_rf_model, '../models/final_rf_model.pkl')\n",
        "# joblib.dump(preprocessing_pipeline, '../models/rf_pipeline.pkl')\n"
      ]
    },
    {
      "cell_type": "markdown",
      "id": "e8bcd618",
      "metadata": {
        "id": "e8bcd618"
      },
      "source": [
        "Stuff to do\n",
        "\n",
        "1. Evaluate correlated features\n",
        "1. Feature selection\n",
        "1. Hyperparameter optimization\n",
        "1. Modelblending\n",
        "1. Model professionaldescription"
      ]
    }
  ],
  "metadata": {
    "colab": {
      "provenance": []
    },
    "kernelspec": {
      "display_name": ".venv",
      "language": "python",
      "name": "python3"
    },
    "language_info": {
      "codemirror_mode": {
        "name": "ipython",
        "version": 3
      },
      "file_extension": ".py",
      "mimetype": "text/x-python",
      "name": "python",
      "nbconvert_exporter": "python",
      "pygments_lexer": "ipython3",
      "version": "3.13.3"
    },
    "widgets": {
      "application/vnd.jupyter.widget-state+json": {
        "c19b8a670dbe4bb894f263974fa0a7bd": {
          "model_module": "@jupyter-widgets/controls",
          "model_name": "HBoxModel",
          "model_module_version": "1.5.0",
          "state": {
            "_dom_classes": [],
            "_model_module": "@jupyter-widgets/controls",
            "_model_module_version": "1.5.0",
            "_model_name": "HBoxModel",
            "_view_count": null,
            "_view_module": "@jupyter-widgets/controls",
            "_view_module_version": "1.5.0",
            "_view_name": "HBoxView",
            "box_style": "",
            "children": [
              "IPY_MODEL_10be7966c82b40c89b07b316483c17ff",
              "IPY_MODEL_913367aa6f2c4bb39ae7f0524c6ae3da",
              "IPY_MODEL_05b7db91d9314861bd45fcca97fc56b7"
            ],
            "layout": "IPY_MODEL_ce78c95de5a94ac68702e02a0a11e1dd"
          }
        },
        "10be7966c82b40c89b07b316483c17ff": {
          "model_module": "@jupyter-widgets/controls",
          "model_name": "HTMLModel",
          "model_module_version": "1.5.0",
          "state": {
            "_dom_classes": [],
            "_model_module": "@jupyter-widgets/controls",
            "_model_module_version": "1.5.0",
            "_model_name": "HTMLModel",
            "_view_count": null,
            "_view_module": "@jupyter-widgets/controls",
            "_view_module_version": "1.5.0",
            "_view_name": "HTMLView",
            "description": "",
            "description_tooltip": null,
            "layout": "IPY_MODEL_9aa4aef38edd42808129ee3460a879a1",
            "placeholder": "​",
            "style": "IPY_MODEL_44209967d2424c25b71d1560d2cef05d",
            "value": "Best trial: 45. Best value: 0.943091: 100%"
          }
        },
        "913367aa6f2c4bb39ae7f0524c6ae3da": {
          "model_module": "@jupyter-widgets/controls",
          "model_name": "FloatProgressModel",
          "model_module_version": "1.5.0",
          "state": {
            "_dom_classes": [],
            "_model_module": "@jupyter-widgets/controls",
            "_model_module_version": "1.5.0",
            "_model_name": "FloatProgressModel",
            "_view_count": null,
            "_view_module": "@jupyter-widgets/controls",
            "_view_module_version": "1.5.0",
            "_view_name": "ProgressView",
            "bar_style": "success",
            "description": "",
            "description_tooltip": null,
            "layout": "IPY_MODEL_de778b0723fb4627a7596d3fba6a84ac",
            "max": 50,
            "min": 0,
            "orientation": "horizontal",
            "style": "IPY_MODEL_40f5932bb6da4017b7b4f6745e3259a0",
            "value": 50
          }
        },
        "05b7db91d9314861bd45fcca97fc56b7": {
          "model_module": "@jupyter-widgets/controls",
          "model_name": "HTMLModel",
          "model_module_version": "1.5.0",
          "state": {
            "_dom_classes": [],
            "_model_module": "@jupyter-widgets/controls",
            "_model_module_version": "1.5.0",
            "_model_name": "HTMLModel",
            "_view_count": null,
            "_view_module": "@jupyter-widgets/controls",
            "_view_module_version": "1.5.0",
            "_view_name": "HTMLView",
            "description": "",
            "description_tooltip": null,
            "layout": "IPY_MODEL_4dab74ddf24c4c008ee0d52be90779cf",
            "placeholder": "​",
            "style": "IPY_MODEL_fa731749c5a6446ebb3002f70ea4ca10",
            "value": " 50/50 [04:08&lt;00:00,  5.92s/it]"
          }
        },
        "ce78c95de5a94ac68702e02a0a11e1dd": {
          "model_module": "@jupyter-widgets/base",
          "model_name": "LayoutModel",
          "model_module_version": "1.2.0",
          "state": {
            "_model_module": "@jupyter-widgets/base",
            "_model_module_version": "1.2.0",
            "_model_name": "LayoutModel",
            "_view_count": null,
            "_view_module": "@jupyter-widgets/base",
            "_view_module_version": "1.2.0",
            "_view_name": "LayoutView",
            "align_content": null,
            "align_items": null,
            "align_self": null,
            "border": null,
            "bottom": null,
            "display": null,
            "flex": null,
            "flex_flow": null,
            "grid_area": null,
            "grid_auto_columns": null,
            "grid_auto_flow": null,
            "grid_auto_rows": null,
            "grid_column": null,
            "grid_gap": null,
            "grid_row": null,
            "grid_template_areas": null,
            "grid_template_columns": null,
            "grid_template_rows": null,
            "height": null,
            "justify_content": null,
            "justify_items": null,
            "left": null,
            "margin": null,
            "max_height": null,
            "max_width": null,
            "min_height": null,
            "min_width": null,
            "object_fit": null,
            "object_position": null,
            "order": null,
            "overflow": null,
            "overflow_x": null,
            "overflow_y": null,
            "padding": null,
            "right": null,
            "top": null,
            "visibility": null,
            "width": null
          }
        },
        "9aa4aef38edd42808129ee3460a879a1": {
          "model_module": "@jupyter-widgets/base",
          "model_name": "LayoutModel",
          "model_module_version": "1.2.0",
          "state": {
            "_model_module": "@jupyter-widgets/base",
            "_model_module_version": "1.2.0",
            "_model_name": "LayoutModel",
            "_view_count": null,
            "_view_module": "@jupyter-widgets/base",
            "_view_module_version": "1.2.0",
            "_view_name": "LayoutView",
            "align_content": null,
            "align_items": null,
            "align_self": null,
            "border": null,
            "bottom": null,
            "display": null,
            "flex": null,
            "flex_flow": null,
            "grid_area": null,
            "grid_auto_columns": null,
            "grid_auto_flow": null,
            "grid_auto_rows": null,
            "grid_column": null,
            "grid_gap": null,
            "grid_row": null,
            "grid_template_areas": null,
            "grid_template_columns": null,
            "grid_template_rows": null,
            "height": null,
            "justify_content": null,
            "justify_items": null,
            "left": null,
            "margin": null,
            "max_height": null,
            "max_width": null,
            "min_height": null,
            "min_width": null,
            "object_fit": null,
            "object_position": null,
            "order": null,
            "overflow": null,
            "overflow_x": null,
            "overflow_y": null,
            "padding": null,
            "right": null,
            "top": null,
            "visibility": null,
            "width": null
          }
        },
        "44209967d2424c25b71d1560d2cef05d": {
          "model_module": "@jupyter-widgets/controls",
          "model_name": "DescriptionStyleModel",
          "model_module_version": "1.5.0",
          "state": {
            "_model_module": "@jupyter-widgets/controls",
            "_model_module_version": "1.5.0",
            "_model_name": "DescriptionStyleModel",
            "_view_count": null,
            "_view_module": "@jupyter-widgets/base",
            "_view_module_version": "1.2.0",
            "_view_name": "StyleView",
            "description_width": ""
          }
        },
        "de778b0723fb4627a7596d3fba6a84ac": {
          "model_module": "@jupyter-widgets/base",
          "model_name": "LayoutModel",
          "model_module_version": "1.2.0",
          "state": {
            "_model_module": "@jupyter-widgets/base",
            "_model_module_version": "1.2.0",
            "_model_name": "LayoutModel",
            "_view_count": null,
            "_view_module": "@jupyter-widgets/base",
            "_view_module_version": "1.2.0",
            "_view_name": "LayoutView",
            "align_content": null,
            "align_items": null,
            "align_self": null,
            "border": null,
            "bottom": null,
            "display": null,
            "flex": null,
            "flex_flow": null,
            "grid_area": null,
            "grid_auto_columns": null,
            "grid_auto_flow": null,
            "grid_auto_rows": null,
            "grid_column": null,
            "grid_gap": null,
            "grid_row": null,
            "grid_template_areas": null,
            "grid_template_columns": null,
            "grid_template_rows": null,
            "height": null,
            "justify_content": null,
            "justify_items": null,
            "left": null,
            "margin": null,
            "max_height": null,
            "max_width": null,
            "min_height": null,
            "min_width": null,
            "object_fit": null,
            "object_position": null,
            "order": null,
            "overflow": null,
            "overflow_x": null,
            "overflow_y": null,
            "padding": null,
            "right": null,
            "top": null,
            "visibility": null,
            "width": null
          }
        },
        "40f5932bb6da4017b7b4f6745e3259a0": {
          "model_module": "@jupyter-widgets/controls",
          "model_name": "ProgressStyleModel",
          "model_module_version": "1.5.0",
          "state": {
            "_model_module": "@jupyter-widgets/controls",
            "_model_module_version": "1.5.0",
            "_model_name": "ProgressStyleModel",
            "_view_count": null,
            "_view_module": "@jupyter-widgets/base",
            "_view_module_version": "1.2.0",
            "_view_name": "StyleView",
            "bar_color": null,
            "description_width": ""
          }
        },
        "4dab74ddf24c4c008ee0d52be90779cf": {
          "model_module": "@jupyter-widgets/base",
          "model_name": "LayoutModel",
          "model_module_version": "1.2.0",
          "state": {
            "_model_module": "@jupyter-widgets/base",
            "_model_module_version": "1.2.0",
            "_model_name": "LayoutModel",
            "_view_count": null,
            "_view_module": "@jupyter-widgets/base",
            "_view_module_version": "1.2.0",
            "_view_name": "LayoutView",
            "align_content": null,
            "align_items": null,
            "align_self": null,
            "border": null,
            "bottom": null,
            "display": null,
            "flex": null,
            "flex_flow": null,
            "grid_area": null,
            "grid_auto_columns": null,
            "grid_auto_flow": null,
            "grid_auto_rows": null,
            "grid_column": null,
            "grid_gap": null,
            "grid_row": null,
            "grid_template_areas": null,
            "grid_template_columns": null,
            "grid_template_rows": null,
            "height": null,
            "justify_content": null,
            "justify_items": null,
            "left": null,
            "margin": null,
            "max_height": null,
            "max_width": null,
            "min_height": null,
            "min_width": null,
            "object_fit": null,
            "object_position": null,
            "order": null,
            "overflow": null,
            "overflow_x": null,
            "overflow_y": null,
            "padding": null,
            "right": null,
            "top": null,
            "visibility": null,
            "width": null
          }
        },
        "fa731749c5a6446ebb3002f70ea4ca10": {
          "model_module": "@jupyter-widgets/controls",
          "model_name": "DescriptionStyleModel",
          "model_module_version": "1.5.0",
          "state": {
            "_model_module": "@jupyter-widgets/controls",
            "_model_module_version": "1.5.0",
            "_model_name": "DescriptionStyleModel",
            "_view_count": null,
            "_view_module": "@jupyter-widgets/base",
            "_view_module_version": "1.2.0",
            "_view_name": "StyleView",
            "description_width": ""
          }
        }
      }
    }
  },
  "nbformat": 4,
  "nbformat_minor": 5
}